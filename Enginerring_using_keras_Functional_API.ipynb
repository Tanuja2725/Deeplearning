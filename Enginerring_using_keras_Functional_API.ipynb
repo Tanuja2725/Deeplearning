{
  "nbformat": 4,
  "nbformat_minor": 0,
  "metadata": {
    "colab": {
      "provenance": [],
      "include_colab_link": true
    },
    "kernelspec": {
      "name": "python3",
      "display_name": "Python 3"
    }
  },
  "cells": [
    {
      "cell_type": "markdown",
      "metadata": {
        "id": "view-in-github",
        "colab_type": "text"
      },
      "source": [
        "<a href=\"https://colab.research.google.com/github/Tanuja2725/deeplearning/blob/main/Enginerring_using_keras_Functional_API.ipynb\" target=\"_parent\"><img src=\"https://colab.research.google.com/assets/colab-badge.svg\" alt=\"Open In Colab\"/></a>"
      ]
    },
    {
      "cell_type": "markdown",
      "metadata": {
        "id": "qhHxdIbdcR6p"
      },
      "source": [
        "<table align=\"left\">\n",
        "  <td>\n",
        "    <a target=\"_blank\" href=\"https://colab.research.google.com/github/harnalashok/deeplearning/blob/main/keras_functional.ipynb\"><img src=\"https://www.tensorflow.org/images/colab_logo_32px.png\" />Run in Google Colab</a>\n",
        "  </td>\n",
        "</table>"
      ]
    },
    {
      "cell_type": "code",
      "metadata": {
        "id": "VzHM-gho6Z4X"
      },
      "source": [
        "# Last amended: 05th November, 2021\n",
        "# Ref: Hands-On Machine Learningwith Scikit-Learn, Keras, and TensorFlow by Aurelien Geron\n",
        "#      Page: 308-312\n",
        "#\n",
        "#####################################\n",
        "# Engineering with NN architecture\n",
        "# Using keras functional API \n",
        "#####################################"
      ],
      "execution_count": null,
      "outputs": []
    },
    {
      "cell_type": "markdown",
      "metadata": {
        "id": "xn0n1a1ly2qd"
      },
      "source": [
        "# Functional Models\n",
        "See this [an excellent article](https://keras.io/guides/functional_api/) on Functional Modeling<br><br>\n",
        "The Keras functional API is a way to create models that are more flexible than the Sequential API. The functional API can handle models with non-linear sequence, shared layers, and even multiple inputs or outputs.\n",
        "\n",
        "The main idea is that a deep learning model is usually a graph  of layers. So the functional API is a way to build graphs of layers."
      ]
    },
    {
      "cell_type": "markdown",
      "metadata": {
        "id": "uUAr6R-qu2-O"
      },
      "source": [
        "## Getting X and y\n",
        "After here you can jumpy to any of the models"
      ]
    },
    {
      "cell_type": "code",
      "metadata": {
        "id": "AYl2nTZg7MRe"
      },
      "source": [
        "# 1.0 Import libraries\n",
        "import pandas as pd\n",
        "import numpy as np\n",
        "\n",
        "# 1.0.1 sklearn related\n",
        "from sklearn.datasets import fetch_california_housing\n",
        "from sklearn.model_selection import train_test_split\n",
        "from sklearn.preprocessing import StandardScaler\n",
        "\n",
        "# 1.1 Import tensorflow/keras \n",
        "import tensorflow as tf\n",
        "from tensorflow.keras import layers\n",
        "#from tensorflow.keras.layers import Dense\n",
        "from tensorflow.keras.models import Model\n",
        "from tensorflow.keras.utils import plot_model"
      ],
      "execution_count": null,
      "outputs": []
    },
    {
      "cell_type": "code",
      "metadata": {
        "id": "RtYhfSLVGVC_"
      },
      "source": [
        "# 1.2 Display multiple outputs from a Cell\n",
        "\n",
        "from IPython.core.interactiveshell import InteractiveShell\n",
        "InteractiveShell.ast_node_interactivity = \"all\"\n"
      ],
      "execution_count": null,
      "outputs": []
    },
    {
      "cell_type": "code",
      "metadata": {
        "id": "xhrLTL9vZuF4"
      },
      "source": [
        "# 1.3 Mount google drive as /gdrive\n",
        "#     directly under root:\n",
        "\n",
        "#from google.colab import drive\n",
        "#drive.mount('/gdrive')"
      ],
      "execution_count": null,
      "outputs": []
    },
    {
      "cell_type": "code",
      "source": [
        "data=fetch_california_housing()"
      ],
      "metadata": {
        "id": "Q2nVBpXWr-k9"
      },
      "execution_count": null,
      "outputs": []
    },
    {
      "cell_type": "code",
      "source": [
        "data.target #house values"
      ],
      "metadata": {
        "colab": {
          "base_uri": "https://localhost:8080/"
        },
        "id": "ykUV8ITvr-gp",
        "outputId": "6153c263-4c9c-4cf9-b647-38be931d5d58"
      },
      "execution_count": null,
      "outputs": [
        {
          "output_type": "execute_result",
          "data": {
            "text/plain": [
              "array([4.526, 3.585, 3.521, ..., 0.923, 0.847, 0.894])"
            ]
          },
          "metadata": {},
          "execution_count": 6
        }
      ]
    },
    {
      "cell_type": "code",
      "source": [],
      "metadata": {
        "id": "xrc301sCm25Y"
      },
      "execution_count": null,
      "outputs": []
    },
    {
      "cell_type": "code",
      "source": [
        " X = data.data #features\n",
        " X.shape"
      ],
      "metadata": {
        "colab": {
          "base_uri": "https://localhost:8080/"
        },
        "id": "-SaZOsAdsIXi",
        "outputId": "ff0e870d-efb1-4df7-8cea-1ab5d1c7b3fe"
      },
      "execution_count": null,
      "outputs": [
        {
          "output_type": "execute_result",
          "data": {
            "text/plain": [
              "(20640, 8)"
            ]
          },
          "metadata": {},
          "execution_count": 9
        }
      ]
    },
    {
      "cell_type": "code",
      "source": [
        "data.feature_names"
      ],
      "metadata": {
        "colab": {
          "base_uri": "https://localhost:8080/"
        },
        "id": "x2DwHPzOsS6B",
        "outputId": "384a21a1-f26b-4a75-be47-ff37c9d32e9b"
      },
      "execution_count": null,
      "outputs": [
        {
          "output_type": "execute_result",
          "data": {
            "text/plain": [
              "['MedInc',\n",
              " 'HouseAge',\n",
              " 'AveRooms',\n",
              " 'AveBedrms',\n",
              " 'Population',\n",
              " 'AveOccup',\n",
              " 'Latitude',\n",
              " 'Longitude']"
            ]
          },
          "metadata": {},
          "execution_count": 8
        }
      ]
    },
    {
      "cell_type": "code",
      "source": [
        "df=pd.DataFrame(X, columns = data.feature_names)\n",
        "df.head()"
      ],
      "metadata": {
        "colab": {
          "base_uri": "https://localhost:8080/",
          "height": 250
        },
        "id": "WQh0FlLKsfi_",
        "outputId": "b4aee3d2-3b78-4d3f-af16-b0191527e7d6"
      },
      "execution_count": null,
      "outputs": [
        {
          "output_type": "execute_result",
          "data": {
            "text/plain": [
              "   MedInc  HouseAge  AveRooms  AveBedrms  Population  AveOccup  Latitude  \\\n",
              "0  8.3252      41.0  6.984127   1.023810       322.0  2.555556     37.88   \n",
              "1  8.3014      21.0  6.238137   0.971880      2401.0  2.109842     37.86   \n",
              "2  7.2574      52.0  8.288136   1.073446       496.0  2.802260     37.85   \n",
              "3  5.6431      52.0  5.817352   1.073059       558.0  2.547945     37.85   \n",
              "4  3.8462      52.0  6.281853   1.081081       565.0  2.181467     37.85   \n",
              "\n",
              "   Longitude  \n",
              "0    -122.23  \n",
              "1    -122.22  \n",
              "2    -122.24  \n",
              "3    -122.25  \n",
              "4    -122.25  "
            ],
            "text/html": [
              "\n",
              "  <div id=\"df-ca727af7-7965-4db8-8e3a-d22e2a40e573\">\n",
              "    <div class=\"colab-df-container\">\n",
              "      <div>\n",
              "<style scoped>\n",
              "    .dataframe tbody tr th:only-of-type {\n",
              "        vertical-align: middle;\n",
              "    }\n",
              "\n",
              "    .dataframe tbody tr th {\n",
              "        vertical-align: top;\n",
              "    }\n",
              "\n",
              "    .dataframe thead th {\n",
              "        text-align: right;\n",
              "    }\n",
              "</style>\n",
              "<table border=\"1\" class=\"dataframe\">\n",
              "  <thead>\n",
              "    <tr style=\"text-align: right;\">\n",
              "      <th></th>\n",
              "      <th>MedInc</th>\n",
              "      <th>HouseAge</th>\n",
              "      <th>AveRooms</th>\n",
              "      <th>AveBedrms</th>\n",
              "      <th>Population</th>\n",
              "      <th>AveOccup</th>\n",
              "      <th>Latitude</th>\n",
              "      <th>Longitude</th>\n",
              "    </tr>\n",
              "  </thead>\n",
              "  <tbody>\n",
              "    <tr>\n",
              "      <th>0</th>\n",
              "      <td>8.3252</td>\n",
              "      <td>41.0</td>\n",
              "      <td>6.984127</td>\n",
              "      <td>1.023810</td>\n",
              "      <td>322.0</td>\n",
              "      <td>2.555556</td>\n",
              "      <td>37.88</td>\n",
              "      <td>-122.23</td>\n",
              "    </tr>\n",
              "    <tr>\n",
              "      <th>1</th>\n",
              "      <td>8.3014</td>\n",
              "      <td>21.0</td>\n",
              "      <td>6.238137</td>\n",
              "      <td>0.971880</td>\n",
              "      <td>2401.0</td>\n",
              "      <td>2.109842</td>\n",
              "      <td>37.86</td>\n",
              "      <td>-122.22</td>\n",
              "    </tr>\n",
              "    <tr>\n",
              "      <th>2</th>\n",
              "      <td>7.2574</td>\n",
              "      <td>52.0</td>\n",
              "      <td>8.288136</td>\n",
              "      <td>1.073446</td>\n",
              "      <td>496.0</td>\n",
              "      <td>2.802260</td>\n",
              "      <td>37.85</td>\n",
              "      <td>-122.24</td>\n",
              "    </tr>\n",
              "    <tr>\n",
              "      <th>3</th>\n",
              "      <td>5.6431</td>\n",
              "      <td>52.0</td>\n",
              "      <td>5.817352</td>\n",
              "      <td>1.073059</td>\n",
              "      <td>558.0</td>\n",
              "      <td>2.547945</td>\n",
              "      <td>37.85</td>\n",
              "      <td>-122.25</td>\n",
              "    </tr>\n",
              "    <tr>\n",
              "      <th>4</th>\n",
              "      <td>3.8462</td>\n",
              "      <td>52.0</td>\n",
              "      <td>6.281853</td>\n",
              "      <td>1.081081</td>\n",
              "      <td>565.0</td>\n",
              "      <td>2.181467</td>\n",
              "      <td>37.85</td>\n",
              "      <td>-122.25</td>\n",
              "    </tr>\n",
              "  </tbody>\n",
              "</table>\n",
              "</div>\n",
              "      <button class=\"colab-df-convert\" onclick=\"convertToInteractive('df-ca727af7-7965-4db8-8e3a-d22e2a40e573')\"\n",
              "              title=\"Convert this dataframe to an interactive table.\"\n",
              "              style=\"display:none;\">\n",
              "        \n",
              "  <svg xmlns=\"http://www.w3.org/2000/svg\" height=\"24px\"viewBox=\"0 0 24 24\"\n",
              "       width=\"24px\">\n",
              "    <path d=\"M0 0h24v24H0V0z\" fill=\"none\"/>\n",
              "    <path d=\"M18.56 5.44l.94 2.06.94-2.06 2.06-.94-2.06-.94-.94-2.06-.94 2.06-2.06.94zm-11 1L8.5 8.5l.94-2.06 2.06-.94-2.06-.94L8.5 2.5l-.94 2.06-2.06.94zm10 10l.94 2.06.94-2.06 2.06-.94-2.06-.94-.94-2.06-.94 2.06-2.06.94z\"/><path d=\"M17.41 7.96l-1.37-1.37c-.4-.4-.92-.59-1.43-.59-.52 0-1.04.2-1.43.59L10.3 9.45l-7.72 7.72c-.78.78-.78 2.05 0 2.83L4 21.41c.39.39.9.59 1.41.59.51 0 1.02-.2 1.41-.59l7.78-7.78 2.81-2.81c.8-.78.8-2.07 0-2.86zM5.41 20L4 18.59l7.72-7.72 1.47 1.35L5.41 20z\"/>\n",
              "  </svg>\n",
              "      </button>\n",
              "      \n",
              "  <style>\n",
              "    .colab-df-container {\n",
              "      display:flex;\n",
              "      flex-wrap:wrap;\n",
              "      gap: 12px;\n",
              "    }\n",
              "\n",
              "    .colab-df-convert {\n",
              "      background-color: #E8F0FE;\n",
              "      border: none;\n",
              "      border-radius: 50%;\n",
              "      cursor: pointer;\n",
              "      display: none;\n",
              "      fill: #1967D2;\n",
              "      height: 32px;\n",
              "      padding: 0 0 0 0;\n",
              "      width: 32px;\n",
              "    }\n",
              "\n",
              "    .colab-df-convert:hover {\n",
              "      background-color: #E2EBFA;\n",
              "      box-shadow: 0px 1px 2px rgba(60, 64, 67, 0.3), 0px 1px 3px 1px rgba(60, 64, 67, 0.15);\n",
              "      fill: #174EA6;\n",
              "    }\n",
              "\n",
              "    [theme=dark] .colab-df-convert {\n",
              "      background-color: #3B4455;\n",
              "      fill: #D2E3FC;\n",
              "    }\n",
              "\n",
              "    [theme=dark] .colab-df-convert:hover {\n",
              "      background-color: #434B5C;\n",
              "      box-shadow: 0px 1px 3px 1px rgba(0, 0, 0, 0.15);\n",
              "      filter: drop-shadow(0px 1px 2px rgba(0, 0, 0, 0.3));\n",
              "      fill: #FFFFFF;\n",
              "    }\n",
              "  </style>\n",
              "\n",
              "      <script>\n",
              "        const buttonEl =\n",
              "          document.querySelector('#df-ca727af7-7965-4db8-8e3a-d22e2a40e573 button.colab-df-convert');\n",
              "        buttonEl.style.display =\n",
              "          google.colab.kernel.accessAllowed ? 'block' : 'none';\n",
              "\n",
              "        async function convertToInteractive(key) {\n",
              "          const element = document.querySelector('#df-ca727af7-7965-4db8-8e3a-d22e2a40e573');\n",
              "          const dataTable =\n",
              "            await google.colab.kernel.invokeFunction('convertToInteractive',\n",
              "                                                     [key], {});\n",
              "          if (!dataTable) return;\n",
              "\n",
              "          const docLinkHtml = 'Like what you see? Visit the ' +\n",
              "            '<a target=\"_blank\" href=https://colab.research.google.com/notebooks/data_table.ipynb>data table notebook</a>'\n",
              "            + ' to learn more about interactive tables.';\n",
              "          element.innerHTML = '';\n",
              "          dataTable['output_type'] = 'display_data';\n",
              "          await google.colab.output.renderOutput(dataTable, element);\n",
              "          const docLink = document.createElement('div');\n",
              "          docLink.innerHTML = docLinkHtml;\n",
              "          element.appendChild(docLink);\n",
              "        }\n",
              "      </script>\n",
              "    </div>\n",
              "  </div>\n",
              "  "
            ]
          },
          "metadata": {},
          "execution_count": 238
        }
      ]
    },
    {
      "cell_type": "code",
      "metadata": {
        "id": "XzwqXlRY6uH7",
        "colab": {
          "base_uri": "https://localhost:8080/"
        },
        "outputId": "683f1f08-8563-4441-cc40-a2166b35d3f7"
      },
      "source": [
        "# 2.0 Get Data\n",
        "#     The data needs little processing\n",
        "housing = fetch_california_housing(return_X_y= False)\n",
        "type(housing)   # sklearn.utils.Bunch"
      ],
      "execution_count": null,
      "outputs": [
        {
          "output_type": "execute_result",
          "data": {
            "text/plain": [
              "sklearn.utils.Bunch"
            ]
          },
          "metadata": {},
          "execution_count": 7
        }
      ]
    },
    {
      "cell_type": "code",
      "metadata": {
        "id": "gxD2EQQ56_Z4",
        "colab": {
          "base_uri": "https://localhost:8080/"
        },
        "outputId": "19da033f-0768-48d0-f5e8-9111d93df6c0"
      },
      "source": [
        "# 2.1 Seperate X,y\n",
        "X = housing.data\n",
        "y = housing.target\n",
        "X.shape   # (20640, 8)"
      ],
      "execution_count": null,
      "outputs": [
        {
          "output_type": "execute_result",
          "data": {
            "text/plain": [
              "(20640, 8)"
            ]
          },
          "metadata": {},
          "execution_count": 8
        }
      ]
    },
    {
      "cell_type": "code",
      "metadata": {
        "id": "uvMIw9A1d-1R",
        "colab": {
          "base_uri": "https://localhost:8080/"
        },
        "outputId": "5640d89f-38e1-40bc-c119-146c2b6e1ee5"
      },
      "source": [
        "# 2.1.1\n",
        "X.shape\n",
        "y.shape"
      ],
      "execution_count": null,
      "outputs": [
        {
          "output_type": "execute_result",
          "data": {
            "text/plain": [
              "(20640, 8)"
            ]
          },
          "metadata": {},
          "execution_count": 9
        },
        {
          "output_type": "execute_result",
          "data": {
            "text/plain": [
              "(20640,)"
            ]
          },
          "metadata": {},
          "execution_count": 9
        }
      ]
    },
    {
      "cell_type": "code",
      "metadata": {
        "id": "ha_HncyCmS9y"
      },
      "source": [
        "# 2.2 Normalize input data\n",
        "ss = StandardScaler()\n",
        "X = ss.fit_transform(X)"
      ],
      "execution_count": null,
      "outputs": []
    },
    {
      "cell_type": "code",
      "metadata": {
        "id": "uogWyNdXGfm3"
      },
      "source": [
        "# 2.3 Show data field names\n",
        "#print(housing.DESCR)\n",
        "#housing.feature_names"
      ],
      "execution_count": null,
      "outputs": []
    },
    {
      "cell_type": "code",
      "metadata": {
        "id": "rzWFuUd9Mf-0",
        "colab": {
          "base_uri": "https://localhost:8080/"
        },
        "outputId": "6034e972-7aa7-4c88-b3f5-1e30814b5435"
      },
      "source": [
        "# 3.0 Split train/test data\n",
        "X_train,X_test, y_train,y_test = train_test_split(\n",
        "                                                  X,\n",
        "                                                  y,\n",
        "                                                  test_size = 0.2\n",
        "                                                  )\n",
        "X_train.shape   # (16512, 8)\n",
        "X_test.shape    # (4128, 8)"
      ],
      "execution_count": null,
      "outputs": [
        {
          "output_type": "execute_result",
          "data": {
            "text/plain": [
              "(16512, 8)"
            ]
          },
          "metadata": {},
          "execution_count": 12
        },
        {
          "output_type": "execute_result",
          "data": {
            "text/plain": [
              "(4128, 8)"
            ]
          },
          "metadata": {},
          "execution_count": 12
        }
      ]
    },
    {
      "cell_type": "code",
      "source": [
        "#functional models"
      ],
      "metadata": {
        "id": "RQDiGpW3tO9z"
      },
      "execution_count": null,
      "outputs": []
    },
    {
      "cell_type": "code",
      "source": [
        "inp= tf.keras.Input(shape = (8,))"
      ],
      "metadata": {
        "id": "3SsJdc7GtYXN"
      },
      "execution_count": null,
      "outputs": []
    },
    {
      "cell_type": "code",
      "source": [
        "x = tf.keras.layers.Dense(units = 32, activation = 'relu')(inp)\n"
      ],
      "metadata": {
        "id": "CyX8UTahtYGS"
      },
      "execution_count": null,
      "outputs": []
    },
    {
      "cell_type": "code",
      "source": [
        "m1=tf.keras.models.Model(inputs = [inp] ,outputs = [x])"
      ],
      "metadata": {
        "id": "7bofYJCWx_u4"
      },
      "execution_count": null,
      "outputs": []
    },
    {
      "cell_type": "code",
      "source": [
        "m1.summary()"
      ],
      "metadata": {
        "colab": {
          "base_uri": "https://localhost:8080/"
        },
        "id": "KZV6VD4zyONp",
        "outputId": "049b0f44-9e9c-4cc5-f8e1-d6ffd2cfcb32"
      },
      "execution_count": null,
      "outputs": [
        {
          "output_type": "stream",
          "name": "stdout",
          "text": [
            "Model: \"model\"\n",
            "_________________________________________________________________\n",
            " Layer (type)                Output Shape              Param #   \n",
            "=================================================================\n",
            " input_1 (InputLayer)        [(None, 8)]               0         \n",
            "                                                                 \n",
            " dense (Dense)               (None, 32)                288       \n",
            "                                                                 \n",
            "=================================================================\n",
            "Total params: 288\n",
            "Trainable params: 288\n",
            "Non-trainable params: 0\n",
            "_________________________________________________________________\n"
          ]
        }
      ]
    },
    {
      "cell_type": "code",
      "source": [
        "x = tf.keras.layers.Dense(units = 64, activation = 'relu')(x)"
      ],
      "metadata": {
        "id": "PPO3u0AfwwWi"
      },
      "execution_count": null,
      "outputs": []
    },
    {
      "cell_type": "code",
      "source": [
        "m2=Model(inputs = [inp] ,outputs = [x])"
      ],
      "metadata": {
        "id": "JNi3C6Bmx9lx"
      },
      "execution_count": null,
      "outputs": []
    },
    {
      "cell_type": "code",
      "source": [
        "m2.summary()"
      ],
      "metadata": {
        "colab": {
          "base_uri": "https://localhost:8080/"
        },
        "id": "QGnRCyzHygtC",
        "outputId": "e40218e6-ee71-42b9-bcde-e8ef914bcb4b"
      },
      "execution_count": null,
      "outputs": [
        {
          "output_type": "stream",
          "name": "stdout",
          "text": [
            "Model: \"model_1\"\n",
            "_________________________________________________________________\n",
            " Layer (type)                Output Shape              Param #   \n",
            "=================================================================\n",
            " input_1 (InputLayer)        [(None, 8)]               0         \n",
            "                                                                 \n",
            " dense (Dense)               (None, 32)                288       \n",
            "                                                                 \n",
            " dense_1 (Dense)             (None, 64)                2112      \n",
            "                                                                 \n",
            "=================================================================\n",
            "Total params: 2,400\n",
            "Trainable params: 2,400\n",
            "Non-trainable params: 0\n",
            "_________________________________________________________________\n"
          ]
        }
      ]
    },
    {
      "cell_type": "code",
      "source": [],
      "metadata": {
        "id": "TEfccTNEyf1d"
      },
      "execution_count": null,
      "outputs": []
    },
    {
      "cell_type": "code",
      "source": [
        "type(inp)"
      ],
      "metadata": {
        "colab": {
          "base_uri": "https://localhost:8080/"
        },
        "id": "Vt3-67w8u2as",
        "outputId": "2d7bfa81-a4ab-43c4-899b-c18e9f9774b9"
      },
      "execution_count": null,
      "outputs": [
        {
          "output_type": "execute_result",
          "data": {
            "text/plain": [
              "keras.engine.keras_tensor.KerasTensor"
            ]
          },
          "metadata": {},
          "execution_count": 30
        }
      ]
    },
    {
      "cell_type": "code",
      "source": [
        "x=tf.keras.layers.concatenate([inp , x])"
      ],
      "metadata": {
        "id": "W9fwS3Mmu2XL"
      },
      "execution_count": null,
      "outputs": []
    },
    {
      "cell_type": "code",
      "source": [
        "m3=Model(inputs = [inp] ,outputs = [x])\n",
        "m3.summary()"
      ],
      "metadata": {
        "colab": {
          "base_uri": "https://localhost:8080/"
        },
        "id": "H5pVP9jAyrmq",
        "outputId": "75c7828d-66aa-40b1-a7ae-42688070a75b"
      },
      "execution_count": null,
      "outputs": [
        {
          "output_type": "stream",
          "name": "stdout",
          "text": [
            "Model: \"model_2\"\n",
            "__________________________________________________________________________________________________\n",
            " Layer (type)                   Output Shape         Param #     Connected to                     \n",
            "==================================================================================================\n",
            " input_1 (InputLayer)           [(None, 8)]          0           []                               \n",
            "                                                                                                  \n",
            " dense (Dense)                  (None, 32)           288         ['input_1[0][0]']                \n",
            "                                                                                                  \n",
            " dense_1 (Dense)                (None, 64)           2112        ['dense[0][0]']                  \n",
            "                                                                                                  \n",
            " concatenate (Concatenate)      (None, 72)           0           ['input_1[0][0]',                \n",
            "                                                                  'dense_1[0][0]']                \n",
            "                                                                                                  \n",
            "==================================================================================================\n",
            "Total params: 2,400\n",
            "Trainable params: 2,400\n",
            "Non-trainable params: 0\n",
            "__________________________________________________________________________________________________\n"
          ]
        }
      ]
    },
    {
      "cell_type": "code",
      "source": [
        "out = tf.keras.layers.Dense(1, activation = 'sigmoid')(x)"
      ],
      "metadata": {
        "id": "cxNRisoDw89p"
      },
      "execution_count": null,
      "outputs": []
    },
    {
      "cell_type": "code",
      "source": [
        "model = Model(inputs = [inp] , outputs = [out])"
      ],
      "metadata": {
        "id": "N2_8o1tww82K"
      },
      "execution_count": null,
      "outputs": []
    },
    {
      "cell_type": "code",
      "source": [
        "model.summary()"
      ],
      "metadata": {
        "colab": {
          "base_uri": "https://localhost:8080/"
        },
        "id": "VxQEOGWVx4Gm",
        "outputId": "418a8af2-9d41-46ce-daba-77da9b3f7b73"
      },
      "execution_count": null,
      "outputs": [
        {
          "output_type": "stream",
          "name": "stdout",
          "text": [
            "Model: \"model_3\"\n",
            "__________________________________________________________________________________________________\n",
            " Layer (type)                   Output Shape         Param #     Connected to                     \n",
            "==================================================================================================\n",
            " input_1 (InputLayer)           [(None, 8)]          0           []                               \n",
            "                                                                                                  \n",
            " dense (Dense)                  (None, 32)           288         ['input_1[0][0]']                \n",
            "                                                                                                  \n",
            " dense_1 (Dense)                (None, 64)           2112        ['dense[0][0]']                  \n",
            "                                                                                                  \n",
            " concatenate (Concatenate)      (None, 72)           0           ['input_1[0][0]',                \n",
            "                                                                  'dense_1[0][0]']                \n",
            "                                                                                                  \n",
            " dense_2 (Dense)                (None, 1)            73          ['concatenate[0][0]']            \n",
            "                                                                                                  \n",
            "==================================================================================================\n",
            "Total params: 2,473\n",
            "Trainable params: 2,473\n",
            "Non-trainable params: 0\n",
            "__________________________________________________________________________________________________\n"
          ]
        }
      ]
    },
    {
      "cell_type": "code",
      "source": [
        "model.compile(loss='mse', optimizer = 'adam' ,metrics='mse')"
      ],
      "metadata": {
        "id": "INkIN8axzoNO"
      },
      "execution_count": null,
      "outputs": []
    },
    {
      "cell_type": "code",
      "source": [
        "model.fit(X_train , y_train,\n",
        "          epochs = 50,\n",
        "          validation_split=0.2,\n",
        "          )"
      ],
      "metadata": {
        "colab": {
          "base_uri": "https://localhost:8080/"
        },
        "id": "H_Ii4616xnHp",
        "outputId": "52e611aa-e484-488a-9e49-b3e4ffca06a9"
      },
      "execution_count": null,
      "outputs": [
        {
          "output_type": "stream",
          "name": "stdout",
          "text": [
            "Epoch 1/50\n",
            "413/413 [==============================] - 2s 3ms/step - loss: 2.5718 - mse: 2.5718 - val_loss: 2.5297 - val_mse: 2.5297\n",
            "Epoch 2/50\n",
            "413/413 [==============================] - 1s 2ms/step - loss: 2.4659 - mse: 2.4659 - val_loss: 2.5286 - val_mse: 2.5286\n",
            "Epoch 3/50\n",
            "413/413 [==============================] - 1s 2ms/step - loss: 2.4655 - mse: 2.4655 - val_loss: 2.5285 - val_mse: 2.5285\n",
            "Epoch 4/50\n",
            "413/413 [==============================] - 1s 2ms/step - loss: 2.4654 - mse: 2.4654 - val_loss: 2.5284 - val_mse: 2.5284\n",
            "Epoch 5/50\n",
            "413/413 [==============================] - 1s 2ms/step - loss: 2.4654 - mse: 2.4654 - val_loss: 2.5284 - val_mse: 2.5284\n",
            "Epoch 6/50\n",
            "413/413 [==============================] - 1s 2ms/step - loss: 2.4653 - mse: 2.4653 - val_loss: 2.5283 - val_mse: 2.5283\n",
            "Epoch 7/50\n",
            "413/413 [==============================] - 1s 2ms/step - loss: 2.4644 - mse: 2.4644 - val_loss: 2.5256 - val_mse: 2.5256\n",
            "Epoch 8/50\n",
            "413/413 [==============================] - 1s 2ms/step - loss: 2.4617 - mse: 2.4617 - val_loss: 2.5246 - val_mse: 2.5246\n",
            "Epoch 9/50\n",
            "413/413 [==============================] - 1s 2ms/step - loss: 2.4612 - mse: 2.4612 - val_loss: 2.5244 - val_mse: 2.5244\n",
            "Epoch 10/50\n",
            "413/413 [==============================] - 1s 2ms/step - loss: 2.4608 - mse: 2.4608 - val_loss: 2.5241 - val_mse: 2.5241\n",
            "Epoch 11/50\n",
            "413/413 [==============================] - 1s 2ms/step - loss: 2.4605 - mse: 2.4605 - val_loss: 2.5239 - val_mse: 2.5239\n",
            "Epoch 12/50\n",
            "413/413 [==============================] - 1s 2ms/step - loss: 2.4602 - mse: 2.4602 - val_loss: 2.5236 - val_mse: 2.5236\n",
            "Epoch 13/50\n",
            "413/413 [==============================] - 1s 2ms/step - loss: 2.4600 - mse: 2.4600 - val_loss: 2.5234 - val_mse: 2.5234\n",
            "Epoch 14/50\n",
            "413/413 [==============================] - 1s 2ms/step - loss: 2.4597 - mse: 2.4597 - val_loss: 2.5232 - val_mse: 2.5232\n",
            "Epoch 15/50\n",
            "413/413 [==============================] - 1s 2ms/step - loss: 2.4596 - mse: 2.4596 - val_loss: 2.5231 - val_mse: 2.5231\n",
            "Epoch 16/50\n",
            "413/413 [==============================] - 1s 2ms/step - loss: 2.4593 - mse: 2.4593 - val_loss: 2.5229 - val_mse: 2.5229\n",
            "Epoch 17/50\n",
            "413/413 [==============================] - 1s 2ms/step - loss: 2.4591 - mse: 2.4591 - val_loss: 2.5228 - val_mse: 2.5228\n",
            "Epoch 18/50\n",
            "413/413 [==============================] - 1s 2ms/step - loss: 2.4589 - mse: 2.4589 - val_loss: 2.5226 - val_mse: 2.5226\n",
            "Epoch 19/50\n",
            "413/413 [==============================] - 1s 2ms/step - loss: 2.4587 - mse: 2.4587 - val_loss: 2.5222 - val_mse: 2.5222\n",
            "Epoch 20/50\n",
            "413/413 [==============================] - 1s 2ms/step - loss: 2.4586 - mse: 2.4586 - val_loss: 2.5219 - val_mse: 2.5219\n",
            "Epoch 21/50\n",
            "413/413 [==============================] - 1s 2ms/step - loss: 2.4584 - mse: 2.4584 - val_loss: 2.5218 - val_mse: 2.5218\n",
            "Epoch 22/50\n",
            "413/413 [==============================] - 1s 2ms/step - loss: 2.4580 - mse: 2.4580 - val_loss: 2.5218 - val_mse: 2.5218\n",
            "Epoch 23/50\n",
            "413/413 [==============================] - 1s 2ms/step - loss: 2.4580 - mse: 2.4580 - val_loss: 2.5218 - val_mse: 2.5218\n",
            "Epoch 24/50\n",
            "413/413 [==============================] - 1s 2ms/step - loss: 2.4578 - mse: 2.4578 - val_loss: 2.5215 - val_mse: 2.5215\n",
            "Epoch 25/50\n",
            "413/413 [==============================] - 1s 2ms/step - loss: 2.4577 - mse: 2.4577 - val_loss: 2.5215 - val_mse: 2.5215\n",
            "Epoch 26/50\n",
            "413/413 [==============================] - 1s 2ms/step - loss: 2.4576 - mse: 2.4576 - val_loss: 2.5214 - val_mse: 2.5214\n",
            "Epoch 27/50\n",
            "413/413 [==============================] - 1s 2ms/step - loss: 2.4576 - mse: 2.4576 - val_loss: 2.5212 - val_mse: 2.5212\n",
            "Epoch 28/50\n",
            "413/413 [==============================] - 1s 2ms/step - loss: 2.4574 - mse: 2.4574 - val_loss: 2.5212 - val_mse: 2.5212\n",
            "Epoch 29/50\n",
            "413/413 [==============================] - 1s 2ms/step - loss: 2.4573 - mse: 2.4573 - val_loss: 2.5212 - val_mse: 2.5212\n",
            "Epoch 30/50\n",
            "413/413 [==============================] - 1s 2ms/step - loss: 2.4573 - mse: 2.4573 - val_loss: 2.5212 - val_mse: 2.5212\n",
            "Epoch 31/50\n",
            "413/413 [==============================] - 1s 2ms/step - loss: 2.4572 - mse: 2.4572 - val_loss: 2.5208 - val_mse: 2.5208\n",
            "Epoch 32/50\n",
            "413/413 [==============================] - 1s 2ms/step - loss: 2.4571 - mse: 2.4571 - val_loss: 2.5211 - val_mse: 2.5211\n",
            "Epoch 33/50\n",
            "413/413 [==============================] - 1s 2ms/step - loss: 2.4571 - mse: 2.4571 - val_loss: 2.5212 - val_mse: 2.5212\n",
            "Epoch 34/50\n",
            "413/413 [==============================] - 1s 2ms/step - loss: 2.4571 - mse: 2.4571 - val_loss: 2.5211 - val_mse: 2.5211\n",
            "Epoch 35/50\n",
            "413/413 [==============================] - 1s 2ms/step - loss: 2.4571 - mse: 2.4571 - val_loss: 2.5209 - val_mse: 2.5209\n",
            "Epoch 36/50\n",
            "413/413 [==============================] - 1s 2ms/step - loss: 2.4570 - mse: 2.4570 - val_loss: 2.5209 - val_mse: 2.5209\n",
            "Epoch 37/50\n",
            "413/413 [==============================] - 1s 2ms/step - loss: 2.4570 - mse: 2.4570 - val_loss: 2.5210 - val_mse: 2.5210\n",
            "Epoch 38/50\n",
            "413/413 [==============================] - 1s 2ms/step - loss: 2.4569 - mse: 2.4569 - val_loss: 2.5208 - val_mse: 2.5208\n",
            "Epoch 39/50\n",
            "413/413 [==============================] - 1s 2ms/step - loss: 2.4569 - mse: 2.4569 - val_loss: 2.5214 - val_mse: 2.5214\n",
            "Epoch 40/50\n",
            "413/413 [==============================] - 1s 2ms/step - loss: 2.4568 - mse: 2.4568 - val_loss: 2.5210 - val_mse: 2.5210\n",
            "Epoch 41/50\n",
            "413/413 [==============================] - 1s 2ms/step - loss: 2.4569 - mse: 2.4569 - val_loss: 2.5211 - val_mse: 2.5211\n",
            "Epoch 42/50\n",
            "413/413 [==============================] - 1s 2ms/step - loss: 2.4567 - mse: 2.4567 - val_loss: 2.5208 - val_mse: 2.5208\n",
            "Epoch 43/50\n",
            "413/413 [==============================] - 1s 2ms/step - loss: 2.4568 - mse: 2.4568 - val_loss: 2.5207 - val_mse: 2.5207\n",
            "Epoch 44/50\n",
            "413/413 [==============================] - 1s 2ms/step - loss: 2.4568 - mse: 2.4568 - val_loss: 2.5207 - val_mse: 2.5207\n",
            "Epoch 45/50\n",
            "413/413 [==============================] - 1s 2ms/step - loss: 2.4567 - mse: 2.4567 - val_loss: 2.5207 - val_mse: 2.5207\n",
            "Epoch 46/50\n",
            "413/413 [==============================] - 1s 2ms/step - loss: 2.4567 - mse: 2.4567 - val_loss: 2.5207 - val_mse: 2.5207\n",
            "Epoch 47/50\n",
            "413/413 [==============================] - 1s 2ms/step - loss: 2.4566 - mse: 2.4566 - val_loss: 2.5206 - val_mse: 2.5206\n",
            "Epoch 48/50\n",
            "413/413 [==============================] - 1s 2ms/step - loss: 2.4566 - mse: 2.4566 - val_loss: 2.5207 - val_mse: 2.5207\n",
            "Epoch 49/50\n",
            "413/413 [==============================] - 1s 2ms/step - loss: 2.4566 - mse: 2.4566 - val_loss: 2.5206 - val_mse: 2.5206\n",
            "Epoch 50/50\n",
            "413/413 [==============================] - 1s 2ms/step - loss: 2.4566 - mse: 2.4566 - val_loss: 2.5207 - val_mse: 2.5207\n"
          ]
        },
        {
          "output_type": "execute_result",
          "data": {
            "text/plain": [
              "<keras.callbacks.History at 0x7f0af3828b20>"
            ]
          },
          "metadata": {},
          "execution_count": 37
        }
      ]
    },
    {
      "cell_type": "code",
      "source": [
        "plot_model(model)"
      ],
      "metadata": {
        "colab": {
          "base_uri": "https://localhost:8080/",
          "height": 466
        },
        "id": "YL2ajPXFxm11",
        "outputId": "cf7a41c7-001b-4fae-aa6b-d70b15c10122"
      },
      "execution_count": null,
      "outputs": [
        {
          "output_type": "execute_result",
          "data": {
            "image/png": "[encoded data removed]",
            "text/plain": [
              "<IPython.core.display.Image object>"
            ]
          },
          "metadata": {},
          "execution_count": 38
        }
      ]
    },
    {
      "cell_type": "code",
      "source": [
        "X_train.shape"
      ],
      "metadata": {
        "colab": {
          "base_uri": "https://localhost:8080/"
        },
        "id": "iMqUDZa-1k3m",
        "outputId": "e4917082-117e-4b44-e60c-173e7b8bf5b6"
      },
      "execution_count": null,
      "outputs": [
        {
          "output_type": "execute_result",
          "data": {
            "text/plain": [
              "(16512, 8)"
            ]
          },
          "metadata": {},
          "execution_count": 39
        }
      ]
    },
    {
      "cell_type": "code",
      "source": [
        "X_test.shape"
      ],
      "metadata": {
        "colab": {
          "base_uri": "https://localhost:8080/"
        },
        "id": "MXslH5Eu1kt2",
        "outputId": "a4e7372c-6bad-454a-860f-c1348bbcb391"
      },
      "execution_count": null,
      "outputs": [
        {
          "output_type": "execute_result",
          "data": {
            "text/plain": [
              "(4128, 8)"
            ]
          },
          "metadata": {},
          "execution_count": 40
        }
      ]
    },
    {
      "cell_type": "code",
      "source": [
        "inp_lt= tf.keras.Input(shape = (5, ))"
      ],
      "metadata": {
        "id": "vgnlY5PM2KpG"
      },
      "execution_count": null,
      "outputs": []
    },
    {
      "cell_type": "code",
      "source": [
        "inp2_rt = tf.keras.Input(shape = (3, ))"
      ],
      "metadata": {
        "id": "2lDTv8Jn2Klk"
      },
      "execution_count": null,
      "outputs": []
    },
    {
      "cell_type": "code",
      "source": [
        "x_lt= tf.keras.layers.Dense(units=56, activation ='relu')(inp_lt)"
      ],
      "metadata": {
        "id": "cOyFuRQN3IUX"
      },
      "execution_count": null,
      "outputs": []
    },
    {
      "cell_type": "code",
      "source": [
        "x_lt = tf.keras.layers.Dense(56, activation ='relu')(x_lt)"
      ],
      "metadata": {
        "id": "GRTNjIDg3IRS"
      },
      "execution_count": null,
      "outputs": []
    },
    {
      "cell_type": "code",
      "source": [
        "x_rt=tf.keras.layers.Dense(16,activation ='relu')(inp2_rt)"
      ],
      "metadata": {
        "id": "n7BwqyXS3INz"
      },
      "execution_count": null,
      "outputs": []
    },
    {
      "cell_type": "code",
      "source": [
        "x_rt=tf.keras.layers.Dense(48,activation ='selu')(x_rt)"
      ],
      "metadata": {
        "id": "tdfKcyba4MP9"
      },
      "execution_count": null,
      "outputs": []
    },
    {
      "cell_type": "code",
      "source": [
        "x_lt.shape"
      ],
      "metadata": {
        "colab": {
          "base_uri": "https://localhost:8080/"
        },
        "id": "GaGgVkwj5ByS",
        "outputId": "cdf7fb79-4232-4655-e876-6f3e85d086b1"
      },
      "execution_count": null,
      "outputs": [
        {
          "output_type": "execute_result",
          "data": {
            "text/plain": [
              "TensorShape([None, 56])"
            ]
          },
          "metadata": {},
          "execution_count": 47
        }
      ]
    },
    {
      "cell_type": "code",
      "source": [
        "x_rt.shape"
      ],
      "metadata": {
        "colab": {
          "base_uri": "https://localhost:8080/"
        },
        "id": "iPVCh_F95BuV",
        "outputId": "54c29226-9ab2-4f2c-bd4a-f3e8c1ad1aa1"
      },
      "execution_count": null,
      "outputs": [
        {
          "output_type": "execute_result",
          "data": {
            "text/plain": [
              "TensorShape([None, 48])"
            ]
          },
          "metadata": {},
          "execution_count": 48
        }
      ]
    },
    {
      "cell_type": "code",
      "source": [
        "x=tf.keras.layers.concatenate([x_lt, x_rt])"
      ],
      "metadata": {
        "id": "HcGe8cqo5BaS"
      },
      "execution_count": null,
      "outputs": []
    },
    {
      "cell_type": "code",
      "source": [
        "x.shape"
      ],
      "metadata": {
        "colab": {
          "base_uri": "https://localhost:8080/"
        },
        "id": "nz9slvhU5X-9",
        "outputId": "08d71096-14b1-4350-81ab-5cc34f424b4e"
      },
      "execution_count": null,
      "outputs": [
        {
          "output_type": "execute_result",
          "data": {
            "text/plain": [
              "TensorShape([None, 104])"
            ]
          },
          "metadata": {},
          "execution_count": 50
        }
      ]
    },
    {
      "cell_type": "code",
      "source": [
        "out= tf.keras.layers.Dense(1,activation ='linear')(x)"
      ],
      "metadata": {
        "id": "OOfeedIf52Cg"
      },
      "execution_count": null,
      "outputs": []
    },
    {
      "cell_type": "code",
      "source": [
        "model = tf.keras.models.Model(inputs = [inp2_rt,inp_lt],outputs = [out])"
      ],
      "metadata": {
        "id": "NurJuPAB5YWW"
      },
      "execution_count": null,
      "outputs": []
    },
    {
      "cell_type": "code",
      "source": [
        "model.summary()"
      ],
      "metadata": {
        "colab": {
          "base_uri": "https://localhost:8080/"
        },
        "id": "7BFD9cm86Uyy",
        "outputId": "31783dfe-95ef-4ec7-e2e7-96446cfb9e6d"
      },
      "execution_count": null,
      "outputs": [
        {
          "output_type": "stream",
          "name": "stdout",
          "text": [
            "Model: \"model_4\"\n",
            "__________________________________________________________________________________________________\n",
            " Layer (type)                   Output Shape         Param #     Connected to                     \n",
            "==================================================================================================\n",
            " input_2 (InputLayer)           [(None, 5)]          0           []                               \n",
            "                                                                                                  \n",
            " input_3 (InputLayer)           [(None, 3)]          0           []                               \n",
            "                                                                                                  \n",
            " dense_3 (Dense)                (None, 56)           336         ['input_2[0][0]']                \n",
            "                                                                                                  \n",
            " dense_5 (Dense)                (None, 16)           64          ['input_3[0][0]']                \n",
            "                                                                                                  \n",
            " dense_4 (Dense)                (None, 56)           3192        ['dense_3[0][0]']                \n",
            "                                                                                                  \n",
            " dense_6 (Dense)                (None, 48)           816         ['dense_5[0][0]']                \n",
            "                                                                                                  \n",
            " concatenate_1 (Concatenate)    (None, 104)          0           ['dense_4[0][0]',                \n",
            "                                                                  'dense_6[0][0]']                \n",
            "                                                                                                  \n",
            " dense_7 (Dense)                (None, 1)            105         ['concatenate_1[0][0]']          \n",
            "                                                                                                  \n",
            "==================================================================================================\n",
            "Total params: 4,513\n",
            "Trainable params: 4,513\n",
            "Non-trainable params: 0\n",
            "__________________________________________________________________________________________________\n"
          ]
        }
      ]
    },
    {
      "cell_type": "code",
      "source": [
        "plot_model(model, show_shapes =True)"
      ],
      "metadata": {
        "colab": {
          "base_uri": "https://localhost:8080/",
          "height": 533
        },
        "id": "aAtPAsvv4MMv",
        "outputId": "78170f77-525a-4282-f68f-3e05aeea3dd2"
      },
      "execution_count": null,
      "outputs": [
        {
          "output_type": "execute_result",
          "data": {
            "image/png": "[encoded data removed]",
            "text/plain": [
              "<IPython.core.display.Image object>"
            ]
          },
          "metadata": {},
          "execution_count": 54
        }
      ]
    },
    {
      "cell_type": "code",
      "source": [
        "x.shape"
      ],
      "metadata": {
        "colab": {
          "base_uri": "https://localhost:8080/"
        },
        "id": "vGU7rzq-7W2Y",
        "outputId": "06368e61-1b2f-4f94-a7a0-4df38ca73a09"
      },
      "execution_count": null,
      "outputs": [
        {
          "output_type": "execute_result",
          "data": {
            "text/plain": [
              "TensorShape([None, 104])"
            ]
          },
          "metadata": {},
          "execution_count": 55
        }
      ]
    },
    {
      "cell_type": "code",
      "source": [
        "model.compile(loss ='mse' ,optimizer = 'adam' ,metrics = 'mse')"
      ],
      "metadata": {
        "id": "rupDi_H76b1S"
      },
      "execution_count": null,
      "outputs": []
    },
    {
      "cell_type": "code",
      "source": [
        "model.summary()"
      ],
      "metadata": {
        "colab": {
          "base_uri": "https://localhost:8080/"
        },
        "id": "1WdlkLAH6byK",
        "outputId": "0071a417-8371-4ac1-e3c0-c14d36c3155d"
      },
      "execution_count": null,
      "outputs": [
        {
          "output_type": "stream",
          "name": "stdout",
          "text": [
            "Model: \"model_4\"\n",
            "__________________________________________________________________________________________________\n",
            " Layer (type)                   Output Shape         Param #     Connected to                     \n",
            "==================================================================================================\n",
            " input_2 (InputLayer)           [(None, 5)]          0           []                               \n",
            "                                                                                                  \n",
            " input_3 (InputLayer)           [(None, 3)]          0           []                               \n",
            "                                                                                                  \n",
            " dense_3 (Dense)                (None, 56)           336         ['input_2[0][0]']                \n",
            "                                                                                                  \n",
            " dense_5 (Dense)                (None, 16)           64          ['input_3[0][0]']                \n",
            "                                                                                                  \n",
            " dense_4 (Dense)                (None, 56)           3192        ['dense_3[0][0]']                \n",
            "                                                                                                  \n",
            " dense_6 (Dense)                (None, 48)           816         ['dense_5[0][0]']                \n",
            "                                                                                                  \n",
            " concatenate_1 (Concatenate)    (None, 104)          0           ['dense_4[0][0]',                \n",
            "                                                                  'dense_6[0][0]']                \n",
            "                                                                                                  \n",
            " dense_7 (Dense)                (None, 1)            105         ['concatenate_1[0][0]']          \n",
            "                                                                                                  \n",
            "==================================================================================================\n",
            "Total params: 4,513\n",
            "Trainable params: 4,513\n",
            "Non-trainable params: 0\n",
            "__________________________________________________________________________________________________\n"
          ]
        }
      ]
    },
    {
      "cell_type": "code",
      "source": [
        "X_train.shape"
      ],
      "metadata": {
        "colab": {
          "base_uri": "https://localhost:8080/"
        },
        "id": "X8ZelmbjA75T",
        "outputId": "9468e51b-23a5-4c50-cd8f-6e01e79f1637"
      },
      "execution_count": null,
      "outputs": [
        {
          "output_type": "execute_result",
          "data": {
            "text/plain": [
              "(16512, 8)"
            ]
          },
          "metadata": {},
          "execution_count": 58
        }
      ]
    },
    {
      "cell_type": "code",
      "source": [
        "type(X_train)"
      ],
      "metadata": {
        "colab": {
          "base_uri": "https://localhost:8080/"
        },
        "id": "-pKP-O6oBFj7",
        "outputId": "1e486fd1-3c15-4067-d916-e2586149dbb6"
      },
      "execution_count": null,
      "outputs": [
        {
          "output_type": "execute_result",
          "data": {
            "text/plain": [
              "numpy.ndarray"
            ]
          },
          "metadata": {},
          "execution_count": 59
        }
      ]
    },
    {
      "cell_type": "code",
      "source": [],
      "metadata": {
        "id": "5_jXQ2WfDF5c"
      },
      "execution_count": null,
      "outputs": []
    },
    {
      "cell_type": "code",
      "source": [
        "y_train.shape"
      ],
      "metadata": {
        "colab": {
          "base_uri": "https://localhost:8080/"
        },
        "id": "AR_2QrRYBNXV",
        "outputId": "ed617b4f-b16f-404a-b316-4881fabb9d41"
      },
      "execution_count": null,
      "outputs": [
        {
          "output_type": "execute_result",
          "data": {
            "text/plain": [
              "(16512,)"
            ]
          },
          "metadata": {},
          "execution_count": 60
        }
      ]
    },
    {
      "cell_type": "code",
      "source": [
        "model.fit( [X_train[:,5:], X_train[:,:5]],\n",
        "          y_train,\n",
        "          epochs=50,\n",
        "          validation_split=0.2)"
      ],
      "metadata": {
        "colab": {
          "base_uri": "https://localhost:8080/"
        },
        "id": "p7QcJ2ZS_I2Q",
        "outputId": "8d259707-cdbe-485a-a59f-e07329c33a06"
      },
      "execution_count": null,
      "outputs": [
        {
          "output_type": "stream",
          "name": "stdout",
          "text": [
            "Epoch 1/50\n",
            "413/413 [==============================] - 2s 3ms/step - loss: 0.6650 - mse: 0.6650 - val_loss: 0.4084 - val_mse: 0.4084\n",
            "Epoch 2/50\n",
            "413/413 [==============================] - 1s 3ms/step - loss: 0.4041 - mse: 0.4041 - val_loss: 0.3975 - val_mse: 0.3975\n",
            "Epoch 3/50\n",
            "413/413 [==============================] - 1s 3ms/step - loss: 0.3718 - mse: 0.3718 - val_loss: 0.3538 - val_mse: 0.3538\n",
            "Epoch 4/50\n",
            "413/413 [==============================] - 1s 2ms/step - loss: 0.3543 - mse: 0.3543 - val_loss: 0.3435 - val_mse: 0.3435\n",
            "Epoch 5/50\n",
            "413/413 [==============================] - 1s 2ms/step - loss: 0.3430 - mse: 0.3430 - val_loss: 0.3294 - val_mse: 0.3294\n",
            "Epoch 6/50\n",
            "413/413 [==============================] - 1s 3ms/step - loss: 0.3361 - mse: 0.3361 - val_loss: 0.3272 - val_mse: 0.3272\n",
            "Epoch 7/50\n",
            "413/413 [==============================] - 1s 2ms/step - loss: 0.3321 - mse: 0.3321 - val_loss: 0.3453 - val_mse: 0.3453\n",
            "Epoch 8/50\n",
            "413/413 [==============================] - 1s 2ms/step - loss: 0.3284 - mse: 0.3284 - val_loss: 0.3199 - val_mse: 0.3199\n",
            "Epoch 9/50\n",
            "413/413 [==============================] - 1s 3ms/step - loss: 0.3244 - mse: 0.3244 - val_loss: 0.3427 - val_mse: 0.3427\n",
            "Epoch 10/50\n",
            "413/413 [==============================] - 1s 3ms/step - loss: 0.3225 - mse: 0.3225 - val_loss: 0.3023 - val_mse: 0.3023\n",
            "Epoch 11/50\n",
            "413/413 [==============================] - 1s 2ms/step - loss: 0.3178 - mse: 0.3178 - val_loss: 0.3061 - val_mse: 0.3061\n",
            "Epoch 12/50\n",
            "413/413 [==============================] - 1s 3ms/step - loss: 0.3185 - mse: 0.3185 - val_loss: 0.3074 - val_mse: 0.3074\n",
            "Epoch 13/50\n",
            "413/413 [==============================] - 2s 5ms/step - loss: 0.3129 - mse: 0.3129 - val_loss: 0.3205 - val_mse: 0.3205\n",
            "Epoch 14/50\n",
            "413/413 [==============================] - 1s 3ms/step - loss: 0.3104 - mse: 0.3104 - val_loss: 0.3055 - val_mse: 0.3055\n",
            "Epoch 15/50\n",
            "413/413 [==============================] - 1s 3ms/step - loss: 0.3130 - mse: 0.3130 - val_loss: 0.3379 - val_mse: 0.3379\n",
            "Epoch 16/50\n",
            "413/413 [==============================] - 1s 3ms/step - loss: 0.3108 - mse: 0.3108 - val_loss: 0.2944 - val_mse: 0.2944\n",
            "Epoch 17/50\n",
            "413/413 [==============================] - 1s 3ms/step - loss: 0.3073 - mse: 0.3073 - val_loss: 0.2974 - val_mse: 0.2974\n",
            "Epoch 18/50\n",
            "413/413 [==============================] - 1s 2ms/step - loss: 0.3094 - mse: 0.3094 - val_loss: 0.2975 - val_mse: 0.2975\n",
            "Epoch 19/50\n",
            "413/413 [==============================] - 1s 2ms/step - loss: 0.3038 - mse: 0.3038 - val_loss: 0.2918 - val_mse: 0.2918\n",
            "Epoch 20/50\n",
            "413/413 [==============================] - 1s 2ms/step - loss: 0.3048 - mse: 0.3048 - val_loss: 0.2988 - val_mse: 0.2988\n",
            "Epoch 21/50\n",
            "413/413 [==============================] - 1s 2ms/step - loss: 0.3036 - mse: 0.3036 - val_loss: 0.2917 - val_mse: 0.2917\n",
            "Epoch 22/50\n",
            "413/413 [==============================] - 1s 3ms/step - loss: 0.3026 - mse: 0.3026 - val_loss: 0.3013 - val_mse: 0.3013\n",
            "Epoch 23/50\n",
            "413/413 [==============================] - 1s 2ms/step - loss: 0.3021 - mse: 0.3021 - val_loss: 0.2922 - val_mse: 0.2922\n",
            "Epoch 24/50\n",
            "413/413 [==============================] - 1s 3ms/step - loss: 0.3005 - mse: 0.3005 - val_loss: 0.3124 - val_mse: 0.3124\n",
            "Epoch 25/50\n",
            "413/413 [==============================] - 1s 3ms/step - loss: 0.3034 - mse: 0.3034 - val_loss: 0.2972 - val_mse: 0.2972\n",
            "Epoch 26/50\n",
            "413/413 [==============================] - 1s 3ms/step - loss: 0.2988 - mse: 0.2988 - val_loss: 0.2979 - val_mse: 0.2979\n",
            "Epoch 27/50\n",
            "413/413 [==============================] - 1s 3ms/step - loss: 0.2978 - mse: 0.2978 - val_loss: 0.2916 - val_mse: 0.2916\n",
            "Epoch 28/50\n",
            "413/413 [==============================] - 1s 3ms/step - loss: 0.3002 - mse: 0.3002 - val_loss: 0.2962 - val_mse: 0.2962\n",
            "Epoch 29/50\n",
            "413/413 [==============================] - 1s 3ms/step - loss: 0.2977 - mse: 0.2977 - val_loss: 0.2899 - val_mse: 0.2899\n",
            "Epoch 30/50\n",
            "413/413 [==============================] - 1s 3ms/step - loss: 0.2945 - mse: 0.2945 - val_loss: 0.2891 - val_mse: 0.2891\n",
            "Epoch 31/50\n",
            "413/413 [==============================] - 1s 3ms/step - loss: 0.2967 - mse: 0.2967 - val_loss: 0.2895 - val_mse: 0.2895\n",
            "Epoch 32/50\n",
            "413/413 [==============================] - 1s 2ms/step - loss: 0.2954 - mse: 0.2954 - val_loss: 0.2964 - val_mse: 0.2964\n",
            "Epoch 33/50\n",
            "413/413 [==============================] - 1s 2ms/step - loss: 0.2931 - mse: 0.2931 - val_loss: 0.2880 - val_mse: 0.2880\n",
            "Epoch 34/50\n",
            "413/413 [==============================] - 1s 2ms/step - loss: 0.2951 - mse: 0.2951 - val_loss: 0.2881 - val_mse: 0.2881\n",
            "Epoch 35/50\n",
            "413/413 [==============================] - 1s 3ms/step - loss: 0.2930 - mse: 0.2930 - val_loss: 0.2860 - val_mse: 0.2860\n",
            "Epoch 36/50\n",
            "413/413 [==============================] - 1s 3ms/step - loss: 0.2917 - mse: 0.2917 - val_loss: 0.2892 - val_mse: 0.2892\n",
            "Epoch 37/50\n",
            "413/413 [==============================] - 1s 3ms/step - loss: 0.2896 - mse: 0.2896 - val_loss: 0.2902 - val_mse: 0.2902\n",
            "Epoch 38/50\n",
            "413/413 [==============================] - 1s 2ms/step - loss: 0.2889 - mse: 0.2889 - val_loss: 0.2884 - val_mse: 0.2884\n",
            "Epoch 39/50\n",
            "413/413 [==============================] - 1s 2ms/step - loss: 0.2914 - mse: 0.2914 - val_loss: 0.2885 - val_mse: 0.2885\n",
            "Epoch 40/50\n",
            "413/413 [==============================] - 1s 2ms/step - loss: 0.2924 - mse: 0.2924 - val_loss: 0.2859 - val_mse: 0.2859\n",
            "Epoch 41/50\n",
            "413/413 [==============================] - 1s 3ms/step - loss: 0.2918 - mse: 0.2918 - val_loss: 0.3006 - val_mse: 0.3006\n",
            "Epoch 42/50\n",
            "413/413 [==============================] - 1s 3ms/step - loss: 0.2914 - mse: 0.2914 - val_loss: 0.2871 - val_mse: 0.2871\n",
            "Epoch 43/50\n",
            "413/413 [==============================] - 1s 2ms/step - loss: 0.2884 - mse: 0.2884 - val_loss: 0.3023 - val_mse: 0.3023\n",
            "Epoch 44/50\n",
            "413/413 [==============================] - 1s 2ms/step - loss: 0.2866 - mse: 0.2866 - val_loss: 0.2980 - val_mse: 0.2980\n",
            "Epoch 45/50\n",
            "413/413 [==============================] - 1s 3ms/step - loss: 0.2878 - mse: 0.2878 - val_loss: 0.2834 - val_mse: 0.2834\n",
            "Epoch 46/50\n",
            "413/413 [==============================] - 1s 3ms/step - loss: 0.2854 - mse: 0.2854 - val_loss: 0.2918 - val_mse: 0.2918\n",
            "Epoch 47/50\n",
            "413/413 [==============================] - 1s 2ms/step - loss: 0.2870 - mse: 0.2870 - val_loss: 0.2903 - val_mse: 0.2903\n",
            "Epoch 48/50\n",
            "413/413 [==============================] - 1s 2ms/step - loss: 0.2855 - mse: 0.2855 - val_loss: 0.2891 - val_mse: 0.2891\n",
            "Epoch 49/50\n",
            "413/413 [==============================] - 1s 2ms/step - loss: 0.2864 - mse: 0.2864 - val_loss: 0.2847 - val_mse: 0.2847\n",
            "Epoch 50/50\n",
            "413/413 [==============================] - 1s 3ms/step - loss: 0.2851 - mse: 0.2851 - val_loss: 0.2875 - val_mse: 0.2875\n"
          ]
        },
        {
          "output_type": "execute_result",
          "data": {
            "text/plain": [
              "<keras.callbacks.History at 0x7f0aeea69fa0>"
            ]
          },
          "metadata": {},
          "execution_count": 61
        }
      ]
    },
    {
      "cell_type": "code",
      "source": [],
      "metadata": {
        "id": "fEnCDw1P6ZVe"
      },
      "execution_count": null,
      "outputs": []
    },
    {
      "cell_type": "code",
      "source": [],
      "metadata": {
        "id": "89E02IIe6ZSg"
      },
      "execution_count": null,
      "outputs": []
    },
    {
      "cell_type": "code",
      "source": [],
      "metadata": {
        "id": "xZQhmH-_6ZPr"
      },
      "execution_count": null,
      "outputs": []
    },
    {
      "cell_type": "code",
      "source": [],
      "metadata": {
        "id": "HXvS-YvG6ZMG"
      },
      "execution_count": null,
      "outputs": []
    },
    {
      "cell_type": "code",
      "source": [],
      "metadata": {
        "id": "3CJHmaxB7ePy"
      },
      "execution_count": null,
      "outputs": []
    },
    {
      "cell_type": "code",
      "source": [],
      "metadata": {
        "id": "rmhygDTg7eMe"
      },
      "execution_count": null,
      "outputs": []
    },
    {
      "cell_type": "markdown",
      "metadata": {
        "id": "v558-y9BW8FE"
      },
      "source": [
        "## Wide and Deep Network--Dense layers"
      ]
    },
    {
      "cell_type": "markdown",
      "metadata": {
        "id": "AraHX0zQ1-Uu"
      },
      "source": [
        "![image.png](data:image/png;base64,iVBORw0KGgoAAAANSUhEUgAAAUoAAAEPCAYAAAAkvI3aAAAgAElEQVR4nOydd1gU199HBzWJsYAae+8xdo0mmsQU0/wlrylGQUDa0gQVkSoq9q6xa6JRoyaoscXYexeVDkvvVZDeO5z3jwUiwZKouJR7nufzGJjZme8sd0/unTszKyEQCASCJyIpuwCBQCCo6QhRCgQCwVMQohQIBIKnIEQpEAgET0GIUiAQCJ6CEKVAIBA8BSFKgUAgeApClAKBQPAUhCgFAoHgKQhRCgQCwVMQohQIBIKnIEQpEAgET0GIUiAQCJ6CEKVAIBA8hecWZUBAADdv3sTZ2VlERETkheb27dt4eHhQWFj4Inz3zDyXKKOiopg+fTrr1q1j48aNIiIiIi80mzZtQltbG3d39xflvGfiuUTp7+/P8uXLX1QtAoFAUIV169Zx4cIFpdbwXKIMDAwUohQIBNXKjz/+yOXLl5VagxClQCCo0QhRCgSPITc3l5CQEEpLS5VdikDJCFEKBI8hNDSUlStXkpWVpexSBEpGiFIgeAx//fUXOjo6eHt7K7sUgZIRohQIHkFBQQHLly9HXV2dvXv3KrscgZIRohQIHkFAQACmpqZMmTIFe3t70tLSlF2SQIkIUQoEj+DAgQPo6+tjZWWFgYEBzs7Oyi5JoESEKAWCf5CVlYWDgwPTpk1j2bJl6OnpsWXLFmWXJVAiQpQCwT9wcXFBJpMxc+ZMrK2tsbCwYObMmdy/f1/ZpQmUhBClQPAPduzYgYGBAba2tpiammJvb4+Ojg7nz59XdmkCJSFEKRA8RFJSEjNnzsTKyoqFCxdiY2PDkiVLMDExYcWKFZSUlCi7RIESEKIUCB7i/PnzTJ48GUNDQ2bMmIGFhQVmZmbo6ekhk8kIDAxUdokCJSBEKRCUUVpaysGDB3F0dGTp0qVYWlpiaGiIg4MDS5cuZd68eVy7dk3ZZQqUgBClQPAQDw+tnZyc0NHRqfQcQjH0rp8IUQoEj2H//v3o6Ojg4eGh7FIESkaIUiB4DI/qUQrqJ0KUAsFjEKIUlCNEKRA8BiFKQTlClALBYxCiFJQjRCkQPAYhSkE5QpQCwWMQs96CcoQoBYLHUC5KLy8vZZciUDJClPWcgoICbty4wfbt29mwfj0bN2wQ2bCBLZs3Y2dri4GBPosXL2LL5s1Kr6mmZMP69ezevQt3d3eKi4uV3YRfCkKU9Zjo6GhWr16NtpYmOjo6GBqZYGhkLFKWqWbmTJ9hgYnpVKXXUtMyZYo2OlO02bp1a714+rsQZT0lKyuLxYsXo6GuzqLlqzl+6R6X3YK56BIoIvLYXHIN4pJrEIfO3sDBcRHqkyaybds2CgsLld2kqxUhynrKqVOn0FBXZ/naTbhHpOOfWIw8Pl9E5F+kgICkUpwD4nFwXMgUbS08PT2V3aSrFSHKekhhYSFLlizByMiECy4B+CcW4xmdJSLynxKQXMofp6+jraXFnl/3KLtZVytClPWQrKwsrGZZYjt7Li6hyfjE5Sn9QydS++KbUMBF1yCMTUxZu2aNspt1tSJEWQ/JysrC2moWdnPm4xKagndcrtI/dCK1L/L4Ai67h2BiOpXVa1Ypu1lXK0KU9ZAKUTo44hKaXGdE6RufT3AqhGcqEpwKvgkFeMVkP9P2vGKyn/m1/3b7yn7Pnify+AIuuQVjYjqVNWtWK7tZVytClPWQuiZKr5gcglLgpm8sP253wmi6DUYzbFn10z6ueEUQmALesTn/WWKBSSV4x+biEZX5wmsOTC7BJ656ti1E+eIRoqyH1CVResXkEJhUwvqdB+nSrSeNGr1Ch06d6dilGw0bNqJ12/Ys27iTgKTify3L8p7kmp9/Y+323/GNf/Ze6aO27ROXy6ZfD7N80y6843Jrbc9SiPLlIkT5kqlLogxKLuXHHU5IksTQEaPZdeQcN3xjuOkbx97jlxk1ZiySJDF/1RaCUkrxjMlGfj8Pv4TCKsL1e1CET1wuvgkF3A6Mp027Dkwxnk54JhWC84nLwzs2B7+EQvwfFCG/X3kizCcuD78H/9x2Nn4PCvGJy0V+Pw/3yAy6dO/Bdxq6hKT/995uTYkQ5ctFiPIlU1dE6ZtQwHWfaNp17Ezf/oNwDnpAWAb4JRTil1BIWCbcC0nhrUFDadK0Gadv+xKQVMx1n2jOuwbhEZWBZ1nv0SUshbN3/LkdEI9vQiFn7vjRqnUbtAzNK3p8LqEpuEWk4ZdQyLl7Qfx1wwuXsFQCkkoqeqE3/GI5dy8Aj8gMPKMVv3MLT+PsHX9u+cXhG5/PFa9I2nfqzHeTdXGLSFf6+yhE+XSEKOshdUWUwamwbONOJEli1dY9hGVQZZ2wDNj2259IkoTN/JXcLwLD6TYMGjaCW/73kcfnE5BUwh/nnWnbviMrtvyKW0Q6b48eg4qKCmotWvH+x59zJziJ6XYL+GaSNnpTLenSrSdt23dk2MjR/HLoDIFJJQQmlWA1bznde/XhdkB8Rc/17B1/OnTqwrwVG/GIyuSDT76gYcOGqKq1YOCwEVz2DK/Sw60NEaJ8uQhRvmTqgii9YrIJSQNNmRkNGjTgr+ueBCaVVFnPP7GYC64hNFdV44v/m0BUDkzSMaRtuw7c9IvDN6GAwORSfj95DUmSmLNsPUEpRSzftBtVtRZ89PnX/Lz/JAFJRXyvqYckSfQfPJxtvx9n99ELDB7+Di1atuLIJReicsDIwp7XXmtcIWH/B0WcvOmDJEnMsF9IQFIx63YepFXrNowaM5YNuw9xNySpVv4NhChfLkKUL5m6JMovx0/ktcaNOe8S/Mg7jHwTCrjlf5+u3Xsy/N33CE5VyLVTl26VROl06joqKirMWb6e6Fy4E5xIuw6dMLawIzoPIrPhe009GjRoyB/nnInKgYgsOHs3gMZNmqApMyMqB8ys5tKsuWolUZ66JadRo0ZYzF5EWCZ4xWbTtWcvNA3MiMwR5yhrA0KU9ZC6JMqvJ0zm1deeLMrr8hjad+zMqDFjCU1/uiijcuCqdxRt23dE32wWQSkKKX71vQb9BgzBMyoT+f18vGMVkzPDR33AwGEj8E8sZprt/CeKMjQD7oYk0aV7DybpGOGfWCxmvWsBQpT1kLogSs9ohSjNbOYhSRK/nbhGcGrVc5RBKXD0sisNGjRAQ8+EuELQ0DOhU5fu3PS7XyHK/WduPlWU476dyOgPxyKPz8cnLlcx+/2gkE/GjadH7zfxuZ9XIcrbAfEVojzj7CdEWcsRoqyH1A1RZhGQWMyBs7dRUVHh+8l6hKQpZrzLZ6B94wuIyAajGXZIksRPTn9xvwgmTjGkY5euOAcm4PdAMTv+67GLSJLEvBUbK4nSwNyK4FSFKP/3vToDh44o60nm4xOXhzw+nyEjRjHsnfcITC5mqtVcmjZX5U7QA3wTCghOVYhaRUWFmQ6LK4lSXde4YsZc2e+lEOWTEaKsh9QVUXrH5hCQWIS2zBxJkrBbtBrv2FzCMiAsA3zi8li64RckSWLsuG/wKVuma2JBw0aNOHzxHnGFEJRaipbMDEmSWLBmK1E5cMUrkjfatEXf3Iq4IojKhe8m6/Fa48bsP32T2HyIyYffTyqG7FOt5xKTDzMdllT0cO8XQnAaGM6wQZIkrOYtIzRDcf6zY5euTJpiREw+yO/n41kL79ARony5CFG+ZOqKKD2jFfd3u4al8M2kKUiSxKDh76BrOhN9s1kMHTEKSZJ4/5MvuCGPwT+xiICkEnYePkfj15vQvVcfZNNs+OiLr+nesw+SJOGwdC2R2YpeX/defWnboSPmto64RaSiWSbTnr3fZPaSH3FYto72HTvRu19/rnhFEJZZwoGzt1BVa0GHzl2RTbPms6++o1vP3jRo2JDpdvMJTVecHnhr0FBatHwDw+k2XPYIRx6fr/T3Uojy8QhR1kPqkig9ojLxSyjEOzaHldv28v5Hn9OpSzc6dO7G8HffZ97KTbiGp+GfVIxndGbFkHzrvmO8//EXdOvZh+819Th4zhnD6TbsPHSGgMQi/BIKWbltL33fGkSP3m9y0S2ESTqGdOvZG5OZs+ndbwBde/TiWw1dztzxIyCxGM/obPwfFLLz0Dk++uIruvXozdcTNNl/5iZmVnPZuu9P/B4U4p9YxMZfD/HWoKF07NKN/Wdulr1e+e+nEOWjEaKsh9QlUZbHJy6XoBTFOco7QYk4ByYgv694mtA/bzP0iskmMLkU3/gC3CMzCEwuwT+xiKDkUuTx+RUPqvB/UIRLaAq3A+IJTS/l6x806dmnH57RWbiGpXDDNxb/xGL8HxT9Y9sl+CUU4B6RTkBSCf6JxRX7e3jbrmGp3A6IL7s7p/adpxSifLkIUb5k6qIoK0QVm4P8vuIrC552faJ3bA4+Dz+U4p+TKmX3hcvj84nIgi++mUjHLt1wDnpAYHLJEx+Wodh23kPLq67nU7btWj2ZU/Y8SiHK6keI8iWTmZmJ1SxL7BwccQ0TD+79NwlNB22jaYwc/SF3ghOr9FLrY+TxhYoepYkpq1eJB/dWN0KUL5n8/HwWLliA6VQzrriH4vfQ0FHk0fGOzeGqdxQXXEPwiMqstb3AF5mA5FKOnLuJtrY2u3buVHazrlaEKOspR44cQWPSJNZt+QXvuFz8E4vwicsTeUwU75HiXKPP/byKR67Vv+Ticz+PgKQS7oUkMm/hUrS1NHF1dVV2k65WhCjrKSkpKTg4OKClOZm1m7dz/q4/dwITuBOYgHNgvIjII3MnKAHngHhOXHNj/uLlTJo4kU2bNonv9X4JCFEqicDAQObOmYO6+iQMDY2YOcuambNsRMpiaWWLte1sZlopv5YaEysbZlhaoaenx2QNdX788UeSkpKU3ZSrHSHKek56ejqnTp1ixYrl2NnaYm9nh729iL29HTY21pibTVV6HTUqdrbMtrdnw/r1XL9+nYKCAmU34ZeCEKWgguLiYpGH4uXlhYODA4mJiUqvpaalviFEKRA8hgMHDqCtrc2dO3eUXYpAyQhRCgSPIDMzk7lz56KhocHWrVuVXY5AyQhRCgSPwNXVFZlMhr6+PjNnzuT+/fvKLkmgRIQoBYJHsGPHDmQyGba2tujq6nLu3DlllyRQIkKUAsE/SExMZNasWZibm7N06VKMjY1ZuXJlvZzEECgQohQI/sHly5fR09Nj7ty52NraMmvWLExNTQkJCVF2aQIlIUQpEDxEcXEx69atw9DQEBsbG0xMTLCxsUFPT48jR44ouzyBkhCiFAgeIioqCjMzM8zNzZk2bRqGhoZYW1szdepU5s2bR15enrJLFCgBIUqB4CEOHDjAxIkT0dbWRiaTYWpqip6eHlpaWmhpaXH37l1llyhQAkKUAkEZpaWlXL16FScnJ44ePcrixYuRyWRs2bKFo0eP4uTkhJeXl7LLFCgBIUqB4DEcPHgQHR0dvL29lV2KQMkIUQoEj8HJyQkdHR08PDyUXYpAyQhRCgSPoVyU7u7uyi5FoGSEKAWCxyBEKShHiFIgeAxClIJyhCgFgscgRCkoR4hSIHgMQpSCcoQoBYLHcODAAXF5kAAQohSUkZWVRVJSEsnJySLJyaSlpbFr1y50dXW5fv06aWlpSq+pJiUnJ0fZTfalIkRZz4mOjmb37t3MmeOApeVMZlnNErGahZW1FaZTTdHX12P69GlYWVspvaYak1mWOM535ODBgyQmJiq7Cb8UhCjrMffu3cPCwgINDXVmTJ/J3DkLmOMwX6QsjvMWsWD+EuaJ96VKzKaao66hjr29PcHBwcpuytWOEGU9JTY2FgsLC3R19di9Yz8ed0Lx84jD1z1GROTx8YjBzyMWl1sBbN6wA00tTRYsmE9mZqaym3S1IkRZT/ntt9/QUFdn1w4nIgIzCPdPI9Q3WUTkXyUiMJ0Q3yTWrNqIhoY6165dU3aTrlaEKOsheXl5zJ07l+nTZuByK5DwgDSCfB6IiPynRAVncu7kLXR1dPnpp5+U3ayrFSHKekhmZiaWsyyZbT8XX48YQnyTlf6hE6l9CfdP5fZVH0xMprJ69WplN+tqRYiyHpKVlYWVtRWz7eYid4+uM6IMlicS4ptEsDxR6bXUhzwsyjVrhCirGyHKl0xdE2WoXzL3w/OIDcshIjCduLBc7ofnEVoLjivEN0npNTxrhChfLkKUL5m6JMro4Ez8Pe+zbeNe9HVMGf/1DxgZTOeXbfsJ9HlARGA6gd4JSq/znwn0TiAiMI0w/5QaWZ8QZWWEKOshdUWU0SFZXDx9l9HvjqGBSgO6dunBsCEjaNe2PZIkMe7Lb/G4E0ZEYLrSa60imYA0zp1wZoqmIbev+hIekKr0moQoH48QZT2kLogyIiANl1tB9OndDzW1Fmzd8CsBXvHEhmbj7RqFlcVcJEni+280CPVLqTjGUL9kokOyuB+RR2xoNmH+KZW2G+afUnHpS1RQBnFhOUQFZ1YZIgfLExXD/PBc7ofnEhmUXuncaLA8kfCAVGJCsxX7CsupJMOEqAJmWcyhUaNXcL0VRHRIltLfUyHKxyNEWQ+pC6KMDc3BwtwOSZLYsmEPKXGlhPmnECxPJCo4g7iwXMZ/NQFVVTWunHMjMiiTyMAMgnwecOTAedYs38qeHYfxvBtOVHAmQT6K84X3bgRy7YInoX7JnDp2nZ83/cbJo9cI9UuuGCaH+CYRFZzJjUtebF63mw1rdnDlrFuFYBU1ZHLvZiC/7jjM6mVb2PXzQe7dDKwQaoBXPDJ9c5o2bcbxQ5eQu8XUukkoIcqXixDlS6a2izLUL4UArwT69HqTvn3eIsArnnD/ykPX8IA0nK/6cvrPG/h6xCnEdtGLzz75H82bq9KlczdatnyDAW8N5pDTWaJDsogNy2He7GUMHjicKVpGdOrYhTat29L4tcboTzHB1yOO8IBUwgPTWDhvNa1atqZ9uw507NCZFmotWbLgR6KCM4gKzmTj2p106tiFTh270L1rT5o1a07fPm9x6PczPIgqxNFhOU2bNkNFRYV2bTuwcO4qooIza5UshShfLkKUL5naLsrIoAyuXvCgWdNm/PC9JlHBGVWGxoHeCYQHpBIVnEl4QCp+nnG8N+pDmjRpyvo1O7hz3Z8D+07Rp9ebdOzQiVtXfEmKLcbeeiGSJPH28FHs33uCS6fvMfF7bSRJYvuW30mLL2XXzwdRUVFhwneTuXrenZuXvfn6f98jSRLHDl7g4ul7SJLEp5/8j0tn7il6ltsPo6qqxscffkZEYBoutwKZ8N1kmjRpwub1u7l1RV7r/g5ClC8XIcqXTG0XZXRwJmeO3+SVV15liqbskecQyxMsTyQmNIu9O48hSRKOs5eTHFdKVHAGyXGl7N97EkmSsLdeQFYSzLZZhIqKCvv3nCA5rpTk2BIunb5HgwYNmGu/hNT7pXz5+Xg6tO+E3C2a+Ih87kfkceuyD1rq+hzef46Lp+8xzdQaz3vh5KRAUkwxiTFFfPLRF/Ts0Re5WzRp8WBnvRBVVTW8XSKIC8slyKd2zX4LUb5chChfMrVdlFFlPcqmzZoz8XstIoMe3aMM808hJjSbB9GFzJu9DBUVFY4dvEhM2cRJZFA6brdDaP1Ga8Z9MZ6MB2BntYAmTZpy45IXkUEZRAZlcP2iJ02aNMXC3I648Fy6de3B559+RdRD+w31SyYqOLNisigmNJs/fjvNvNnLMNSfxicffcHrrzeh35sD8LoXwYOoQixnONC8uSrO13xr5My8EOXfCFHWQ2q7KEP9kgn0TqB3rzfp328QQT4PCPOrPHsdFZzJ6T9vMHO6PXeu+TF/zkoaNWrEyaPXiC6bvAn3T8XHNYoe3XvxyUdfkBYP9tYLadq0OTcueVeI8up5d5o0acq0qdbEhGbTtk07vvn6ByKD0itEGeKbREJkAXHhubg7h/LVuG9p0qQpnTp2YcTbozExnMHgQcPp07sfnvfChShrGUKU9ZDaLspgeSKxYTmYGs1EkiT++O00iTHFFTPO4QGpJMYUoaWujyRJHD90ia0b9iJJEnt2HuV+RD5BPorrMJ2v+tLk9aZoquuTnQJ2VvNp2rQ51y96VRWlqTVx4bm82bc/74wYXdGDLBe3g+1i9u89ie2s+UiSxLJFG/DziCMyKIOUuFI+G/sV3bv1xPOhHqWqqhp3b/gTGZSh9PdViPLxCFHWQ2q7KIN8FBM6186706pVa3r26MOJI1eJCs5UTN74p7Bq2WYkSeLzT78mJjSbq+fcady4MV989jVh/ikkRBXyIKqQ2TaLkCSJrRv2kJ4Atk8QpZnJLFLul2CoP41GDRty7OBFkmJLSI4rrTgHunLpJiZ+r0WjRq/g7RJJZiIkxZZw6th1mjdXpU/vfni5KERpMc2O1xu/jvM1P2LDcpT+ngpRPh4hynpIXRBlkM8DYkKz2fXzQVq0aImKigpj3v+E78arM2jAsLKZ63e5ddmHmJAsIoMymDd7OQ0bNuTDDz7Fcc4KJk/SRZIkfvhek2B5IglRhcycMRtJUuHaBc8KUV4554okSRjqmZMcW8ztq7682bc/LVq0wnL6bGZOs0e1uRrDho4kwDue9at3lM16f8nalduwMLejX98BqKm1oE3rNjhf9SUxuqhC5iOGj+LHlT8RHpAmLg+qoQhR1kPqiiiD5YnEhGRx+awrM8xs+fD9sQwdMoKxH32Jo8NyPO4oLiZXXCSeTERgGj9v/o2xH31Jj269GDZkBI4OK/D3iiciMI2IwDSc9vyFhbkd7s6hhPmnEOafguvtYGaY27J7+yHCA9KIDsni5iVv9KaY0O/NAfTp1Q8dLSNuX5ETHZJFsDyJVcs2M2L4KLp378XnY7/il20H+G3Xn+hoGnL1vAdRwZl43ovAxNCCwQOHYTvLkYjAdCHKGooQZT2kroiyPFHBGcSEZhPmn0qIbzLhAanEhuZUeSBxiG8SMaHZFbcShvgml72u/MEUipnyf174XX6nTZh/KoFll/BEBqZXrFe+PCIwreLOnZiQLEL9FO9reEAaMaHZRASmV9QU6J1AqF9Kxcx5iLz2PUVIiPLlIkT5ksnKymKW9Swc7OfVmQf3lj+LsjxP6pmF+CYR6pf8yPXKxfeo7T9q3ZCyr0Z49LK/9xPk84Bgn8RH3jMe8ojX14aE+6fifE1e9uDeVcpu1tWKEGU9JCsrCysrK+xsHJC7RVf0fERE/ksiAtK5cdkTIyNj1qxZo+xmXa0IUdZDioqKWLlyJfr6Blw6e5eo4Nr35BoR5SZYnkh0SDYHfvuLyZM1OHjwoLKbdbUiRFlPuXz5MpM1J7PAcQke98KIKnu6jojIUxOUQVRQJtcuumMxwxJDQ1md/25vIcp6SkFBAevXr2fipInY2zpw0OkEl8/d48o5Fy6fuyci8shcOefCxdPO7P7lAObm01HXUOfw4cPKbs7VjhBlPSYtLY2dO3cikxmgrj4JTc3JaGpq1pJMRktLEwMDAwwNDcsie+i//xkZuro6/2n72traGBjoo6WlVcvem+rN5MmTUddQx8xsKsePHyc/P1/ZTbnaEaIU4O/vz59//smvv/7Knj17akX27dvHzp07sbCwQGYoQyaTYWhkiJGREcbGxhgaGmJsbKz4byNDdHR0mDtvLnv27GHv3r3/avvbtm3D1taW3bt3s2/fPqUfc03J3r17OXPmDFFRUcpuui8NIUpBrWbHjh3o6Ojg4OCAra0tM2fOxNTUFEtLS6ZOnYqBgQH6+vrs2LGD5OTk/7RtNzc3LC0tSUhIqKbqBbUFIUpBrebYsWPo6+uzePFirK2tMTc3x97ennnz5qGrq8u0adO4cOECJSUl/3nb27dvR0NDg7Nnz1ZD5YLahBCloFaRl5dHcHAwJ0+eZO3atZiZmaGvr4+1tTVWVlbY2tpiZWWFtrY2CxcuJCgo6Jn28+DBA6ytrdHU1GTVqlUUFha+4CMR1CaEKAU1npSUFNzd3XFycsLR0RGZTIaGhgYymYwlS5Zga2uLubk5CxcurBDnrl27SEtLe+Z9XrlyBX19fYyMjJg6dWqdv/xF8GSEKAU1jsLCQqKiorh8+TKbN2+u6CFqaGgwY8YMfvzxR86cOUN4eDh5eXkcP36cKVOmoKOjg4WFBVevXn2u/ZeUlLB27VpMTExYvHgxurq6HDp06MUcnKBWIkQpqBHk5OTg5+fH0aNHWbFiBcbGxqirq6Orq4udnR27d+/G2dn5kRMrfn5+6OnpsWTJEsLCwp67loiICMzNzbGwsGD+/PkYGxvj6OhITk7Oc29bUDsRohQojcTERO7evcvevXuxt7dHV1eXyZMnY2hoyLJlyzh69ChyuZzs7OwnbicjI4OzZ88+11D7YY4fP46Ojg7W1tZMmzYNW1tbDAwM8PT0fCHbF9Q+hCgFL42ioiLCw8O5cOEC69atY8aMGWhqaqKuro6lpSUbN27k4sWLxMTEKG3yJC8vj4ULFzJt2jTs7OwwMTFh3rx5GBgYsHv3bqXUJFA+QpSCaiUjIwNfX18OHjzIkiVLMDQ05IcffkBfXx8HBwf27NmDq6srSUlJyi4VALlcjoGBATNmzMDR0RF7e3scHBwwNjbG0tKSlJQUZZcoUAJClIIXSmlpKQ8ePODmzZvs3LkTGxubilvfjI2NWblyJSdOnMDPz69G3vq2Z88edHR0MDIywtTUlKlTp2JiYoKRkRF6enpcu3ZN2SUKlIAQpeC5yc/PJzg4mDNnzrBmzRrMzMzK7o/WxNramp9++okrV65w//59ioqKlF3uYyktLSUwMBA3Nze8vLzYuHEj+vr6HDlyBC8vL1xcXOrVbXuCvxGiFDwTKSkpeHh48NtvvzFv3jxkMhkTJ07E0NCQhQsX4uTkhJeXF6mpqcou9Zk5ePAgOjo6+Pj4KLsUgZIRohT8K4qLi4mJieHKlSts27aNWbNmVQypp02bxo8//sjZs2cJDQ2tkUPqZ8HJyQkdHR3c3d2VXYpAyQhRCh5LTk4O/v7+HD9+nBUrVmBiYoelrTUAACAASURBVIKmpiZTpkzB1taWnTt3cvv27Tr70AghSkE5QpSCSiQmJuLi4sKePXtwcHDAwMAAdXV1jI2NWbp0KYcOHUIul5ORkaHsUqsdIUpBOUKU9Zz8/HyioqI4f/48GzduZObMmWhoaKClpYWFhUXFtY0RERH17sEQQpSCcoQo6yFZWVl4e3tz5MgRlixZgkwmY/Lkyejq6jJ79mz27dvH3bt3//PzG+saQpSCcoQo6wn379/n9u3b/PLLL1hbW6Orq8ukSZMwNjZm1apV/PnnnwQFBYn7mR9CiFJQjhBlHSU3N5ewsDBOnTrF6tWrmT59OhMnTkRLSwsrKyu2bNnCjRs3iIuLU3apNRZxeZCgHCHKOkR6enrFcxvnz5+Prq4u6urqGBgYMG/ePA4cOICHh0eVh0fk5+cTFBSMp6cnXl5eIl5eyOVyNm7ciJ6ePkePHsXHx0fpNdWUeHp6EhYWVq/OWQtR1nISEhK4evUqP//8MzNnzkRbW5vJkyczdepU1q1bx6lTpwgJCaGgoKDKa0tLS7l16xYODnPQ0zNAV1cfXT0DET0D9PTL/tWr/K+IATq6+ugbGLJkyZJ680QlIcpaTHJyMvPmzUNTUxNtbW3s7e3ZsWMHt27dIiEh4anfE3Ps2DG0tKdgKDNg07rFOO3ZwP5f1+MkgtOv69m/dwMH9m5k/54NSq+lpmT/nvX8/ut61q6cj46ODvoGBty8efMltXjlIURZiwkPD0cmkzFnzhzkcjnp6en/+rVyuQ/6BjIsZ07D594xyPWAQh8o8BYReXIKfSjJcufWJSeMjWRMnz6D+Pj4amzpykeIshYTGRmJTCZj06ZN/+l1JSUlbN26FS0tLZwv74dSP8j2gEw3EZF/lxwPKJZz9MBWJk5S58SJE9XUymsGQpS1mHJRbtiw4T+9Ljs7GxtbO+xsZpJ1/ybkeSr/gydS+1LoQ4jPKQxlBmzYsLGaWnnNQIiyFvOsoszKysLS0opF8+3IT76r6B0o+0MnUvuS70Vc8EXMp5qwatXqamrlNQMhylrM84hy1ixrFjrakpd0p2aLMsv9yacFstwVqbS++7/Y5gtYp7qONduj8jHV1OR7ERt0AbOpJqxevaaaWnnNQIiyFlMvRJnjqZhAeJw48rwUKf851xNyvZ68zVxPyPd++n7zn7DfF50CHyjxU+wzzwsK5VDsW7OFKUT5UhGifEbqtCiz3KFQzt7ti/jys9FE+p2sLLccT0rSXZhuqs50U3VKM1yhSM6MqRr88O2nimN61HEV+7JpjS26ml+RnXBTIc1/7rfIl8P7VvLN1x+SHHm5soirI4VyHoRdwNHeiMED+tCnZxc0J36J86XdUFiDZSlE+VIRonxG6rwoS/2YbaWPJEn43D0IRfK/l+d6UZx2jwFv9WJAv56UpLtCsR9Get/xv8/fUwxfy48ry+3vIS2ByHS/pW3rlqTFXK0s32wPRU+SQJbNN0dSkYgNPKPo7T1c15OGx+W/K1/vaZLL9+FB5GXeHtoPNdVm2FjqsmLxDIYO6kvTpq9z6cQ2KPZT/t9DiFKIsrZS50VZ4sf82cY0aNAAX5dDjxTlyLcHMHJ4f4pS7ymG3HlekFcmvwxXxbGV+P89RCeS6aYadO/akfTYawpRZrtXHvYSyfoVVjRt+jpxQWf/FmW+N5Q+tK0S/4dE66rYf5Hv38PoPG/Fz0W+jz9GAlnmaIYkSVw98zMQBoSREnWFnt078f6oIRRluSsEruy/iRClUmsQonxG6pMogzyPAYEKMeV7K3pZOR68O2IgI4f3pzjNBQp8OOa0hj0/LVT0IvO8INuDA78uZ8L4T/j2qw85dmAtUw1/oFePzgpRFsoh35vTRzaiOXEcX33xPr9uX8Sy+eaoqTb7W5SFclJjr7F2mSXjx41h/Lgx/LjMkoz718su1PfB85YTP613INTnL5Y6mvPDN59gPWMKXrf3V+6VPnyMeV5sXG2Dif73lKS7KGSbo+j5amv8j04d2pAZe/3p51SFKKsVIcpaTH0S5b2re8lKvUtm3HVFHtwmLeYKw4b04523B1CS4Qolfnz52Wj69ulW1uPzY+EcEyRJYtynozAxnMiAfj1podaMgf17kxl3HQjm541zadCgAe+/OxgzUw2GDOpDq5aqdOzQWiHK0gAeRF5izOhhNG78KrpTvkGm9x2vv/4an33yDqlx14FIdm5xpGHDBgwd1Jf33x2M+sQvUVNtSof2rfG5+0flHvHDyfVU9Bizyn4u9iU99ho9unXkkzEjKMn1rJl/IyHKl4oQ5TNSH0S5pGxY2qtHZwa+1Yv+/XrSv19PBrzVk/79evDKK434ZMzbFaL8fvwnDB/aD0r8CHQ7QoMGDTA3nqSQFKF43T7AG63U6NO7K4Upd0iOvESLFs0Z/9WHFGR7AKFE+p+iW5cOvNFKjbjgc0AIdhY6NH7tVdxu/AZEAhHcvbKHV199haXzzIEYDuxehiRJmBpMoDDXEwjlyqmfkSSJZfOnAUGPP9byS6DyFcN1S3NNJEnir4M/Kobxyv57CFEKUdZW6oMoF82diiRJ6Ez+ChsLHSzNtbA018JqujYzzTR5o5UaY94bVlWUhLJ+pTWSJOHncggILBvSBqGj+RXdu3WkJN2F4wfWIkkSF//aBgSXTfgEM8/OkObNm/Ag/AJF6a706dWVsR+NJCHsApEBp4kMOENc8DlGDO/PkIF9oCQAp11LadBABeeLuxXbKpKTFnOVDu1bM81EnceKMtMNMtygUE5JrhcOZRNYjvZGUCCvubeXClG+VIQon5H6IMryoXeE70kgHEoDFCkT0ah3BjFiWP9HiDKcWdO0adasCbFBZxXnIjPdgECWOJrRu1cXitNc2LLWHhUVFQLcjvw9NCaQPT8vpPUbLUiKuMSDsAt0bN+aFmrN6NOzCz27d6Jn90706tEZVdVmDBnUB/I8cdq1lNdefUVxTrLEDwp8SIm6QtfO7TGYMl7xu0fNgpfVnpPkjIH2eCRJYtEc06rXiNa0CFG+VIQon5H6JEo/18N/X4Cd5Q553pSku1TMej9KlPaWejRp0pjYwLN/zzwTyPIF0+hTJsodm+aiolLW63xonX07FtOmdUuSIi6SGHaRli1V+f7/PuHCyZ84eWgDJw+t59ThDVw/+wu+9w5BSQB7ty/itVdfweOmU4UokyMv06VTOwymfPNoUWa4QrEvcREX+XjM20iSxM6t86HEt2ZLUojypSNE+YzUJ1E+7fKgqqIM5rcdi5EkietndwBhiplnglD/7lO6d+tIcZoLN87tQJIkftuxBIhQnCMkBOsZ2qg2b8qDsAsUZbrRt3c3Pvv4HSBUsR5hQCg7Ns1jz88LgZBnE2WeN+kPbvPxB2/TsUMbbl3YBdwv208QECAuOK8BCFHWYuqDKOfaypAkCfm9Px4pyqGD32TooL4Vohz/vzEMGtAbCuWkx9+kZ49OjBj2FuH+pyjK9eTArqWoSBK9e3Yh98EtCjM9GPXOILp37Yj3vUOU5Hlz/vgWmjV7nZZqzRWz3oSyerFF2aSMOVmp98jPdGPH5nlIksRMM00gil9/WoCKJOF+4/dKomzXphU6k7+uKsqyu4Dm2RoiSRK6Wl9z9q+tHNq7kj/2LOePPSs4d2wzBSl3auZ5SiHKl4oQ5TNS50VZ7MeyBdNo2UJVcQ6xsKooP/lwBB+Xz3oX+6Gt8T8+fH9Y2cRNADcv7KJH9060bd2SQf170f/NHowaOZC3h72luI6SYOQuhxg25E1atVBlUP/e9OnVhTHvDaN3z86K85tFfhRkumFprkWTJo3p27sbb/XtzuuNX2PyxC/JenALCMdp11LatG6Bt/MBxXWeZeco+/froZh5L/6HKHO9KEy9yztvD6B586Y0eb0xkiRVyuABfareQVRTIkT5UhGifEbqtCgz3SDbg/iQc3je3k9e4u1/9MYU/wZ5HCPI41jF+uHyEwR6HH1Itr7cDznH9o1zWbV4Bj53DhIbdJZ7V/cq7uYpWyct5ip7fl7IsgXm3Ln8K4kRF3G+tJv8JGfFnTt5XlDgg8u1faxbPotVi2dw8cQ2xWx1vjfkeJASdQUv5wPkPrhdcftiUdo9/FwOEe1/qmqvMMudknQXvO8cxOPm73jccqoUtxu/EeB2RHExfU0cfgtRvlSEKJ+ROi/KTDeFoIp9H//Is0J55Z5m2V00lT/QPkAwEKIYvhf4VO3d5XmhOCcYqliW7111qJyt6OVCiCKl/n+/dxmuigvHi30rCzHLXbHPJ/UIi+SK7Rb7/iN+imOpiZIUonzpCFE+I+LBvSJKTfmDe83Eg3tfBkKUz8izijInJwcbWzvsbWaSFX9LfBWEyLOlyIdQn1PIZAasX//f2mBtQ4iyFvOsoiwpKWHzli1oaWnjfGU/lPrWzFlVkZqbXE8o8uHQ75uZOEmdkydPVVMrrxkIUdZinlWUAN7e3ujpG2BlOR0/t+OKc3RFcsWTcEREnpQiOSXZ7lw/tw+ZgT6WlrNISEiohhZecxCirMU8jygBDh8+zGRNLYyNZGzbuIxjB7fx5x8/8efBbSIHt/HnH9s4Lt6PSjn+x08cPrCFtavmM2XKFAwMZDg7O7/gll3zEKKsxTyvKEtKSrh27Rq2dnZoT9FFe4ouU0QqoqOrj76BITo6ekqvpSZFW1sHHV19Fi9ejI+Pzwtu1TUTIcpazPOKspzs7Gz8/Py4desWt27dFrl1G2dnZ44fP86cOXO4cuUKt52dlV5Tzcgtbt92JjQ0lIKCghfUkms+QpS1mBclSsGjuX79OqampkRGRiq7FIGSEaKsxQhRVh/FxcWsXbsWdXV1/vjjD2WXI1AyQpS1GCHK6iMiIoJp06ahra3N/Pnzyc7OVnZJAiVSZ0UZExPD/v37HzlscnV1Zd++fURHR1dZ5uzszMmTJykqKuLMmTOcOHHiifu/e/cu58+fp6Sk5NkP4hkRoqw+/vrrL/T09Jg6dSoymQxPT09ll1Tn8PHxYceOHWzbto0tW7bw888/s2/fPk6dOkViYqKyy6tEnRWll5cXkiQxd+7cSr/Pz8/n3XfffeSyvLw8Bg4cyPvvv09xcTGjR49m+PDhT9y/hoYG/fr1Iy8v73kO45kQoqwe8vPzWbRoEaampixevBh9fX127typ7LLqHMuXL0eSJBo1akSTJk1o0qQJzZo1Q5IkunXrhpOTk7JLrKDOirKoqIi+ffvyySefVPq9t7c3rVq1om3btowcObJSTzAoKIhGjRrh6OgIwM2bN7lx48YT96+pqcmAAQOEKOsQcrkcY2NjrKyscHR0ZPr06djY2JCSkqLs0uoU5aI8ffo0sbGxREVFERQUxJ9//smgQYNQUVHh1KmaccdPnRUlgLm5Oa1atSIpKanid+vXr+fNN99kyZIlqKqq4uvrW7Fs//79ii+iv3oVgJSUlCofjpSUFE6ePMnJkyfJzs5GJpMxcODAKqK8c+cOhw4d4saNGxQWFj7PIT4WIcrq4ffff0dXV5fZs2czffp0bG1t0dPT4+bNm8ourU5RLsqHP4PlxMbG0rFjRwYPHkxubm6lZYGBgRw9epTTp08/9n9eaWlpnDt3jsOHD1fZfkFBAfHx8QA8ePCAy5cv4+fn98Ra67QoDxw4gCRJXLlypeJ348aNY8KECURERNC8eXM2b95csczY2JguXbqQnp4OwIQJE/juu+8qll+7do0+ffrQtGlTOnbsyGeffcY777zDyJEjK0QZHR3N+PHjadGiBe3bt6dly5Z8/vnnhIaGPs9hPhIhyhdPRkYGdnZ2TJs2DUtLSwwNDbG2tsbIyIgNGzZQWlqq7BLrDOWi9PDweOTyuXPnIkkSLi4uABQWFmJnZ0fr1q1p164db7zxBj169ODMmTOVXnfq1Cl69+7NG2+8Qbt27WjVqhU2NjYUFRUBilHlBx98gIWFBcOGDaNXr1506NABfX39is/+P6nTogwLC6Np06asXLkSgISEBDp27Mjq1YpHQr399tt8++23gGKoPnToUCZMmFDx+g8++IDRo0cDkJSURKdOnRg0aBBubm5ER0djba34OtRRo0ZRVFREYWEhn376KW3btuXUqVOkpqZy5coVevTowUcfffTCh+dClC+eW7duMWXKFGQyGcbGxhgbG1dM6Jiamj5yAlDwbDxNlEeOHFF8n9FvvwGwdOlSJEli9erVxMfH4+/vz7hx41BVVSU4OBhQnDZRU1Pj008/xdvbm6SkJDZt2lTxOgAPDw8aNmzIK6+8wtatW4mKimLPnj28+uqrGBgYPLKWOi1KgJEjR/L9998DcObMGZo0aYKrqysA9vb2tG7dmry8PCIjI1FTU2Pr1q0Vrx07diwfffQRADt37kSSJG7fvl1p+2+//TaDBw8G4Pbt20iSxMGDByutc/z48YpzMS8SIcoXS2lpKfv27WPGjBnY2toyffp0jI2NmTlzJjY2NsyYMUPpH5a6xNNEef78eSRJYseOHeTm5tKpUyf09PQqrZOamsrrr7+Ora0tALNmzUJNTY3U1NRK6+nq6tK+fXsKCgrw9fVFRUUFKyurSus4ODjQqFEjgoKCqtRS50Vpa2tLjx49KCoqws7Ojr59+1ac87h8+TKSJOHl5cWpU6do3Lgxcrm84rUPi9LU1BQ1NbUqly1MnTq1QpSbN29GkiQmTJiAkZFRRa/k22+/RZIkVqxY8TyHWgUhyhdLaWkpqampJCUlkZKSwq5du9DV1eXatWukpKSQmJhIZmamssusMzxNlEePHq3oeAQFBdGwYUPeffddTExMkMlkGBoaYmBggIqKCuPGjQPg888/R01NDUNDQwwNDZHJZJiYmDB06FAkSSI8PBw/Pz/U1NSqXPp39uxZJEni5MmTVWqp86I8ffo0qqqquLm5MWrUKIyMjCqWJScn06lTJ9avX4+joyODBw+uNPHysCj19fVp165dlZPHc+bMYdiwYYDiD6+iosL48eNRV1dn4sSJTJw4ES0tLUxNTbl48eLzHGoVhCirlwMHDqCjo4O3t7eyS6mTPE2Uixcvrlhefrnf6NGj0dDQqPhsqaurY2RkxC+//ALA6NGjadOmDerq6kyaNKliPT09PaysrEhOTsbLy4t27dpVTNqWc/36dSRJ4siRI1VqqfOijI2N5c0332TWrFl07tyZ33//vdLyb775hq+++ooxY8Ywffr0SsseFuXs2bN57bXXiImJqbSOTCar6FFu374dSZKqPFGlqKgIuVxORkbGsx7mIxGirF6cnJzQ0dHB3d1d2aXUScpF+agnEOXm5vLWW2/Rt29fCgoKCAgIQEVFhR9//LHKugEBARWz2GPHjmXQoEFV1klKSiIgIAAAd3d3mjdvzp9//llpnT/++KPSVS8PU+dFCTBp0iRUVVXp1asX4eHhlZZt3ryZZs2a0bRp0ypv3MOiLD//+PDwOSoqio4dO1b0KP39/WnQoAEymazSdtasWUPz5s25fv36sx7mIxGirF6EKKuXclHevn2b3Nzcivj6+qKhoYEkSezevRtQfM/T4MGD6devX6WZaWdn50oTtqtWrUKSJI4ePVqxTklJCZ9++imDBw+mqKgIX19fGjRowIQJEyquoy4qKmLs2LF07969yvlNqCeiXLlyJZIk8fHHH1dZ5ufnhyRJNGnShLi4uErLRowYUSFBgOnTp9OwYUPMzMxYuXIlo0aNQpIkBg0aVPHIqfKZue+++44NGzZgamqKiooKGhoaYta7liFEWb0sWbIESZJo06YNPXr0oGfPnvTq1YvGjRvTqFEjFi5cWOmGkHPnztGsWTMGDhzIypUrcXR0RE1Njb59+1Z0gFJTU/n8889p3LgxVlZWrFu3jrFjxyJJUsXdVV5eXqiqqtK4cWO+/fZbVqxYwdixY2nYsCGHDh16ZK31QpRBQUHY2dk9cta5qKiI5cuXs2XLlirLduzYwfbt2yt+LiwsZMOGDbz33nuMHDmS5cuXs3PnTpYvX17p3OaBAwf4+uuvGTJkCGPGjGHFihXV8lAFIcrqRYiyerlx4wZ2dnbMmDEDc3PziqxatQovL69Hvubu3btoaWnx9ttvM3LkSExNTauMElNSUli4cCFjxoxhyJAh/N///V+l0WL50HvBggVYWVnxzjvv8MMPPzxxDqFeiPJFU1hY+K96h9nZ2RQXF1dbHUKU1YsQZc0lNzeX/Pz8J65TVFRETk5Old+7u7vz6quvVlzG928+y0KUtRghyuqlXJSPm5UV1E5cXV0rnf/8NwhR1mKEKKuXgwcPoqOjU2++F6a+4Ofnx9ChQzl+/Pi/fo0QZS3mRYkyMDCQk6dOcejQIQ4fPixy+DDHjh1j0eLFGBgYsGXLFo4dO6b0mmpKDh06zLlz52rtV2SUlJSQl5f3n06LCVHWYp5XlBkZGezZsweZzJCJE9XR0Jgs8lB0dPUwNDRCW3uK0mupSVHXmMykSRpMnWrG4cOHn3qusC4gRFmLeR5RFhQUsHHjRn6YqM6c2VacP7ELj9uHcbt1SETksXG/fQj324c5cWQ7syynMWmSBvv376+G1l2zEKKsxTyPKK9evcrkyVqsWDqXlJjrUCSHQh8RkX+XIjlRAeews5mJvr6MwMDAamjhNQchylrMs4qyqKiIlatWY6CvR6DHCSj2hUw3EZF/n2x3KPXj6tm9qGtMrvO9SiHKWsyzijIrK4tZVtbMc7AmN9EZcjyV/8ETqX0p8CbK/xwmxkasXVv1Huy6hBBlLeZ5RGlpacWi+XbkJ9+FHA/lf+hEal/yvYgLvoj5VBNWrVpdTa28ZiBEWYt5rh7lLGsWOtqSl3SnZosyxwPyvSHL/dHLc70UKf85z0ux/hO36alY72n7zXvCfqv7mPOecgw1IflexAZdwGyqCatXr6mmVl4zEKKsxdR5UWa5kZ/sTOb9G5Sku0BmVWnlJNwkJ+FW2frupEZfJTny8hO26U5ekjPZ8TcpzXB97DoFyXcU+81whayXK8nSDFdSo68o//0XoqxAiLIWU6dFmeUORXJ+2uDAiGH9CfM5DgU+DwnFk+J0F3Qmf4XO5K8ozXSDYl8MpnzD52PfVRzTo46rxI8Vi6YzftwYsuJvVO1ZZrlDiR/7ti/ig9FDSQy/+PQe6otKricQyNL55mhN+lLxu+wa+LcRolQKQpTPSJ0XZakfs630FQ93vXtQcQlThVS8KE67x4D+vRjwVk+K012gyJf59saYyiYoBFMumSz3MnEqRGSo+y1t27QiLeZqZQnmeCiG8QSybME0JBUVYgPPVBZ0lrtiOzmeVYflWW5//658n9n/cuhe5Aul/vyyeR6Sigrvjxry9zaU/bcQohSirM3UeVGW+DF/tjENGjTA1+XQI0U58u0BjBzen6LUe3+fryzvJWa4Kn4u8ftbYERgYTaZ7l07kh57TSHKHE/FOtkelGQo1tmwypqmTZsQF3T2b1EW+ECRL6UZrophe5G8Si+XAh8olCuS5a7YfrHvk8915noSEXAaI73veKVRQ15v/BpffDpKiLIGIURZi6lPogz2+hMIUoiowAdK/CHXk3dHDmTk8P6KHmWhnJ83zGH5gmllkvKhMPUeq5daMGzwmwwZ2IcNa2wxmDKe3j27KERZ5EtpljvbN83hnREDGNS/N4vnmTHXRkbLFs3/FmWRL9EBp7Ewm8yQgX0YMrAvFmaTFT3OIjkU+3Hz/E7m2MhwuboXI73vGD6kH9//38dc/Gtr2YTUY46zyBczo4m0aqnGvp1L+eqL9xgzeqgQZQ1CiLIWUx9EuWC2MSoqKlw8sY374ReJ9j9FtP8pYoPPEeF7gsED+/DOiAGKSZcSP8Z9/h793uyu6FUWyDGV/YAkSch0vmHZgmmMGjGQJk0aM6h/b7Lu3wACWTTXFEmSUP/uM1YvmcknY96mefOmdOzQRiHK0iAifE/Qs0dnunXpwHwHExbOMaVr5/YMeKsXscHngCh2b1tAgwYq9O3VFfXvP2e2jYw+vbrStMnrOF/a/dgL+0uz3HG+/CvRAWeAUL756kPef1cMvWsSQpS1mPogyiWOZkiSRAu15rRt3ZLWb7Sg9RstaFP2r4qKxNiPRlSI8vvxnzB8aD8o9cfjxu9IksQCBxMgGAgnOuA0XTu3p3fPLhSm3iMm8AyNG7+GTOdbKA0AwkmLu87QwX1p2UKV+8HngGCM9L+jhVozRQ+SeCCeSL9TNG/eFBsLHSCa/buXIUkSc2xkQAAQgfvN32nQQIUFs8tqeNzxFsorhvJff/mBEGUNQ4iyFlMfRFne23O0N2L75nlsWzebbetm89OGOWz50Z6undvz/rtDqoqSUFYumoGKigrBnseAAMU2CcJI7zt6dOtISboLh/auQJIkbpzbCQSWrRPMknlmqDZvSmL4RfJT79KjWyc+HvM2HncOcu/aPu5d34f7LSeGDe7LW327Q5EfTruW0kBFhXtX9gJBUCgnLeYqnTu2xcxoomL7TzrmbHchyhqKEGUtpj6IsvwcZbjvCSAMSv0VIRiK5IwaOYgRw956hCjDsTTXonnzpsQFnVP02DLdgECWL5hGn15dKU5zYfMaO1RUVAjyOPr3ZBEB7NuxiLatW5IUcYmE0PN0bN+Gpk1ep33bN2jbuiVtW7ekXZtWtGqpqpihzvPEaddSXnv1Fbxu7VdMDhX4kBJ5ma6d26GvPb7ypJIQZa1CiLIWU59E+bRZ76qiDMPB2oDXX29MTMAZxeU3mW5AEEsczejdswvFaS7s3OKIJEnI7x78+xwigez5aSGt32hBUsQlkiMu07KFKrpa/0eo70n8XA7je+8P/F0PE+bzF9EBp4FA9m5fxGuvvoLHTacKUSZHXqZLp3YYTPlGiLIWI0RZixGifJIogzjmtAZJkjh1eAMQrhBViR9fjxtDj24dKU5zweXqXiRJYtu62UCkQpYE+qtDYQAAEt9JREFUY2r4A82bNyUh9AIlOZ4MGtCHEcPeUvRMiQDCoMSf2Vb6rFw0Awhh347FQpR1FCHKWkx9EOUcW5mix3fvj0eKcsjgNxk6qG+FKP9v3BgGDugNBT7kp95j2JB+dO3cHucre4iJusK6ZZZIkkTvXl3JSbhFSYGc//vyA5q83phzf20lNuoae35eSIMGKrRqqUpskGImevfW+UiSxAxTDSKDzhIddoFFcxTnT5fPNwdi2L1tAZIk4X7j9wpRJkVcpl2bVuhM/vpfi/KLsaN4Z/gAIcoahBBlLabOi7LYl9VLLOjYoTWB7kf/Ps+Y6Qa5nhSn3WPc5+/x5WejFaJ8+BbGbA8o8SfA/Sij3xlE86ZN6N61I0MHv8lXX7zP+6OGkBF7HUoDiQk5xxdjR9H4tVfp3q0j/fp257v/+5hB/XsrLg8q8oU8bzassqZN65Z06tCGLp3b0+T1xthZ6lKQ4QqlofyxZwVdO7fH507ZMD7fm9ToKwwf2g9Lc62nX3ierbhAfYrG/xj/vw+FKGsQQpS1mDotyjJZ5jy4RfL/t3fmQW2edx6XNzhxjnZ2ptekze7ONN1062ySzm7bNJum6TXdnW4ns51wSIC4DBI2YMAGzJEac8Zgg03sgE1sBx/YcRyIjS9qE2MMPjjDKUAgJMRlbiFuc3z2D9mkThsnISABej4z32E06H3f3/vOo8880vs8z6v7iOnB4r8rGUP7VdPA8bvvN3Ze++S1sQymaxnvuUFeTirZmTu4rbnEaHcRetU500Ibw2Vwp4bZoVIKct/h1JHt6OrOcqf/Jrras6YZP/emLU7X0lZ/gZyTyWQdTTTJe6LKNGZzuJyJ3hv06z76ZBtj2d0FLvIZ7ir8wisRGTsK7j+HpRohSrMiRDlPVrwojWWfTAv8LMmMV96/sMV45d8uUTZ+dxrjjMoktrHK+6ceGstMC1JM15nuqE9Wm15/+rjD5XdnBd19352a+xetGK34+7VOVJn290XP+dPntFQjRGlWhCjnyXxFaTQa8Q8IJGprsFi4V2T+maikXW0S5fbtCYvUypcGQpTLmPmKcmxsjLDwCAL8N9DXetV8y4iJrKxM11BT8iEuLnJS09IWqZUvDYQolzFf5SmMGYcPY2fnwOn300x3kycqP1maTETkQRmtgDvVzIyUszclFnt7KQUFBYvQwpcOQpTLGJ1Oh7u7O3v27PnS2+r1enx9/XBzc+VcVjpDnYXMDJUyYxAReUCGSpkylNKtvcK76TtxcJASExPD6OjoIrTwpYMQ5TJGq9Wybt06oqKi6OrqYnZ29kttf+vWLTZs8MHe3oHNgb7sTNhKUmIkSQkiSQmRJCdGsmtHlMXrWEpJTowkIf4NfDYosbVzICwsjJaWlkVq4UsHIcplTGdnJ35+fjg6OuLt7U18fDw5OTnU1dUxMjLyhfah1WpJT08nKDgEL4U3CuV6EeV6lHf/enoqUHpvmHtt9VF4o/TeQETEG5w4cYL+/v5FbuVLAyHKZczMzAwNDQ1kZmYSGRmJp6cnr7/+OnK5nNDQUPbv309hYSEdHR1MT08/cF8Gg4GOjg46OztF7qaoqIjw8HAaGhosXstSyb02stK/an8aIcoVwtTUFBqNhry8PPbs2YO/vz9yuRx7e3sUCgUJCQlkZWVRV1fH8PCwpctdFpw9exZXV1dqamosXYrAwghRrlAGBwcpLy/n5MmTxMTEsG7dOqRSKS4uLgQFBfHOO+9w7do12tvbP7e3aY2MjY0RHR2Nvb09Bw8etHQ5AgsjRGkFTExMoNfrycvL4+233yYoKAgnJyekUine3t7ExcWRlZVFTU0Ng4ODli53SVBTU4OnpydyuZygoCB6e3stXZLAgghRWiEDAwNUVVXx/vvvEx0djVKpRCqV4uTkRHBwMGlpaVy5coW2tjbu3Llj6XItwtGjR3F3dycoKAg3N7cVP05Q8GCEKK2cqakpWltbyc/PZ9++fWzevBlnZ2dkMhleXl7ExcVx6tQpKisrMRgMli7XLBgMBrZs2YKPjw87d+7Ew8ODXbt2fenhV4KVgxCl4D4MBgPV1dWcOnWK+Ph4FAoF9vb2uLi4sHnzZlJTU8nPz6e1tZWpqSlLl7so3LhxA3d3dwICAggODiYgIAAfHx/a2tosXZrAQghRCj6Tqakp9Ho9BQUFpKWlERQUhFwux9bWFoVCQWxsLCdOnKCqqmpF/baZlpaGh4cHISEhKBQKQkNDkcvlnD9/3tKlCSyEEKXgC2M0GqmuriY7O5u4uDi8vLyQyWTIZDICAwNJTU3l8uXL6PX6ZdvbvH37Nn5+fmzatImoqCiCg4OJiYlBqVQSExOzbM9L8NUQohTMi6mpKbq6usjPzyc9PZ2QkBBkMhlSqZR169axbds2Tp48SUVFxbLqbebk5GBnZ4erqyvr16/H19cXLy8vnJ2dkcvlVFdXW7pEgQUQohQsCENDQ9TX1/PBBx8QHx/P+vXrsbW1xdHRkcDAQHbv3k1eXh5arZbJyUlLl/uZZGdnk5iYyO7duwkJCcHDw4OoqCh2795NQkICRUVFli5RYAGEKAULzuzsLG1tbRQWFs71Nt3c3LCzs8Pd3Z3o6GiOHTtGeXn5kp4r/N5774lepAAQohSYgdHRUerq6jh9+jSJiYl4e3vj6OiIk5MTGzduZO/evVy6dImWlpYl1dvMzMxELpdTXl5u6VIEFkaIUmBW7v22WVhYyIEDBwgLC8PFxQUHBwc8PT3ZunUrx48fp6yszOKzYYQoBfcQohRYFKPRiEql4syZMyQkJODj44NUKkUmkxEQEEBKSgq5ubloNBrGxsbMWpsQpeAeQpSCJcPs7CydnZ1cv36dd999l9DQUNzc3JDJZLi7uxMZGUlmZiYlJSX09fUtej1ClIJ7CFEKliyjo6M0NjaSk5NDUlISPj4+ODg44OzsjJ+fH7t27SI3Nxe1Wr0ovU0hSsE9hCgFy4LZ2Vm6u7spLi7m0KFDhIeH4+bmhq2tLR4eHrzxxhtkZGRQUlJCd3f3ghxTiFJwDyFKwbJkcnIStVpNbm4uycnJ+Pr64uzsjFQqZePGjaSkpHDu3Dmam5sZHx+f1zGOHz+OXC6noqJigasXLDeEKAVzLNfVcWZnZ+nr6+PWrVscOXKEiIgIXF1dcXFxQalUsnXrVo4dO8bNmze/1J100aMU3EOI0soZHh7m4sWLJO1MIjoqmtiY2OWV2Fji4+LZvj2B5KRkduzYQXhYOBvWb8Dd3QM3NzfkznKkDlLkchcC/APYtm0bsbFxD9xvXFwcAf4BuLm5ExYaRlzcg99vTYmOjiElJYWCgoJ599aXG0KUVkxTUxORkZE4OEjx8HDHx28DPr7LNxt8N+Dr54N/4EYCNwcQuDnwvgRs8sfHz4cNX3Bf/gEb2RQUiJ+/7xfaxipyt424uroidZCSmJi4YL8JL2WEKK2UgYEBIsIjkEllJO3ZQX7ZJcrUNyhpvL6iU9xQREljkcXrWK4pbbxOqfo6l25eIDbB9EyhpOQkJiYmLN2kFxUhSislOzsbezt7UtKSaeqvQ2dUoxmoFxH5nKjQDNSjH2mirr2CqLhIZDIZxcXFlm7Si4oQpRUyOTnJtm3bUHoruFF7FZ1RTWNPjYjIl4p+pImz+R/i5OTEwQMr+0mVQpRWiNFoJDBwE6ERIdS0V9DUX2fxD53I8kuLoYGi6nwUCi92JO6wdLNeVIQorZDh4WE2bdpMaMQWatqEKEXml5bBem5U56NQKoQozYAQpZmxBlE2dFejGaynfUxDU38dDd3VFqmjqa8OdW+txa/HYqRlsJ7rQpRmQ4jSzFiDKFsGG8grvUDKgSRKGovQDNSb9fgN3dVoDQ1ohxqpv11l8euxONdYiNKcCFGaGWsQZddkK39+MxyJRMJ754/RMd5iZok0cLnkAkp/T/IrLtEy2GDxa7Lw5yhEaU6EKM2MtYhy611RnjyfScd4C839KnRGNU19dWiHGmkb1aAfaaa5XzW3nbq3Fu1Qo+k9hgbaRpppNTbR1Hf/NdIZ1WiHGudeN3RX0zygmttf91Qbf34zjH9YtYqi6iu0j5pX1EKUC4sQpRViLaKM3B5hEuWFTDondXysLSa/4hJN/SoKKvM4nH2Q0x+doqG7mhaDqcdX1/kxN1QFNPeruKkq4MS5I/zl5jk0A/VzvUJ1by2Xbp0jr/Qijb2m4zX3qyhRF3HmygdU6UtR99ah9Pfk0UfX8N65o1S3lf+NbJd7hCjNixClmbFGURroJv14Ks8+vxaF/zqe+bcf8PV//DqPrHmE12z/SFnzDdrHtVy4foZnX1iLl68Ha5//Ed/93pN881vfQOpqT2VrKdqhRlqNTbz0yov8/g+/pblfRXO/iq7JVpL2JfLY449xvvA0yfsT+drXv8aqVav47lNPEhEXSue41uLXRYhyfghRWiHWKMohekg9sgeJRMI//ctTpBzYyUdlufgGr0cikRAWE4yBbnKuZiORSFjz6Bq2bo/gWtVHxCRFYmNjg6OHFJ1RTduohud+/O+8/OpLc6K8fUfPm2/FIpFIOHHuCNWt5Ti42LFmzSPsTN1OQWWe2W8oCVEuHEKUVoi1inLfsb1IJBJikiIZoIvbd/RU6cv45re+wf85vIaRXs4WmES5zsednuk22kaa6Zluw1UpZ/XDq7lWlUfXnVZ+/JMX+OVvfnGfKBP2xiORSDh6+hCjDLJ1ewRPPPEYN1UFdIxpLTZESYjyqyNEaYVYqyhTD7/FQw89xLEzGXSMt9AyWE9NWzk/+OHT/O4Pv6F/tpOcq1nYrLbh0Kl02sdMN2A6xltIO/oWEomEAyfS6KPzgaI8duZdDPQQFh3C448/Rn75X9ANrbxpokKU5kWI0sxYsyhtbGzIzDk8J8oqfRlPP/N9fv37V+mZaSfnahaPP/E4Jy9koh9pprGnhvaxFg5nH0AikfDWoWT674ry1d++cp8od6S+KUS5QhGitEKsXZR/3aO8J8rf/PevTKIsyGb16tUcPLmfzgnt3L6S9m2/OybzKD0z7Tz/H8/xyq9fRmtoRDNQT+9Mx9xwpGNnMuZE+cQTj1Hw8WUhymWOEKUVIkT52aI8X3gaiUTCa7Z/pG2kmQG6aB5Q8fNXXuSpf/4eVa2ldE7o+K9XX+I7T36b4sZChuihRH2dF37yPBKJhMyzhzHQw5ZtQaxZ8wjXa/PpmW6nsdvy10WIcn4IUVoh1iDK23f0hEUFI5FIOJ5zhGH6SDmQhEQiISPrIJ0TWpMoW0v5zpPf5ue/+Bk9sx2cLzqNjY0NDz/yML//398RHhPCi7/4GTY2D7Hn3V20jWpoG2kmKS2BVatW8fQzT/Mnh9d49vm1PP3M91m92oaMrHcw0suu9B1IJBJefPmn7Ny3He1Q44qa9y1EaV6EKM2MNYiydbiJ4zkZOLjYcqUsl67xVs5ezcJV4czl4gvohtQ099dR1/ExgeF+xCRF0jmpM331fng1gWF+2Dr+ibXP/Yhf/e6XHDqVjs6oRt1XS1NfHZqBetKOvMVv/+fX/PSl/+TPb4Zz4XoOwVs3kVd6Ef1IMxXaYtb5uPHs82vxCfJGM9iwogadC1GaFyFKM2MNomzorkY31Ej3dBvNAyrqb1fRMthA95QezUD93FAddW8tnRM62sdaaDWqOXM1C4lEwr5je+mZbqOqtRStoZH2Uc19vUF1b61pm+EmdEONdIy3oDOq6ZzQze1fM6CidbgJVVflihsaJERpfoQozcycKN9YuaKcT/TDTXx45QMkEgnJ+xPpGNeiGax/YC+wqa/ugf9X99aiGXjwPpZrWgbruVFzVYjSTAhRmpnh4WECAzexJVyscP7X0RnV5N48xw/X/iuH3t9P63CTxWtaymkxNFBUdQUvhReJCYmWbtaLihClFTI5OUlMdDReXp4UVl1BN7zyhq7MK721qLqqKG26QW1HxYq68bIY0Y808+GlUzjKHDmccdjSzXpREaK0Us6cOYO9nT07UhJo6K6mdbgJzaCln/Bn6ahoGTQtraY1NMw9cVDkUxk0PYWxvPkWoRFbcHaWU1lZaekmvagIUVopRqORqKgoHBwceHNnHLnXz1HcUHQ3hSIifz+NRdyqL+T05Q8IiwjFztaO9PR3mJ6etnSTXlSEKK0YnU5HXFwcMqkMFxcXlN4KlOuVKNcrREQ+I0oUSi+cnZxxdpazb98+DAaDpZvyorNiRTk7OyvyOQEYHx/n2rVr7N2zl+ioaGJiYkREPjvRMcTGxHLgwAEqKirm2pGl2/JifDb+mhUrSoFAIFgohCgFAoHgc1j2olSpVEKUAoFgUdm1axeXL1+2aA1fSZQ6nQ5fX1/S09M5ePCgiIiIyIImIyMDJycniouLF8p58+IriXJmZobi4mLOnz9Pbm6uiIiIyILm4sWL5OfnMz4+vlDOmxdfSZQCgUBgDfw/2JVKNGhgVK0AAAAASUVORK5CYII=)"
      ]
    },
    {
      "cell_type": "markdown",
      "metadata": {
        "id": "fe9uCj7Fg3x-"
      },
      "source": [
        "### Inputs\n",
        "<b>Input transforms numpy array into tensors to be used by subsequent layers.</b><br><br>\n",
        "<i>Input()</i> is used to instantiate a class that will perform the transformation to Keras tensor.\n",
        "<u>Inputs is the shape of each object.</u> <br> In a tabular data, each row is an object. In Image data, each image is an object. So, in the former case, it is one dimensional and in the later case two-dimensional.  <br><br>\n",
        "**Purpose**: *Purpose of Input is to tell the rest of the model as to what tensor object is to be expected by the rest of model*\n",
        "\n",
        "```\n",
        "tf.keras.Input(\n",
        "    shape=None, batch_size=None, name=None, dtype=None, sparse=None, tensor=None,\n",
        "    ragged=None, type_spec=None, **kwargs\n",
        ")\n",
        "```"
      ]
    },
    {
      "cell_type": "code",
      "metadata": {
        "id": "EZDEXIViftqT",
        "colab": {
          "base_uri": "https://localhost:8080/"
        },
        "outputId": "e6615f95-f7ad-48c8-ca94-c42dac9ef87e"
      },
      "source": [
        "# 3.1 Design model\n",
        "\n",
        "# 3.1.1 Inputs to model. Note that inputs is NOT\n",
        "#       a part of layers object\n",
        "#       Input() is used to instantiate a Keras tensor.\n",
        "#       This tensor will get populated when .fit() is\n",
        "#       invoked and data starts flowing in.\n",
        "#       Purpose: Define what tensor shape is to be expected\n",
        "#                by the model\n",
        "\n",
        "inputs = tf.keras.Input(\n",
        "                         shape = X.shape[1],\n",
        "                         batch_size=None\n",
        "                        )\n",
        "\n",
        "type(inputs)"
      ],
      "execution_count": null,
      "outputs": [
        {
          "output_type": "execute_result",
          "data": {
            "text/plain": [
              "keras.engine.keras_tensor.KerasTensor"
            ]
          },
          "metadata": {},
          "execution_count": 13
        }
      ]
    },
    {
      "cell_type": "code",
      "metadata": {
        "id": "7hJmwSOOf4BV",
        "colab": {
          "base_uri": "https://localhost:8080/"
        },
        "outputId": "09f641c3-8d7c-49d4-c724-747472173c11"
      },
      "source": [
        "# 3.1.2 Examine the tensor object\n",
        "print(inputs.dtype)\n",
        "print(inputs.shape)\n",
        "print(inputs.name)"
      ],
      "execution_count": null,
      "outputs": [
        {
          "output_type": "stream",
          "name": "stdout",
          "text": [
            "<dtype: 'float32'>\n",
            "(None, 8)\n",
            "input_1\n"
          ]
        }
      ]
    },
    {
      "cell_type": "code",
      "metadata": {
        "id": "3CUFOUbujkpS"
      },
      "source": [
        "# 3.2 Add layers. Each layer outputs a tensor:\n",
        "\n",
        "x = layers.Dense(100, activation = 'relu')(inputs)"
      ],
      "execution_count": null,
      "outputs": []
    },
    {
      "cell_type": "code",
      "metadata": {
        "id": "7iBWEkbUmBRE",
        "colab": {
          "base_uri": "https://localhost:8080/"
        },
        "outputId": "9fca746b-7ae0-4b31-b3b7-f01b6c40e474"
      },
      "source": [
        "# 3.2.1 Get nature of 'x'\n",
        "\n",
        "print(type(x))\n",
        "print(x.shape )  # (None, 100)"
      ],
      "execution_count": null,
      "outputs": [
        {
          "output_type": "stream",
          "name": "stdout",
          "text": [
            "<class 'keras.engine.keras_tensor.KerasTensor'>\n",
            "(None, 100)\n"
          ]
        }
      ]
    },
    {
      "cell_type": "code",
      "metadata": {
        "id": "JOPzYvEcj4IA",
        "colab": {
          "base_uri": "https://localhost:8080/"
        },
        "outputId": "08d37051-3706-4926-d441-c3600078b84e"
      },
      "source": [
        "# 3.2.2 Examine x:\n",
        "\n",
        "type(x)\n",
        "x.shape"
      ],
      "execution_count": null,
      "outputs": [
        {
          "output_type": "execute_result",
          "data": {
            "text/plain": [
              "keras.engine.keras_tensor.KerasTensor"
            ]
          },
          "metadata": {},
          "execution_count": 17
        },
        {
          "output_type": "execute_result",
          "data": {
            "text/plain": [
              "TensorShape([None, 100])"
            ]
          },
          "metadata": {},
          "execution_count": 17
        }
      ]
    },
    {
      "cell_type": "code",
      "metadata": {
        "id": "JouACnATIIUF"
      },
      "source": [
        "# 3.3 Add ome more layer:\n",
        "\n",
        "x = layers.Dense(100, activation = 'relu')(x)"
      ],
      "execution_count": null,
      "outputs": []
    },
    {
      "cell_type": "code",
      "metadata": {
        "id": "_ZEHAgf6mtUk"
      },
      "source": [
        "# 3.3.1 Concatenate \n",
        "x = tf.keras.layers.concatenate([x,inputs])\n"
      ],
      "execution_count": null,
      "outputs": []
    },
    {
      "cell_type": "code",
      "metadata": {
        "id": "0-4s_jwiXM3D"
      },
      "source": [
        "# 3.3.2 Final layer\n",
        "out = layers.Dense(1,activation = 'sigmoid')(x)"
      ],
      "execution_count": null,
      "outputs": []
    },
    {
      "cell_type": "code",
      "metadata": {
        "id": "i7iNInyNXTWe"
      },
      "source": [
        "# 3.3.3 Create model now\n",
        "model = Model(inputs = [inputs], outputs = [out])"
      ],
      "execution_count": null,
      "outputs": []
    },
    {
      "cell_type": "code",
      "metadata": {
        "id": "zZmSNOwJJ2cf",
        "colab": {
          "base_uri": "https://localhost:8080/"
        },
        "outputId": "219c8786-944d-4e1c-ad30-771a73e0194a"
      },
      "source": [
        "# 3.4 Print model summary\n",
        "model.summary()"
      ],
      "execution_count": null,
      "outputs": [
        {
          "output_type": "stream",
          "name": "stdout",
          "text": [
            "Model: \"model\"\n",
            "__________________________________________________________________________________________________\n",
            " Layer (type)                   Output Shape         Param #     Connected to                     \n",
            "==================================================================================================\n",
            " input_1 (InputLayer)           [(None, 8)]          0           []                               \n",
            "                                                                                                  \n",
            " dense (Dense)                  (None, 100)          900         ['input_1[0][0]']                \n",
            "                                                                                                  \n",
            " dense_1 (Dense)                (None, 100)          10100       ['dense[0][0]']                  \n",
            "                                                                                                  \n",
            " concatenate (Concatenate)      (None, 108)          0           ['dense_1[0][0]',                \n",
            "                                                                  'input_1[0][0]']                \n",
            "                                                                                                  \n",
            " dense_2 (Dense)                (None, 1)            109         ['concatenate[0][0]']            \n",
            "                                                                                                  \n",
            "==================================================================================================\n",
            "Total params: 11,109\n",
            "Trainable params: 11,109\n",
            "Non-trainable params: 0\n",
            "__________________________________________________________________________________________________\n"
          ]
        }
      ]
    },
    {
      "cell_type": "code",
      "metadata": {
        "id": "PBZwG9ht70_A",
        "colab": {
          "base_uri": "https://localhost:8080/"
        },
        "outputId": "34131bfe-bd54-44d0-b1c3-1523f49be578"
      },
      "source": [
        "# 3.5 `Model` groups layers into an object \n",
        "#       with training and inference features.\n",
        "help(Model)"
      ],
      "execution_count": null,
      "outputs": [
        {
          "output_type": "stream",
          "name": "stdout",
          "text": [
            "Help on class Model in module keras.engine.training:\n",
            "\n",
            "class Model(keras.engine.base_layer.Layer, keras.utils.version_utils.ModelVersionSelector)\n",
            " |  Model(*args, **kwargs)\n",
            " |  \n",
            " |  `Model` groups layers into an object with training and inference features.\n",
            " |  \n",
            " |  Args:\n",
            " |      inputs: The input(s) of the model: a `keras.Input` object or list of\n",
            " |          `keras.Input` objects.\n",
            " |      outputs: The output(s) of the model. See Functional API example below.\n",
            " |      name: String, the name of the model.\n",
            " |  \n",
            " |  There are two ways to instantiate a `Model`:\n",
            " |  \n",
            " |  1 - With the \"Functional API\", where you start from `Input`,\n",
            " |  you chain layer calls to specify the model's forward pass,\n",
            " |  and finally you create your model from inputs and outputs:\n",
            " |  \n",
            " |  ```python\n",
            " |  import tensorflow as tf\n",
            " |  \n",
            " |  inputs = tf.keras.Input(shape=(3,))\n",
            " |  x = tf.keras.layers.Dense(4, activation=tf.nn.relu)(inputs)\n",
            " |  outputs = tf.keras.layers.Dense(5, activation=tf.nn.softmax)(x)\n",
            " |  model = tf.keras.Model(inputs=inputs, outputs=outputs)\n",
            " |  ```\n",
            " |  \n",
            " |  Note: Only dicts, lists, and tuples of input tensors are supported. Nested\n",
            " |  inputs are not supported (e.g. lists of list or dicts of dict).\n",
            " |  \n",
            " |  A new Functional API model can also be created by using the\n",
            " |  intermediate tensors. This enables you to quickly extract sub-components\n",
            " |  of the model.\n",
            " |  \n",
            " |  Example:\n",
            " |  \n",
            " |  ```python\n",
            " |  inputs = keras.Input(shape=(None, None, 3))\n",
            " |  processed = keras.layers.RandomCrop(width=32, height=32)(inputs)\n",
            " |  conv = keras.layers.Conv2D(filters=2, kernel_size=3)(processed)\n",
            " |  pooling = keras.layers.GlobalAveragePooling2D()(conv)\n",
            " |  feature = keras.layers.Dense(10)(pooling)\n",
            " |  \n",
            " |  full_model = keras.Model(inputs, feature)\n",
            " |  backbone = keras.Model(processed, conv)\n",
            " |  activations = keras.Model(conv, feature)\n",
            " |  ```\n",
            " |  \n",
            " |  Note that the `backbone` and `activations` models are not\n",
            " |  created with `keras.Input` objects, but with the tensors that are originated\n",
            " |  from `keras.Inputs` objects. Under the hood, the layers and weights will\n",
            " |  be shared across these models, so that user can train the `full_model`, and\n",
            " |  use `backbone` or `activations` to do feature extraction.\n",
            " |  The inputs and outputs of the model can be nested structures of tensors as\n",
            " |  well, and the created models are standard Functional API models that support\n",
            " |  all the existing APIs.\n",
            " |  \n",
            " |  2 - By subclassing the `Model` class: in that case, you should define your\n",
            " |  layers in `__init__()` and you should implement the model's forward pass\n",
            " |  in `call()`.\n",
            " |  \n",
            " |  ```python\n",
            " |  import tensorflow as tf\n",
            " |  \n",
            " |  class MyModel(tf.keras.Model):\n",
            " |  \n",
            " |    def __init__(self):\n",
            " |      super().__init__()\n",
            " |      self.dense1 = tf.keras.layers.Dense(4, activation=tf.nn.relu)\n",
            " |      self.dense2 = tf.keras.layers.Dense(5, activation=tf.nn.softmax)\n",
            " |  \n",
            " |    def call(self, inputs):\n",
            " |      x = self.dense1(inputs)\n",
            " |      return self.dense2(x)\n",
            " |  \n",
            " |  model = MyModel()\n",
            " |  ```\n",
            " |  \n",
            " |  If you subclass `Model`, you can optionally have\n",
            " |  a `training` argument (boolean) in `call()`, which you can use to specify\n",
            " |  a different behavior in training and inference:\n",
            " |  \n",
            " |  ```python\n",
            " |  import tensorflow as tf\n",
            " |  \n",
            " |  class MyModel(tf.keras.Model):\n",
            " |  \n",
            " |    def __init__(self):\n",
            " |      super().__init__()\n",
            " |      self.dense1 = tf.keras.layers.Dense(4, activation=tf.nn.relu)\n",
            " |      self.dense2 = tf.keras.layers.Dense(5, activation=tf.nn.softmax)\n",
            " |      self.dropout = tf.keras.layers.Dropout(0.5)\n",
            " |  \n",
            " |    def call(self, inputs, training=False):\n",
            " |      x = self.dense1(inputs)\n",
            " |      if training:\n",
            " |        x = self.dropout(x, training=training)\n",
            " |      return self.dense2(x)\n",
            " |  \n",
            " |  model = MyModel()\n",
            " |  ```\n",
            " |  \n",
            " |  Once the model is created, you can config the model with losses and metrics\n",
            " |  with `model.compile()`, train the model with `model.fit()`, or use the model\n",
            " |  to do prediction with `model.predict()`.\n",
            " |  \n",
            " |  Method resolution order:\n",
            " |      Model\n",
            " |      keras.engine.base_layer.Layer\n",
            " |      tensorflow.python.module.module.Module\n",
            " |      tensorflow.python.training.tracking.autotrackable.AutoTrackable\n",
            " |      tensorflow.python.training.tracking.base.Trackable\n",
            " |      keras.utils.version_utils.LayerVersionSelector\n",
            " |      keras.utils.version_utils.ModelVersionSelector\n",
            " |      builtins.object\n",
            " |  \n",
            " |  Methods defined here:\n",
            " |  \n",
            " |  __call__(self, *args, **kwargs)\n",
            " |  \n",
            " |  __copy__(self)\n",
            " |  \n",
            " |  __deepcopy__(self, memo)\n",
            " |  \n",
            " |  __init__(self, *args, **kwargs)\n",
            " |  \n",
            " |  __reduce__(self)\n",
            " |      Helper for pickle.\n",
            " |  \n",
            " |  __setattr__(self, name, value)\n",
            " |      Support self.foo = trackable syntax.\n",
            " |  \n",
            " |  build(self, input_shape)\n",
            " |      Builds the model based on input shapes received.\n",
            " |      \n",
            " |      This is to be used for subclassed models, which do not know at instantiation\n",
            " |      time what their inputs look like.\n",
            " |      \n",
            " |      This method only exists for users who want to call `model.build()` in a\n",
            " |      standalone way (as a substitute for calling the model on real data to\n",
            " |      build it). It will never be called by the framework (and thus it will\n",
            " |      never throw unexpected errors in an unrelated workflow).\n",
            " |      \n",
            " |      Args:\n",
            " |       input_shape: Single tuple, `TensorShape` instance, or list/dict of shapes,\n",
            " |         where shapes are tuples, integers, or `TensorShape` instances.\n",
            " |      \n",
            " |      Raises:\n",
            " |        ValueError:\n",
            " |          1. In case of invalid user-provided data (not of type tuple,\n",
            " |             list, `TensorShape`, or dict).\n",
            " |          2. If the model requires call arguments that are agnostic\n",
            " |             to the input shapes (positional or keyword arg in call signature).\n",
            " |          3. If not all layers were properly built.\n",
            " |          4. If float type inputs are not supported within the layers.\n",
            " |      \n",
            " |        In each of these cases, the user should build their model by calling it\n",
            " |        on real tensor data.\n",
            " |  \n",
            " |  call(self, inputs, training=None, mask=None)\n",
            " |      Calls the model on new inputs and returns the outputs as tensors.\n",
            " |      \n",
            " |      In this case `call()` just reapplies\n",
            " |      all ops in the graph to the new inputs\n",
            " |      (e.g. build a new computational graph from the provided inputs).\n",
            " |      \n",
            " |      Note: This method should not be called directly. It is only meant to be\n",
            " |      overridden when subclassing `tf.keras.Model`.\n",
            " |      To call a model on an input, always use the `__call__()` method,\n",
            " |      i.e. `model(inputs)`, which relies on the underlying `call()` method.\n",
            " |      \n",
            " |      Args:\n",
            " |          inputs: Input tensor, or dict/list/tuple of input tensors.\n",
            " |          training: Boolean or boolean scalar tensor, indicating whether to run\n",
            " |            the `Network` in training mode or inference mode.\n",
            " |          mask: A mask or list of masks. A mask can be either a boolean tensor or\n",
            " |            None (no mask). For more details, check the guide\n",
            " |              [here](https://www.tensorflow.org/guide/keras/masking_and_padding).\n",
            " |      \n",
            " |      Returns:\n",
            " |          A tensor if there is a single output, or\n",
            " |          a list of tensors if there are more than one outputs.\n",
            " |  \n",
            " |  compile(self, optimizer='rmsprop', loss=None, metrics=None, loss_weights=None, weighted_metrics=None, run_eagerly=None, steps_per_execution=None, jit_compile=None, **kwargs)\n",
            " |      Configures the model for training.\n",
            " |      \n",
            " |      Example:\n",
            " |      \n",
            " |      ```python\n",
            " |      model.compile(optimizer=tf.keras.optimizers.Adam(learning_rate=1e-3),\n",
            " |                    loss=tf.keras.losses.BinaryCrossentropy(),\n",
            " |                    metrics=[tf.keras.metrics.BinaryAccuracy(),\n",
            " |                             tf.keras.metrics.FalseNegatives()])\n",
            " |      ```\n",
            " |      \n",
            " |      Args:\n",
            " |          optimizer: String (name of optimizer) or optimizer instance. See\n",
            " |            `tf.keras.optimizers`.\n",
            " |          loss: Loss function. May be a string (name of loss function), or\n",
            " |            a `tf.keras.losses.Loss` instance. See `tf.keras.losses`. A loss\n",
            " |            function is any callable with the signature `loss = fn(y_true,\n",
            " |            y_pred)`, where `y_true` are the ground truth values, and\n",
            " |            `y_pred` are the model's predictions.\n",
            " |            `y_true` should have shape\n",
            " |            `(batch_size, d0, .. dN)` (except in the case of\n",
            " |            sparse loss functions such as\n",
            " |            sparse categorical crossentropy which expects integer arrays of shape\n",
            " |            `(batch_size, d0, .. dN-1)`).\n",
            " |            `y_pred` should have shape `(batch_size, d0, .. dN)`.\n",
            " |            The loss function should return a float tensor.\n",
            " |            If a custom `Loss` instance is\n",
            " |            used and reduction is set to `None`, return value has shape\n",
            " |            `(batch_size, d0, .. dN-1)` i.e. per-sample or per-timestep loss\n",
            " |            values; otherwise, it is a scalar. If the model has multiple outputs,\n",
            " |            you can use a different loss on each output by passing a dictionary\n",
            " |            or a list of losses. The loss value that will be minimized by the\n",
            " |            model will then be the sum of all individual losses, unless\n",
            " |            `loss_weights` is specified.\n",
            " |          metrics: List of metrics to be evaluated by the model during training\n",
            " |            and testing. Each of this can be a string (name of a built-in\n",
            " |            function), function or a `tf.keras.metrics.Metric` instance. See\n",
            " |            `tf.keras.metrics`. Typically you will use `metrics=['accuracy']`. A\n",
            " |            function is any callable with the signature `result = fn(y_true,\n",
            " |            y_pred)`. To specify different metrics for different outputs of a\n",
            " |            multi-output model, you could also pass a dictionary, such as\n",
            " |            `metrics={'output_a': 'accuracy', 'output_b': ['accuracy', 'mse']}`.\n",
            " |            You can also pass a list to specify a metric or a list of metrics\n",
            " |            for each output, such as `metrics=[['accuracy'], ['accuracy', 'mse']]`\n",
            " |            or `metrics=['accuracy', ['accuracy', 'mse']]`. When you pass the\n",
            " |            strings 'accuracy' or 'acc', we convert this to one of\n",
            " |            `tf.keras.metrics.BinaryAccuracy`,\n",
            " |            `tf.keras.metrics.CategoricalAccuracy`,\n",
            " |            `tf.keras.metrics.SparseCategoricalAccuracy` based on the loss\n",
            " |            function used and the model output shape. We do a similar\n",
            " |            conversion for the strings 'crossentropy' and 'ce' as well.\n",
            " |          loss_weights: Optional list or dictionary specifying scalar coefficients\n",
            " |            (Python floats) to weight the loss contributions of different model\n",
            " |            outputs. The loss value that will be minimized by the model will then\n",
            " |            be the *weighted sum* of all individual losses, weighted by the\n",
            " |            `loss_weights` coefficients.\n",
            " |              If a list, it is expected to have a 1:1 mapping to the model's\n",
            " |                outputs. If a dict, it is expected to map output names (strings)\n",
            " |                to scalar coefficients.\n",
            " |          weighted_metrics: List of metrics to be evaluated and weighted by\n",
            " |            `sample_weight` or `class_weight` during training and testing.\n",
            " |          run_eagerly: Bool. Defaults to `False`. If `True`, this `Model`'s\n",
            " |            logic will not be wrapped in a `tf.function`. Recommended to leave\n",
            " |            this as `None` unless your `Model` cannot be run inside a\n",
            " |            `tf.function`. `run_eagerly=True` is not supported when using\n",
            " |            `tf.distribute.experimental.ParameterServerStrategy`.\n",
            " |          steps_per_execution: Int. Defaults to 1. The number of batches to run\n",
            " |            during each `tf.function` call. Running multiple batches inside a\n",
            " |            single `tf.function` call can greatly improve performance on TPUs or\n",
            " |            small models with a large Python overhead. At most, one full epoch\n",
            " |            will be run each execution. If a number larger than the size of the\n",
            " |            epoch is passed, the execution will be truncated to the size of the\n",
            " |            epoch. Note that if `steps_per_execution` is set to `N`,\n",
            " |            `Callback.on_batch_begin` and `Callback.on_batch_end` methods will\n",
            " |            only be called every `N` batches (i.e. before/after each `tf.function`\n",
            " |            execution).\n",
            " |          jit_compile: If `True`, compile the model training step with XLA.\n",
            " |            [XLA](https://www.tensorflow.org/xla) is an optimizing compiler for\n",
            " |            machine learning.\n",
            " |            `jit_compile` is not enabled for by default.\n",
            " |            This option cannot be enabled with `run_eagerly=True`.\n",
            " |            Note that `jit_compile=True` is\n",
            " |            may not necessarily work for all models.\n",
            " |            For more information on supported operations please refer to the\n",
            " |            [XLA documentation](https://www.tensorflow.org/xla).\n",
            " |            Also refer to\n",
            " |            [known XLA issues](https://www.tensorflow.org/xla/known_issues) for\n",
            " |            more details.\n",
            " |          **kwargs: Arguments supported for backwards compatibility only.\n",
            " |  \n",
            " |  compute_loss(self, x=None, y=None, y_pred=None, sample_weight=None)\n",
            " |      Compute the total loss, validate it, and return it.\n",
            " |      \n",
            " |      Subclasses can optionally override this method to provide custom loss\n",
            " |      computation logic.\n",
            " |      \n",
            " |      Example:\n",
            " |      ```python\n",
            " |      class MyModel(tf.keras.Model):\n",
            " |      \n",
            " |        def __init__(self, *args, **kwargs):\n",
            " |          super(MyModel, self).__init__(*args, **kwargs)\n",
            " |          self.loss_tracker = tf.keras.metrics.Mean(name='loss')\n",
            " |      \n",
            " |        def compute_loss(self, x, y, y_pred, sample_weight):\n",
            " |          loss = tf.reduce_mean(tf.math.squared_difference(y_pred, y))\n",
            " |          loss += tf.add_n(self.losses)\n",
            " |          self.loss_tracker.update_state(loss)\n",
            " |          return loss\n",
            " |      \n",
            " |        def reset_metrics(self):\n",
            " |          self.loss_tracker.reset_states()\n",
            " |      \n",
            " |        @property\n",
            " |        def metrics(self):\n",
            " |          return [self.loss_tracker]\n",
            " |      \n",
            " |      tensors = tf.random.uniform((10, 10)), tf.random.uniform((10,))\n",
            " |      dataset = tf.data.Dataset.from_tensor_slices(tensors).repeat().batch(1)\n",
            " |      \n",
            " |      inputs = tf.keras.layers.Input(shape=(10,), name='my_input')\n",
            " |      outputs = tf.keras.layers.Dense(10)(inputs)\n",
            " |      model = MyModel(inputs, outputs)\n",
            " |      model.add_loss(tf.reduce_sum(outputs))\n",
            " |      \n",
            " |      optimizer = tf.keras.optimizers.SGD()\n",
            " |      model.compile(optimizer, loss='mse', steps_per_execution=10)\n",
            " |      model.fit(dataset, epochs=2, steps_per_epoch=10)\n",
            " |      print('My custom loss: ', model.loss_tracker.result().numpy())\n",
            " |      ```\n",
            " |      \n",
            " |      Args:\n",
            " |        x: Input data.\n",
            " |        y: Target data.\n",
            " |        y_pred: Predictions returned by the model (output of `model(x)`)\n",
            " |        sample_weight: Sample weights for weighting the loss function.\n",
            " |      \n",
            " |      Returns:\n",
            " |        The total loss as a `tf.Tensor`, or `None` if no loss results (which is\n",
            " |        the case when called by `Model.test_step`).\n",
            " |  \n",
            " |  compute_metrics(self, x, y, y_pred, sample_weight)\n",
            " |      Update metric states and collect all metrics to be returned.\n",
            " |      \n",
            " |      Subclasses can optionally override this method to provide custom metric\n",
            " |      updating and collection logic.\n",
            " |      \n",
            " |      Example:\n",
            " |      ```python\n",
            " |      class MyModel(tf.keras.Sequential):\n",
            " |      \n",
            " |        def compute_metrics(self, x, y, y_pred, sample_weight):\n",
            " |      \n",
            " |          # This super call updates `self.compiled_metrics` and returns results\n",
            " |          # for all metrics listed in `self.metrics`.\n",
            " |          metric_results = super(MyModel, self).compute_metrics(\n",
            " |              x, y, y_pred, sample_weight)\n",
            " |      \n",
            " |          # Note that `self.custom_metric` is not listed in `self.metrics`.\n",
            " |          self.custom_metric.update_state(x, y, y_pred, sample_weight)\n",
            " |          metric_results['custom_metric_name'] = self.custom_metric.result()\n",
            " |          return metric_results\n",
            " |      ```\n",
            " |      \n",
            " |      Args:\n",
            " |        x: Input data.\n",
            " |        y: Target data.\n",
            " |        y_pred: Predictions returned by the model (output of `model.call(x)`)\n",
            " |        sample_weight: Sample weights for weighting the loss function.\n",
            " |      \n",
            " |      Returns:\n",
            " |        A `dict` containing values that will be passed to\n",
            " |        `tf.keras.callbacks.CallbackList.on_train_batch_end()`. Typically, the\n",
            " |        values of the metrics listed in `self.metrics` are returned. Example:\n",
            " |        `{'loss': 0.2, 'accuracy': 0.7}`.\n",
            " |  \n",
            " |  evaluate(self, x=None, y=None, batch_size=None, verbose='auto', sample_weight=None, steps=None, callbacks=None, max_queue_size=10, workers=1, use_multiprocessing=False, return_dict=False, **kwargs)\n",
            " |      Returns the loss value & metrics values for the model in test mode.\n",
            " |      \n",
            " |      Computation is done in batches (see the `batch_size` arg.)\n",
            " |      \n",
            " |      Args:\n",
            " |          x: Input data. It could be:\n",
            " |            - A Numpy array (or array-like), or a list of arrays\n",
            " |              (in case the model has multiple inputs).\n",
            " |            - A TensorFlow tensor, or a list of tensors\n",
            " |              (in case the model has multiple inputs).\n",
            " |            - A dict mapping input names to the corresponding array/tensors,\n",
            " |              if the model has named inputs.\n",
            " |            - A `tf.data` dataset. Should return a tuple\n",
            " |              of either `(inputs, targets)` or\n",
            " |              `(inputs, targets, sample_weights)`.\n",
            " |            - A generator or `keras.utils.Sequence` returning `(inputs, targets)`\n",
            " |              or `(inputs, targets, sample_weights)`.\n",
            " |            A more detailed description of unpacking behavior for iterator types\n",
            " |            (Dataset, generator, Sequence) is given in the `Unpacking behavior\n",
            " |            for iterator-like inputs` section of `Model.fit`.\n",
            " |          y: Target data. Like the input data `x`, it could be either Numpy\n",
            " |            array(s) or TensorFlow tensor(s). It should be consistent with `x`\n",
            " |            (you cannot have Numpy inputs and tensor targets, or inversely). If\n",
            " |            `x` is a dataset, generator or `keras.utils.Sequence` instance, `y`\n",
            " |            should not be specified (since targets will be obtained from the\n",
            " |            iterator/dataset).\n",
            " |          batch_size: Integer or `None`. Number of samples per batch of\n",
            " |            computation. If unspecified, `batch_size` will default to 32. Do not\n",
            " |            specify the `batch_size` if your data is in the form of a dataset,\n",
            " |            generators, or `keras.utils.Sequence` instances (since they generate\n",
            " |            batches).\n",
            " |          verbose: `\"auto\"`, 0, 1, or 2. Verbosity mode.\n",
            " |              0 = silent, 1 = progress bar, 2 = single line.\n",
            " |              `\"auto\"` defaults to 1 for most cases, and to 2 when used with\n",
            " |              `ParameterServerStrategy`. Note that the progress bar is not\n",
            " |              particularly useful when logged to a file, so `verbose=2` is\n",
            " |              recommended when not running interactively (e.g. in a production\n",
            " |              environment).\n",
            " |          sample_weight: Optional Numpy array of weights for the test samples,\n",
            " |            used for weighting the loss function. You can either pass a flat (1D)\n",
            " |            Numpy array with the same length as the input samples\n",
            " |              (1:1 mapping between weights and samples), or in the case of\n",
            " |                temporal data, you can pass a 2D array with shape `(samples,\n",
            " |                sequence_length)`, to apply a different weight to every timestep\n",
            " |                of every sample. This argument is not supported when `x` is a\n",
            " |                dataset, instead pass sample weights as the third element of `x`.\n",
            " |          steps: Integer or `None`. Total number of steps (batches of samples)\n",
            " |            before declaring the evaluation round finished. Ignored with the\n",
            " |            default value of `None`. If x is a `tf.data` dataset and `steps` is\n",
            " |            None, 'evaluate' will run until the dataset is exhausted. This\n",
            " |            argument is not supported with array inputs.\n",
            " |          callbacks: List of `keras.callbacks.Callback` instances. List of\n",
            " |            callbacks to apply during evaluation. See\n",
            " |            [callbacks](/api_docs/python/tf/keras/callbacks).\n",
            " |          max_queue_size: Integer. Used for generator or `keras.utils.Sequence`\n",
            " |            input only. Maximum size for the generator queue. If unspecified,\n",
            " |            `max_queue_size` will default to 10.\n",
            " |          workers: Integer. Used for generator or `keras.utils.Sequence` input\n",
            " |            only. Maximum number of processes to spin up when using process-based\n",
            " |            threading. If unspecified, `workers` will default to 1.\n",
            " |          use_multiprocessing: Boolean. Used for generator or\n",
            " |            `keras.utils.Sequence` input only. If `True`, use process-based\n",
            " |            threading. If unspecified, `use_multiprocessing` will default to\n",
            " |            `False`. Note that because this implementation relies on\n",
            " |            multiprocessing, you should not pass non-picklable arguments to the\n",
            " |            generator as they can't be passed easily to children processes.\n",
            " |          return_dict: If `True`, loss and metric results are returned as a dict,\n",
            " |            with each key being the name of the metric. If `False`, they are\n",
            " |            returned as a list.\n",
            " |          **kwargs: Unused at this time.\n",
            " |      \n",
            " |      See the discussion of `Unpacking behavior for iterator-like inputs` for\n",
            " |      `Model.fit`.\n",
            " |      \n",
            " |      Returns:\n",
            " |          Scalar test loss (if the model has a single output and no metrics)\n",
            " |          or list of scalars (if the model has multiple outputs\n",
            " |          and/or metrics). The attribute `model.metrics_names` will give you\n",
            " |          the display labels for the scalar outputs.\n",
            " |      \n",
            " |      Raises:\n",
            " |          RuntimeError: If `model.evaluate` is wrapped in a `tf.function`.\n",
            " |  \n",
            " |  evaluate_generator(self, generator, steps=None, callbacks=None, max_queue_size=10, workers=1, use_multiprocessing=False, verbose=0)\n",
            " |      Evaluates the model on a data generator.\n",
            " |      \n",
            " |      DEPRECATED:\n",
            " |        `Model.evaluate` now supports generators, so there is no longer any need\n",
            " |        to use this endpoint.\n",
            " |  \n",
            " |  fit(self, x=None, y=None, batch_size=None, epochs=1, verbose='auto', callbacks=None, validation_split=0.0, validation_data=None, shuffle=True, class_weight=None, sample_weight=None, initial_epoch=0, steps_per_epoch=None, validation_steps=None, validation_batch_size=None, validation_freq=1, max_queue_size=10, workers=1, use_multiprocessing=False)\n",
            " |      Trains the model for a fixed number of epochs (iterations on a dataset).\n",
            " |      \n",
            " |      Args:\n",
            " |          x: Input data. It could be:\n",
            " |            - A Numpy array (or array-like), or a list of arrays\n",
            " |              (in case the model has multiple inputs).\n",
            " |            - A TensorFlow tensor, or a list of tensors\n",
            " |              (in case the model has multiple inputs).\n",
            " |            - A dict mapping input names to the corresponding array/tensors,\n",
            " |              if the model has named inputs.\n",
            " |            - A `tf.data` dataset. Should return a tuple\n",
            " |              of either `(inputs, targets)` or\n",
            " |              `(inputs, targets, sample_weights)`.\n",
            " |            - A generator or `keras.utils.Sequence` returning `(inputs, targets)`\n",
            " |              or `(inputs, targets, sample_weights)`.\n",
            " |            - A `tf.keras.utils.experimental.DatasetCreator`, which wraps a\n",
            " |              callable that takes a single argument of type\n",
            " |              `tf.distribute.InputContext`, and returns a `tf.data.Dataset`.\n",
            " |              `DatasetCreator` should be used when users prefer to specify the\n",
            " |              per-replica batching and sharding logic for the `Dataset`.\n",
            " |              See `tf.keras.utils.experimental.DatasetCreator` doc for more\n",
            " |              information.\n",
            " |            A more detailed description of unpacking behavior for iterator types\n",
            " |            (Dataset, generator, Sequence) is given below. If using\n",
            " |            `tf.distribute.experimental.ParameterServerStrategy`, only\n",
            " |            `DatasetCreator` type is supported for `x`.\n",
            " |          y: Target data. Like the input data `x`,\n",
            " |            it could be either Numpy array(s) or TensorFlow tensor(s).\n",
            " |            It should be consistent with `x` (you cannot have Numpy inputs and\n",
            " |            tensor targets, or inversely). If `x` is a dataset, generator,\n",
            " |            or `keras.utils.Sequence` instance, `y` should\n",
            " |            not be specified (since targets will be obtained from `x`).\n",
            " |          batch_size: Integer or `None`.\n",
            " |              Number of samples per gradient update.\n",
            " |              If unspecified, `batch_size` will default to 32.\n",
            " |              Do not specify the `batch_size` if your data is in the\n",
            " |              form of datasets, generators, or `keras.utils.Sequence` instances\n",
            " |              (since they generate batches).\n",
            " |          epochs: Integer. Number of epochs to train the model.\n",
            " |              An epoch is an iteration over the entire `x` and `y`\n",
            " |              data provided\n",
            " |              (unless the `steps_per_epoch` flag is set to\n",
            " |              something other than None).\n",
            " |              Note that in conjunction with `initial_epoch`,\n",
            " |              `epochs` is to be understood as \"final epoch\".\n",
            " |              The model is not trained for a number of iterations\n",
            " |              given by `epochs`, but merely until the epoch\n",
            " |              of index `epochs` is reached.\n",
            " |          verbose: 'auto', 0, 1, or 2. Verbosity mode.\n",
            " |              0 = silent, 1 = progress bar, 2 = one line per epoch.\n",
            " |              'auto' defaults to 1 for most cases, but 2 when used with\n",
            " |              `ParameterServerStrategy`. Note that the progress bar is not\n",
            " |              particularly useful when logged to a file, so verbose=2 is\n",
            " |              recommended when not running interactively (eg, in a production\n",
            " |              environment).\n",
            " |          callbacks: List of `keras.callbacks.Callback` instances.\n",
            " |              List of callbacks to apply during training.\n",
            " |              See `tf.keras.callbacks`. Note `tf.keras.callbacks.ProgbarLogger`\n",
            " |              and `tf.keras.callbacks.History` callbacks are created automatically\n",
            " |              and need not be passed into `model.fit`.\n",
            " |              `tf.keras.callbacks.ProgbarLogger` is created or not based on\n",
            " |              `verbose` argument to `model.fit`.\n",
            " |              Callbacks with batch-level calls are currently unsupported with\n",
            " |              `tf.distribute.experimental.ParameterServerStrategy`, and users are\n",
            " |              advised to implement epoch-level calls instead with an appropriate\n",
            " |              `steps_per_epoch` value.\n",
            " |          validation_split: Float between 0 and 1.\n",
            " |              Fraction of the training data to be used as validation data.\n",
            " |              The model will set apart this fraction of the training data,\n",
            " |              will not train on it, and will evaluate\n",
            " |              the loss and any model metrics\n",
            " |              on this data at the end of each epoch.\n",
            " |              The validation data is selected from the last samples\n",
            " |              in the `x` and `y` data provided, before shuffling. This argument is\n",
            " |              not supported when `x` is a dataset, generator or\n",
            " |              `keras.utils.Sequence` instance.\n",
            " |              If both `validation_data` and `validation_split` are provided,\n",
            " |              `validation_data` will override `validation_split`.\n",
            " |              `validation_split` is not yet supported with\n",
            " |              `tf.distribute.experimental.ParameterServerStrategy`.\n",
            " |          validation_data: Data on which to evaluate\n",
            " |              the loss and any model metrics at the end of each epoch.\n",
            " |              The model will not be trained on this data. Thus, note the fact\n",
            " |              that the validation loss of data provided using `validation_split`\n",
            " |              or `validation_data` is not affected by regularization layers like\n",
            " |              noise and dropout.\n",
            " |              `validation_data` will override `validation_split`.\n",
            " |              `validation_data` could be:\n",
            " |                - A tuple `(x_val, y_val)` of Numpy arrays or tensors.\n",
            " |                - A tuple `(x_val, y_val, val_sample_weights)` of NumPy arrays.\n",
            " |                - A `tf.data.Dataset`.\n",
            " |                - A Python generator or `keras.utils.Sequence` returning\n",
            " |                `(inputs, targets)` or `(inputs, targets, sample_weights)`.\n",
            " |              `validation_data` is not yet supported with\n",
            " |              `tf.distribute.experimental.ParameterServerStrategy`.\n",
            " |          shuffle: Boolean (whether to shuffle the training data\n",
            " |              before each epoch) or str (for 'batch'). This argument is ignored\n",
            " |              when `x` is a generator or an object of tf.data.Dataset.\n",
            " |              'batch' is a special option for dealing\n",
            " |              with the limitations of HDF5 data; it shuffles in batch-sized\n",
            " |              chunks. Has no effect when `steps_per_epoch` is not `None`.\n",
            " |          class_weight: Optional dictionary mapping class indices (integers)\n",
            " |              to a weight (float) value, used for weighting the loss function\n",
            " |              (during training only).\n",
            " |              This can be useful to tell the model to\n",
            " |              \"pay more attention\" to samples from\n",
            " |              an under-represented class.\n",
            " |          sample_weight: Optional Numpy array of weights for\n",
            " |              the training samples, used for weighting the loss function\n",
            " |              (during training only). You can either pass a flat (1D)\n",
            " |              Numpy array with the same length as the input samples\n",
            " |              (1:1 mapping between weights and samples),\n",
            " |              or in the case of temporal data,\n",
            " |              you can pass a 2D array with shape\n",
            " |              `(samples, sequence_length)`,\n",
            " |              to apply a different weight to every timestep of every sample. This\n",
            " |              argument is not supported when `x` is a dataset, generator, or\n",
            " |             `keras.utils.Sequence` instance, instead provide the sample_weights\n",
            " |              as the third element of `x`.\n",
            " |          initial_epoch: Integer.\n",
            " |              Epoch at which to start training\n",
            " |              (useful for resuming a previous training run).\n",
            " |          steps_per_epoch: Integer or `None`.\n",
            " |              Total number of steps (batches of samples)\n",
            " |              before declaring one epoch finished and starting the\n",
            " |              next epoch. When training with input tensors such as\n",
            " |              TensorFlow data tensors, the default `None` is equal to\n",
            " |              the number of samples in your dataset divided by\n",
            " |              the batch size, or 1 if that cannot be determined. If x is a\n",
            " |              `tf.data` dataset, and 'steps_per_epoch'\n",
            " |              is None, the epoch will run until the input dataset is exhausted.\n",
            " |              When passing an infinitely repeating dataset, you must specify the\n",
            " |              `steps_per_epoch` argument. If `steps_per_epoch=-1` the training\n",
            " |              will run indefinitely with an infinitely repeating dataset.\n",
            " |              This argument is not supported with array inputs.\n",
            " |              When using `tf.distribute.experimental.ParameterServerStrategy`:\n",
            " |                * `steps_per_epoch=None` is not supported.\n",
            " |          validation_steps: Only relevant if `validation_data` is provided and\n",
            " |              is a `tf.data` dataset. Total number of steps (batches of\n",
            " |              samples) to draw before stopping when performing validation\n",
            " |              at the end of every epoch. If 'validation_steps' is None, validation\n",
            " |              will run until the `validation_data` dataset is exhausted. In the\n",
            " |              case of an infinitely repeated dataset, it will run into an\n",
            " |              infinite loop. If 'validation_steps' is specified and only part of\n",
            " |              the dataset will be consumed, the evaluation will start from the\n",
            " |              beginning of the dataset at each epoch. This ensures that the same\n",
            " |              validation samples are used every time.\n",
            " |          validation_batch_size: Integer or `None`.\n",
            " |              Number of samples per validation batch.\n",
            " |              If unspecified, will default to `batch_size`.\n",
            " |              Do not specify the `validation_batch_size` if your data is in the\n",
            " |              form of datasets, generators, or `keras.utils.Sequence` instances\n",
            " |              (since they generate batches).\n",
            " |          validation_freq: Only relevant if validation data is provided. Integer\n",
            " |              or `collections.abc.Container` instance (e.g. list, tuple, etc.).\n",
            " |              If an integer, specifies how many training epochs to run before a\n",
            " |              new validation run is performed, e.g. `validation_freq=2` runs\n",
            " |              validation every 2 epochs. If a Container, specifies the epochs on\n",
            " |              which to run validation, e.g. `validation_freq=[1, 2, 10]` runs\n",
            " |              validation at the end of the 1st, 2nd, and 10th epochs.\n",
            " |          max_queue_size: Integer. Used for generator or `keras.utils.Sequence`\n",
            " |              input only. Maximum size for the generator queue.\n",
            " |              If unspecified, `max_queue_size` will default to 10.\n",
            " |          workers: Integer. Used for generator or `keras.utils.Sequence` input\n",
            " |              only. Maximum number of processes to spin up\n",
            " |              when using process-based threading. If unspecified, `workers`\n",
            " |              will default to 1.\n",
            " |          use_multiprocessing: Boolean. Used for generator or\n",
            " |              `keras.utils.Sequence` input only. If `True`, use process-based\n",
            " |              threading. If unspecified, `use_multiprocessing` will default to\n",
            " |              `False`. Note that because this implementation relies on\n",
            " |              multiprocessing, you should not pass non-picklable arguments to\n",
            " |              the generator as they can't be passed easily to children processes.\n",
            " |      \n",
            " |      Unpacking behavior for iterator-like inputs:\n",
            " |          A common pattern is to pass a tf.data.Dataset, generator, or\n",
            " |        tf.keras.utils.Sequence to the `x` argument of fit, which will in fact\n",
            " |        yield not only features (x) but optionally targets (y) and sample weights.\n",
            " |        Keras requires that the output of such iterator-likes be unambiguous. The\n",
            " |        iterator should return a tuple of length 1, 2, or 3, where the optional\n",
            " |        second and third elements will be used for y and sample_weight\n",
            " |        respectively. Any other type provided will be wrapped in a length one\n",
            " |        tuple, effectively treating everything as 'x'. When yielding dicts, they\n",
            " |        should still adhere to the top-level tuple structure.\n",
            " |        e.g. `({\"x0\": x0, \"x1\": x1}, y)`. Keras will not attempt to separate\n",
            " |        features, targets, and weights from the keys of a single dict.\n",
            " |          A notable unsupported data type is the namedtuple. The reason is that\n",
            " |        it behaves like both an ordered datatype (tuple) and a mapping\n",
            " |        datatype (dict). So given a namedtuple of the form:\n",
            " |            `namedtuple(\"example_tuple\", [\"y\", \"x\"])`\n",
            " |        it is ambiguous whether to reverse the order of the elements when\n",
            " |        interpreting the value. Even worse is a tuple of the form:\n",
            " |            `namedtuple(\"other_tuple\", [\"x\", \"y\", \"z\"])`\n",
            " |        where it is unclear if the tuple was intended to be unpacked into x, y,\n",
            " |        and sample_weight or passed through as a single element to `x`. As a\n",
            " |        result the data processing code will simply raise a ValueError if it\n",
            " |        encounters a namedtuple. (Along with instructions to remedy the issue.)\n",
            " |      \n",
            " |      Returns:\n",
            " |          A `History` object. Its `History.history` attribute is\n",
            " |          a record of training loss values and metrics values\n",
            " |          at successive epochs, as well as validation loss values\n",
            " |          and validation metrics values (if applicable).\n",
            " |      \n",
            " |      Raises:\n",
            " |          RuntimeError: 1. If the model was never compiled or,\n",
            " |          2. If `model.fit` is  wrapped in `tf.function`.\n",
            " |      \n",
            " |          ValueError: In case of mismatch between the provided input data\n",
            " |              and what the model expects or when the input data is empty.\n",
            " |  \n",
            " |  fit_generator(self, generator, steps_per_epoch=None, epochs=1, verbose=1, callbacks=None, validation_data=None, validation_steps=None, validation_freq=1, class_weight=None, max_queue_size=10, workers=1, use_multiprocessing=False, shuffle=True, initial_epoch=0)\n",
            " |      Fits the model on data yielded batch-by-batch by a Python generator.\n",
            " |      \n",
            " |      DEPRECATED:\n",
            " |        `Model.fit` now supports generators, so there is no longer any need to use\n",
            " |        this endpoint.\n",
            " |  \n",
            " |  get_config(self)\n",
            " |      Returns the config of the `Model`.\n",
            " |      \n",
            " |      Config is a Python dictionary (serializable) containing the configuration of\n",
            " |      an object, which in this case is a `Model`. This allows the `Model` to be\n",
            " |      be reinstantiated later (without its trained weights) from this\n",
            " |      configuration.\n",
            " |      \n",
            " |      Note that `get_config()` does not guarantee to return a fresh copy of dict\n",
            " |      every time it is called. The callers should make a copy of the returned dict\n",
            " |      if they want to modify it.\n",
            " |      \n",
            " |      Developers of subclassed `Model` are advised to override this method, and\n",
            " |      continue to update the dict from `super(MyModel, self).get_config()`\n",
            " |      to provide the proper configuration of this `Model`. The default config\n",
            " |      is an empty dict. Optionally, raise `NotImplementedError` to allow Keras to\n",
            " |      attempt a default serialization.\n",
            " |      \n",
            " |      Returns:\n",
            " |          Python dictionary containing the configuration of this `Model`.\n",
            " |  \n",
            " |  get_layer(self, name=None, index=None)\n",
            " |      Retrieves a layer based on either its name (unique) or index.\n",
            " |      \n",
            " |      If `name` and `index` are both provided, `index` will take precedence.\n",
            " |      Indices are based on order of horizontal graph traversal (bottom-up).\n",
            " |      \n",
            " |      Args:\n",
            " |          name: String, name of layer.\n",
            " |          index: Integer, index of layer.\n",
            " |      \n",
            " |      Returns:\n",
            " |          A layer instance.\n",
            " |  \n",
            " |  get_weights(self)\n",
            " |      Retrieves the weights of the model.\n",
            " |      \n",
            " |      Returns:\n",
            " |          A flat list of Numpy arrays.\n",
            " |  \n",
            " |  load_weights(self, filepath, by_name=False, skip_mismatch=False, options=None)\n",
            " |      Loads all layer weights, either from a TensorFlow or an HDF5 weight file.\n",
            " |      \n",
            " |      If `by_name` is False weights are loaded based on the network's\n",
            " |      topology. This means the architecture should be the same as when the weights\n",
            " |      were saved.  Note that layers that don't have weights are not taken into\n",
            " |      account in the topological ordering, so adding or removing layers is fine as\n",
            " |      long as they don't have weights.\n",
            " |      \n",
            " |      If `by_name` is True, weights are loaded into layers only if they share the\n",
            " |      same name. This is useful for fine-tuning or transfer-learning models where\n",
            " |      some of the layers have changed.\n",
            " |      \n",
            " |      Only topological loading (`by_name=False`) is supported when loading weights\n",
            " |      from the TensorFlow format. Note that topological loading differs slightly\n",
            " |      between TensorFlow and HDF5 formats for user-defined classes inheriting from\n",
            " |      `tf.keras.Model`: HDF5 loads based on a flattened list of weights, while the\n",
            " |      TensorFlow format loads based on the object-local names of attributes to\n",
            " |      which layers are assigned in the `Model`'s constructor.\n",
            " |      \n",
            " |      Args:\n",
            " |          filepath: String, path to the weights file to load. For weight files in\n",
            " |              TensorFlow format, this is the file prefix (the same as was passed\n",
            " |              to `save_weights`). This can also be a path to a SavedModel\n",
            " |              saved from `model.save`.\n",
            " |          by_name: Boolean, whether to load weights by name or by topological\n",
            " |              order. Only topological loading is supported for weight files in\n",
            " |              TensorFlow format.\n",
            " |          skip_mismatch: Boolean, whether to skip loading of layers where there is\n",
            " |              a mismatch in the number of weights, or a mismatch in the shape of\n",
            " |              the weight (only valid when `by_name=True`).\n",
            " |          options: Optional `tf.train.CheckpointOptions` object that specifies\n",
            " |              options for loading weights.\n",
            " |      \n",
            " |      Returns:\n",
            " |          When loading a weight file in TensorFlow format, returns the same status\n",
            " |          object as `tf.train.Checkpoint.restore`. When graph building, restore\n",
            " |          ops are run automatically as soon as the network is built (on first call\n",
            " |          for user-defined classes inheriting from `Model`, immediately if it is\n",
            " |          already built).\n",
            " |      \n",
            " |          When loading weights in HDF5 format, returns `None`.\n",
            " |      \n",
            " |      Raises:\n",
            " |          ImportError: If `h5py` is not available and the weight file is in HDF5\n",
            " |              format.\n",
            " |          ValueError: If `skip_mismatch` is set to `True` when `by_name` is\n",
            " |            `False`.\n",
            " |  \n",
            " |  make_predict_function(self, force=False)\n",
            " |      Creates a function that executes one step of inference.\n",
            " |      \n",
            " |      This method can be overridden to support custom inference logic.\n",
            " |      This method is called by `Model.predict` and `Model.predict_on_batch`.\n",
            " |      \n",
            " |      Typically, this method directly controls `tf.function` and\n",
            " |      `tf.distribute.Strategy` settings, and delegates the actual evaluation\n",
            " |      logic to `Model.predict_step`.\n",
            " |      \n",
            " |      This function is cached the first time `Model.predict` or\n",
            " |      `Model.predict_on_batch` is called. The cache is cleared whenever\n",
            " |      `Model.compile` is called. You can skip the cache and generate again the\n",
            " |      function with `force=True`.\n",
            " |      \n",
            " |      Args:\n",
            " |        force: Whether to regenerate the predict function and skip the cached\n",
            " |          function if available.\n",
            " |      \n",
            " |      Returns:\n",
            " |        Function. The function created by this method should accept a\n",
            " |        `tf.data.Iterator`, and return the outputs of the `Model`.\n",
            " |  \n",
            " |  make_test_function(self, force=False)\n",
            " |      Creates a function that executes one step of evaluation.\n",
            " |      \n",
            " |      This method can be overridden to support custom evaluation logic.\n",
            " |      This method is called by `Model.evaluate` and `Model.test_on_batch`.\n",
            " |      \n",
            " |      Typically, this method directly controls `tf.function` and\n",
            " |      `tf.distribute.Strategy` settings, and delegates the actual evaluation\n",
            " |      logic to `Model.test_step`.\n",
            " |      \n",
            " |      This function is cached the first time `Model.evaluate` or\n",
            " |      `Model.test_on_batch` is called. The cache is cleared whenever\n",
            " |      `Model.compile` is called. You can skip the cache and generate again the\n",
            " |      function with `force=True`.\n",
            " |      \n",
            " |      Args:\n",
            " |        force: Whether to regenerate the test function and skip the cached\n",
            " |          function if available.\n",
            " |      \n",
            " |      Returns:\n",
            " |        Function. The function created by this method should accept a\n",
            " |        `tf.data.Iterator`, and return a `dict` containing values that will\n",
            " |        be passed to `tf.keras.Callbacks.on_test_batch_end`.\n",
            " |  \n",
            " |  make_train_function(self, force=False)\n",
            " |      Creates a function that executes one step of training.\n",
            " |      \n",
            " |      This method can be overridden to support custom training logic.\n",
            " |      This method is called by `Model.fit` and `Model.train_on_batch`.\n",
            " |      \n",
            " |      Typically, this method directly controls `tf.function` and\n",
            " |      `tf.distribute.Strategy` settings, and delegates the actual training\n",
            " |      logic to `Model.train_step`.\n",
            " |      \n",
            " |      This function is cached the first time `Model.fit` or\n",
            " |      `Model.train_on_batch` is called. The cache is cleared whenever\n",
            " |      `Model.compile` is called. You can skip the cache and generate again the\n",
            " |      function with `force=True`.\n",
            " |      \n",
            " |      Args:\n",
            " |        force: Whether to regenerate the train function and skip the cached\n",
            " |          function if available.\n",
            " |      \n",
            " |      Returns:\n",
            " |        Function. The function created by this method should accept a\n",
            " |        `tf.data.Iterator`, and return a `dict` containing values that will\n",
            " |        be passed to `tf.keras.Callbacks.on_train_batch_end`, such as\n",
            " |        `{'loss': 0.2, 'accuracy': 0.7}`.\n",
            " |  \n",
            " |  predict(self, x, batch_size=None, verbose='auto', steps=None, callbacks=None, max_queue_size=10, workers=1, use_multiprocessing=False)\n",
            " |      Generates output predictions for the input samples.\n",
            " |      \n",
            " |      Computation is done in batches. This method is designed for batch processing\n",
            " |      of large numbers of inputs. It is not intended for use inside of loops\n",
            " |      that iterate over your data and process small numbers of inputs at a time.\n",
            " |      \n",
            " |      For small numbers of inputs that fit in one batch,\n",
            " |      directly use `__call__()` for faster execution, e.g.,\n",
            " |      `model(x)`, or `model(x, training=False)` if you have layers such as\n",
            " |      `tf.keras.layers.BatchNormalization` that behave differently during\n",
            " |      inference. You may pair the individual model call with a `tf.function`\n",
            " |      for additional performance inside your inner loop.\n",
            " |      If you need access to numpy array values instead of tensors after your\n",
            " |      model call, you can use `tensor.numpy()` to get the numpy array value of\n",
            " |      an eager tensor.\n",
            " |      \n",
            " |      Also, note the fact that test loss is not affected by\n",
            " |      regularization layers like noise and dropout.\n",
            " |      \n",
            " |      Note: See [this FAQ entry](\n",
            " |      https://keras.io/getting_started/faq/#whats-the-difference-between-model-methods-predict-and-call)\n",
            " |      for more details about the difference between `Model` methods `predict()`\n",
            " |      and `__call__()`.\n",
            " |      \n",
            " |      Args:\n",
            " |          x: Input samples. It could be:\n",
            " |            - A Numpy array (or array-like), or a list of arrays\n",
            " |              (in case the model has multiple inputs).\n",
            " |            - A TensorFlow tensor, or a list of tensors\n",
            " |              (in case the model has multiple inputs).\n",
            " |            - A `tf.data` dataset.\n",
            " |            - A generator or `keras.utils.Sequence` instance.\n",
            " |            A more detailed description of unpacking behavior for iterator types\n",
            " |            (Dataset, generator, Sequence) is given in the `Unpacking behavior\n",
            " |            for iterator-like inputs` section of `Model.fit`.\n",
            " |          batch_size: Integer or `None`.\n",
            " |              Number of samples per batch.\n",
            " |              If unspecified, `batch_size` will default to 32.\n",
            " |              Do not specify the `batch_size` if your data is in the\n",
            " |              form of dataset, generators, or `keras.utils.Sequence` instances\n",
            " |              (since they generate batches).\n",
            " |          verbose: `\"auto\"`, 0, 1, or 2. Verbosity mode.\n",
            " |              0 = silent, 1 = progress bar, 2 = single line.\n",
            " |              `\"auto\"` defaults to 1 for most cases, and to 2 when used with\n",
            " |              `ParameterServerStrategy`. Note that the progress bar is not\n",
            " |              particularly useful when logged to a file, so `verbose=2` is\n",
            " |              recommended when not running interactively (e.g. in a production\n",
            " |              environment).\n",
            " |          steps: Total number of steps (batches of samples)\n",
            " |              before declaring the prediction round finished.\n",
            " |              Ignored with the default value of `None`. If x is a `tf.data`\n",
            " |              dataset and `steps` is None, `predict()` will\n",
            " |              run until the input dataset is exhausted.\n",
            " |          callbacks: List of `keras.callbacks.Callback` instances.\n",
            " |              List of callbacks to apply during prediction.\n",
            " |              See [callbacks](/api_docs/python/tf/keras/callbacks).\n",
            " |          max_queue_size: Integer. Used for generator or `keras.utils.Sequence`\n",
            " |              input only. Maximum size for the generator queue.\n",
            " |              If unspecified, `max_queue_size` will default to 10.\n",
            " |          workers: Integer. Used for generator or `keras.utils.Sequence` input\n",
            " |              only. Maximum number of processes to spin up when using\n",
            " |              process-based threading. If unspecified, `workers` will default\n",
            " |              to 1.\n",
            " |          use_multiprocessing: Boolean. Used for generator or\n",
            " |              `keras.utils.Sequence` input only. If `True`, use process-based\n",
            " |              threading. If unspecified, `use_multiprocessing` will default to\n",
            " |              `False`. Note that because this implementation relies on\n",
            " |              multiprocessing, you should not pass non-picklable arguments to\n",
            " |              the generator as they can't be passed easily to children processes.\n",
            " |      \n",
            " |      See the discussion of `Unpacking behavior for iterator-like inputs` for\n",
            " |      `Model.fit`. Note that Model.predict uses the same interpretation rules as\n",
            " |      `Model.fit` and `Model.evaluate`, so inputs must be unambiguous for all\n",
            " |      three methods.\n",
            " |      \n",
            " |      Returns:\n",
            " |          Numpy array(s) of predictions.\n",
            " |      \n",
            " |      Raises:\n",
            " |          RuntimeError: If `model.predict` is wrapped in a `tf.function`.\n",
            " |          ValueError: In case of mismatch between the provided\n",
            " |              input data and the model's expectations,\n",
            " |              or in case a stateful model receives a number of samples\n",
            " |              that is not a multiple of the batch size.\n",
            " |  \n",
            " |  predict_generator(self, generator, steps=None, callbacks=None, max_queue_size=10, workers=1, use_multiprocessing=False, verbose=0)\n",
            " |      Generates predictions for the input samples from a data generator.\n",
            " |      \n",
            " |      DEPRECATED:\n",
            " |        `Model.predict` now supports generators, so there is no longer any need\n",
            " |        to use this endpoint.\n",
            " |  \n",
            " |  predict_on_batch(self, x)\n",
            " |      Returns predictions for a single batch of samples.\n",
            " |      \n",
            " |      Args:\n",
            " |          x: Input data. It could be:\n",
            " |            - A Numpy array (or array-like), or a list of arrays (in case the\n",
            " |                model has multiple inputs).\n",
            " |            - A TensorFlow tensor, or a list of tensors (in case the model has\n",
            " |                multiple inputs).\n",
            " |      \n",
            " |      Returns:\n",
            " |          Numpy array(s) of predictions.\n",
            " |      \n",
            " |      Raises:\n",
            " |          RuntimeError: If `model.predict_on_batch` is wrapped in a `tf.function`.\n",
            " |  \n",
            " |  predict_step(self, data)\n",
            " |      The logic for one inference step.\n",
            " |      \n",
            " |      This method can be overridden to support custom inference logic.\n",
            " |      This method is called by `Model.make_predict_function`.\n",
            " |      \n",
            " |      This method should contain the mathematical logic for one step of inference.\n",
            " |      This typically includes the forward pass.\n",
            " |      \n",
            " |      Configuration details for *how* this logic is run (e.g. `tf.function` and\n",
            " |      `tf.distribute.Strategy` settings), should be left to\n",
            " |      `Model.make_predict_function`, which can also be overridden.\n",
            " |      \n",
            " |      Args:\n",
            " |        data: A nested structure of `Tensor`s.\n",
            " |      \n",
            " |      Returns:\n",
            " |        The result of one inference step, typically the output of calling the\n",
            " |        `Model` on data.\n",
            " |  \n",
            " |  reset_metrics(self)\n",
            " |      Resets the state of all the metrics in the model.\n",
            " |      \n",
            " |      Examples:\n",
            " |      \n",
            " |      >>> inputs = tf.keras.layers.Input(shape=(3,))\n",
            " |      >>> outputs = tf.keras.layers.Dense(2)(inputs)\n",
            " |      >>> model = tf.keras.models.Model(inputs=inputs, outputs=outputs)\n",
            " |      >>> model.compile(optimizer=\"Adam\", loss=\"mse\", metrics=[\"mae\"])\n",
            " |      \n",
            " |      >>> x = np.random.random((2, 3))\n",
            " |      >>> y = np.random.randint(0, 2, (2, 2))\n",
            " |      >>> _ = model.fit(x, y, verbose=0)\n",
            " |      >>> assert all(float(m.result()) for m in model.metrics)\n",
            " |      \n",
            " |      >>> model.reset_metrics()\n",
            " |      >>> assert all(float(m.result()) == 0 for m in model.metrics)\n",
            " |  \n",
            " |  reset_states(self)\n",
            " |  \n",
            " |  save(self, filepath, overwrite=True, include_optimizer=True, save_format=None, signatures=None, options=None, save_traces=True)\n",
            " |      Saves the model to Tensorflow SavedModel or a single HDF5 file.\n",
            " |      \n",
            " |      Please see `tf.keras.models.save_model` or the\n",
            " |      [Serialization and Saving guide](https://keras.io/guides/serialization_and_saving/)\n",
            " |      for details.\n",
            " |      \n",
            " |      Args:\n",
            " |          filepath: String, PathLike, path to SavedModel or H5 file to save the\n",
            " |              model.\n",
            " |          overwrite: Whether to silently overwrite any existing file at the\n",
            " |              target location, or provide the user with a manual prompt.\n",
            " |          include_optimizer: If True, save optimizer's state together.\n",
            " |          save_format: Either `'tf'` or `'h5'`, indicating whether to save the\n",
            " |              model to Tensorflow SavedModel or HDF5. Defaults to 'tf' in TF 2.X,\n",
            " |              and 'h5' in TF 1.X.\n",
            " |          signatures: Signatures to save with the SavedModel. Applicable to the\n",
            " |              'tf' format only. Please see the `signatures` argument in\n",
            " |              `tf.saved_model.save` for details.\n",
            " |          options: (only applies to SavedModel format)\n",
            " |              `tf.saved_model.SaveOptions` object that specifies options for\n",
            " |              saving to SavedModel.\n",
            " |          save_traces: (only applies to SavedModel format) When enabled, the\n",
            " |              SavedModel will store the function traces for each layer. This\n",
            " |              can be disabled, so that only the configs of each layer are stored.\n",
            " |              Defaults to `True`. Disabling this will decrease serialization time\n",
            " |              and reduce file size, but it requires that all custom layers/models\n",
            " |              implement a `get_config()` method.\n",
            " |      \n",
            " |      Example:\n",
            " |      \n",
            " |      ```python\n",
            " |      from keras.models import load_model\n",
            " |      \n",
            " |      model.save('my_model.h5')  # creates a HDF5 file 'my_model.h5'\n",
            " |      del model  # deletes the existing model\n",
            " |      \n",
            " |      # returns a compiled model\n",
            " |      # identical to the previous one\n",
            " |      model = load_model('my_model.h5')\n",
            " |      ```\n",
            " |  \n",
            " |  save_spec(self, dynamic_batch=True)\n",
            " |      Returns the `tf.TensorSpec` of call inputs as a tuple `(args, kwargs)`.\n",
            " |      \n",
            " |      This value is automatically defined after calling the model for the first\n",
            " |      time. Afterwards, you can use it when exporting the model for serving:\n",
            " |      \n",
            " |      ```python\n",
            " |      model = tf.keras.Model(...)\n",
            " |      \n",
            " |      @tf.function\n",
            " |      def serve(*args, **kwargs):\n",
            " |        outputs = model(*args, **kwargs)\n",
            " |        # Apply postprocessing steps, or add additional outputs.\n",
            " |        ...\n",
            " |        return outputs\n",
            " |      \n",
            " |      # arg_specs is `[tf.TensorSpec(...), ...]`. kwarg_specs, in this example, is\n",
            " |      # an empty dict since functional models do not use keyword arguments.\n",
            " |      arg_specs, kwarg_specs = model.save_spec()\n",
            " |      \n",
            " |      model.save(path, signatures={\n",
            " |        'serving_default': serve.get_concrete_function(*arg_specs, **kwarg_specs)\n",
            " |      })\n",
            " |      ```\n",
            " |      \n",
            " |      Args:\n",
            " |        dynamic_batch: Whether to set the batch sizes of all the returned\n",
            " |          `tf.TensorSpec` to `None`. (Note that when defining functional or\n",
            " |          Sequential models with `tf.keras.Input([...], batch_size=X)`, the\n",
            " |          batch size will always be preserved). Defaults to `True`.\n",
            " |      Returns:\n",
            " |        If the model inputs are defined, returns a tuple `(args, kwargs)`. All\n",
            " |        elements in `args` and `kwargs` are `tf.TensorSpec`.\n",
            " |        If the model inputs are not defined, returns `None`.\n",
            " |        The model inputs are automatically set when calling the model,\n",
            " |        `model.fit`, `model.evaluate` or `model.predict`.\n",
            " |  \n",
            " |  save_weights(self, filepath, overwrite=True, save_format=None, options=None)\n",
            " |      Saves all layer weights.\n",
            " |      \n",
            " |      Either saves in HDF5 or in TensorFlow format based on the `save_format`\n",
            " |      argument.\n",
            " |      \n",
            " |      When saving in HDF5 format, the weight file has:\n",
            " |        - `layer_names` (attribute), a list of strings\n",
            " |            (ordered names of model layers).\n",
            " |        - For every layer, a `group` named `layer.name`\n",
            " |            - For every such layer group, a group attribute `weight_names`,\n",
            " |                a list of strings\n",
            " |                (ordered names of weights tensor of the layer).\n",
            " |            - For every weight in the layer, a dataset\n",
            " |                storing the weight value, named after the weight tensor.\n",
            " |      \n",
            " |      When saving in TensorFlow format, all objects referenced by the network are\n",
            " |      saved in the same format as `tf.train.Checkpoint`, including any `Layer`\n",
            " |      instances or `Optimizer` instances assigned to object attributes. For\n",
            " |      networks constructed from inputs and outputs using `tf.keras.Model(inputs,\n",
            " |      outputs)`, `Layer` instances used by the network are tracked/saved\n",
            " |      automatically. For user-defined classes which inherit from `tf.keras.Model`,\n",
            " |      `Layer` instances must be assigned to object attributes, typically in the\n",
            " |      constructor. See the documentation of `tf.train.Checkpoint` and\n",
            " |      `tf.keras.Model` for details.\n",
            " |      \n",
            " |      While the formats are the same, do not mix `save_weights` and\n",
            " |      `tf.train.Checkpoint`. Checkpoints saved by `Model.save_weights` should be\n",
            " |      loaded using `Model.load_weights`. Checkpoints saved using\n",
            " |      `tf.train.Checkpoint.save` should be restored using the corresponding\n",
            " |      `tf.train.Checkpoint.restore`. Prefer `tf.train.Checkpoint` over\n",
            " |      `save_weights` for training checkpoints.\n",
            " |      \n",
            " |      The TensorFlow format matches objects and variables by starting at a root\n",
            " |      object, `self` for `save_weights`, and greedily matching attribute\n",
            " |      names. For `Model.save` this is the `Model`, and for `Checkpoint.save` this\n",
            " |      is the `Checkpoint` even if the `Checkpoint` has a model attached. This\n",
            " |      means saving a `tf.keras.Model` using `save_weights` and loading into a\n",
            " |      `tf.train.Checkpoint` with a `Model` attached (or vice versa) will not match\n",
            " |      the `Model`'s variables. See the\n",
            " |      [guide to training checkpoints](https://www.tensorflow.org/guide/checkpoint)\n",
            " |      for details on the TensorFlow format.\n",
            " |      \n",
            " |      Args:\n",
            " |          filepath: String or PathLike, path to the file to save the weights to.\n",
            " |              When saving in TensorFlow format, this is the prefix used for\n",
            " |              checkpoint files (multiple files are generated). Note that the '.h5'\n",
            " |              suffix causes weights to be saved in HDF5 format.\n",
            " |          overwrite: Whether to silently overwrite any existing file at the\n",
            " |              target location, or provide the user with a manual prompt.\n",
            " |          save_format: Either 'tf' or 'h5'. A `filepath` ending in '.h5' or\n",
            " |              '.keras' will default to HDF5 if `save_format` is `None`. Otherwise\n",
            " |              `None` defaults to 'tf'.\n",
            " |          options: Optional `tf.train.CheckpointOptions` object that specifies\n",
            " |              options for saving weights.\n",
            " |      \n",
            " |      Raises:\n",
            " |          ImportError: If `h5py` is not available when attempting to save in HDF5\n",
            " |              format.\n",
            " |  \n",
            " |  summary(self, line_length=None, positions=None, print_fn=None, expand_nested=False, show_trainable=False)\n",
            " |      Prints a string summary of the network.\n",
            " |      \n",
            " |      Args:\n",
            " |          line_length: Total length of printed lines\n",
            " |              (e.g. set this to adapt the display to different\n",
            " |              terminal window sizes).\n",
            " |          positions: Relative or absolute positions of log elements\n",
            " |              in each line. If not provided,\n",
            " |              defaults to `[.33, .55, .67, 1.]`.\n",
            " |          print_fn: Print function to use. Defaults to `print`.\n",
            " |              It will be called on each line of the summary.\n",
            " |              You can set it to a custom function\n",
            " |              in order to capture the string summary.\n",
            " |          expand_nested: Whether to expand the nested models.\n",
            " |              If not provided, defaults to `False`.\n",
            " |          show_trainable: Whether to show if a layer is trainable.\n",
            " |              If not provided, defaults to `False`.\n",
            " |      \n",
            " |      Raises:\n",
            " |          ValueError: if `summary()` is called before the model is built.\n",
            " |  \n",
            " |  test_on_batch(self, x, y=None, sample_weight=None, reset_metrics=True, return_dict=False)\n",
            " |      Test the model on a single batch of samples.\n",
            " |      \n",
            " |      Args:\n",
            " |          x: Input data. It could be:\n",
            " |            - A Numpy array (or array-like), or a list of arrays (in case the\n",
            " |                model has multiple inputs).\n",
            " |            - A TensorFlow tensor, or a list of tensors (in case the model has\n",
            " |                multiple inputs).\n",
            " |            - A dict mapping input names to the corresponding array/tensors, if\n",
            " |                the model has named inputs.\n",
            " |          y: Target data. Like the input data `x`, it could be either Numpy\n",
            " |            array(s) or TensorFlow tensor(s). It should be consistent with `x`\n",
            " |            (you cannot have Numpy inputs and tensor targets, or inversely).\n",
            " |          sample_weight: Optional array of the same length as x, containing\n",
            " |            weights to apply to the model's loss for each sample. In the case of\n",
            " |            temporal data, you can pass a 2D array with shape (samples,\n",
            " |            sequence_length), to apply a different weight to every timestep of\n",
            " |            every sample.\n",
            " |          reset_metrics: If `True`, the metrics returned will be only for this\n",
            " |            batch. If `False`, the metrics will be statefully accumulated across\n",
            " |            batches.\n",
            " |          return_dict: If `True`, loss and metric results are returned as a dict,\n",
            " |            with each key being the name of the metric. If `False`, they are\n",
            " |            returned as a list.\n",
            " |      \n",
            " |      Returns:\n",
            " |          Scalar test loss (if the model has a single output and no metrics)\n",
            " |          or list of scalars (if the model has multiple outputs\n",
            " |          and/or metrics). The attribute `model.metrics_names` will give you\n",
            " |          the display labels for the scalar outputs.\n",
            " |      \n",
            " |      Raises:\n",
            " |          RuntimeError: If `model.test_on_batch` is wrapped in a `tf.function`.\n",
            " |  \n",
            " |  test_step(self, data)\n",
            " |      The logic for one evaluation step.\n",
            " |      \n",
            " |      This method can be overridden to support custom evaluation logic.\n",
            " |      This method is called by `Model.make_test_function`.\n",
            " |      \n",
            " |      This function should contain the mathematical logic for one step of\n",
            " |      evaluation.\n",
            " |      This typically includes the forward pass, loss calculation, and metrics\n",
            " |      updates.\n",
            " |      \n",
            " |      Configuration details for *how* this logic is run (e.g. `tf.function` and\n",
            " |      `tf.distribute.Strategy` settings), should be left to\n",
            " |      `Model.make_test_function`, which can also be overridden.\n",
            " |      \n",
            " |      Args:\n",
            " |        data: A nested structure of `Tensor`s.\n",
            " |      \n",
            " |      Returns:\n",
            " |        A `dict` containing values that will be passed to\n",
            " |        `tf.keras.callbacks.CallbackList.on_train_batch_end`. Typically, the\n",
            " |        values of the `Model`'s metrics are returned.\n",
            " |  \n",
            " |  to_json(self, **kwargs)\n",
            " |      Returns a JSON string containing the network configuration.\n",
            " |      \n",
            " |      To load a network from a JSON save file, use\n",
            " |      `keras.models.model_from_json(json_string, custom_objects={})`.\n",
            " |      \n",
            " |      Args:\n",
            " |          **kwargs: Additional keyword arguments\n",
            " |              to be passed to `json.dumps()`.\n",
            " |      \n",
            " |      Returns:\n",
            " |          A JSON string.\n",
            " |  \n",
            " |  to_yaml(self, **kwargs)\n",
            " |      Returns a yaml string containing the network configuration.\n",
            " |      \n",
            " |      Note: Since TF 2.6, this method is no longer supported and will raise a\n",
            " |      RuntimeError.\n",
            " |      \n",
            " |      To load a network from a yaml save file, use\n",
            " |      `keras.models.model_from_yaml(yaml_string, custom_objects={})`.\n",
            " |      \n",
            " |      `custom_objects` should be a dictionary mapping\n",
            " |      the names of custom losses / layers / etc to the corresponding\n",
            " |      functions / classes.\n",
            " |      \n",
            " |      Args:\n",
            " |          **kwargs: Additional keyword arguments\n",
            " |              to be passed to `yaml.dump()`.\n",
            " |      \n",
            " |      Returns:\n",
            " |          A YAML string.\n",
            " |      \n",
            " |      Raises:\n",
            " |          RuntimeError: announces that the method poses a security risk\n",
            " |  \n",
            " |  train_on_batch(self, x, y=None, sample_weight=None, class_weight=None, reset_metrics=True, return_dict=False)\n",
            " |      Runs a single gradient update on a single batch of data.\n",
            " |      \n",
            " |      Args:\n",
            " |          x: Input data. It could be:\n",
            " |            - A Numpy array (or array-like), or a list of arrays\n",
            " |                (in case the model has multiple inputs).\n",
            " |            - A TensorFlow tensor, or a list of tensors\n",
            " |                (in case the model has multiple inputs).\n",
            " |            - A dict mapping input names to the corresponding array/tensors,\n",
            " |                if the model has named inputs.\n",
            " |          y: Target data. Like the input data `x`, it could be either Numpy\n",
            " |            array(s) or TensorFlow tensor(s).\n",
            " |          sample_weight: Optional array of the same length as x, containing\n",
            " |            weights to apply to the model's loss for each sample. In the case of\n",
            " |            temporal data, you can pass a 2D array with shape (samples,\n",
            " |            sequence_length), to apply a different weight to every timestep of\n",
            " |            every sample.\n",
            " |          class_weight: Optional dictionary mapping class indices (integers) to a\n",
            " |            weight (float) to apply to the model's loss for the samples from this\n",
            " |            class during training. This can be useful to tell the model to \"pay\n",
            " |            more attention\" to samples from an under-represented class.\n",
            " |          reset_metrics: If `True`, the metrics returned will be only for this\n",
            " |            batch. If `False`, the metrics will be statefully accumulated across\n",
            " |            batches.\n",
            " |          return_dict: If `True`, loss and metric results are returned as a dict,\n",
            " |            with each key being the name of the metric. If `False`, they are\n",
            " |            returned as a list.\n",
            " |      \n",
            " |      Returns:\n",
            " |          Scalar training loss\n",
            " |          (if the model has a single output and no metrics)\n",
            " |          or list of scalars (if the model has multiple outputs\n",
            " |          and/or metrics). The attribute `model.metrics_names` will give you\n",
            " |          the display labels for the scalar outputs.\n",
            " |      \n",
            " |      Raises:\n",
            " |        RuntimeError: If `model.train_on_batch` is wrapped in a `tf.function`.\n",
            " |  \n",
            " |  train_step(self, data)\n",
            " |      The logic for one training step.\n",
            " |      \n",
            " |      This method can be overridden to support custom training logic.\n",
            " |      For concrete examples of how to override this method see\n",
            " |      [Customizing what happends in fit](https://www.tensorflow.org/guide/keras/customizing_what_happens_in_fit).\n",
            " |      This method is called by `Model.make_train_function`.\n",
            " |      \n",
            " |      This method should contain the mathematical logic for one step of training.\n",
            " |      This typically includes the forward pass, loss calculation, backpropagation,\n",
            " |      and metric updates.\n",
            " |      \n",
            " |      Configuration details for *how* this logic is run (e.g. `tf.function` and\n",
            " |      `tf.distribute.Strategy` settings), should be left to\n",
            " |      `Model.make_train_function`, which can also be overridden.\n",
            " |      \n",
            " |      Args:\n",
            " |        data: A nested structure of `Tensor`s.\n",
            " |      \n",
            " |      Returns:\n",
            " |        A `dict` containing values that will be passed to\n",
            " |        `tf.keras.callbacks.CallbackList.on_train_batch_end`. Typically, the\n",
            " |        values of the `Model`'s metrics are returned. Example:\n",
            " |        `{'loss': 0.2, 'accuracy': 0.7}`.\n",
            " |  \n",
            " |  ----------------------------------------------------------------------\n",
            " |  Class methods defined here:\n",
            " |  \n",
            " |  from_config(config, custom_objects=None) from builtins.type\n",
            " |      Creates a layer from its config.\n",
            " |      \n",
            " |      This method is the reverse of `get_config`,\n",
            " |      capable of instantiating the same layer from the config\n",
            " |      dictionary. It does not handle layer connectivity\n",
            " |      (handled by Network), nor weights (handled by `set_weights`).\n",
            " |      \n",
            " |      Args:\n",
            " |          config: A Python dictionary, typically the\n",
            " |              output of get_config.\n",
            " |      \n",
            " |      Returns:\n",
            " |          A layer instance.\n",
            " |  \n",
            " |  ----------------------------------------------------------------------\n",
            " |  Static methods defined here:\n",
            " |  \n",
            " |  __new__(cls, *args, **kwargs)\n",
            " |      Create and return a new object.  See help(type) for accurate signature.\n",
            " |  \n",
            " |  ----------------------------------------------------------------------\n",
            " |  Readonly properties defined here:\n",
            " |  \n",
            " |  distribute_strategy\n",
            " |      The `tf.distribute.Strategy` this model was created under.\n",
            " |  \n",
            " |  metrics\n",
            " |      Returns the model's metrics added using `compile()`, `add_metric()` APIs.\n",
            " |      \n",
            " |      Note: Metrics passed to `compile()` are available only after a `keras.Model`\n",
            " |      has been trained/evaluated on actual data.\n",
            " |      \n",
            " |      Examples:\n",
            " |      \n",
            " |      >>> inputs = tf.keras.layers.Input(shape=(3,))\n",
            " |      >>> outputs = tf.keras.layers.Dense(2)(inputs)\n",
            " |      >>> model = tf.keras.models.Model(inputs=inputs, outputs=outputs)\n",
            " |      >>> model.compile(optimizer=\"Adam\", loss=\"mse\", metrics=[\"mae\"])\n",
            " |      >>> [m.name for m in model.metrics]\n",
            " |      []\n",
            " |      \n",
            " |      >>> x = np.random.random((2, 3))\n",
            " |      >>> y = np.random.randint(0, 2, (2, 2))\n",
            " |      >>> model.fit(x, y)\n",
            " |      >>> [m.name for m in model.metrics]\n",
            " |      ['loss', 'mae']\n",
            " |      \n",
            " |      >>> inputs = tf.keras.layers.Input(shape=(3,))\n",
            " |      >>> d = tf.keras.layers.Dense(2, name='out')\n",
            " |      >>> output_1 = d(inputs)\n",
            " |      >>> output_2 = d(inputs)\n",
            " |      >>> model = tf.keras.models.Model(\n",
            " |      ...    inputs=inputs, outputs=[output_1, output_2])\n",
            " |      >>> model.add_metric(\n",
            " |      ...    tf.reduce_sum(output_2), name='mean', aggregation='mean')\n",
            " |      >>> model.compile(optimizer=\"Adam\", loss=\"mse\", metrics=[\"mae\", \"acc\"])\n",
            " |      >>> model.fit(x, (y, y))\n",
            " |      >>> [m.name for m in model.metrics]\n",
            " |      ['loss', 'out_loss', 'out_1_loss', 'out_mae', 'out_acc', 'out_1_mae',\n",
            " |      'out_1_acc', 'mean']\n",
            " |  \n",
            " |  metrics_names\n",
            " |      Returns the model's display labels for all outputs.\n",
            " |      \n",
            " |      Note: `metrics_names` are available only after a `keras.Model` has been\n",
            " |      trained/evaluated on actual data.\n",
            " |      \n",
            " |      Examples:\n",
            " |      \n",
            " |      >>> inputs = tf.keras.layers.Input(shape=(3,))\n",
            " |      >>> outputs = tf.keras.layers.Dense(2)(inputs)\n",
            " |      >>> model = tf.keras.models.Model(inputs=inputs, outputs=outputs)\n",
            " |      >>> model.compile(optimizer=\"Adam\", loss=\"mse\", metrics=[\"mae\"])\n",
            " |      >>> model.metrics_names\n",
            " |      []\n",
            " |      \n",
            " |      >>> x = np.random.random((2, 3))\n",
            " |      >>> y = np.random.randint(0, 2, (2, 2))\n",
            " |      >>> model.fit(x, y)\n",
            " |      >>> model.metrics_names\n",
            " |      ['loss', 'mae']\n",
            " |      \n",
            " |      >>> inputs = tf.keras.layers.Input(shape=(3,))\n",
            " |      >>> d = tf.keras.layers.Dense(2, name='out')\n",
            " |      >>> output_1 = d(inputs)\n",
            " |      >>> output_2 = d(inputs)\n",
            " |      >>> model = tf.keras.models.Model(\n",
            " |      ...    inputs=inputs, outputs=[output_1, output_2])\n",
            " |      >>> model.compile(optimizer=\"Adam\", loss=\"mse\", metrics=[\"mae\", \"acc\"])\n",
            " |      >>> model.fit(x, (y, y))\n",
            " |      >>> model.metrics_names\n",
            " |      ['loss', 'out_loss', 'out_1_loss', 'out_mae', 'out_acc', 'out_1_mae',\n",
            " |      'out_1_acc']\n",
            " |  \n",
            " |  non_trainable_weights\n",
            " |      List of all non-trainable weights tracked by this layer.\n",
            " |      \n",
            " |      Non-trainable weights are *not* updated during training. They are expected\n",
            " |      to be updated manually in `call()`.\n",
            " |      \n",
            " |      Returns:\n",
            " |        A list of non-trainable variables.\n",
            " |  \n",
            " |  state_updates\n",
            " |      Deprecated, do NOT use!\n",
            " |      \n",
            " |      Returns the `updates` from all layers that are stateful.\n",
            " |      \n",
            " |      This is useful for separating training updates and\n",
            " |      state updates, e.g. when we need to update a layer's internal state\n",
            " |      during prediction.\n",
            " |      \n",
            " |      Returns:\n",
            " |          A list of update ops.\n",
            " |  \n",
            " |  trainable_weights\n",
            " |      List of all trainable weights tracked by this layer.\n",
            " |      \n",
            " |      Trainable weights are updated via gradient descent during training.\n",
            " |      \n",
            " |      Returns:\n",
            " |        A list of trainable variables.\n",
            " |  \n",
            " |  weights\n",
            " |      Returns the list of all layer variables/weights.\n",
            " |      \n",
            " |      Note: This will not track the weights of nested `tf.Modules` that are not\n",
            " |      themselves Keras layers.\n",
            " |      \n",
            " |      Returns:\n",
            " |        A list of variables.\n",
            " |  \n",
            " |  ----------------------------------------------------------------------\n",
            " |  Data descriptors defined here:\n",
            " |  \n",
            " |  layers\n",
            " |  \n",
            " |  run_eagerly\n",
            " |      Settable attribute indicating whether the model should run eagerly.\n",
            " |      \n",
            " |      Running eagerly means that your model will be run step by step,\n",
            " |      like Python code. Your model might run slower, but it should become easier\n",
            " |      for you to debug it by stepping into individual layer calls.\n",
            " |      \n",
            " |      By default, we will attempt to compile your model to a static graph to\n",
            " |      deliver the best execution performance.\n",
            " |      \n",
            " |      Returns:\n",
            " |        Boolean, whether the model should run eagerly.\n",
            " |  \n",
            " |  ----------------------------------------------------------------------\n",
            " |  Methods inherited from keras.engine.base_layer.Layer:\n",
            " |  \n",
            " |  __delattr__(self, name)\n",
            " |      Implement delattr(self, name).\n",
            " |  \n",
            " |  __getstate__(self)\n",
            " |  \n",
            " |  __setstate__(self, state)\n",
            " |  \n",
            " |  add_loss(self, losses, **kwargs)\n",
            " |      Add loss tensor(s), potentially dependent on layer inputs.\n",
            " |      \n",
            " |      Some losses (for instance, activity regularization losses) may be dependent\n",
            " |      on the inputs passed when calling a layer. Hence, when reusing the same\n",
            " |      layer on different inputs `a` and `b`, some entries in `layer.losses` may\n",
            " |      be dependent on `a` and some on `b`. This method automatically keeps track\n",
            " |      of dependencies.\n",
            " |      \n",
            " |      This method can be used inside a subclassed layer or model's `call`\n",
            " |      function, in which case `losses` should be a Tensor or list of Tensors.\n",
            " |      \n",
            " |      Example:\n",
            " |      \n",
            " |      ```python\n",
            " |      class MyLayer(tf.keras.layers.Layer):\n",
            " |        def call(self, inputs):\n",
            " |          self.add_loss(tf.abs(tf.reduce_mean(inputs)))\n",
            " |          return inputs\n",
            " |      ```\n",
            " |      \n",
            " |      This method can also be called directly on a Functional Model during\n",
            " |      construction. In this case, any loss Tensors passed to this Model must\n",
            " |      be symbolic and be able to be traced back to the model's `Input`s. These\n",
            " |      losses become part of the model's topology and are tracked in `get_config`.\n",
            " |      \n",
            " |      Example:\n",
            " |      \n",
            " |      ```python\n",
            " |      inputs = tf.keras.Input(shape=(10,))\n",
            " |      x = tf.keras.layers.Dense(10)(inputs)\n",
            " |      outputs = tf.keras.layers.Dense(1)(x)\n",
            " |      model = tf.keras.Model(inputs, outputs)\n",
            " |      # Activity regularization.\n",
            " |      model.add_loss(tf.abs(tf.reduce_mean(x)))\n",
            " |      ```\n",
            " |      \n",
            " |      If this is not the case for your loss (if, for example, your loss references\n",
            " |      a `Variable` of one of the model's layers), you can wrap your loss in a\n",
            " |      zero-argument lambda. These losses are not tracked as part of the model's\n",
            " |      topology since they can't be serialized.\n",
            " |      \n",
            " |      Example:\n",
            " |      \n",
            " |      ```python\n",
            " |      inputs = tf.keras.Input(shape=(10,))\n",
            " |      d = tf.keras.layers.Dense(10)\n",
            " |      x = d(inputs)\n",
            " |      outputs = tf.keras.layers.Dense(1)(x)\n",
            " |      model = tf.keras.Model(inputs, outputs)\n",
            " |      # Weight regularization.\n",
            " |      model.add_loss(lambda: tf.reduce_mean(d.kernel))\n",
            " |      ```\n",
            " |      \n",
            " |      Args:\n",
            " |        losses: Loss tensor, or list/tuple of tensors. Rather than tensors, losses\n",
            " |          may also be zero-argument callables which create a loss tensor.\n",
            " |        **kwargs: Used for backwards compatibility only.\n",
            " |  \n",
            " |  add_metric(self, value, name=None, **kwargs)\n",
            " |      Adds metric tensor to the layer.\n",
            " |      \n",
            " |      This method can be used inside the `call()` method of a subclassed layer\n",
            " |      or model.\n",
            " |      \n",
            " |      ```python\n",
            " |      class MyMetricLayer(tf.keras.layers.Layer):\n",
            " |        def __init__(self):\n",
            " |          super(MyMetricLayer, self).__init__(name='my_metric_layer')\n",
            " |          self.mean = tf.keras.metrics.Mean(name='metric_1')\n",
            " |      \n",
            " |        def call(self, inputs):\n",
            " |          self.add_metric(self.mean(inputs))\n",
            " |          self.add_metric(tf.reduce_sum(inputs), name='metric_2')\n",
            " |          return inputs\n",
            " |      ```\n",
            " |      \n",
            " |      This method can also be called directly on a Functional Model during\n",
            " |      construction. In this case, any tensor passed to this Model must\n",
            " |      be symbolic and be able to be traced back to the model's `Input`s. These\n",
            " |      metrics become part of the model's topology and are tracked when you\n",
            " |      save the model via `save()`.\n",
            " |      \n",
            " |      ```python\n",
            " |      inputs = tf.keras.Input(shape=(10,))\n",
            " |      x = tf.keras.layers.Dense(10)(inputs)\n",
            " |      outputs = tf.keras.layers.Dense(1)(x)\n",
            " |      model = tf.keras.Model(inputs, outputs)\n",
            " |      model.add_metric(math_ops.reduce_sum(x), name='metric_1')\n",
            " |      ```\n",
            " |      \n",
            " |      Note: Calling `add_metric()` with the result of a metric object on a\n",
            " |      Functional Model, as shown in the example below, is not supported. This is\n",
            " |      because we cannot trace the metric result tensor back to the model's inputs.\n",
            " |      \n",
            " |      ```python\n",
            " |      inputs = tf.keras.Input(shape=(10,))\n",
            " |      x = tf.keras.layers.Dense(10)(inputs)\n",
            " |      outputs = tf.keras.layers.Dense(1)(x)\n",
            " |      model = tf.keras.Model(inputs, outputs)\n",
            " |      model.add_metric(tf.keras.metrics.Mean()(x), name='metric_1')\n",
            " |      ```\n",
            " |      \n",
            " |      Args:\n",
            " |        value: Metric tensor.\n",
            " |        name: String metric name.\n",
            " |        **kwargs: Additional keyword arguments for backward compatibility.\n",
            " |          Accepted values:\n",
            " |          `aggregation` - When the `value` tensor provided is not the result of\n",
            " |          calling a `keras.Metric` instance, it will be aggregated by default\n",
            " |          using a `keras.Metric.Mean`.\n",
            " |  \n",
            " |  add_update(self, updates)\n",
            " |      Add update op(s), potentially dependent on layer inputs.\n",
            " |      \n",
            " |      Weight updates (for instance, the updates of the moving mean and variance\n",
            " |      in a BatchNormalization layer) may be dependent on the inputs passed\n",
            " |      when calling a layer. Hence, when reusing the same layer on\n",
            " |      different inputs `a` and `b`, some entries in `layer.updates` may be\n",
            " |      dependent on `a` and some on `b`. This method automatically keeps track\n",
            " |      of dependencies.\n",
            " |      \n",
            " |      This call is ignored when eager execution is enabled (in that case, variable\n",
            " |      updates are run on the fly and thus do not need to be tracked for later\n",
            " |      execution).\n",
            " |      \n",
            " |      Args:\n",
            " |        updates: Update op, or list/tuple of update ops, or zero-arg callable\n",
            " |          that returns an update op. A zero-arg callable should be passed in\n",
            " |          order to disable running the updates by setting `trainable=False`\n",
            " |          on this Layer, when executing in Eager mode.\n",
            " |  \n",
            " |  add_variable(self, *args, **kwargs)\n",
            " |      Deprecated, do NOT use! Alias for `add_weight`.\n",
            " |  \n",
            " |  add_weight(self, name=None, shape=None, dtype=None, initializer=None, regularizer=None, trainable=None, constraint=None, use_resource=None, synchronization=<VariableSynchronization.AUTO: 0>, aggregation=<VariableAggregationV2.NONE: 0>, **kwargs)\n",
            " |      Adds a new variable to the layer.\n",
            " |      \n",
            " |      Args:\n",
            " |        name: Variable name.\n",
            " |        shape: Variable shape. Defaults to scalar if unspecified.\n",
            " |        dtype: The type of the variable. Defaults to `self.dtype`.\n",
            " |        initializer: Initializer instance (callable).\n",
            " |        regularizer: Regularizer instance (callable).\n",
            " |        trainable: Boolean, whether the variable should be part of the layer's\n",
            " |          \"trainable_variables\" (e.g. variables, biases)\n",
            " |          or \"non_trainable_variables\" (e.g. BatchNorm mean and variance).\n",
            " |          Note that `trainable` cannot be `True` if `synchronization`\n",
            " |          is set to `ON_READ`.\n",
            " |        constraint: Constraint instance (callable).\n",
            " |        use_resource: Whether to use `ResourceVariable`.\n",
            " |        synchronization: Indicates when a distributed a variable will be\n",
            " |          aggregated. Accepted values are constants defined in the class\n",
            " |          `tf.VariableSynchronization`. By default the synchronization is set to\n",
            " |          `AUTO` and the current `DistributionStrategy` chooses\n",
            " |          when to synchronize. If `synchronization` is set to `ON_READ`,\n",
            " |          `trainable` must not be set to `True`.\n",
            " |        aggregation: Indicates how a distributed variable will be aggregated.\n",
            " |          Accepted values are constants defined in the class\n",
            " |          `tf.VariableAggregation`.\n",
            " |        **kwargs: Additional keyword arguments. Accepted values are `getter`,\n",
            " |          `collections`, `experimental_autocast` and `caching_device`.\n",
            " |      \n",
            " |      Returns:\n",
            " |        The variable created.\n",
            " |      \n",
            " |      Raises:\n",
            " |        ValueError: When giving unsupported dtype and no initializer or when\n",
            " |          trainable has been set to True with synchronization set as `ON_READ`.\n",
            " |  \n",
            " |  compute_mask(self, inputs, mask=None)\n",
            " |      Computes an output mask tensor.\n",
            " |      \n",
            " |      Args:\n",
            " |          inputs: Tensor or list of tensors.\n",
            " |          mask: Tensor or list of tensors.\n",
            " |      \n",
            " |      Returns:\n",
            " |          None or a tensor (or list of tensors,\n",
            " |              one per output tensor of the layer).\n",
            " |  \n",
            " |  compute_output_shape(self, input_shape)\n",
            " |      Computes the output shape of the layer.\n",
            " |      \n",
            " |      This method will cause the layer's state to be built, if that has not\n",
            " |      happened before. This requires that the layer will later be used with\n",
            " |      inputs that match the input shape provided here.\n",
            " |      \n",
            " |      Args:\n",
            " |          input_shape: Shape tuple (tuple of integers)\n",
            " |              or list of shape tuples (one per output tensor of the layer).\n",
            " |              Shape tuples can include None for free dimensions,\n",
            " |              instead of an integer.\n",
            " |      \n",
            " |      Returns:\n",
            " |          An input shape tuple.\n",
            " |  \n",
            " |  compute_output_signature(self, input_signature)\n",
            " |      Compute the output tensor signature of the layer based on the inputs.\n",
            " |      \n",
            " |      Unlike a TensorShape object, a TensorSpec object contains both shape\n",
            " |      and dtype information for a tensor. This method allows layers to provide\n",
            " |      output dtype information if it is different from the input dtype.\n",
            " |      For any layer that doesn't implement this function,\n",
            " |      the framework will fall back to use `compute_output_shape`, and will\n",
            " |      assume that the output dtype matches the input dtype.\n",
            " |      \n",
            " |      Args:\n",
            " |        input_signature: Single TensorSpec or nested structure of TensorSpec\n",
            " |          objects, describing a candidate input for the layer.\n",
            " |      \n",
            " |      Returns:\n",
            " |        Single TensorSpec or nested structure of TensorSpec objects, describing\n",
            " |          how the layer would transform the provided input.\n",
            " |      \n",
            " |      Raises:\n",
            " |        TypeError: If input_signature contains a non-TensorSpec object.\n",
            " |  \n",
            " |  count_params(self)\n",
            " |      Count the total number of scalars composing the weights.\n",
            " |      \n",
            " |      Returns:\n",
            " |          An integer count.\n",
            " |      \n",
            " |      Raises:\n",
            " |          ValueError: if the layer isn't yet built\n",
            " |            (in which case its weights aren't yet defined).\n",
            " |  \n",
            " |  finalize_state(self)\n",
            " |      Finalizes the layers state after updating layer weights.\n",
            " |      \n",
            " |      This function can be subclassed in a layer and will be called after updating\n",
            " |      a layer weights. It can be overridden to finalize any additional layer state\n",
            " |      after a weight update.\n",
            " |      \n",
            " |      This function will be called after weights of a layer have been restored\n",
            " |      from a loaded model.\n",
            " |  \n",
            " |  get_input_at(self, node_index)\n",
            " |      Retrieves the input tensor(s) of a layer at a given node.\n",
            " |      \n",
            " |      Args:\n",
            " |          node_index: Integer, index of the node\n",
            " |              from which to retrieve the attribute.\n",
            " |              E.g. `node_index=0` will correspond to the\n",
            " |              first input node of the layer.\n",
            " |      \n",
            " |      Returns:\n",
            " |          A tensor (or list of tensors if the layer has multiple inputs).\n",
            " |      \n",
            " |      Raises:\n",
            " |        RuntimeError: If called in Eager mode.\n",
            " |  \n",
            " |  get_input_mask_at(self, node_index)\n",
            " |      Retrieves the input mask tensor(s) of a layer at a given node.\n",
            " |      \n",
            " |      Args:\n",
            " |          node_index: Integer, index of the node\n",
            " |              from which to retrieve the attribute.\n",
            " |              E.g. `node_index=0` will correspond to the\n",
            " |              first time the layer was called.\n",
            " |      \n",
            " |      Returns:\n",
            " |          A mask tensor\n",
            " |          (or list of tensors if the layer has multiple inputs).\n",
            " |  \n",
            " |  get_input_shape_at(self, node_index)\n",
            " |      Retrieves the input shape(s) of a layer at a given node.\n",
            " |      \n",
            " |      Args:\n",
            " |          node_index: Integer, index of the node\n",
            " |              from which to retrieve the attribute.\n",
            " |              E.g. `node_index=0` will correspond to the\n",
            " |              first time the layer was called.\n",
            " |      \n",
            " |      Returns:\n",
            " |          A shape tuple\n",
            " |          (or list of shape tuples if the layer has multiple inputs).\n",
            " |      \n",
            " |      Raises:\n",
            " |        RuntimeError: If called in Eager mode.\n",
            " |  \n",
            " |  get_output_at(self, node_index)\n",
            " |      Retrieves the output tensor(s) of a layer at a given node.\n",
            " |      \n",
            " |      Args:\n",
            " |          node_index: Integer, index of the node\n",
            " |              from which to retrieve the attribute.\n",
            " |              E.g. `node_index=0` will correspond to the\n",
            " |              first output node of the layer.\n",
            " |      \n",
            " |      Returns:\n",
            " |          A tensor (or list of tensors if the layer has multiple outputs).\n",
            " |      \n",
            " |      Raises:\n",
            " |        RuntimeError: If called in Eager mode.\n",
            " |  \n",
            " |  get_output_mask_at(self, node_index)\n",
            " |      Retrieves the output mask tensor(s) of a layer at a given node.\n",
            " |      \n",
            " |      Args:\n",
            " |          node_index: Integer, index of the node\n",
            " |              from which to retrieve the attribute.\n",
            " |              E.g. `node_index=0` will correspond to the\n",
            " |              first time the layer was called.\n",
            " |      \n",
            " |      Returns:\n",
            " |          A mask tensor\n",
            " |          (or list of tensors if the layer has multiple outputs).\n",
            " |  \n",
            " |  get_output_shape_at(self, node_index)\n",
            " |      Retrieves the output shape(s) of a layer at a given node.\n",
            " |      \n",
            " |      Args:\n",
            " |          node_index: Integer, index of the node\n",
            " |              from which to retrieve the attribute.\n",
            " |              E.g. `node_index=0` will correspond to the\n",
            " |              first time the layer was called.\n",
            " |      \n",
            " |      Returns:\n",
            " |          A shape tuple\n",
            " |          (or list of shape tuples if the layer has multiple outputs).\n",
            " |      \n",
            " |      Raises:\n",
            " |        RuntimeError: If called in Eager mode.\n",
            " |  \n",
            " |  set_weights(self, weights)\n",
            " |      Sets the weights of the layer, from NumPy arrays.\n",
            " |      \n",
            " |      The weights of a layer represent the state of the layer. This function\n",
            " |      sets the weight values from numpy arrays. The weight values should be\n",
            " |      passed in the order they are created by the layer. Note that the layer's\n",
            " |      weights must be instantiated before calling this function, by calling\n",
            " |      the layer.\n",
            " |      \n",
            " |      For example, a `Dense` layer returns a list of two values: the kernel matrix\n",
            " |      and the bias vector. These can be used to set the weights of another\n",
            " |      `Dense` layer:\n",
            " |      \n",
            " |      >>> layer_a = tf.keras.layers.Dense(1,\n",
            " |      ...   kernel_initializer=tf.constant_initializer(1.))\n",
            " |      >>> a_out = layer_a(tf.convert_to_tensor([[1., 2., 3.]]))\n",
            " |      >>> layer_a.get_weights()\n",
            " |      [array([[1.],\n",
            " |             [1.],\n",
            " |             [1.]], dtype=float32), array([0.], dtype=float32)]\n",
            " |      >>> layer_b = tf.keras.layers.Dense(1,\n",
            " |      ...   kernel_initializer=tf.constant_initializer(2.))\n",
            " |      >>> b_out = layer_b(tf.convert_to_tensor([[10., 20., 30.]]))\n",
            " |      >>> layer_b.get_weights()\n",
            " |      [array([[2.],\n",
            " |             [2.],\n",
            " |             [2.]], dtype=float32), array([0.], dtype=float32)]\n",
            " |      >>> layer_b.set_weights(layer_a.get_weights())\n",
            " |      >>> layer_b.get_weights()\n",
            " |      [array([[1.],\n",
            " |             [1.],\n",
            " |             [1.]], dtype=float32), array([0.], dtype=float32)]\n",
            " |      \n",
            " |      Args:\n",
            " |        weights: a list of NumPy arrays. The number\n",
            " |          of arrays and their shape must match\n",
            " |          number of the dimensions of the weights\n",
            " |          of the layer (i.e. it should match the\n",
            " |          output of `get_weights`).\n",
            " |      \n",
            " |      Raises:\n",
            " |        ValueError: If the provided weights list does not match the\n",
            " |          layer's specifications.\n",
            " |  \n",
            " |  ----------------------------------------------------------------------\n",
            " |  Readonly properties inherited from keras.engine.base_layer.Layer:\n",
            " |  \n",
            " |  compute_dtype\n",
            " |      The dtype of the layer's computations.\n",
            " |      \n",
            " |      This is equivalent to `Layer.dtype_policy.compute_dtype`. Unless\n",
            " |      mixed precision is used, this is the same as `Layer.dtype`, the dtype of\n",
            " |      the weights.\n",
            " |      \n",
            " |      Layers automatically cast their inputs to the compute dtype, which causes\n",
            " |      computations and the output to be in the compute dtype as well. This is done\n",
            " |      by the base Layer class in `Layer.__call__`, so you do not have to insert\n",
            " |      these casts if implementing your own layer.\n",
            " |      \n",
            " |      Layers often perform certain internal computations in higher precision when\n",
            " |      `compute_dtype` is float16 or bfloat16 for numeric stability. The output\n",
            " |      will still typically be float16 or bfloat16 in such cases.\n",
            " |      \n",
            " |      Returns:\n",
            " |        The layer's compute dtype.\n",
            " |  \n",
            " |  dtype\n",
            " |      The dtype of the layer weights.\n",
            " |      \n",
            " |      This is equivalent to `Layer.dtype_policy.variable_dtype`. Unless\n",
            " |      mixed precision is used, this is the same as `Layer.compute_dtype`, the\n",
            " |      dtype of the layer's computations.\n",
            " |  \n",
            " |  dtype_policy\n",
            " |      The dtype policy associated with this layer.\n",
            " |      \n",
            " |      This is an instance of a `tf.keras.mixed_precision.Policy`.\n",
            " |  \n",
            " |  dynamic\n",
            " |      Whether the layer is dynamic (eager-only); set in the constructor.\n",
            " |  \n",
            " |  inbound_nodes\n",
            " |      Return Functional API nodes upstream of this layer.\n",
            " |  \n",
            " |  input\n",
            " |      Retrieves the input tensor(s) of a layer.\n",
            " |      \n",
            " |      Only applicable if the layer has exactly one input,\n",
            " |      i.e. if it is connected to one incoming layer.\n",
            " |      \n",
            " |      Returns:\n",
            " |          Input tensor or list of input tensors.\n",
            " |      \n",
            " |      Raises:\n",
            " |        RuntimeError: If called in Eager mode.\n",
            " |        AttributeError: If no inbound nodes are found.\n",
            " |  \n",
            " |  input_mask\n",
            " |      Retrieves the input mask tensor(s) of a layer.\n",
            " |      \n",
            " |      Only applicable if the layer has exactly one inbound node,\n",
            " |      i.e. if it is connected to one incoming layer.\n",
            " |      \n",
            " |      Returns:\n",
            " |          Input mask tensor (potentially None) or list of input\n",
            " |          mask tensors.\n",
            " |      \n",
            " |      Raises:\n",
            " |          AttributeError: if the layer is connected to\n",
            " |          more than one incoming layers.\n",
            " |  \n",
            " |  input_shape\n",
            " |      Retrieves the input shape(s) of a layer.\n",
            " |      \n",
            " |      Only applicable if the layer has exactly one input,\n",
            " |      i.e. if it is connected to one incoming layer, or if all inputs\n",
            " |      have the same shape.\n",
            " |      \n",
            " |      Returns:\n",
            " |          Input shape, as an integer shape tuple\n",
            " |          (or list of shape tuples, one tuple per input tensor).\n",
            " |      \n",
            " |      Raises:\n",
            " |          AttributeError: if the layer has no defined input_shape.\n",
            " |          RuntimeError: if called in Eager mode.\n",
            " |  \n",
            " |  losses\n",
            " |      List of losses added using the `add_loss()` API.\n",
            " |      \n",
            " |      Variable regularization tensors are created when this property is accessed,\n",
            " |      so it is eager safe: accessing `losses` under a `tf.GradientTape` will\n",
            " |      propagate gradients back to the corresponding variables.\n",
            " |      \n",
            " |      Examples:\n",
            " |      \n",
            " |      >>> class MyLayer(tf.keras.layers.Layer):\n",
            " |      ...   def call(self, inputs):\n",
            " |      ...     self.add_loss(tf.abs(tf.reduce_mean(inputs)))\n",
            " |      ...     return inputs\n",
            " |      >>> l = MyLayer()\n",
            " |      >>> l(np.ones((10, 1)))\n",
            " |      >>> l.losses\n",
            " |      [1.0]\n",
            " |      \n",
            " |      >>> inputs = tf.keras.Input(shape=(10,))\n",
            " |      >>> x = tf.keras.layers.Dense(10)(inputs)\n",
            " |      >>> outputs = tf.keras.layers.Dense(1)(x)\n",
            " |      >>> model = tf.keras.Model(inputs, outputs)\n",
            " |      >>> # Activity regularization.\n",
            " |      >>> len(model.losses)\n",
            " |      0\n",
            " |      >>> model.add_loss(tf.abs(tf.reduce_mean(x)))\n",
            " |      >>> len(model.losses)\n",
            " |      1\n",
            " |      \n",
            " |      >>> inputs = tf.keras.Input(shape=(10,))\n",
            " |      >>> d = tf.keras.layers.Dense(10, kernel_initializer='ones')\n",
            " |      >>> x = d(inputs)\n",
            " |      >>> outputs = tf.keras.layers.Dense(1)(x)\n",
            " |      >>> model = tf.keras.Model(inputs, outputs)\n",
            " |      >>> # Weight regularization.\n",
            " |      >>> model.add_loss(lambda: tf.reduce_mean(d.kernel))\n",
            " |      >>> model.losses\n",
            " |      [<tf.Tensor: shape=(), dtype=float32, numpy=1.0>]\n",
            " |      \n",
            " |      Returns:\n",
            " |        A list of tensors.\n",
            " |  \n",
            " |  name\n",
            " |      Name of the layer (string), set in the constructor.\n",
            " |  \n",
            " |  non_trainable_variables\n",
            " |      Sequence of non-trainable variables owned by this module and its submodules.\n",
            " |      \n",
            " |      Note: this method uses reflection to find variables on the current instance\n",
            " |      and submodules. For performance reasons you may wish to cache the result\n",
            " |      of calling this method if you don't expect the return value to change.\n",
            " |      \n",
            " |      Returns:\n",
            " |        A sequence of variables for the current module (sorted by attribute\n",
            " |        name) followed by variables from all submodules recursively (breadth\n",
            " |        first).\n",
            " |  \n",
            " |  outbound_nodes\n",
            " |      Return Functional API nodes downstream of this layer.\n",
            " |  \n",
            " |  output\n",
            " |      Retrieves the output tensor(s) of a layer.\n",
            " |      \n",
            " |      Only applicable if the layer has exactly one output,\n",
            " |      i.e. if it is connected to one incoming layer.\n",
            " |      \n",
            " |      Returns:\n",
            " |        Output tensor or list of output tensors.\n",
            " |      \n",
            " |      Raises:\n",
            " |        AttributeError: if the layer is connected to more than one incoming\n",
            " |          layers.\n",
            " |        RuntimeError: if called in Eager mode.\n",
            " |  \n",
            " |  output_mask\n",
            " |      Retrieves the output mask tensor(s) of a layer.\n",
            " |      \n",
            " |      Only applicable if the layer has exactly one inbound node,\n",
            " |      i.e. if it is connected to one incoming layer.\n",
            " |      \n",
            " |      Returns:\n",
            " |          Output mask tensor (potentially None) or list of output\n",
            " |          mask tensors.\n",
            " |      \n",
            " |      Raises:\n",
            " |          AttributeError: if the layer is connected to\n",
            " |          more than one incoming layers.\n",
            " |  \n",
            " |  output_shape\n",
            " |      Retrieves the output shape(s) of a layer.\n",
            " |      \n",
            " |      Only applicable if the layer has one output,\n",
            " |      or if all outputs have the same shape.\n",
            " |      \n",
            " |      Returns:\n",
            " |          Output shape, as an integer shape tuple\n",
            " |          (or list of shape tuples, one tuple per output tensor).\n",
            " |      \n",
            " |      Raises:\n",
            " |          AttributeError: if the layer has no defined output shape.\n",
            " |          RuntimeError: if called in Eager mode.\n",
            " |  \n",
            " |  trainable_variables\n",
            " |      Sequence of trainable variables owned by this module and its submodules.\n",
            " |      \n",
            " |      Note: this method uses reflection to find variables on the current instance\n",
            " |      and submodules. For performance reasons you may wish to cache the result\n",
            " |      of calling this method if you don't expect the return value to change.\n",
            " |      \n",
            " |      Returns:\n",
            " |        A sequence of variables for the current module (sorted by attribute\n",
            " |        name) followed by variables from all submodules recursively (breadth\n",
            " |        first).\n",
            " |  \n",
            " |  updates\n",
            " |  \n",
            " |  variable_dtype\n",
            " |      Alias of `Layer.dtype`, the dtype of the weights.\n",
            " |  \n",
            " |  variables\n",
            " |      Returns the list of all layer variables/weights.\n",
            " |      \n",
            " |      Alias of `self.weights`.\n",
            " |      \n",
            " |      Note: This will not track the weights of nested `tf.Modules` that are not\n",
            " |      themselves Keras layers.\n",
            " |      \n",
            " |      Returns:\n",
            " |        A list of variables.\n",
            " |  \n",
            " |  ----------------------------------------------------------------------\n",
            " |  Data descriptors inherited from keras.engine.base_layer.Layer:\n",
            " |  \n",
            " |  activity_regularizer\n",
            " |      Optional regularizer function for the output of this layer.\n",
            " |  \n",
            " |  input_spec\n",
            " |      `InputSpec` instance(s) describing the input format for this layer.\n",
            " |      \n",
            " |      When you create a layer subclass, you can set `self.input_spec` to enable\n",
            " |      the layer to run input compatibility checks when it is called.\n",
            " |      Consider a `Conv2D` layer: it can only be called on a single input tensor\n",
            " |      of rank 4. As such, you can set, in `__init__()`:\n",
            " |      \n",
            " |      ```python\n",
            " |      self.input_spec = tf.keras.layers.InputSpec(ndim=4)\n",
            " |      ```\n",
            " |      \n",
            " |      Now, if you try to call the layer on an input that isn't rank 4\n",
            " |      (for instance, an input of shape `(2,)`, it will raise a nicely-formatted\n",
            " |      error:\n",
            " |      \n",
            " |      ```\n",
            " |      ValueError: Input 0 of layer conv2d is incompatible with the layer:\n",
            " |      expected ndim=4, found ndim=1. Full shape received: [2]\n",
            " |      ```\n",
            " |      \n",
            " |      Input checks that can be specified via `input_spec` include:\n",
            " |      - Structure (e.g. a single input, a list of 2 inputs, etc)\n",
            " |      - Shape\n",
            " |      - Rank (ndim)\n",
            " |      - Dtype\n",
            " |      \n",
            " |      For more information, see `tf.keras.layers.InputSpec`.\n",
            " |      \n",
            " |      Returns:\n",
            " |        A `tf.keras.layers.InputSpec` instance, or nested structure thereof.\n",
            " |  \n",
            " |  stateful\n",
            " |  \n",
            " |  supports_masking\n",
            " |      Whether this layer supports computing a mask using `compute_mask`.\n",
            " |  \n",
            " |  trainable\n",
            " |  \n",
            " |  ----------------------------------------------------------------------\n",
            " |  Class methods inherited from tensorflow.python.module.module.Module:\n",
            " |  \n",
            " |  with_name_scope(method) from builtins.type\n",
            " |      Decorator to automatically enter the module name scope.\n",
            " |      \n",
            " |      >>> class MyModule(tf.Module):\n",
            " |      ...   @tf.Module.with_name_scope\n",
            " |      ...   def __call__(self, x):\n",
            " |      ...     if not hasattr(self, 'w'):\n",
            " |      ...       self.w = tf.Variable(tf.random.normal([x.shape[1], 3]))\n",
            " |      ...     return tf.matmul(x, self.w)\n",
            " |      \n",
            " |      Using the above module would produce `tf.Variable`s and `tf.Tensor`s whose\n",
            " |      names included the module name:\n",
            " |      \n",
            " |      >>> mod = MyModule()\n",
            " |      >>> mod(tf.ones([1, 2]))\n",
            " |      <tf.Tensor: shape=(1, 3), dtype=float32, numpy=..., dtype=float32)>\n",
            " |      >>> mod.w\n",
            " |      <tf.Variable 'my_module/Variable:0' shape=(2, 3) dtype=float32,\n",
            " |      numpy=..., dtype=float32)>\n",
            " |      \n",
            " |      Args:\n",
            " |        method: The method to wrap.\n",
            " |      \n",
            " |      Returns:\n",
            " |        The original method wrapped such that it enters the module's name scope.\n",
            " |  \n",
            " |  ----------------------------------------------------------------------\n",
            " |  Readonly properties inherited from tensorflow.python.module.module.Module:\n",
            " |  \n",
            " |  name_scope\n",
            " |      Returns a `tf.name_scope` instance for this class.\n",
            " |  \n",
            " |  submodules\n",
            " |      Sequence of all sub-modules.\n",
            " |      \n",
            " |      Submodules are modules which are properties of this module, or found as\n",
            " |      properties of modules which are properties of this module (and so on).\n",
            " |      \n",
            " |      >>> a = tf.Module()\n",
            " |      >>> b = tf.Module()\n",
            " |      >>> c = tf.Module()\n",
            " |      >>> a.b = b\n",
            " |      >>> b.c = c\n",
            " |      >>> list(a.submodules) == [b, c]\n",
            " |      True\n",
            " |      >>> list(b.submodules) == [c]\n",
            " |      True\n",
            " |      >>> list(c.submodules) == []\n",
            " |      True\n",
            " |      \n",
            " |      Returns:\n",
            " |        A sequence of all submodules.\n",
            " |  \n",
            " |  ----------------------------------------------------------------------\n",
            " |  Data descriptors inherited from tensorflow.python.training.tracking.base.Trackable:\n",
            " |  \n",
            " |  __dict__\n",
            " |      dictionary for instance variables (if defined)\n",
            " |  \n",
            " |  __weakref__\n",
            " |      list of weak references to the object (if defined)\n",
            "\n"
          ]
        }
      ]
    },
    {
      "cell_type": "code",
      "metadata": {
        "id": "2ex5iFJiHkDR",
        "colab": {
          "base_uri": "https://localhost:8080/",
          "height": 533
        },
        "outputId": "5aa6a171-c8f0-4cdb-acdb-ab8f51cb170b"
      },
      "source": [
        "# 3.6 Display model now\n",
        "# Ref: https://www.tensorflow.org/api_docs/python/tf/keras/utils/plot_model\n",
        "plot_model(model, show_shapes= True)"
      ],
      "execution_count": null,
      "outputs": [
        {
          "output_type": "execute_result",
          "data": {
            "image/png": "[encoded data removed]",
            "text/plain": [
              "<IPython.core.display.Image object>"
            ]
          },
          "metadata": {},
          "execution_count": 24
        }
      ]
    },
    {
      "cell_type": "code",
      "metadata": {
        "id": "u7X1WpoaJ8vZ",
        "colab": {
          "base_uri": "https://localhost:8080/"
        },
        "outputId": "36f005f0-e286-41b1-fceb-02f8b19399da"
      },
      "source": [
        "# 3.7 Compile model\n",
        "model.compile(loss = \"mean_squared_error\")  \n",
        "history = model.fit(\n",
        "                    X_train,\n",
        "                    y_train,\n",
        "                    epochs = 50,\n",
        "                    verbose = 1\n",
        "                    )"
      ],
      "execution_count": null,
      "outputs": [
        {
          "output_type": "stream",
          "name": "stdout",
          "text": [
            "Epoch 1/50\n",
            "516/516 [==============================] - 2s 2ms/step - loss: 2.4629\n",
            "Epoch 2/50\n",
            "516/516 [==============================] - 1s 2ms/step - loss: 2.4352\n",
            "Epoch 3/50\n",
            "516/516 [==============================] - 1s 2ms/step - loss: 2.4345\n",
            "Epoch 4/50\n",
            "516/516 [==============================] - 1s 2ms/step - loss: 2.4340\n",
            "Epoch 5/50\n",
            "516/516 [==============================] - 1s 2ms/step - loss: 2.4336\n",
            "Epoch 6/50\n",
            "516/516 [==============================] - 1s 2ms/step - loss: 2.4331\n",
            "Epoch 7/50\n",
            "516/516 [==============================] - 1s 2ms/step - loss: 2.4328\n",
            "Epoch 8/50\n",
            "516/516 [==============================] - 1s 2ms/step - loss: 2.4327\n",
            "Epoch 9/50\n",
            "516/516 [==============================] - 1s 2ms/step - loss: 2.4325\n",
            "Epoch 10/50\n",
            "516/516 [==============================] - 1s 2ms/step - loss: 2.4323\n",
            "Epoch 11/50\n",
            "516/516 [==============================] - 1s 2ms/step - loss: 2.4321\n",
            "Epoch 12/50\n",
            "516/516 [==============================] - 1s 2ms/step - loss: 2.4319\n",
            "Epoch 13/50\n",
            "516/516 [==============================] - 1s 2ms/step - loss: 2.4317\n",
            "Epoch 14/50\n",
            "516/516 [==============================] - 1s 2ms/step - loss: 2.4316\n",
            "Epoch 15/50\n",
            "516/516 [==============================] - 1s 2ms/step - loss: 2.4315\n",
            "Epoch 16/50\n",
            "516/516 [==============================] - 1s 2ms/step - loss: 2.4315\n",
            "Epoch 17/50\n",
            "516/516 [==============================] - 1s 2ms/step - loss: 2.4314\n",
            "Epoch 18/50\n",
            "516/516 [==============================] - 1s 2ms/step - loss: 2.4313\n",
            "Epoch 19/50\n",
            "516/516 [==============================] - 1s 2ms/step - loss: 2.4313\n",
            "Epoch 20/50\n",
            "516/516 [==============================] - 1s 2ms/step - loss: 2.4312\n",
            "Epoch 21/50\n",
            "516/516 [==============================] - 1s 2ms/step - loss: 2.4311\n",
            "Epoch 22/50\n",
            "516/516 [==============================] - 1s 2ms/step - loss: 2.4310\n",
            "Epoch 23/50\n",
            "516/516 [==============================] - 1s 2ms/step - loss: 2.4310\n",
            "Epoch 24/50\n",
            "516/516 [==============================] - 1s 2ms/step - loss: 2.4309\n",
            "Epoch 25/50\n",
            "516/516 [==============================] - 1s 2ms/step - loss: 2.4309\n",
            "Epoch 26/50\n",
            "516/516 [==============================] - 1s 2ms/step - loss: 2.4308\n",
            "Epoch 27/50\n",
            "516/516 [==============================] - 1s 2ms/step - loss: 2.4308\n",
            "Epoch 28/50\n",
            "516/516 [==============================] - 1s 2ms/step - loss: 2.4308\n",
            "Epoch 29/50\n",
            "516/516 [==============================] - 1s 2ms/step - loss: 2.4306\n",
            "Epoch 30/50\n",
            "516/516 [==============================] - 1s 2ms/step - loss: 2.4305\n",
            "Epoch 31/50\n",
            "516/516 [==============================] - 1s 2ms/step - loss: 2.4306\n",
            "Epoch 32/50\n",
            "516/516 [==============================] - 1s 2ms/step - loss: 2.4306\n",
            "Epoch 33/50\n",
            "516/516 [==============================] - 1s 2ms/step - loss: 2.4306\n",
            "Epoch 34/50\n",
            "516/516 [==============================] - 1s 2ms/step - loss: 2.4305\n",
            "Epoch 35/50\n",
            "516/516 [==============================] - 1s 2ms/step - loss: 2.4305\n",
            "Epoch 36/50\n",
            "516/516 [==============================] - 1s 2ms/step - loss: 2.4304\n",
            "Epoch 37/50\n",
            "516/516 [==============================] - 1s 2ms/step - loss: 2.4304\n",
            "Epoch 38/50\n",
            "516/516 [==============================] - 1s 2ms/step - loss: 2.4305\n",
            "Epoch 39/50\n",
            "516/516 [==============================] - 1s 2ms/step - loss: 2.4304\n",
            "Epoch 40/50\n",
            "516/516 [==============================] - 1s 2ms/step - loss: 2.4304\n",
            "Epoch 41/50\n",
            "516/516 [==============================] - 1s 2ms/step - loss: 2.4303\n",
            "Epoch 42/50\n",
            "516/516 [==============================] - 1s 2ms/step - loss: 2.4303\n",
            "Epoch 43/50\n",
            "516/516 [==============================] - 1s 2ms/step - loss: 2.4303\n",
            "Epoch 44/50\n",
            "516/516 [==============================] - 1s 2ms/step - loss: 2.4303\n",
            "Epoch 45/50\n",
            "516/516 [==============================] - 1s 2ms/step - loss: 2.4303\n",
            "Epoch 46/50\n",
            "516/516 [==============================] - 1s 2ms/step - loss: 2.4301\n",
            "Epoch 47/50\n",
            "516/516 [==============================] - 1s 2ms/step - loss: 2.4302\n",
            "Epoch 48/50\n",
            "516/516 [==============================] - 1s 2ms/step - loss: 2.4302\n",
            "Epoch 49/50\n",
            "516/516 [==============================] - 1s 2ms/step - loss: 2.4302\n",
            "Epoch 50/50\n",
            "516/516 [==============================] - 1s 2ms/step - loss: 2.4302\n"
          ]
        }
      ]
    },
    {
      "cell_type": "code",
      "metadata": {
        "id": "6QQ8xAgGLTOo",
        "colab": {
          "base_uri": "https://localhost:8080/"
        },
        "outputId": "92fa3809-3d55-42f5-949d-f50eca6c7587"
      },
      "source": [
        "# 3.8 \n",
        "model.evaluate(X_test,y_test)  # 2.56280517578125"
      ],
      "execution_count": null,
      "outputs": [
        {
          "output_type": "stream",
          "name": "stdout",
          "text": [
            "129/129 [==============================] - 0s 1ms/step - loss: 2.5989\n"
          ]
        },
        {
          "output_type": "execute_result",
          "data": {
            "text/plain": [
              "2.598900556564331"
            ]
          },
          "metadata": {},
          "execution_count": 26
        }
      ]
    },
    {
      "cell_type": "code",
      "source": [
        "X_train.shape"
      ],
      "metadata": {
        "colab": {
          "base_uri": "https://localhost:8080/"
        },
        "id": "IZZlbVVK6f08",
        "outputId": "de12b4a8-4c20-44e6-c250-08d0940d583e"
      },
      "execution_count": null,
      "outputs": [
        {
          "output_type": "execute_result",
          "data": {
            "text/plain": [
              "(16512, 8, 1)"
            ]
          },
          "metadata": {},
          "execution_count": 211
        }
      ]
    },
    {
      "cell_type": "code",
      "source": [
        "X_train = X_train.reshape(X_train.shape[0],X_train.shape[1] , 1)"
      ],
      "metadata": {
        "id": "X5uz7V1Y6yQa"
      },
      "execution_count": null,
      "outputs": []
    },
    {
      "cell_type": "code",
      "source": [
        "X_train.shape"
      ],
      "metadata": {
        "colab": {
          "base_uri": "https://localhost:8080/"
        },
        "id": "QI1DKkef7BzZ",
        "outputId": "6ac9ffbe-10e4-4f07-b26c-2ecf2cf45e0c"
      },
      "execution_count": null,
      "outputs": [
        {
          "output_type": "execute_result",
          "data": {
            "text/plain": [
              "(16512, 8, 1)"
            ]
          },
          "metadata": {},
          "execution_count": 213
        }
      ]
    },
    {
      "cell_type": "code",
      "source": [
        "inp = tf.keras.Input(shape = (8,1)) #cnn "
      ],
      "metadata": {
        "id": "YnzG82Q26fyC"
      },
      "execution_count": null,
      "outputs": []
    },
    {
      "cell_type": "code",
      "source": [
        "x_lt =tf.keras.layers. Conv1D(filters =32 ,kernel_size=3,activation ='relu')(inp)\n"
      ],
      "metadata": {
        "id": "cPfJG7Hx6fvK"
      },
      "execution_count": null,
      "outputs": []
    },
    {
      "cell_type": "code",
      "source": [
        "x_lt =tf.keras.layers. Conv1D(filters =64 ,kernel_size=3,activation ='relu')(x_lt)\n"
      ],
      "metadata": {
        "id": "eF0kB4Al6fr5"
      },
      "execution_count": null,
      "outputs": []
    },
    {
      "cell_type": "code",
      "source": [
        "#tf.keras.layers.Flattern()\n",
        "#tf.keras.layers.Flattern()"
      ],
      "metadata": {
        "id": "yXAMpJS1AthQ"
      },
      "execution_count": null,
      "outputs": []
    },
    {
      "cell_type": "code",
      "source": [
        "m1= tf.keras.models.Model(inputs = [inp],outputs =[x_lt])"
      ],
      "metadata": {
        "id": "xl_pzsfI8p9C"
      },
      "execution_count": null,
      "outputs": []
    },
    {
      "cell_type": "code",
      "source": [
        "m1.summary()"
      ],
      "metadata": {
        "colab": {
          "base_uri": "https://localhost:8080/"
        },
        "id": "KPsCi7oY8p6e",
        "outputId": "f28a5d02-3556-4bd3-c1d6-5b941b3634bd"
      },
      "execution_count": null,
      "outputs": [
        {
          "output_type": "stream",
          "name": "stdout",
          "text": [
            "Model: \"model_23\"\n",
            "_________________________________________________________________\n",
            " Layer (type)                Output Shape              Param #   \n",
            "=================================================================\n",
            " input_12 (InputLayer)       [(None, 8, 1)]            0         \n",
            "                                                                 \n",
            " conv1d_37 (Conv1D)          (None, 6, 32)             128       \n",
            "                                                                 \n",
            " conv1d_38 (Conv1D)          (None, 4, 64)             6208      \n",
            "                                                                 \n",
            "=================================================================\n",
            "Total params: 6,336\n",
            "Trainable params: 6,336\n",
            "Non-trainable params: 0\n",
            "_________________________________________________________________\n"
          ]
        }
      ]
    },
    {
      "cell_type": "code",
      "source": [
        "x_rt =tf.keras.layers. Conv1D(filters =64 ,kernel_size=3,activation ='relu')(inp)\n"
      ],
      "metadata": {
        "id": "9MC2Q4MD8p33"
      },
      "execution_count": null,
      "outputs": []
    },
    {
      "cell_type": "code",
      "source": [
        "x_rt =tf.keras.layers. Conv1D(filters =128 ,kernel_size=3,activation ='relu')(x_rt)\n"
      ],
      "metadata": {
        "id": "5S0yD3ii8p1N"
      },
      "execution_count": null,
      "outputs": []
    },
    {
      "cell_type": "code",
      "source": [
        "m2= tf.keras.models.Model(inputs = [inp],outputs =[x_rt])\n",
        "m2.summary()"
      ],
      "metadata": {
        "colab": {
          "base_uri": "https://localhost:8080/"
        },
        "id": "0canJdhd8pxv",
        "outputId": "224a9215-47dd-44a8-ca9a-00c48fc2ecb3"
      },
      "execution_count": null,
      "outputs": [
        {
          "output_type": "stream",
          "name": "stdout",
          "text": [
            "Model: \"model_24\"\n",
            "_________________________________________________________________\n",
            " Layer (type)                Output Shape              Param #   \n",
            "=================================================================\n",
            " input_12 (InputLayer)       [(None, 8, 1)]            0         \n",
            "                                                                 \n",
            " conv1d_39 (Conv1D)          (None, 6, 64)             256       \n",
            "                                                                 \n",
            " conv1d_40 (Conv1D)          (None, 4, 128)            24704     \n",
            "                                                                 \n",
            "=================================================================\n",
            "Total params: 24,960\n",
            "Trainable params: 24,960\n",
            "Non-trainable params: 0\n",
            "_________________________________________________________________\n"
          ]
        }
      ]
    },
    {
      "cell_type": "code",
      "source": [
        "out.shape"
      ],
      "metadata": {
        "colab": {
          "base_uri": "https://localhost:8080/"
        },
        "id": "qsWQmZe3AYhR",
        "outputId": "a4cf834c-9a78-44d7-dfa3-4cae671b19d8"
      },
      "execution_count": null,
      "outputs": [
        {
          "output_type": "execute_result",
          "data": {
            "text/plain": [
              "TensorShape([None, 4, 192])"
            ]
          },
          "metadata": {},
          "execution_count": 223
        }
      ]
    },
    {
      "cell_type": "code",
      "source": [
        "out = tf.keras.layers.concatenate([x_lt , x_rt])"
      ],
      "metadata": {
        "id": "O4WrHvJ49QeD"
      },
      "execution_count": null,
      "outputs": []
    },
    {
      "cell_type": "code",
      "source": [
        "out=tf.keras.layers.Dense(32,activation = 'relu')(out)"
      ],
      "metadata": {
        "id": "FsYqJpzL9Qa8"
      },
      "execution_count": null,
      "outputs": []
    },
    {
      "cell_type": "code",
      "source": [
        "out=tf.keras.layers.Dense(1)(out)"
      ],
      "metadata": {
        "id": "yc8mLlzv9QYA"
      },
      "execution_count": null,
      "outputs": []
    },
    {
      "cell_type": "code",
      "source": [
        "model=Model(inputs = [inp], outputs =[out])"
      ],
      "metadata": {
        "id": "mTg1pc7fBgu-"
      },
      "execution_count": null,
      "outputs": []
    },
    {
      "cell_type": "code",
      "source": [],
      "metadata": {
        "id": "MCyZA6BdDvuj"
      },
      "execution_count": null,
      "outputs": []
    },
    {
      "cell_type": "code",
      "source": [
        "model.compile(loss = 'mse',metrics =['mse'])"
      ],
      "metadata": {
        "id": "IMnW5gDJBgru"
      },
      "execution_count": null,
      "outputs": []
    },
    {
      "cell_type": "code",
      "source": [
        "model.fit(X_train,y_train,validation_split =0.2,epochs =50)"
      ],
      "metadata": {
        "colab": {
          "base_uri": "https://localhost:8080/"
        },
        "id": "SPwIq7jPB3Xx",
        "outputId": "ecddcfef-bb6c-44b0-bb74-405a4f738aa7"
      },
      "execution_count": null,
      "outputs": [
        {
          "output_type": "stream",
          "name": "stdout",
          "text": [
            "Epoch 1/50\n",
            "413/413 [==============================] - 4s 7ms/step - loss: 1.5093 - mse: 1.5093 - val_loss: 1.4128 - val_mse: 1.4128\n",
            "Epoch 2/50\n",
            "413/413 [==============================] - 3s 7ms/step - loss: 1.3748 - mse: 1.3748 - val_loss: 1.3117 - val_mse: 1.3117\n",
            "Epoch 3/50\n",
            "413/413 [==============================] - 3s 6ms/step - loss: 1.3649 - mse: 1.3649 - val_loss: 1.3218 - val_mse: 1.3218\n",
            "Epoch 4/50\n",
            "413/413 [==============================] - 2s 5ms/step - loss: 1.3653 - mse: 1.3653 - val_loss: 1.3166 - val_mse: 1.3166\n",
            "Epoch 5/50\n",
            "413/413 [==============================] - 2s 5ms/step - loss: 1.3629 - mse: 1.3629 - val_loss: 1.3428 - val_mse: 1.3428\n",
            "Epoch 6/50\n",
            "413/413 [==============================] - 2s 6ms/step - loss: 1.3583 - mse: 1.3583 - val_loss: 1.3052 - val_mse: 1.3052\n",
            "Epoch 7/50\n",
            "413/413 [==============================] - 2s 5ms/step - loss: 1.3602 - mse: 1.3602 - val_loss: 1.4061 - val_mse: 1.4061\n",
            "Epoch 8/50\n",
            "413/413 [==============================] - 2s 5ms/step - loss: 1.3578 - mse: 1.3578 - val_loss: 1.3066 - val_mse: 1.3066\n",
            "Epoch 9/50\n",
            "413/413 [==============================] - 2s 6ms/step - loss: 1.3604 - mse: 1.3604 - val_loss: 1.3045 - val_mse: 1.3045\n",
            "Epoch 10/50\n",
            "413/413 [==============================] - 2s 5ms/step - loss: 1.3575 - mse: 1.3575 - val_loss: 1.3425 - val_mse: 1.3425\n",
            "Epoch 11/50\n",
            "413/413 [==============================] - 2s 6ms/step - loss: 1.3579 - mse: 1.3579 - val_loss: 1.3047 - val_mse: 1.3047\n",
            "Epoch 12/50\n",
            "413/413 [==============================] - 2s 6ms/step - loss: 1.3573 - mse: 1.3573 - val_loss: 1.3087 - val_mse: 1.3087\n",
            "Epoch 13/50\n",
            "413/413 [==============================] - 2s 6ms/step - loss: 1.3557 - mse: 1.3557 - val_loss: 1.3052 - val_mse: 1.3052\n",
            "Epoch 14/50\n",
            "413/413 [==============================] - 2s 5ms/step - loss: 1.3552 - mse: 1.3552 - val_loss: 1.3033 - val_mse: 1.3033\n",
            "Epoch 15/50\n",
            "413/413 [==============================] - 2s 6ms/step - loss: 1.3550 - mse: 1.3550 - val_loss: 1.3039 - val_mse: 1.3039\n",
            "Epoch 16/50\n",
            "413/413 [==============================] - 2s 6ms/step - loss: 1.3543 - mse: 1.3543 - val_loss: 1.3439 - val_mse: 1.3439\n",
            "Epoch 17/50\n",
            "413/413 [==============================] - 2s 6ms/step - loss: 1.3555 - mse: 1.3555 - val_loss: 1.3040 - val_mse: 1.3040\n",
            "Epoch 18/50\n",
            "413/413 [==============================] - 2s 6ms/step - loss: 1.3539 - mse: 1.3539 - val_loss: 1.3242 - val_mse: 1.3242\n",
            "Epoch 19/50\n",
            "413/413 [==============================] - 2s 6ms/step - loss: 1.3556 - mse: 1.3556 - val_loss: 1.3065 - val_mse: 1.3065\n",
            "Epoch 20/50\n",
            "413/413 [==============================] - 2s 6ms/step - loss: 1.3553 - mse: 1.3553 - val_loss: 1.3025 - val_mse: 1.3025\n",
            "Epoch 21/50\n",
            "413/413 [==============================] - 2s 6ms/step - loss: 1.3539 - mse: 1.3539 - val_loss: 1.3025 - val_mse: 1.3025\n",
            "Epoch 22/50\n",
            "413/413 [==============================] - 2s 6ms/step - loss: 1.3547 - mse: 1.3547 - val_loss: 1.3135 - val_mse: 1.3135\n",
            "Epoch 23/50\n",
            "413/413 [==============================] - 2s 5ms/step - loss: 1.3540 - mse: 1.3540 - val_loss: 1.3112 - val_mse: 1.3112\n",
            "Epoch 24/50\n",
            "413/413 [==============================] - 2s 6ms/step - loss: 1.3545 - mse: 1.3545 - val_loss: 1.3202 - val_mse: 1.3202\n",
            "Epoch 25/50\n",
            "413/413 [==============================] - 2s 6ms/step - loss: 1.3531 - mse: 1.3531 - val_loss: 1.3026 - val_mse: 1.3026\n",
            "Epoch 26/50\n",
            "413/413 [==============================] - 2s 5ms/step - loss: 1.3548 - mse: 1.3548 - val_loss: 1.3057 - val_mse: 1.3057\n",
            "Epoch 27/50\n",
            "413/413 [==============================] - 2s 6ms/step - loss: 1.3530 - mse: 1.3530 - val_loss: 1.3159 - val_mse: 1.3159\n",
            "Epoch 28/50\n",
            "413/413 [==============================] - 2s 6ms/step - loss: 1.3533 - mse: 1.3533 - val_loss: 1.3127 - val_mse: 1.3127\n",
            "Epoch 29/50\n",
            "413/413 [==============================] - 2s 6ms/step - loss: 1.3515 - mse: 1.3515 - val_loss: 1.3035 - val_mse: 1.3035\n",
            "Epoch 30/50\n",
            "413/413 [==============================] - 2s 6ms/step - loss: 1.3530 - mse: 1.3530 - val_loss: 1.3039 - val_mse: 1.3039\n",
            "Epoch 31/50\n",
            "413/413 [==============================] - 2s 6ms/step - loss: 1.3523 - mse: 1.3523 - val_loss: 1.3326 - val_mse: 1.3326\n",
            "Epoch 32/50\n",
            "413/413 [==============================] - 2s 6ms/step - loss: 1.3520 - mse: 1.3520 - val_loss: 1.3044 - val_mse: 1.3044\n",
            "Epoch 33/50\n",
            "413/413 [==============================] - 2s 6ms/step - loss: 1.3519 - mse: 1.3519 - val_loss: 1.3060 - val_mse: 1.3060\n",
            "Epoch 34/50\n",
            "413/413 [==============================] - 2s 6ms/step - loss: 1.3510 - mse: 1.3510 - val_loss: 1.3067 - val_mse: 1.3067\n",
            "Epoch 35/50\n",
            "413/413 [==============================] - 2s 6ms/step - loss: 1.3514 - mse: 1.3514 - val_loss: 1.3135 - val_mse: 1.3135\n",
            "Epoch 36/50\n",
            "413/413 [==============================] - 3s 6ms/step - loss: 1.3506 - mse: 1.3506 - val_loss: 1.3045 - val_mse: 1.3045\n",
            "Epoch 37/50\n",
            "413/413 [==============================] - 4s 9ms/step - loss: 1.3518 - mse: 1.3518 - val_loss: 1.3088 - val_mse: 1.3088\n",
            "Epoch 38/50\n",
            "413/413 [==============================] - 2s 5ms/step - loss: 1.3506 - mse: 1.3506 - val_loss: 1.3111 - val_mse: 1.3111\n",
            "Epoch 39/50\n",
            "413/413 [==============================] - 2s 6ms/step - loss: 1.3524 - mse: 1.3524 - val_loss: 1.3024 - val_mse: 1.3024\n",
            "Epoch 40/50\n",
            "413/413 [==============================] - 2s 6ms/step - loss: 1.3509 - mse: 1.3509 - val_loss: 1.3185 - val_mse: 1.3185\n",
            "Epoch 41/50\n",
            "413/413 [==============================] - 2s 6ms/step - loss: 1.3520 - mse: 1.3520 - val_loss: 1.3037 - val_mse: 1.3037\n",
            "Epoch 42/50\n",
            "413/413 [==============================] - 2s 5ms/step - loss: 1.3497 - mse: 1.3497 - val_loss: 1.3264 - val_mse: 1.3264\n",
            "Epoch 43/50\n",
            "413/413 [==============================] - 2s 6ms/step - loss: 1.3502 - mse: 1.3502 - val_loss: 1.3067 - val_mse: 1.3067\n",
            "Epoch 44/50\n",
            "413/413 [==============================] - 2s 6ms/step - loss: 1.3503 - mse: 1.3503 - val_loss: 1.3042 - val_mse: 1.3042\n",
            "Epoch 45/50\n",
            "413/413 [==============================] - 2s 6ms/step - loss: 1.3499 - mse: 1.3499 - val_loss: 1.3057 - val_mse: 1.3057\n",
            "Epoch 46/50\n",
            "413/413 [==============================] - 3s 7ms/step - loss: 1.3509 - mse: 1.3509 - val_loss: 1.3087 - val_mse: 1.3087\n",
            "Epoch 47/50\n",
            "413/413 [==============================] - 5s 11ms/step - loss: 1.3502 - mse: 1.3502 - val_loss: 1.3033 - val_mse: 1.3033\n",
            "Epoch 48/50\n",
            "413/413 [==============================] - 3s 7ms/step - loss: 1.3501 - mse: 1.3501 - val_loss: 1.3022 - val_mse: 1.3022\n",
            "Epoch 49/50\n",
            "413/413 [==============================] - 2s 6ms/step - loss: 1.3490 - mse: 1.3490 - val_loss: 1.3105 - val_mse: 1.3105\n",
            "Epoch 50/50\n",
            "413/413 [==============================] - 2s 6ms/step - loss: 1.3502 - mse: 1.3502 - val_loss: 1.3029 - val_mse: 1.3029\n"
          ]
        },
        {
          "output_type": "execute_result",
          "data": {
            "text/plain": [
              "<keras.callbacks.History at 0x7f0aee9b4100>"
            ]
          },
          "metadata": {},
          "execution_count": 229
        }
      ]
    },
    {
      "cell_type": "code",
      "source": [
        "del model"
      ],
      "metadata": {
        "id": "KdjHU3ZHFVOF"
      },
      "execution_count": null,
      "outputs": []
    },
    {
      "cell_type": "code",
      "source": [
        "inp = tf.keras.Input(shape = (8,1))\n",
        "x_lt = tf.keras.layers.Conv1D( filters = 32, kernel_size = 3)(inp)\n",
        "x_lt = tf.keras.layers.BatchNormalization()(x_lt)\n",
        "x_lt= tf.keras.layers.Activation(activation ='relu')(x_lt)\n",
        "x_lt = tf.keras.layers.Conv1D(filters = 64, kernel_size =3, activation = 'relu')(x_lt)\n",
        "x_rt = tf.keras.layers.Conv1D( filters = 64, kernel_size = 3 )(inp)\n",
        "x_rt = tf.keras.layers.BatchNormalization()(x_rt)\n",
        "x_rt= tf.keras.layers.Activation(activation ='relu')(x_rt)\n",
        "x_rt = tf.keras.layers.Conv1D(filters = 128, kernel_size = 3, activation = 'relu')(x_rt)\n",
        "#tf.keras.layers.Dropout(0.5)(inp)\n",
        "out = tf.keras.layers.concatenate([x_lt, x_rt])\n",
        "out = tf.keras.layers.Dense(32, activation = 'relu')(out)\n",
        "out = tf.keras.layers.Dense(64, activation = 'relu')(out)\n",
        "out = tf.keras.layers.Dense(1)(out)\n",
        "model=Model(inputs = [inp], outputs =[out])\n",
        "model.compile(loss = 'mse', metrics = ['mse'])\n",
        "model.fit(X_train,y_train, validation_split = 0.2, epochs = 50)"
      ],
      "metadata": {
        "colab": {
          "base_uri": "https://localhost:8080/"
        },
        "id": "Rd3bjwp2C_El",
        "outputId": "dd0e35b9-2a79-4eaa-96fe-a4a9c3723651"
      },
      "execution_count": null,
      "outputs": [
        {
          "output_type": "stream",
          "name": "stdout",
          "text": [
            "Epoch 1/50\n",
            "413/413 [==============================] - 5s 8ms/step - loss: 1.5345 - mse: 1.5345 - val_loss: 1.3891 - val_mse: 1.3891\n",
            "Epoch 2/50\n",
            "413/413 [==============================] - 3s 7ms/step - loss: 1.3752 - mse: 1.3752 - val_loss: 1.3507 - val_mse: 1.3507\n",
            "Epoch 3/50\n",
            "413/413 [==============================] - 3s 7ms/step - loss: 1.3643 - mse: 1.3643 - val_loss: 1.3376 - val_mse: 1.3376\n",
            "Epoch 4/50\n",
            "413/413 [==============================] - 3s 7ms/step - loss: 1.3553 - mse: 1.3553 - val_loss: 1.5273 - val_mse: 1.5273\n",
            "Epoch 5/50\n",
            "413/413 [==============================] - 3s 7ms/step - loss: 1.3539 - mse: 1.3539 - val_loss: 1.3320 - val_mse: 1.3320\n",
            "Epoch 6/50\n",
            "413/413 [==============================] - 4s 8ms/step - loss: 1.3495 - mse: 1.3495 - val_loss: 1.3371 - val_mse: 1.3371\n",
            "Epoch 7/50\n",
            "413/413 [==============================] - 3s 7ms/step - loss: 1.3490 - mse: 1.3490 - val_loss: 1.3365 - val_mse: 1.3365\n",
            "Epoch 8/50\n",
            "413/413 [==============================] - 3s 7ms/step - loss: 1.3482 - mse: 1.3482 - val_loss: 1.3317 - val_mse: 1.3317\n",
            "Epoch 9/50\n",
            "413/413 [==============================] - 3s 7ms/step - loss: 1.3466 - mse: 1.3466 - val_loss: 1.3417 - val_mse: 1.3417\n",
            "Epoch 10/50\n",
            "413/413 [==============================] - 3s 7ms/step - loss: 1.3468 - mse: 1.3468 - val_loss: 1.3341 - val_mse: 1.3341\n",
            "Epoch 11/50\n",
            "413/413 [==============================] - 3s 7ms/step - loss: 1.3465 - mse: 1.3465 - val_loss: 1.3404 - val_mse: 1.3404\n",
            "Epoch 12/50\n",
            "413/413 [==============================] - 3s 7ms/step - loss: 1.3457 - mse: 1.3457 - val_loss: 1.3304 - val_mse: 1.3304\n",
            "Epoch 13/50\n",
            "413/413 [==============================] - 3s 7ms/step - loss: 1.3482 - mse: 1.3482 - val_loss: 1.3321 - val_mse: 1.3321\n",
            "Epoch 14/50\n",
            "413/413 [==============================] - 3s 7ms/step - loss: 1.3465 - mse: 1.3465 - val_loss: 1.3321 - val_mse: 1.3321\n",
            "Epoch 15/50\n",
            "413/413 [==============================] - 3s 7ms/step - loss: 1.3482 - mse: 1.3482 - val_loss: 1.3364 - val_mse: 1.3364\n",
            "Epoch 16/50\n",
            "413/413 [==============================] - 3s 7ms/step - loss: 1.3461 - mse: 1.3461 - val_loss: 1.3398 - val_mse: 1.3398\n",
            "Epoch 17/50\n",
            "413/413 [==============================] - 3s 7ms/step - loss: 1.3447 - mse: 1.3447 - val_loss: 1.3320 - val_mse: 1.3320\n",
            "Epoch 18/50\n",
            "413/413 [==============================] - 3s 7ms/step - loss: 1.3451 - mse: 1.3451 - val_loss: 1.3352 - val_mse: 1.3352\n",
            "Epoch 19/50\n",
            "413/413 [==============================] - 3s 7ms/step - loss: 1.3444 - mse: 1.3444 - val_loss: 1.3307 - val_mse: 1.3307\n",
            "Epoch 20/50\n",
            "413/413 [==============================] - 3s 7ms/step - loss: 1.3423 - mse: 1.3423 - val_loss: 1.3514 - val_mse: 1.3514\n",
            "Epoch 21/50\n",
            "413/413 [==============================] - 3s 7ms/step - loss: 1.3421 - mse: 1.3421 - val_loss: 1.3302 - val_mse: 1.3302\n",
            "Epoch 22/50\n",
            "413/413 [==============================] - 3s 7ms/step - loss: 1.3457 - mse: 1.3457 - val_loss: 1.3317 - val_mse: 1.3317\n",
            "Epoch 23/50\n",
            "413/413 [==============================] - 3s 7ms/step - loss: 1.3446 - mse: 1.3446 - val_loss: 1.3578 - val_mse: 1.3578\n",
            "Epoch 24/50\n",
            "413/413 [==============================] - 3s 7ms/step - loss: 1.3451 - mse: 1.3451 - val_loss: 1.3351 - val_mse: 1.3351\n",
            "Epoch 25/50\n",
            "413/413 [==============================] - 3s 7ms/step - loss: 1.3428 - mse: 1.3428 - val_loss: 1.3354 - val_mse: 1.3354\n",
            "Epoch 26/50\n",
            "413/413 [==============================] - 3s 7ms/step - loss: 1.3425 - mse: 1.3425 - val_loss: 1.3311 - val_mse: 1.3311\n",
            "Epoch 27/50\n",
            "413/413 [==============================] - 3s 7ms/step - loss: 1.3457 - mse: 1.3457 - val_loss: 1.3339 - val_mse: 1.3339\n",
            "Epoch 28/50\n",
            "413/413 [==============================] - 3s 7ms/step - loss: 1.3423 - mse: 1.3423 - val_loss: 1.3355 - val_mse: 1.3355\n",
            "Epoch 29/50\n",
            "413/413 [==============================] - 5s 11ms/step - loss: 1.3422 - mse: 1.3422 - val_loss: 1.3379 - val_mse: 1.3379\n",
            "Epoch 30/50\n",
            "413/413 [==============================] - 3s 7ms/step - loss: 1.3419 - mse: 1.3419 - val_loss: 1.3362 - val_mse: 1.3362\n",
            "Epoch 31/50\n",
            "413/413 [==============================] - 3s 7ms/step - loss: 1.3432 - mse: 1.3432 - val_loss: 1.3302 - val_mse: 1.3302\n",
            "Epoch 32/50\n",
            "413/413 [==============================] - 3s 7ms/step - loss: 1.3441 - mse: 1.3441 - val_loss: 1.3308 - val_mse: 1.3308\n",
            "Epoch 33/50\n",
            "413/413 [==============================] - 3s 7ms/step - loss: 1.3445 - mse: 1.3445 - val_loss: 1.3383 - val_mse: 1.3383\n",
            "Epoch 34/50\n",
            "413/413 [==============================] - 3s 7ms/step - loss: 1.3432 - mse: 1.3432 - val_loss: 1.3437 - val_mse: 1.3437\n",
            "Epoch 35/50\n",
            "413/413 [==============================] - 3s 7ms/step - loss: 1.3402 - mse: 1.3402 - val_loss: 1.3353 - val_mse: 1.3353\n",
            "Epoch 36/50\n",
            "413/413 [==============================] - 4s 10ms/step - loss: 1.3383 - mse: 1.3383 - val_loss: 1.3434 - val_mse: 1.3434\n",
            "Epoch 37/50\n",
            "413/413 [==============================] - 3s 7ms/step - loss: 1.3392 - mse: 1.3392 - val_loss: 1.3400 - val_mse: 1.3400\n",
            "Epoch 38/50\n",
            "413/413 [==============================] - 3s 7ms/step - loss: 1.3440 - mse: 1.3440 - val_loss: 1.3343 - val_mse: 1.3343\n",
            "Epoch 39/50\n",
            "413/413 [==============================] - 3s 7ms/step - loss: 1.3421 - mse: 1.3421 - val_loss: 1.3331 - val_mse: 1.3331\n",
            "Epoch 40/50\n",
            "413/413 [==============================] - 3s 7ms/step - loss: 1.3441 - mse: 1.3441 - val_loss: 1.3323 - val_mse: 1.3323\n",
            "Epoch 41/50\n",
            "413/413 [==============================] - 3s 7ms/step - loss: 1.3410 - mse: 1.3410 - val_loss: 1.3304 - val_mse: 1.3304\n",
            "Epoch 42/50\n",
            "413/413 [==============================] - 3s 7ms/step - loss: 1.3403 - mse: 1.3403 - val_loss: 1.3302 - val_mse: 1.3302\n",
            "Epoch 43/50\n",
            "413/413 [==============================] - 3s 7ms/step - loss: 1.3384 - mse: 1.3384 - val_loss: 1.3379 - val_mse: 1.3379\n",
            "Epoch 44/50\n",
            "413/413 [==============================] - 3s 7ms/step - loss: 1.3403 - mse: 1.3403 - val_loss: 1.3630 - val_mse: 1.3630\n",
            "Epoch 45/50\n",
            "413/413 [==============================] - 3s 7ms/step - loss: 1.3420 - mse: 1.3420 - val_loss: 1.3456 - val_mse: 1.3456\n",
            "Epoch 46/50\n",
            "413/413 [==============================] - 3s 7ms/step - loss: 1.3429 - mse: 1.3429 - val_loss: 1.3306 - val_mse: 1.3306\n",
            "Epoch 47/50\n",
            "413/413 [==============================] - 3s 7ms/step - loss: 1.3403 - mse: 1.3403 - val_loss: 1.3318 - val_mse: 1.3318\n",
            "Epoch 48/50\n",
            "413/413 [==============================] - 3s 7ms/step - loss: 1.3411 - mse: 1.3411 - val_loss: 1.3738 - val_mse: 1.3738\n",
            "Epoch 49/50\n",
            "413/413 [==============================] - 3s 7ms/step - loss: 1.3390 - mse: 1.3390 - val_loss: 1.3311 - val_mse: 1.3311\n",
            "Epoch 50/50\n",
            "413/413 [==============================] - 3s 7ms/step - loss: 1.3431 - mse: 1.3431 - val_loss: 1.3332 - val_mse: 1.3332\n"
          ]
        },
        {
          "output_type": "execute_result",
          "data": {
            "text/plain": [
              "<keras.callbacks.History at 0x7f0adf8d58b0>"
            ]
          },
          "metadata": {},
          "execution_count": 287
        }
      ]
    },
    {
      "cell_type": "markdown",
      "metadata": {
        "id": "EOpJgAoQaW7I"
      },
      "source": [
        "## Wide and Deep Network--Convolution Network"
      ]
    },
    {
      "cell_type": "markdown",
      "metadata": {
        "id": "p1BHBEy3u7cr"
      },
      "source": [
        "![image.png](data:image/png;base64,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)"
      ]
    },
    {
      "cell_type": "markdown",
      "metadata": {
        "id": "nq58mwJMbJtE"
      },
      "source": [
        "## Convolution layers--Refresher\n",
        "Also refer [here](https://cs231n.github.io/convolutional-networks/) for animated **gif**"
      ]
    },
    {
      "cell_type": "markdown",
      "metadata": {
        "id": "NqT8vnoDbWBM"
      },
      "source": [
        "### How Conv2D works"
      ]
    },
    {
      "cell_type": "markdown",
      "metadata": {
        "id": "Gfkbz7tFWYSR"
      },
      "source": [
        "![image.png](data:image/png;base64,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)"
      ]
    },
    {
      "cell_type": "code",
      "metadata": {
        "id": "Ib-Yk5d4Wpjg",
        "colab": {
          "base_uri": "https://localhost:8080/"
        },
        "outputId": "81f26184-193c-4a3c-be34-944dfdc0ee27"
      },
      "source": [
        "# Check above\n",
        "-99 -80 + 57 * 5 -115 -126"
      ],
      "execution_count": null,
      "outputs": [
        {
          "output_type": "execute_result",
          "data": {
            "text/plain": [
              "-135"
            ]
          },
          "metadata": {},
          "execution_count": 2
        }
      ]
    },
    {
      "cell_type": "markdown",
      "metadata": {
        "id": "zteyF67EWWI0"
      },
      "source": [
        "![image.png](data:image/png;base64,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)"
      ]
    },
    {
      "cell_type": "markdown",
      "metadata": {
        "id": "qGbGVlTAaIxY"
      },
      "source": [
        "![image.png](data:image/png;base64,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)"
      ]
    },
    {
      "cell_type": "markdown",
      "metadata": {
        "id": "iyehl_mffQ6h"
      },
      "source": [
        "### How Conv1D works\n",
        "Also see here for [dilation convolution](https://jinglescode.github.io/2020/11/01/how-convolutional-layers-work-deep-learning-neural-networks/)"
      ]
    },
    {
      "cell_type": "markdown",
      "metadata": {
        "id": "FMRQrE4zgUcu"
      },
      "source": [
        "![image.png](data:image/png;base64,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)"
      ]
    },
    {
      "cell_type": "markdown",
      "metadata": {
        "id": "BngE6Xc7KkiF"
      },
      "source": [
        "![image.png](data:image/png;base64,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)"
      ]
    },
    {
      "cell_type": "markdown",
      "metadata": {
        "id": "799rMxbdNX4t"
      },
      "source": [
        "### Dilated convolution kernel"
      ]
    },
    {
      "cell_type": "markdown",
      "metadata": {
        "id": "QCzvXwa4NX2k"
      },
      "source": [
        "You may have noticed the term “dilated convolutions”. Dilated convolutions “inflate” the kernel by inserting spaces between the kernel elements, and a parameter controls the dilation rate. A dilation rate of 2 means there is a space between the kernel elements. Essentially, a convolution kernel with dilation = 1 corresponds to a regular convolution."
      ]
    },
    {
      "cell_type": "markdown",
      "metadata": {
        "id": "fgwzvcAFMVwc"
      },
      "source": [
        "![image.png](data:image/png;base64,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)"
      ]
    },
    {
      "cell_type": "markdown",
      "metadata": {
        "id": "w0WFW3pCMVuK"
      },
      "source": [
        "![image.png](data:image/png;base64,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)"
      ]
    },
    {
      "cell_type": "markdown",
      "metadata": {
        "id": "esQrP2ZoOefO"
      },
      "source": [
        "## Model now"
      ]
    },
    {
      "cell_type": "code",
      "metadata": {
        "id": "zcCGRctmcN5T"
      },
      "source": [
        "# 4.1 Regarding train data\n",
        "no_of_samples_tr = X_train.shape[0]             # Each row is one sample: 7705\n",
        "input_features = X_train.shape[1]               # No of features: 178\n",
        "channels = 1\n",
        "batch_size_tr = no_of_samples_tr                # Data being less, we will\n",
        "                                                # use all samples in the batch"
      ],
      "execution_count": null,
      "outputs": []
    },
    {
      "cell_type": "code",
      "metadata": {
        "id": "Gq7FJ1GycZDC"
      },
      "source": [
        "# 4.2 Regarding test data\n",
        "no_of_samples_test = X_test.shape[0]           # 3795\n",
        "input_features = X_test.shape[1]               # No of features. 178\n",
        "channels = 1\n",
        "batch_size_test = no_of_samples_test           # 3795"
      ],
      "execution_count": null,
      "outputs": []
    },
    {
      "cell_type": "code",
      "metadata": {
        "id": "cIEQ7r9-cTKb"
      },
      "source": [
        "# 4.3 Reshape input train/test data as required by Keras for conv1D:\n",
        "\n",
        "train = X_train.reshape((no_of_samples_tr  , input_features, channels))\n",
        "test  = X_test.reshape(( no_of_samples_test, input_features, channels))"
      ],
      "execution_count": null,
      "outputs": []
    },
    {
      "cell_type": "code",
      "metadata": {
        "colab": {
          "base_uri": "https://localhost:8080/"
        },
        "id": "VBORO2ElYixN",
        "outputId": "a704ce38-b5cd-43d1-c3f6-f5b139a4a9eb"
      },
      "source": [
        "# 4.4\n",
        "train.shape   # (16512, 8, 1)\n",
        "test.shape    # (4128, 8, 1)"
      ],
      "execution_count": null,
      "outputs": [
        {
          "output_type": "execute_result",
          "data": {
            "text/plain": [
              "(16512, 8, 1)"
            ]
          },
          "metadata": {},
          "execution_count": 262
        },
        {
          "output_type": "execute_result",
          "data": {
            "text/plain": [
              "(4128, 8, 1)"
            ]
          },
          "metadata": {},
          "execution_count": 262
        }
      ]
    },
    {
      "cell_type": "code",
      "metadata": {
        "id": "cSGOF4qO2hZi"
      },
      "source": [
        " # 5.0 Design model\n",
        "\n",
        "# 5.1 Inputs to model. Note that inputs is NOT\n",
        "#       a part of layers object\n",
        "\n",
        "inputs = tf.keras.Input(\n",
        "                         shape = (train.shape[1],train.shape[2])   # (8,1)\n",
        "                        )\n"
      ],
      "execution_count": null,
      "outputs": []
    },
    {
      "cell_type": "code",
      "metadata": {
        "id": "ovs3GrTzanEx"
      },
      "source": [
        "# 5.2 Add convolution layers to left arm\n",
        "x_left = layers.Conv1D(\n",
        "                       filters = 32,\n",
        "                       kernel_size=3,\n",
        "                       activation='relu'\n",
        "                       )(inputs)"
      ],
      "execution_count": null,
      "outputs": []
    },
    {
      "cell_type": "code",
      "metadata": {
        "id": "rvVUsXXAY7OM"
      },
      "source": [
        "# 5.2.1\n",
        "x_left = layers.Conv1D(\n",
        "                       filters = 64,\n",
        "                       kernel_size=3,\n",
        "                       activation='relu'\n",
        "                       )(x_left)"
      ],
      "execution_count": null,
      "outputs": []
    },
    {
      "cell_type": "code",
      "metadata": {
        "id": "iFECHg4Kar0Q"
      },
      "source": [
        "# 5.3 Add convolution layers to right arm\n",
        "\n",
        "x_rt = layers.Conv1D(\n",
        "                      filters = 64,\n",
        "                      kernel_size=3,\n",
        "                      activation='relu'\n",
        "                    )(inputs)\n",
        "\n",
        "# 5.3.1\n",
        "x_rt = layers.Conv1D(\n",
        "                      filters = 128,\n",
        "                      kernel_size=3,\n",
        "                      activation='relu'\n",
        "                    )(x_rt)\n"
      ],
      "execution_count": null,
      "outputs": []
    },
    {
      "cell_type": "code",
      "metadata": {
        "id": "2PwwWFJJSa2c"
      },
      "source": [
        "# 5.4 Concatenate layers & Flatten:\n",
        "x = tf.keras.layers.concatenate([x_left,x_rt])"
      ],
      "execution_count": null,
      "outputs": []
    },
    {
      "cell_type": "code",
      "metadata": {
        "id": "TaZKnOm4ZLkP"
      },
      "source": [
        "# 5.4.1\n",
        "x = layers.Flatten()(x)"
      ],
      "execution_count": null,
      "outputs": []
    },
    {
      "cell_type": "code",
      "metadata": {
        "id": "tuXRzMO7a8iD"
      },
      "source": [
        "# 5.5 Add Dense (classification) layers\n",
        "\n",
        "x = layers.Dense(64, activation = 'relu')(x)\n",
        "x = layers.Dropout(0.5)(x)\n",
        "x = layers.Dense(128, activation = 'relu')(x)"
      ],
      "execution_count": null,
      "outputs": []
    },
    {
      "cell_type": "code",
      "metadata": {
        "id": "fYPEXX6-bFrS"
      },
      "source": [
        "# 5.6 Final layer & model:\n",
        "\n",
        "out = layers.Dense(1,activation = 'sigmoid')(x)"
      ],
      "execution_count": null,
      "outputs": []
    },
    {
      "cell_type": "code",
      "metadata": {
        "id": "uoteGfQibq-f"
      },
      "source": [
        "# 5.7 Create model now\n",
        "model1 = Model(inputs = [inputs], outputs = [out])"
      ],
      "execution_count": null,
      "outputs": []
    },
    {
      "cell_type": "code",
      "metadata": {
        "colab": {
          "base_uri": "https://localhost:8080/",
          "height": 935
        },
        "id": "z8oXJc35rInq",
        "outputId": "c9373993-b660-436f-ac22-220f6c085ea0"
      },
      "source": [
        "# 5.8 Display model now\n",
        "\n",
        "plot_model(model1, show_shapes= True)"
      ],
      "execution_count": null,
      "outputs": [
        {
          "output_type": "execute_result",
          "data": {
            "image/png": "[encoded data removed]",
            "text/plain": [
              "<IPython.core.display.Image object>"
            ]
          },
          "metadata": {},
          "execution_count": 272
        }
      ]
    },
    {
      "cell_type": "code",
      "metadata": {
        "id": "Efzjg2ypSn8-"
      },
      "source": [
        "# 5.8 Compile model\n",
        "model1.compile(\n",
        "                 loss = \"mean_squared_error\",\n",
        "                 optimizer='adam'\n",
        "              )  "
      ],
      "execution_count": null,
      "outputs": []
    },
    {
      "cell_type": "code",
      "metadata": {
        "id": "UwIkzyakZgl9",
        "colab": {
          "base_uri": "https://localhost:8080/"
        },
        "outputId": "c9f0d9de-04fa-4ed7-d33e-da05ae3a37ba"
      },
      "source": [
        "# 5.8.1\n",
        "history = model1.fit(\n",
        "                    train,\n",
        "                    y_train,\n",
        "                    epochs = 50,\n",
        "                    verbose = 1\n",
        "                    )"
      ],
      "execution_count": null,
      "outputs": [
        {
          "output_type": "stream",
          "name": "stdout",
          "text": [
            "Epoch 1/50\n",
            "516/516 [==============================] - 4s 6ms/step - loss: 2.5236\n",
            "Epoch 2/50\n",
            "516/516 [==============================] - 3s 6ms/step - loss: 2.5026\n",
            "Epoch 3/50\n",
            "516/516 [==============================] - 3s 6ms/step - loss: 2.5026\n",
            "Epoch 4/50\n",
            "516/516 [==============================] - 3s 6ms/step - loss: 2.5026\n",
            "Epoch 5/50\n",
            "516/516 [==============================] - 3s 6ms/step - loss: 2.5026\n",
            "Epoch 6/50\n",
            "516/516 [==============================] - 3s 6ms/step - loss: 2.5026\n",
            "Epoch 7/50\n",
            "516/516 [==============================] - 3s 6ms/step - loss: 2.5026\n",
            "Epoch 8/50\n",
            "516/516 [==============================] - 3s 6ms/step - loss: 2.5026\n",
            "Epoch 9/50\n",
            "516/516 [==============================] - 3s 6ms/step - loss: 2.5026\n",
            "Epoch 10/50\n",
            "516/516 [==============================] - 3s 5ms/step - loss: 2.5026\n",
            "Epoch 11/50\n",
            "516/516 [==============================] - 3s 6ms/step - loss: 2.5026\n",
            "Epoch 12/50\n",
            "516/516 [==============================] - 3s 5ms/step - loss: 2.5026\n",
            "Epoch 13/50\n",
            "516/516 [==============================] - 3s 6ms/step - loss: 2.5026\n",
            "Epoch 14/50\n",
            "516/516 [==============================] - 3s 5ms/step - loss: 2.5026\n",
            "Epoch 15/50\n",
            "516/516 [==============================] - 3s 5ms/step - loss: 2.5026\n",
            "Epoch 16/50\n",
            "516/516 [==============================] - 3s 6ms/step - loss: 2.5026\n",
            "Epoch 17/50\n",
            "516/516 [==============================] - 4s 8ms/step - loss: 2.5026\n",
            "Epoch 18/50\n",
            "516/516 [==============================] - 3s 5ms/step - loss: 2.5026\n",
            "Epoch 19/50\n",
            "516/516 [==============================] - 3s 6ms/step - loss: 2.5026\n",
            "Epoch 20/50\n",
            "516/516 [==============================] - 3s 5ms/step - loss: 2.5026\n",
            "Epoch 21/50\n",
            "516/516 [==============================] - 3s 5ms/step - loss: 2.5026\n",
            "Epoch 22/50\n",
            "516/516 [==============================] - 3s 5ms/step - loss: 2.5026\n",
            "Epoch 23/50\n",
            "516/516 [==============================] - 3s 6ms/step - loss: 2.5026\n",
            "Epoch 24/50\n",
            "516/516 [==============================] - 3s 5ms/step - loss: 2.5026\n",
            "Epoch 25/50\n",
            "516/516 [==============================] - 3s 5ms/step - loss: 2.5026\n",
            "Epoch 26/50\n",
            "516/516 [==============================] - 3s 6ms/step - loss: 2.5026\n",
            "Epoch 27/50\n",
            "516/516 [==============================] - 3s 6ms/step - loss: 2.5026\n",
            "Epoch 28/50\n",
            "516/516 [==============================] - 4s 8ms/step - loss: 2.5026\n",
            "Epoch 29/50\n",
            "516/516 [==============================] - 3s 6ms/step - loss: 2.5026\n",
            "Epoch 30/50\n",
            "516/516 [==============================] - 3s 5ms/step - loss: 2.5026\n",
            "Epoch 31/50\n",
            "516/516 [==============================] - 3s 6ms/step - loss: 2.5026\n",
            "Epoch 32/50\n",
            "516/516 [==============================] - 3s 6ms/step - loss: 2.5026\n",
            "Epoch 33/50\n",
            "516/516 [==============================] - 3s 6ms/step - loss: 2.5026\n",
            "Epoch 34/50\n",
            "516/516 [==============================] - 3s 6ms/step - loss: 2.5026\n",
            "Epoch 35/50\n",
            "516/516 [==============================] - 3s 5ms/step - loss: 2.5026\n",
            "Epoch 36/50\n",
            "516/516 [==============================] - 3s 6ms/step - loss: 2.5026\n",
            "Epoch 37/50\n",
            "516/516 [==============================] - 3s 5ms/step - loss: 2.5026\n",
            "Epoch 38/50\n",
            "516/516 [==============================] - 3s 6ms/step - loss: 2.5026\n",
            "Epoch 39/50\n",
            "516/516 [==============================] - 3s 5ms/step - loss: 2.5026\n",
            "Epoch 40/50\n",
            "516/516 [==============================] - 3s 5ms/step - loss: 2.5026\n",
            "Epoch 41/50\n",
            "516/516 [==============================] - 3s 5ms/step - loss: 2.5026\n",
            "Epoch 42/50\n",
            "516/516 [==============================] - 3s 5ms/step - loss: 2.5026\n",
            "Epoch 43/50\n",
            "516/516 [==============================] - 3s 5ms/step - loss: 2.5026\n",
            "Epoch 44/50\n",
            "516/516 [==============================] - 3s 5ms/step - loss: 2.5026\n",
            "Epoch 45/50\n",
            "516/516 [==============================] - 3s 5ms/step - loss: 2.5026\n",
            "Epoch 46/50\n",
            "516/516 [==============================] - 3s 5ms/step - loss: 2.5026\n",
            "Epoch 47/50\n",
            "516/516 [==============================] - 3s 6ms/step - loss: 2.5026\n",
            "Epoch 48/50\n",
            "516/516 [==============================] - 3s 6ms/step - loss: 2.5026\n",
            "Epoch 49/50\n",
            "516/516 [==============================] - 3s 6ms/step - loss: 2.5026\n",
            "Epoch 50/50\n",
            "516/516 [==============================] - 3s 6ms/step - loss: 2.5026\n"
          ]
        }
      ]
    },
    {
      "cell_type": "code",
      "metadata": {
        "id": "aam476z7eGTU",
        "colab": {
          "base_uri": "https://localhost:8080/"
        },
        "outputId": "e3468ee0-e0f1-4208-aaf0-3472cef427f7"
      },
      "source": [
        "# 5.9 \n",
        "model1.evaluate(test,y_test)  "
      ],
      "execution_count": null,
      "outputs": [
        {
          "output_type": "stream",
          "name": "stdout",
          "text": [
            "129/129 [==============================] - 0s 1ms/step - loss: 2.4724\n"
          ]
        },
        {
          "output_type": "execute_result",
          "data": {
            "text/plain": [
              "2.472395420074463"
            ]
          },
          "metadata": {},
          "execution_count": 50
        }
      ]
    },
    {
      "cell_type": "markdown",
      "metadata": {
        "id": "dYuF2BagAAYt"
      },
      "source": [
        "## Two inputs one output"
      ]
    },
    {
      "cell_type": "markdown",
      "metadata": {
        "id": "sWWR4-o8pfwD"
      },
      "source": [
        "![image.png](data:image/png;base64,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)"
      ]
    },
    {
      "cell_type": "markdown",
      "metadata": {
        "id": "KiZRnhQRvLk4"
      },
      "source": [
        "### Quick Code"
      ]
    },
    {
      "cell_type": "markdown",
      "metadata": {
        "id": "I65mh0gGwghe"
      },
      "source": [
        "**Steps**\n",
        "```\n",
        "# a. Define two inputs\n",
        "data1 = X_train[:,:4].copy()\n",
        "data2 = X_train[:,1:8].copy()\n",
        "\n",
        "# b. Two inputs into network: \n",
        "inputsA = tf.keras.Input(\n",
        "                         shape = data1.shape[1] ,\n",
        "                         name = \"abc\"\n",
        "                         )\n",
        "inputsB = tf.keras.Input(\n",
        "                         shape = data2.shape[1],\n",
        "                         name = \"cde\"\n",
        "                         )\n",
        "\n",
        "# c. Built two models as usual with each of two inputs\n",
        "# d. Concatenate output tensor of two models\n",
        "# e. Define your model\n",
        "model = Model(inputs = [inputsA,inputsB], outputs = [out])\n",
        "# f. Compile model\n",
        "# g. Train the model now.\n",
        "model.fit(\n",
        "\n",
        "\t          {\n",
        "             \"abc\" : data1,\n",
        "             \"cde\" : data2\n",
        "            },\n",
        "            y_train,\n",
        "            epochs = 5\n",
        "           )\n",
        "```"
      ]
    },
    {
      "cell_type": "code",
      "metadata": {
        "id": "Ckmq-MbhuUro"
      },
      "source": [
        "# 6.0 Two inputs\n",
        "data1 = X_train[:,:4].copy()\n",
        "data2 = X_train[:,1:8].copy()\n",
        "\n",
        "# Define shapes of tensors getting into our models: \n",
        "inputsA = tf.keras.Input(\n",
        "                         shape = data1.shape[1] ,\n",
        "                         name = \"abc\"\n",
        "                         )\n",
        "inputsB = tf.keras.Input(\n",
        "                         shape = data2.shape[1],\n",
        "                         name = \"cde\"\n",
        "                         )\n",
        "\n",
        "# 6.1 One arm of network\n",
        "x = layers.Dense(100, activation = 'relu')(inputsB)\n",
        "x = layers.Dense(100,activation= 'relu')(x)\n",
        "\n",
        "# 6.1.1 Other arm of network\n",
        "y = layers.Dense(100, activation = 'relu')(inputsA)\n",
        "y = layers.Dense(100,activation= 'relu')(y)\n",
        "\n",
        "# 6.2 Concatenate one input with output of another arm\n",
        "concat = layers.concatenate([x,y])\n",
        "\n",
        "# 6.3 Output layer\n",
        "out = layers.Dense(1,activation = 'sigmoid')(concat)\n",
        "\n",
        "# 6.4 Create model and show summary\n",
        "model2 = Model(inputs = [inputsA,inputsB], outputs = [out])\n",
        "\n",
        "\n",
        "# 6.5 Compile model\n",
        "model2.compile(\n",
        "               optimizer='rmsprop', \n",
        "               loss = 'mean_squared_error'\n",
        "               )\n",
        "\n",
        "# 6.6 Train the model now.\n",
        "#     We must have a way to match\n",
        "#     our ORIGINAL InputsA and InputsB\n",
        "#     with what is fed here:\n",
        "\n",
        "model2.fit(\n",
        "\n",
        "\t          {\n",
        "             \"abc\" : data1,\n",
        "             \"cde\" : data2\n",
        "            },\n",
        "            y_train,\n",
        "            epochs = 5\n",
        "           )\n"
      ],
      "execution_count": null,
      "outputs": []
    },
    {
      "cell_type": "markdown",
      "metadata": {
        "id": "Oj0GgNhjvOz1"
      },
      "source": [
        "### Line-by-line explanation"
      ]
    },
    {
      "cell_type": "code",
      "metadata": {
        "id": "SYrB04GJNwrN"
      },
      "source": [
        "# 6.0 We have two inputs\n",
        "inputsA = tf.keras.Input(shape = X_train[:,:4].shape[1:])\n",
        "inputsB = tf.keras.Input(shape = X_train[:,1:8].shape[1:])"
      ],
      "execution_count": null,
      "outputs": []
    },
    {
      "cell_type": "code",
      "metadata": {
        "id": "i1iVJhhcRTIi"
      },
      "source": [
        "# 6.1 One arm of network\n",
        "x = layers.Dense(100, activation = 'relu')(inputsB)\n",
        "x = layers.Dense(100,activation= 'relu')(x)\n"
      ],
      "execution_count": null,
      "outputs": []
    },
    {
      "cell_type": "code",
      "metadata": {
        "id": "zIsInJ44hjYK"
      },
      "source": [
        "# 6.1.1 Other arm of network\n",
        "y = layers.Dense(100, activation = 'relu')(inputsA)\n",
        "y = layers.Dense(100,activation= 'relu')(y)\n"
      ],
      "execution_count": null,
      "outputs": []
    },
    {
      "cell_type": "code",
      "metadata": {
        "id": "l6iLjl8gSa69"
      },
      "source": [
        "# 6.2 Concatenate one input with output of another arm\n",
        "concat = layers.concatenate([x,y])"
      ],
      "execution_count": null,
      "outputs": []
    },
    {
      "cell_type": "code",
      "metadata": {
        "id": "lG3SQHycS1Tu"
      },
      "source": [
        "# 6.3 Output layer\n",
        "out = layers.Dense(1,activation = 'sigmoid')(concat)\n"
      ],
      "execution_count": null,
      "outputs": []
    },
    {
      "cell_type": "code",
      "metadata": {
        "id": "x90xNBumS_bd"
      },
      "source": [
        "# 6.4 Create model and show summary\n",
        "model2 = Model(inputs = [inputsA,inputsB], outputs = [out])\n",
        "model2.summary()"
      ],
      "execution_count": null,
      "outputs": []
    },
    {
      "cell_type": "code",
      "metadata": {
        "id": "YWwLnTskTPDi"
      },
      "source": [
        "# 6.5 Compile model\n",
        "model2.compile(\n",
        "               optimizer='rmsprop', \n",
        "               loss = 'mean_squared_error'\n",
        "               )\n",
        "\n",
        "# 6.6 Train the model now.\n",
        "#     Note the two train inputs\n",
        "model2.fit(\n",
        "            [X_train[:,:4], X_train[:,1:8]],\n",
        "            y_train,\n",
        "            epochs = 100\n",
        "           )"
      ],
      "execution_count": null,
      "outputs": []
    },
    {
      "cell_type": "code",
      "metadata": {
        "colab": {
          "base_uri": "https://localhost:8080/"
        },
        "id": "DoeGXEDjh4Pa",
        "outputId": "d4bee7e9-6b08-44f6-8ac8-5b3c9422a0f5"
      },
      "source": [
        "# 6.7 \n",
        "model2.evaluate( [X_test[:,:4], X_test[:,1:8]],y_test)  "
      ],
      "execution_count": null,
      "outputs": [
        {
          "output_type": "stream",
          "name": "stdout",
          "text": [
            "129/129 [==============================] - 0s 2ms/step - loss: 2.5633\n"
          ]
        },
        {
          "output_type": "execute_result",
          "data": {
            "text/plain": [
              "2.563317060470581"
            ]
          },
          "metadata": {},
          "execution_count": 146
        }
      ]
    },
    {
      "cell_type": "code",
      "metadata": {
        "id": "F5MvbvlUTYd3"
      },
      "source": [
        "# 6.8 Plot our model\n",
        "plot_model(model2)"
      ],
      "execution_count": null,
      "outputs": []
    },
    {
      "cell_type": "markdown",
      "metadata": {
        "id": "eqjA96pAERaO"
      },
      "source": [
        "## Two inputs and two outputs model\n",
        "Can be skipped in the class"
      ]
    },
    {
      "cell_type": "markdown",
      "metadata": {
        "id": "w1Zgn6ioVGNv"
      },
      "source": [
        "![image.png](data:image/png;base64,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)"
      ]
    },
    {
      "cell_type": "code",
      "metadata": {
        "id": "c2Bg8Lm2Ei0y"
      },
      "source": [
        "# 7.0 We have two inputs.\n",
        "#     To distiguish them, we give names to each\n",
        "inputsA = tf.keras.Input(\n",
        "                          shape = X_train[:,:4].shape[1:],\n",
        "                          name = \"in_a\"\n",
        "                         )\n",
        "\n",
        "# 7.1\n",
        "inputsB = tf.keras.Input(\n",
        "                          shape = X_train[:,1:8].shape[1:],\n",
        "                          name = \"in_b\"\n",
        "                        )\n",
        "\n",
        "\n",
        "# 7.2 One arm of network\n",
        "x = layers.Dense(100, activation = 'relu')(inputsB)\n",
        "x = layers.Dense(100,activation= 'relu')(x)\n",
        "\n",
        "# 7.3 Concatenate an input with output of one arm\n",
        "concat = layers.concatenate([x,inputsA])\n",
        "\n",
        "# 7.4 Output layers\n",
        "#     We have two output layers. To distiguish them, we give names to each\n",
        "out_x = layers.Dense(1,activation = 'sigmoid' , name = \"out_a\")(concat)\n",
        "out_y = layers.Dense(1,activation = 'sigmoid', name = \"out_b\")(x)\n",
        "\n",
        "# 7.5 Create model and show summary\n",
        "#     While outputs are two, model is one\n",
        "main_model = Model(inputs = [inputsA,inputsB], outputs = [out_x, out_y])\n",
        "main_model.summary()\n"
      ],
      "execution_count": null,
      "outputs": []
    },
    {
      "cell_type": "code",
      "metadata": {
        "id": "BOmnKemAlzJ6"
      },
      "source": [
        "# 7.6 Plot the model now\n",
        "plot_model(main_model, show_shapes = True)"
      ],
      "execution_count": null,
      "outputs": []
    },
    {
      "cell_type": "code",
      "metadata": {
        "id": "1qGf1FQf7AkD"
      },
      "source": [
        "# 8.0 Compile model now\n",
        "# Ref: Model.compile: \n",
        "#      https://wwwa.tensorflow.org/api_docs/python/tf/keras/Model\n",
        "\n",
        "main_model.compile(\n",
        "                     loss = ['mse', 'mse'],        # Could also be in dict() format\n",
        "                     metrics = \"mse\",\n",
        "                     loss_weights= {\"out_a\": 0.9,   # More weight to error here\n",
        "                                    \"out_b\" : 0.1   # Less weight to error here\n",
        "                                    }\n",
        "                   )"
      ],
      "execution_count": null,
      "outputs": []
    },
    {
      "cell_type": "code",
      "metadata": {
        "id": "uEeYQ5aD7oJV"
      },
      "source": [
        "# 8.1\n",
        "main_model.fit(\n",
        "               {                            #[X_train[:,:4],X_train[:,1:8]]\n",
        "                   \"in_a\" : X_train[:,:4],  # One input\n",
        "                   \"in_b\" : X_train[:,1:8]  # IInd input     \n",
        "               },              \n",
        "               [y_train,y_train],\n",
        "               epochs = 100\n",
        "           )"
      ],
      "execution_count": null,
      "outputs": []
    },
    {
      "cell_type": "code",
      "metadata": {
        "id": "eaDhO7KXFy2m"
      },
      "source": [
        "# 8.2 One can also write outputs in a dictionary form, as:\n",
        "\n",
        "main_model.fit(\n",
        "               {                            #[X_train[:,:4],X_train[:,1:8]]\n",
        "                   \"in_a\" : X_train[:,:4],  # One input\n",
        "                   \"in_b\" : X_train[:,1:8]  # IInd input     \n",
        "               },              \n",
        "               {\n",
        "                   \"out_a\" : y_train,\n",
        "                   \"out_b\" : y_train\n",
        "               },\n",
        "               epochs = 100\n",
        "           )"
      ],
      "execution_count": null,
      "outputs": []
    },
    {
      "cell_type": "code",
      "metadata": {
        "id": "lqDTxCZr8fxs",
        "colab": {
          "base_uri": "https://localhost:8080/"
        },
        "outputId": "7d82d2cf-2148-4f0f-eb13-dfd2e3e24b0b"
      },
      "source": [
        "# 8.3 To evaluate, we must also supply two inputs\n",
        "main_model.evaluate(\n",
        "                     [X_test[:,:4],X_test[:,1:8]],\n",
        "                      y_test\n",
        "                    )"
      ],
      "execution_count": null,
      "outputs": [
        {
          "output_type": "stream",
          "name": "stdout",
          "text": [
            "129/129 [==============================] - 0s 1ms/step - loss: 2.5633 - out_a_loss: 2.5632 - out_b_loss: 2.5639 - out_a_mse: 2.5632 - out_b_mse: 2.5639\n"
          ]
        },
        {
          "output_type": "execute_result",
          "data": {
            "text/plain": [
              "[2.5633063316345215,\n",
              " 2.563241958618164,\n",
              " 2.563885450363159,\n",
              " 2.563241958618164,\n",
              " 2.563885450363159]"
            ]
          },
          "metadata": {},
          "execution_count": 153
        }
      ]
    },
    {
      "cell_type": "code",
      "metadata": {
        "id": "3MhQF056p09N"
      },
      "source": [
        "########### It is done ##############"
      ],
      "execution_count": null,
      "outputs": []
    }
  ]
}