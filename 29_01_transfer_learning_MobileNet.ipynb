{
  "nbformat": 4,
  "nbformat_minor": 0,
  "metadata": {
    "colab": {
      "provenance": [],
      "include_colab_link": true
    },
    "kernelspec": {
      "name": "python3",
      "display_name": "Python 3"
    },
    "language_info": {
      "name": "python"
    },
    "accelerator": "GPU"
  },
  "cells": [
    {
      "cell_type": "markdown",
      "metadata": {
        "id": "view-in-github",
        "colab_type": "text"
      },
      "source": [
        "<a href=\"https://colab.research.google.com/github/Tanuja2725/deeplearning/blob/main/29_01_transfer_learning_MobileNet.ipynb\" target=\"_parent\"><img src=\"https://colab.research.google.com/assets/colab-badge.svg\" alt=\"Open In Colab\"/></a>"
      ]
    },
    {
      "cell_type": "code",
      "source": [
        "# Last amended: 29th Jan, 2023\n",
        "# https://www.tensorflow.org/tutorials/images/transfer_learning"
      ],
      "metadata": {
        "id": "XXZuzDlzHuNk"
      },
      "execution_count": null,
      "outputs": []
    },
    {
      "cell_type": "markdown",
      "source": [
        "Objectives\n",
        "> Examine and understand the data<br>\n",
        "> Build an input pipeline, in this case using Keras ImageDataGenerator<br>\n",
        ">>Compose the model<br>\n",
        ">>Load in the pretrained base model (and pretrained weights)<br>\n",
        ">Stack the classification layers on top<br>\n",
        ">Train the model<br>\n",
        ">Evaluate model<br>\n"
      ],
      "metadata": {
        "id": "r5c3cBZ1Fu8s"
      }
    },
    {
      "cell_type": "markdown",
      "source": [
        "Note: It appears in this model, learning rate plays a very crucial role. Further, whenever you change any model-compilation parameters, start from %reset point. Deleteing model, re-initializing etc do not appear to help."
      ],
      "metadata": {
        "id": "2Qf-GIGC09zr"
      }
    },
    {
      "cell_type": "markdown",
      "source": [
        "## Install software"
      ],
      "metadata": {
        "id": "eO6XUMURXTRD"
      }
    },
    {
      "cell_type": "code",
      "source": [
        "# 1.0 Install current tensorflow\n",
        "!pip install tensorflow==2.10.0"
      ],
      "metadata": {
        "id": "L64-cuBzH8sA",
        "colab": {
          "base_uri": "https://localhost:8080/"
        },
        "outputId": "6770e837-a1e0-43d1-f944-8221cee8d336"
      },
      "execution_count": null,
      "outputs": [
        {
          "output_type": "stream",
          "name": "stdout",
          "text": [
            "Looking in indexes: https://pypi.org/simple, https://us-python.pkg.dev/colab-wheels/public/simple/\n",
            "Collecting tensorflow==2.10.0\n",
            "  Downloading tensorflow-2.10.0-cp38-cp38-manylinux_2_17_x86_64.manylinux2014_x86_64.whl (578.1 MB)\n",
            "\u001b[2K     \u001b[90m━━━━━━━━━━━━━━━━━━━━━━━━━━━━━━━━━━━━━━━\u001b[0m \u001b[32m578.1/578.1 MB\u001b[0m \u001b[31m2.5 MB/s\u001b[0m eta \u001b[36m0:00:00\u001b[0m\n",
            "\u001b[?25hRequirement already satisfied: libclang>=13.0.0 in /usr/local/lib/python3.8/dist-packages (from tensorflow==2.10.0) (15.0.6.1)\n",
            "Requirement already satisfied: opt-einsum>=2.3.2 in /usr/local/lib/python3.8/dist-packages (from tensorflow==2.10.0) (3.3.0)\n",
            "Collecting flatbuffers>=2.0\n",
            "  Downloading flatbuffers-23.1.21-py2.py3-none-any.whl (26 kB)\n",
            "Requirement already satisfied: setuptools in /usr/local/lib/python3.8/dist-packages (from tensorflow==2.10.0) (57.4.0)\n",
            "Requirement already satisfied: h5py>=2.9.0 in /usr/local/lib/python3.8/dist-packages (from tensorflow==2.10.0) (3.1.0)\n",
            "Requirement already satisfied: numpy>=1.20 in /usr/local/lib/python3.8/dist-packages (from tensorflow==2.10.0) (1.21.6)\n",
            "Requirement already satisfied: gast<=0.4.0,>=0.2.1 in /usr/local/lib/python3.8/dist-packages (from tensorflow==2.10.0) (0.4.0)\n",
            "Requirement already satisfied: wrapt>=1.11.0 in /usr/local/lib/python3.8/dist-packages (from tensorflow==2.10.0) (1.14.1)\n",
            "Requirement already satisfied: absl-py>=1.0.0 in /usr/local/lib/python3.8/dist-packages (from tensorflow==2.10.0) (1.4.0)\n",
            "Requirement already satisfied: keras-preprocessing>=1.1.1 in /usr/local/lib/python3.8/dist-packages (from tensorflow==2.10.0) (1.1.2)\n",
            "Collecting tensorflow-estimator<2.11,>=2.10.0\n",
            "  Downloading tensorflow_estimator-2.10.0-py2.py3-none-any.whl (438 kB)\n",
            "\u001b[2K     \u001b[90m━━━━━━━━━━━━━━━━━━━━━━━━━━━━━━━━━━━━━━\u001b[0m \u001b[32m438.7/438.7 KB\u001b[0m \u001b[31m39.0 MB/s\u001b[0m eta \u001b[36m0:00:00\u001b[0m\n",
            "\u001b[?25hRequirement already satisfied: google-pasta>=0.1.1 in /usr/local/lib/python3.8/dist-packages (from tensorflow==2.10.0) (0.2.0)\n",
            "Requirement already satisfied: tensorflow-io-gcs-filesystem>=0.23.1 in /usr/local/lib/python3.8/dist-packages (from tensorflow==2.10.0) (0.30.0)\n",
            "Requirement already satisfied: protobuf<3.20,>=3.9.2 in /usr/local/lib/python3.8/dist-packages (from tensorflow==2.10.0) (3.19.6)\n",
            "Requirement already satisfied: astunparse>=1.6.0 in /usr/local/lib/python3.8/dist-packages (from tensorflow==2.10.0) (1.6.3)\n",
            "Requirement already satisfied: termcolor>=1.1.0 in /usr/local/lib/python3.8/dist-packages (from tensorflow==2.10.0) (2.2.0)\n",
            "Requirement already satisfied: packaging in /usr/local/lib/python3.8/dist-packages (from tensorflow==2.10.0) (23.0)\n",
            "Requirement already satisfied: typing-extensions>=3.6.6 in /usr/local/lib/python3.8/dist-packages (from tensorflow==2.10.0) (4.4.0)\n",
            "Collecting keras<2.11,>=2.10.0\n",
            "  Downloading keras-2.10.0-py2.py3-none-any.whl (1.7 MB)\n",
            "\u001b[2K     \u001b[90m━━━━━━━━━━━━━━━━━━━━━━━━━━━━━━━━━━━━━━━━\u001b[0m \u001b[32m1.7/1.7 MB\u001b[0m \u001b[31m43.1 MB/s\u001b[0m eta \u001b[36m0:00:00\u001b[0m\n",
            "\u001b[?25hRequirement already satisfied: six>=1.12.0 in /usr/local/lib/python3.8/dist-packages (from tensorflow==2.10.0) (1.15.0)\n",
            "Collecting tensorboard<2.11,>=2.10\n",
            "  Downloading tensorboard-2.10.1-py3-none-any.whl (5.9 MB)\n",
            "\u001b[2K     \u001b[90m━━━━━━━━━━━━━━━━━━━━━━━━━━━━━━━━━━━━━━━━\u001b[0m \u001b[32m5.9/5.9 MB\u001b[0m \u001b[31m76.6 MB/s\u001b[0m eta \u001b[36m0:00:00\u001b[0m\n",
            "\u001b[?25hRequirement already satisfied: grpcio<2.0,>=1.24.3 in /usr/local/lib/python3.8/dist-packages (from tensorflow==2.10.0) (1.51.1)\n",
            "Requirement already satisfied: wheel<1.0,>=0.23.0 in /usr/local/lib/python3.8/dist-packages (from astunparse>=1.6.0->tensorflow==2.10.0) (0.38.4)\n",
            "Requirement already satisfied: werkzeug>=1.0.1 in /usr/local/lib/python3.8/dist-packages (from tensorboard<2.11,>=2.10->tensorflow==2.10.0) (1.0.1)\n",
            "Requirement already satisfied: requests<3,>=2.21.0 in /usr/local/lib/python3.8/dist-packages (from tensorboard<2.11,>=2.10->tensorflow==2.10.0) (2.25.1)\n",
            "Requirement already satisfied: google-auth-oauthlib<0.5,>=0.4.1 in /usr/local/lib/python3.8/dist-packages (from tensorboard<2.11,>=2.10->tensorflow==2.10.0) (0.4.6)\n",
            "Requirement already satisfied: markdown>=2.6.8 in /usr/local/lib/python3.8/dist-packages (from tensorboard<2.11,>=2.10->tensorflow==2.10.0) (3.4.1)\n",
            "Requirement already satisfied: google-auth<3,>=1.6.3 in /usr/local/lib/python3.8/dist-packages (from tensorboard<2.11,>=2.10->tensorflow==2.10.0) (2.16.0)\n",
            "Requirement already satisfied: tensorboard-data-server<0.7.0,>=0.6.0 in /usr/local/lib/python3.8/dist-packages (from tensorboard<2.11,>=2.10->tensorflow==2.10.0) (0.6.1)\n",
            "Requirement already satisfied: tensorboard-plugin-wit>=1.6.0 in /usr/local/lib/python3.8/dist-packages (from tensorboard<2.11,>=2.10->tensorflow==2.10.0) (1.8.1)\n",
            "Requirement already satisfied: cachetools<6.0,>=2.0.0 in /usr/local/lib/python3.8/dist-packages (from google-auth<3,>=1.6.3->tensorboard<2.11,>=2.10->tensorflow==2.10.0) (5.3.0)\n",
            "Requirement already satisfied: pyasn1-modules>=0.2.1 in /usr/local/lib/python3.8/dist-packages (from google-auth<3,>=1.6.3->tensorboard<2.11,>=2.10->tensorflow==2.10.0) (0.2.8)\n",
            "Requirement already satisfied: rsa<5,>=3.1.4 in /usr/local/lib/python3.8/dist-packages (from google-auth<3,>=1.6.3->tensorboard<2.11,>=2.10->tensorflow==2.10.0) (4.9)\n",
            "Requirement already satisfied: requests-oauthlib>=0.7.0 in /usr/local/lib/python3.8/dist-packages (from google-auth-oauthlib<0.5,>=0.4.1->tensorboard<2.11,>=2.10->tensorflow==2.10.0) (1.3.1)\n",
            "Requirement already satisfied: importlib-metadata>=4.4 in /usr/local/lib/python3.8/dist-packages (from markdown>=2.6.8->tensorboard<2.11,>=2.10->tensorflow==2.10.0) (6.0.0)\n",
            "Requirement already satisfied: chardet<5,>=3.0.2 in /usr/local/lib/python3.8/dist-packages (from requests<3,>=2.21.0->tensorboard<2.11,>=2.10->tensorflow==2.10.0) (4.0.0)\n",
            "Requirement already satisfied: urllib3<1.27,>=1.21.1 in /usr/local/lib/python3.8/dist-packages (from requests<3,>=2.21.0->tensorboard<2.11,>=2.10->tensorflow==2.10.0) (1.24.3)\n",
            "Requirement already satisfied: idna<3,>=2.5 in /usr/local/lib/python3.8/dist-packages (from requests<3,>=2.21.0->tensorboard<2.11,>=2.10->tensorflow==2.10.0) (2.10)\n",
            "Requirement already satisfied: certifi>=2017.4.17 in /usr/local/lib/python3.8/dist-packages (from requests<3,>=2.21.0->tensorboard<2.11,>=2.10->tensorflow==2.10.0) (2022.12.7)\n",
            "Requirement already satisfied: zipp>=0.5 in /usr/local/lib/python3.8/dist-packages (from importlib-metadata>=4.4->markdown>=2.6.8->tensorboard<2.11,>=2.10->tensorflow==2.10.0) (3.12.0)\n",
            "Requirement already satisfied: pyasn1<0.5.0,>=0.4.6 in /usr/local/lib/python3.8/dist-packages (from pyasn1-modules>=0.2.1->google-auth<3,>=1.6.3->tensorboard<2.11,>=2.10->tensorflow==2.10.0) (0.4.8)\n",
            "Requirement already satisfied: oauthlib>=3.0.0 in /usr/local/lib/python3.8/dist-packages (from requests-oauthlib>=0.7.0->google-auth-oauthlib<0.5,>=0.4.1->tensorboard<2.11,>=2.10->tensorflow==2.10.0) (3.2.2)\n",
            "Installing collected packages: keras, flatbuffers, tensorflow-estimator, tensorboard, tensorflow\n",
            "  Attempting uninstall: keras\n",
            "    Found existing installation: keras 2.9.0\n",
            "    Uninstalling keras-2.9.0:\n",
            "      Successfully uninstalled keras-2.9.0\n",
            "  Attempting uninstall: flatbuffers\n",
            "    Found existing installation: flatbuffers 1.12\n",
            "    Uninstalling flatbuffers-1.12:\n",
            "      Successfully uninstalled flatbuffers-1.12\n",
            "  Attempting uninstall: tensorflow-estimator\n",
            "    Found existing installation: tensorflow-estimator 2.9.0\n",
            "    Uninstalling tensorflow-estimator-2.9.0:\n",
            "      Successfully uninstalled tensorflow-estimator-2.9.0\n",
            "  Attempting uninstall: tensorboard\n",
            "    Found existing installation: tensorboard 2.9.1\n",
            "    Uninstalling tensorboard-2.9.1:\n",
            "      Successfully uninstalled tensorboard-2.9.1\n",
            "  Attempting uninstall: tensorflow\n",
            "    Found existing installation: tensorflow 2.9.2\n",
            "    Uninstalling tensorflow-2.9.2:\n",
            "      Successfully uninstalled tensorflow-2.9.2\n",
            "Successfully installed flatbuffers-23.1.21 keras-2.10.0 tensorboard-2.10.1 tensorflow-2.10.0 tensorflow-estimator-2.10.0\n"
          ]
        }
      ]
    },
    {
      "cell_type": "markdown",
      "source": [
        "## Call libraries"
      ],
      "metadata": {
        "id": "kRiPG-roXZEj"
      }
    },
    {
      "cell_type": "code",
      "source": [
        "# 1.1\n",
        "#%reset\n",
        "import numpy as np\n",
        "import pandas as pd\n",
        "\n",
        "# 1.1.1\n",
        "import matplotlib.pyplot as plt\n",
        "\n",
        "# 1.1.2\n",
        "import tensorflow as tf\n",
        "\n",
        "# 1.1.3\n",
        "import PIL\n",
        "import pathlib,os"
      ],
      "metadata": {
        "id": "6jiQVHZLIMaS"
      },
      "execution_count": null,
      "outputs": []
    },
    {
      "cell_type": "code",
      "source": [
        "# 1.1.4\n",
        "tf.__version__"
      ],
      "metadata": {
        "colab": {
          "base_uri": "https://localhost:8080/",
          "height": 36
        },
        "id": "Jh_eGqDBJfxg",
        "outputId": "19bfac6e-172a-4910-8a4f-d6a5d92464d8"
      },
      "execution_count": null,
      "outputs": [
        {
          "output_type": "execute_result",
          "data": {
            "text/plain": [
              "'2.10.0'"
            ],
            "application/vnd.google.colaboratory.intrinsic+json": {
              "type": "string"
            }
          },
          "metadata": {},
          "execution_count": 4
        }
      ]
    },
    {
      "cell_type": "code",
      "source": [
        "# 1.1.5 Display multiple outputs from a Cell\n",
        "\n",
        "from IPython.core.interactiveshell import InteractiveShell\n",
        "InteractiveShell.ast_node_interactivity = \"all\"\n"
      ],
      "metadata": {
        "id": "B4LFsatvDXsf"
      },
      "execution_count": null,
      "outputs": []
    },
    {
      "cell_type": "markdown",
      "source": [
        "## Download data"
      ],
      "metadata": {
        "id": "7ov3ECRCXw87"
      }
    },
    {
      "cell_type": "code",
      "source": [
        "# 2.0 Data URL:\n",
        "\n",
        "data_url = 'https://storage.googleapis.com/mledu-datasets/cats_and_dogs_filtered.zip'"
      ],
      "metadata": {
        "id": "MS_pro45Hl2z"
      },
      "execution_count": null,
      "outputs": []
    },
    {
      "cell_type": "code",
      "source": [
        "# 2.1 Delete any existing data\n",
        "\n",
        "!rm -rf /root/.keras/datasets"
      ],
      "metadata": {
        "id": "-UshADsgK9RJ"
      },
      "execution_count": null,
      "outputs": []
    },
    {
      "cell_type": "code",
      "source": [
        "# 2.2 Download now:\n",
        "\n",
        "data_dir = tf.keras.utils.get_file(origin = data_url, extract= True)\n",
        "data_dir"
      ],
      "metadata": {
        "colab": {
          "base_uri": "https://localhost:8080/",
          "height": 90
        },
        "id": "EEmE_kwcH2KB",
        "outputId": "2b395488-7d8e-47c0-99a6-2f653a842358"
      },
      "execution_count": null,
      "outputs": [
        {
          "output_type": "stream",
          "name": "stdout",
          "text": [
            "Downloading data from https://storage.googleapis.com/mledu-datasets/cats_and_dogs_filtered.zip\n",
            "68606236/68606236 [==============================] - 4s 0us/step\n"
          ]
        },
        {
          "output_type": "execute_result",
          "data": {
            "text/plain": [
              "'/root/.keras/datasets/cats_and_dogs_filtered.zip'"
            ],
            "application/vnd.google.colaboratory.intrinsic+json": {
              "type": "string"
            }
          },
          "metadata": {},
          "execution_count": 8
        }
      ]
    },
    {
      "cell_type": "code",
      "source": [
        "# 2.3 Check data files:\n",
        "\n",
        "!ls /root/.keras/datasets"
      ],
      "metadata": {
        "colab": {
          "base_uri": "https://localhost:8080/"
        },
        "id": "I2Z9lTjZKSPy",
        "outputId": "34882aac-fb7b-4912-d273-2ff77ebdaafc"
      },
      "execution_count": null,
      "outputs": [
        {
          "output_type": "stream",
          "name": "stdout",
          "text": [
            "cats_and_dogs_filtered\tcats_and_dogs_filtered.zip\n"
          ]
        }
      ]
    },
    {
      "cell_type": "code",
      "source": [
        "# 2.3.1 Check data files:\n",
        "\n",
        "!ls /root/.keras/datasets/cats_and_dogs_filtered"
      ],
      "metadata": {
        "colab": {
          "base_uri": "https://localhost:8080/"
        },
        "id": "w-9d4R71LD8o",
        "outputId": "b8c9b3a6-deeb-439b-cdab-98771e2f1d38"
      },
      "execution_count": null,
      "outputs": [
        {
          "output_type": "stream",
          "name": "stdout",
          "text": [
            "train  validation  vectorize.py\n"
          ]
        }
      ]
    },
    {
      "cell_type": "code",
      "source": [
        "#2.3.2\n",
        "!cat /root/.keras/datasets/cats_and_dogs_filtered/vectorize.py"
      ],
      "metadata": {
        "colab": {
          "base_uri": "https://localhost:8080/"
        },
        "id": "M12zbHNQeTeL",
        "outputId": "f1ae67fe-302c-40b9-e8e7-173299820f93"
      },
      "execution_count": null,
      "outputs": [
        {
          "output_type": "stream",
          "name": "stdout",
          "text": [
            "from keras.preprocessing.image import array_to_img, img_to_array, load_img\n",
            "\n",
            "import os\n",
            "\n",
            "for fname in os.listdir('train/cats'):\n",
            "  print fname\n"
          ]
        }
      ]
    },
    {
      "cell_type": "markdown",
      "source": [
        "## Examine data"
      ],
      "metadata": {
        "id": "XfaD8EeDZ_kN"
      }
    },
    {
      "cell_type": "code",
      "source": [
        "pathlib.Path"
      ],
      "metadata": {
        "colab": {
          "base_uri": "https://localhost:8080/"
        },
        "id": "b2KIDEu2Kg1L",
        "outputId": "704391c9-6717-48a8-810e-e5de7c012c09"
      },
      "execution_count": null,
      "outputs": [
        {
          "output_type": "execute_result",
          "data": {
            "text/plain": [
              "pathlib.Path"
            ]
          },
          "metadata": {},
          "execution_count": 12
        }
      ]
    },
    {
      "cell_type": "code",
      "source": [
        "pathlib.Path"
      ],
      "metadata": {
        "colab": {
          "base_uri": "https://localhost:8080/"
        },
        "id": "uUF3VfCo8p4D",
        "outputId": "7ed8c804-5fd5-41b4-a989-05b8d07463aa"
      },
      "execution_count": null,
      "outputs": [
        {
          "output_type": "execute_result",
          "data": {
            "text/plain": [
              "pathlib.Path"
            ]
          },
          "metadata": {},
          "execution_count": 13
        }
      ]
    },
    {
      "cell_type": "code",
      "source": [
        "# 2.3.2\n",
        "\n",
        "data_dir = pathlib.Path(\"/root/.keras/datasets/cats_and_dogs_filtered\")"
      ],
      "metadata": {
        "id": "PJAOH6JDLMOC"
      },
      "execution_count": null,
      "outputs": []
    },
    {
      "cell_type": "code",
      "source": [
        "#2.3.3make them(data) read only\n",
        "\n",
        "data_dir.chmod(777)"
      ],
      "metadata": {
        "id": "CV5A79AO8_0X"
      },
      "execution_count": null,
      "outputs": []
    },
    {
      "cell_type": "code",
      "source": [
        "#2.3.4\n",
        "!ls -la /root/.keras/datasets"
      ],
      "metadata": {
        "colab": {
          "base_uri": "https://localhost:8080/"
        },
        "id": "CelTkpbm9Iww",
        "outputId": "a1f7c197-e3d8-407f-b06b-2adab044e894"
      },
      "execution_count": null,
      "outputs": [
        {
          "output_type": "stream",
          "name": "stdout",
          "text": [
            "total 67012\n",
            "drwxr-xr-x 3 root root     4096 Feb  9 16:07 .\n",
            "drwxr-xr-x 1 root root     4096 Feb  9 16:07 ..\n",
            "dr----x--t 4 root root     4096 Feb  9 16:07 cats_and_dogs_filtered\n",
            "-rw-r--r-- 1 root root 68606236 Feb  9 16:07 cats_and_dogs_filtered.zip\n"
          ]
        }
      ]
    },
    {
      "cell_type": "code",
      "source": [
        "# 2.3.5 Iterate over data_dir: \n",
        "\n",
        "for i in data_dir.iterdir():\n",
        "  print(i)"
      ],
      "metadata": {
        "id": "p6TyegESOBMx",
        "colab": {
          "base_uri": "https://localhost:8080/"
        },
        "outputId": "8dcd89cb-8633-423e-8087-dcfd1a00e959"
      },
      "execution_count": null,
      "outputs": [
        {
          "output_type": "stream",
          "name": "stdout",
          "text": [
            "/root/.keras/datasets/cats_and_dogs_filtered/train\n",
            "/root/.keras/datasets/cats_and_dogs_filtered/validation\n",
            "/root/.keras/datasets/cats_and_dogs_filtered/vectorize.py\n"
          ]
        }
      ]
    },
    {
      "cell_type": "code",
      "source": [
        "a = data_dir / \"train\""
      ],
      "metadata": {
        "id": "Om_R3rq5fJd1"
      },
      "execution_count": null,
      "outputs": []
    },
    {
      "cell_type": "code",
      "source": [
        "type(a)"
      ],
      "metadata": {
        "colab": {
          "base_uri": "https://localhost:8080/"
        },
        "id": "M9l_laWCfPj9",
        "outputId": "d943075d-9791-4744-98df-30cadc057d58"
      },
      "execution_count": null,
      "outputs": [
        {
          "output_type": "execute_result",
          "data": {
            "text/plain": [
              "pathlib.PosixPath"
            ]
          },
          "metadata": {},
          "execution_count": 19
        }
      ]
    },
    {
      "cell_type": "code",
      "source": [
        "# 2.3.4 Check within train:\n",
        "\n",
        "for j in (a).iterdir():\n",
        "  print(j)"
      ],
      "metadata": {
        "colab": {
          "base_uri": "https://localhost:8080/"
        },
        "id": "NiAy91uuOQZ4",
        "outputId": "2ad31a7e-94c3-4da1-a5bc-8e930b5bbd3c"
      },
      "execution_count": null,
      "outputs": [
        {
          "output_type": "stream",
          "name": "stdout",
          "text": [
            "/root/.keras/datasets/cats_and_dogs_filtered/train/dogs\n",
            "/root/.keras/datasets/cats_and_dogs_filtered/train/cats\n"
          ]
        }
      ]
    },
    {
      "cell_type": "code",
      "source": [
        "# 3.0 Plot images:\n",
        "\n",
        "plt.figure(figsize = (10,10))\n",
        "for k,i in enumerate((data_dir / \"train\").iterdir()):\n",
        "  for j in i.iterdir():\n",
        "    im = PIL.Image.open(j)\n",
        "    im = np.asarray(im)\n",
        "    plt.subplot(3,3,k+1)\n",
        "    plt.imshow(im)\n",
        "    plt.axis(\"off\")\n",
        "    break;"
      ],
      "metadata": {
        "colab": {
          "base_uri": "https://localhost:8080/",
          "height": 259
        },
        "id": "4olY8wHTRXRa",
        "outputId": "e7e532b2-72c9-4ed1-e4d4-c41973cde6bf"
      },
      "execution_count": null,
      "outputs": [
        {
          "output_type": "execute_result",
          "data": {
            "text/plain": [
              "<Figure size 720x720 with 0 Axes>"
            ]
          },
          "metadata": {},
          "execution_count": 21
        },
        {
          "output_type": "execute_result",
          "data": {
            "text/plain": [
              "<matplotlib.axes._subplots.AxesSubplot at 0x7fd67e87b2e0>"
            ]
          },
          "metadata": {},
          "execution_count": 21
        },
        {
          "output_type": "execute_result",
          "data": {
            "text/plain": [
              "<matplotlib.image.AxesImage at 0x7fd67e7fd940>"
            ]
          },
          "metadata": {},
          "execution_count": 21
        },
        {
          "output_type": "execute_result",
          "data": {
            "text/plain": [
              "(-0.5, 449.5, 436.5, -0.5)"
            ]
          },
          "metadata": {},
          "execution_count": 21
        },
        {
          "output_type": "execute_result",
          "data": {
            "text/plain": [
              "<matplotlib.axes._subplots.AxesSubplot at 0x7fd67e7fdc40>"
            ]
          },
          "metadata": {},
          "execution_count": 21
        },
        {
          "output_type": "execute_result",
          "data": {
            "text/plain": [
              "<matplotlib.image.AxesImage at 0x7fd67e9c7fa0>"
            ]
          },
          "metadata": {},
          "execution_count": 21
        },
        {
          "output_type": "execute_result",
          "data": {
            "text/plain": [
              "(-0.5, 398.5, 346.5, -0.5)"
            ]
          },
          "metadata": {},
          "execution_count": 21
        },
        {
          "output_type": "display_data",
          "data": {
            "text/plain": [
              "<Figure size 720x720 with 2 Axes>"
            ],
            "image/png": "[encoded data removed]"
          },
          "metadata": {
            "needs_background": "light"
          }
        }
      ]
    },
    {
      "cell_type": "markdown",
      "source": [
        "## train/test/validation generators"
      ],
      "metadata": {
        "id": "Qd5BKS4YamHZ"
      }
    },
    {
      "cell_type": "code",
      "source": [
        "# 3.1 Some constants:\n",
        "\n",
        "batch_size = 32\n",
        "image_size = (160,160)"
      ],
      "metadata": {
        "id": "MTVJunGCCZkS"
      },
      "execution_count": null,
      "outputs": []
    },
    {
      "cell_type": "code",
      "source": [
        "# 3.2 Create train data generator\n",
        "#experiment\n",
        "train_ds = tf.keras.utils.image_dataset_from_directory(data_dir / \"train\",\n",
        "                                                       shuffle = True,\n",
        "                                                       batch_size = batch_size,\n",
        "                                                       image_size=image_size,\n",
        "                                                       validation_split=0.2,\n",
        "                                                       subset='both',   #training,validation,both\n",
        "                                                       seed=42\n",
        "                                                       )"
      ],
      "metadata": {
        "id": "j1QY9kFOTEBZ",
        "colab": {
          "base_uri": "https://localhost:8080/"
        },
        "outputId": "1ad67ece-6a66-42ed-bd91-c8013e46674b"
      },
      "execution_count": null,
      "outputs": [
        {
          "output_type": "stream",
          "name": "stdout",
          "text": [
            "Found 2000 files belonging to 2 classes.\n",
            "Using 1600 files for training.\n",
            "Using 400 files for validation.\n"
          ]
        }
      ]
    },
    {
      "cell_type": "code",
      "source": [
        "len(train_ds)"
      ],
      "metadata": {
        "colab": {
          "base_uri": "https://localhost:8080/"
        },
        "id": "x-uUmfoYEOGH",
        "outputId": "71baf67a-7abf-4950-cc81-95095a3f21ad"
      },
      "execution_count": null,
      "outputs": [
        {
          "output_type": "execute_result",
          "data": {
            "text/plain": [
              "2"
            ]
          },
          "metadata": {},
          "execution_count": 24
        }
      ]
    },
    {
      "cell_type": "code",
      "source": [
        "one = train_ds[0]\n",
        "two = train_ds[1]"
      ],
      "metadata": {
        "id": "NMvU7AY1EOCR"
      },
      "execution_count": null,
      "outputs": []
    },
    {
      "cell_type": "code",
      "source": [],
      "metadata": {
        "id": "S9prqtYgI_ex"
      },
      "execution_count": null,
      "outputs": []
    },
    {
      "cell_type": "code",
      "source": [
        "eu = iter(One)\n",
        "next(eu)"
      ],
      "metadata": {
        "colab": {
          "base_uri": "https://localhost:8080/",
          "height": 182
        },
        "id": "McwaR5WUEN-n",
        "outputId": "c5bd779f-ef47-4e0c-dadd-a4f1661d1155"
      },
      "execution_count": null,
      "outputs": [
        {
          "output_type": "error",
          "ename": "NameError",
          "evalue": "ignored",
          "traceback": [
            "\u001b[0;31m---------------------------------------------------------------------------\u001b[0m",
            "\u001b[0;31mNameError\u001b[0m                                 Traceback (most recent call last)",
            "\u001b[0;32m<ipython-input-26-3b929a998de4>\u001b[0m in \u001b[0;36m<module>\u001b[0;34m\u001b[0m\n\u001b[0;32m----> 1\u001b[0;31m \u001b[0meu\u001b[0m \u001b[0;34m=\u001b[0m \u001b[0miter\u001b[0m\u001b[0;34m(\u001b[0m\u001b[0mOne\u001b[0m\u001b[0;34m)\u001b[0m\u001b[0;34m\u001b[0m\u001b[0;34m\u001b[0m\u001b[0m\n\u001b[0m\u001b[1;32m      2\u001b[0m \u001b[0mnext\u001b[0m\u001b[0;34m(\u001b[0m\u001b[0meu\u001b[0m\u001b[0;34m)\u001b[0m\u001b[0;34m\u001b[0m\u001b[0;34m\u001b[0m\u001b[0m\n",
            "\u001b[0;31mNameError\u001b[0m: name 'One' is not defined"
          ]
        }
      ]
    },
    {
      "cell_type": "code",
      "source": [
        "# 3.2 Create train data generator\n",
        "train_ds = tf.keras.utils.image_dataset_from_directory(data_dir / \"train\",\n",
        "                                                       shuffle = True,\n",
        "                                                       batch_size = batch_size,\n",
        "                                                       image_size=image_size,\n",
        "                                                      )"
      ],
      "metadata": {
        "colab": {
          "base_uri": "https://localhost:8080/"
        },
        "id": "ScxO7fkLEDV-",
        "outputId": "de4fffe6-1c20-497a-cdd9-f26009cffca4"
      },
      "execution_count": null,
      "outputs": [
        {
          "output_type": "stream",
          "name": "stdout",
          "text": [
            "Found 2000 files belonging to 2 classes.\n"
          ]
        }
      ]
    },
    {
      "cell_type": "code",
      "source": [
        "#3.2.1 create an iterator object from generator:\n",
        "\n",
        "ix= train_ds.__iter__()"
      ],
      "metadata": {
        "id": "QXEAXPVd-6ld"
      },
      "execution_count": null,
      "outputs": []
    },
    {
      "cell_type": "code",
      "source": [
        "#3.2.2 Get first batch:\n",
        "tx= next(ix)"
      ],
      "metadata": {
        "id": "ajmHrgZA_fzv"
      },
      "execution_count": null,
      "outputs": []
    },
    {
      "cell_type": "code",
      "source": [
        "tx"
      ],
      "metadata": {
        "colab": {
          "base_uri": "https://localhost:8080/"
        },
        "id": "xK_9RdPg_pqe",
        "outputId": "9a0aebac-0352-4e54-a714-94e420fb4fcb"
      },
      "execution_count": null,
      "outputs": [
        {
          "output_type": "execute_result",
          "data": {
            "text/plain": [
              "(<tf.Tensor: shape=(32, 160, 160, 3), dtype=float32, numpy=\n",
              " array([[[[ 31.629591 ,  31.629591 ,  19.629591 ],\n",
              "          [ 77.4022   ,  78.4022   ,  64.4022   ],\n",
              "          [ 81.84009  ,  82.84009  ,  66.84009  ],\n",
              "          ...,\n",
              "          [ 70.56885  ,  79.56885  ,  61.162598 ],\n",
              "          [ 84.369514 ,  86.90382  ,  66.08192  ],\n",
              "          [ 79.77496  ,  86.59689  ,  68.65625  ]],\n",
              " \n",
              "         [[ 33.930664 ,  33.930664 ,  21.930664 ],\n",
              "          [ 79.81631  ,  80.81631  ,  66.81631  ],\n",
              "          [ 81.982666 ,  82.982666 ,  66.982666 ],\n",
              "          ...,\n",
              "          [ 74.920166 ,  83.920166 ,  65.513916 ],\n",
              "          [ 82.7488   ,  85.283104 ,  64.461205 ],\n",
              "          [ 76.14996  ,  82.97189  ,  65.03125  ]],\n",
              " \n",
              "         [[ 32.91045  ,  32.91045  ,  20.91045  ],\n",
              "          [ 80.12036  ,  81.12036  ,  67.12036  ],\n",
              "          [ 82.033936 ,  83.033936 ,  67.033936 ],\n",
              "          ...,\n",
              "          [ 85.27368  ,  94.27368  ,  75.86743  ],\n",
              "          [ 85.673256 ,  88.20756  ,  67.38566  ],\n",
              "          [ 79.11871  ,  85.94064  ,  68.       ]],\n",
              " \n",
              "         ...,\n",
              " \n",
              "         [[ 52.544827 ,  37.388577 ,  55.107327 ],\n",
              "          [119.20341  , 101.49867  , 118.47367  ],\n",
              "          [ 80.036865 ,  52.104736 ,  73.555176 ],\n",
              "          ...,\n",
              "          [ 62.260254 ,  94.046875 ,  70.046875 ],\n",
              "          [ 61.818726 ,  95.099976 ,  70.45935  ],\n",
              "          [ 62.721313 ,  95.69998  ,  74.69998  ]],\n",
              " \n",
              "         [[ 63.90869  ,  69.66495  ,  81.6962   ],\n",
              "          [ 71.38339  ,  74.237206 ,  83.286865 ],\n",
              "          [ 79.15845  ,  74.53345  ,  84.20532  ],\n",
              "          ...,\n",
              "          [ 62.421875 ,  94.421875 ,  70.421875 ],\n",
              "          [ 62.193726 ,  96.193726 ,  71.193726 ],\n",
              "          [ 64.00093  ,  97.00093  ,  76.00093  ]],\n",
              " \n",
              "         [[ 66.37358  ,  85.02983  ,  96.582954 ],\n",
              "          [ 78.727974 ,  98.2061   , 101.52172  ],\n",
              "          [ 53.72583  ,  67.19458  ,  66.312256 ],\n",
              "          ...,\n",
              "          [ 60.734375 ,  92.734375 ,  68.734375 ],\n",
              "          [ 60.506226 ,  94.506226 ,  69.506226 ],\n",
              "          [ 62.328125 ,  95.328125 ,  74.328125 ]]],\n",
              " \n",
              " \n",
              "        [[[ 62.165234 ,  59.165234 ,  54.165234 ],\n",
              "          [ 46.072266 ,  43.072266 ,  38.072266 ],\n",
              "          [ 33.14492  ,  30.144922 ,  25.144922 ],\n",
              "          ...,\n",
              "          [186.07364  , 173.69864  , 141.69864  ],\n",
              "          [168.17676  , 156.80176  , 124.80176  ],\n",
              "          [179.1459   , 176.1459   , 145.1459   ]],\n",
              " \n",
              "         [[ 44.88457  ,  41.88457  ,  36.88457  ],\n",
              "          [ 60.176365 ,  57.176365 ,  52.176365 ],\n",
              "          [ 45.65781  ,  42.65781  ,  37.65781  ],\n",
              "          ...,\n",
              "          [178.63028  , 166.25528  , 134.25528  ],\n",
              "          [179.74629  , 168.37129  , 136.37129  ],\n",
              "          [175.33183  , 171.51309  , 140.10371  ]],\n",
              " \n",
              "         [[ 48.36133  ,  45.36133  ,  40.36133  ],\n",
              "          [ 44.240234 ,  41.240234 ,  36.240234 ],\n",
              "          [ 43.192383 ,  40.192383 ,  35.192383 ],\n",
              "          ...,\n",
              "          [168.35449  , 155.97949  , 123.97949  ],\n",
              "          [154.09961  , 142.72461  , 110.72461  ],\n",
              "          [172.16309  , 168.16309  , 133.16309  ]],\n",
              " \n",
              "         ...,\n",
              " \n",
              "         [[108.73828  ,  85.70703  ,  69.51953  ],\n",
              "          [ 80.35449  ,  59.313477 ,  38.2666   ],\n",
              "          [ 73.75879  ,  55.737305 ,  32.341797 ],\n",
              "          ...,\n",
              "          [ 82.1084   ,  73.134766 ,  64.11426  ],\n",
              "          [ 76.54785  ,  67.55371  ,  58.91992  ],\n",
              "          [ 72.21973  ,  62.219727 ,  52.188477 ]],\n",
              " \n",
              "         [[ 53.559265 ,  41.36809  ,  33.97809  ],\n",
              "          [ 64.51868  ,  50.881226 ,  37.43165  ],\n",
              "          [ 75.01905  ,  60.646603 ,  43.01245  ],\n",
              "          ...,\n",
              "          [ 66.48792  ,  57.487923 ,  51.862923 ],\n",
              "          [ 84.15532  ,  75.04457  ,  70.3768   ],\n",
              "          [ 62.898716 ,  52.898716 ,  43.898716 ]],\n",
              " \n",
              "         [[ 76.30538  ,  66.51791  ,  60.63004  ],\n",
              "          [ 72.76316  ,  62.295597 ,  51.24386  ],\n",
              "          [ 79.93779  ,  66.34718  ,  50.096207 ],\n",
              "          ...,\n",
              "          [ 73.26103  ,  65.27977  ,  59.831924 ],\n",
              "          [ 58.467834 ,  49.710983 ,  44.965874 ],\n",
              "          [ 54.15477  ,  45.548508 ,  36.745377 ]]],\n",
              " \n",
              " \n",
              "        [[[172.       , 163.       , 148.       ],\n",
              "          [172.       , 163.       , 148.       ],\n",
              "          [172.       , 163.       , 148.       ],\n",
              "          ...,\n",
              "          [203.38388  , 205.38388  , 191.38388  ],\n",
              "          [200.77441  , 202.77441  , 188.77441  ],\n",
              "          [199.55624  , 201.55624  , 187.55624  ]],\n",
              " \n",
              "         [[172.       , 163.       , 148.       ],\n",
              "          [172.       , 163.       , 148.       ],\n",
              "          [172.       , 163.       , 148.       ],\n",
              "          ...,\n",
              "          [204.64688  , 206.64688  , 192.64688  ],\n",
              "          [201.96475  , 203.96475  , 189.96475  ],\n",
              "          [202.66875  , 204.66875  , 190.66875  ]],\n",
              " \n",
              "         [[172.       , 163.       , 148.       ],\n",
              "          [172.       , 163.       , 148.       ],\n",
              "          [172.       , 163.       , 148.       ],\n",
              "          ...,\n",
              "          [206.59375  , 208.59375  , 194.59375  ],\n",
              "          [204.32959  , 206.32959  , 192.32959  ],\n",
              "          [204.       , 206.       , 192.       ]],\n",
              " \n",
              "         ...,\n",
              " \n",
              "         [[ 82.876465 ,  86.876465 ,  85.876465 ],\n",
              "          [108.57666  , 112.57666  , 111.57666  ],\n",
              "          [ 59.92285  ,  63.92285  ,  62.92285  ],\n",
              "          ...,\n",
              "          [117.25     ,  99.25     ,  77.25     ],\n",
              "          [117.791504 ,  99.791504 ,  77.791504 ],\n",
              "          [150.96875  , 132.96875  , 110.96875  ]],\n",
              " \n",
              "         [[ 70.98433  ,  76.98433  ,  74.98433  ],\n",
              "          [ 73.481445 ,  79.481445 ,  77.481445 ],\n",
              "          [ 38.27699  ,  44.27699  ,  42.27699  ],\n",
              "          ...,\n",
              "          [121.74522  , 103.74522  ,  81.74522  ],\n",
              "          [121.590935 , 103.590935 ,  81.590935 ],\n",
              "          [137.44359  , 119.44358  ,  97.44358  ]],\n",
              " \n",
              "         [[ 46.987682 ,  52.987682 ,  50.987682 ],\n",
              "          [ 44.886322 ,  50.886322 ,  48.886322 ],\n",
              "          [ 37.99953  ,  43.99953  ,  41.99953  ],\n",
              "          ...,\n",
              "          [120.391106 , 102.391106 ,  80.391106 ],\n",
              "          [120.251465 , 102.251465 ,  80.251465 ],\n",
              "          [122.20909  , 104.20909  ,  82.20909  ]]],\n",
              " \n",
              " \n",
              "        ...,\n",
              " \n",
              " \n",
              "        [[[249.5793   , 254.9168   , 254.85391  ],\n",
              "          [250.8121   , 254.8121   , 254.7496   ],\n",
              "          [250.72852  , 254.79102  , 254.54102  ],\n",
              "          ...,\n",
              "          [252.78125  , 254.83398  , 254.54297  ],\n",
              "          [254.75     , 254.6875   , 252.5625   ],\n",
              "          [254.6043   , 254.5418   , 252.4168   ]],\n",
              " \n",
              "         [[ 62.62539  ,  63.77539  ,  59.519535 ],\n",
              "          [ 67.88984  ,  68.51484  ,  63.51484  ],\n",
              "          [ 73.84375  ,  73.53516  ,  67.62695  ],\n",
              "          ...,\n",
              "          [ 90.99414  ,  83.42969  ,  74.55469  ],\n",
              "          [ 97.110214 ,  86.360214 ,  75.797714 ],\n",
              "          [100.01877  ,  89.26877  ,  78.70627  ]],\n",
              " \n",
              "         [[ 18.604298 ,  15.291797 ,   7.6667967],\n",
              "          [ 21.716408 ,  18.393751 ,   9.391797 ],\n",
              "          [ 30.410156 ,  24.763672 ,  14.3125   ],\n",
              "          ...,\n",
              "          [ 51.35742  ,  35.410156 ,  21.580078 ],\n",
              "          [ 59.97899  ,  40.35399  ,  24.728989 ],\n",
              "          [ 65.47852  ,  45.853523 ,  30.228521 ]],\n",
              " \n",
              "         ...,\n",
              " \n",
              "         [[ 32.147266 ,  69.52226  ,  92.83476  ],\n",
              "          [ 36.704296 ,  74.0793   ,  97.3918   ],\n",
              "          [ 42.375    ,  79.75     , 103.0625   ],\n",
              "          ...,\n",
              "          [220.5586   , 180.5586   , 189.5586   ],\n",
              "          [229.03993  , 192.03993  , 200.03993  ],\n",
              "          [227.42221  , 190.42221  , 198.42221  ]],\n",
              " \n",
              "         [[ 39.29375  ,  77.29375  , 100.29375  ],\n",
              "          [ 43.62617  ,  81.62109  , 104.63632  ],\n",
              "          [ 43.65625  ,  80.84375  , 106.28125  ],\n",
              "          ...,\n",
              "          [226.74023  , 186.74023  , 195.74023  ],\n",
              "          [229.35632  , 192.35632  , 200.35632  ],\n",
              "          [227.41911  , 190.41911  , 198.41911  ]],\n",
              " \n",
              "         [[ 38.125    ,  79.125    ,  99.125    ],\n",
              "          [ 39.01211  ,  79.01211  , 104.018364 ],\n",
              "          [ 42.603516 ,  81.603516 , 111.978516 ],\n",
              "          ...,\n",
              "          [230.88477  , 190.88477  , 199.88477  ],\n",
              "          [233.9375   , 196.9375   , 204.9375   ],\n",
              "          [226.55824  , 189.55824  , 197.55824  ]]],\n",
              " \n",
              " \n",
              "        [[[242.25313  , 242.25313  , 242.25313  ],\n",
              "          [245.93877  , 245.93877  , 245.93877  ],\n",
              "          [245.23857  , 245.23857  , 245.23857  ],\n",
              "          ...,\n",
              "          [249.       , 249.       , 249.       ],\n",
              "          [249.       , 249.       , 249.       ],\n",
              "          [250.       , 250.       , 250.       ]],\n",
              " \n",
              "         [[245.90811  , 245.90811  , 245.90811  ],\n",
              "          [246.21494  , 246.21494  , 246.21494  ],\n",
              "          [247.71573  , 247.71573  , 247.71573  ],\n",
              "          ...,\n",
              "          [249.       , 249.       , 249.       ],\n",
              "          [249.       , 249.       , 249.       ],\n",
              "          [250.       , 250.       , 250.       ]],\n",
              " \n",
              "         [[249.31348  , 249.31348  , 249.31348  ],\n",
              "          [243.90625  , 243.90625  , 243.90625  ],\n",
              "          [242.46338  , 242.46338  , 242.46338  ],\n",
              "          ...,\n",
              "          [249.29688  , 249.29688  , 249.29688  ],\n",
              "          [249.29688  , 249.29688  , 249.29688  ],\n",
              "          [249.40625  , 249.40625  , 249.40625  ]],\n",
              " \n",
              "         ...,\n",
              " \n",
              "         [[ 99.42578  ,  99.62793  , 104.56543  ],\n",
              "          [ 99.109375 , 104.44385  , 103.42822  ],\n",
              "          [ 68.81299  ,  80.96875  ,  74.520996 ],\n",
              "          ...,\n",
              "          [103.8291   , 110.80762  , 111.8291   ],\n",
              "          [ 85.614746 ,  92.43359  ,  91.555664 ],\n",
              "          [ 88.375    ,  92.47705  ,  92.09375  ]],\n",
              " \n",
              "         [[ 81.17052  ,  91.0656   ,  87.709885 ],\n",
              "          [106.243286 , 118.824585 , 110.096436 ],\n",
              "          [ 72.0439   ,  89.4283   ,  73.11885  ],\n",
              "          ...,\n",
              "          [109.42249  , 109.956795 , 117.42249  ],\n",
              "          [109.73569  , 108.143265 , 118.583275 ],\n",
              "          [ 87.18317  ,  90.24439  ,  95.12195  ]],\n",
              " \n",
              "         [[ 74.349594 ,  84.02625  ,  86.95734  ],\n",
              "          [ 70.916756 ,  85.62111  ,  82.71615  ],\n",
              "          [ 68.085144 ,  85.10184  ,  76.94974  ],\n",
              "          ...,\n",
              "          [ 94.00167  ,  95.52151  , 101.212    ],\n",
              "          [121.34702  , 122.34702  , 126.40638  ],\n",
              "          [107.44539  , 107.504745 , 109.58265  ]]],\n",
              " \n",
              " \n",
              "        [[[124.88125  , 144.7625   , 155.82187  ],\n",
              "          [132.17813  , 148.35625  , 160.82187  ],\n",
              "          [146.91895  , 156.62207  , 165.02832  ],\n",
              "          ...,\n",
              "          [ 89.34961  , 147.9377   , 182.075    ],\n",
              "          [ 87.9719   , 147.7938   , 181.7938   ],\n",
              "          [ 95.04755  , 154.1069   , 193.92883  ]],\n",
              " \n",
              "         [[125.85824  , 145.73949  , 156.79886  ],\n",
              "          [132.17813  , 148.35625  , 160.82187  ],\n",
              "          [146.45996  , 156.16309  , 164.56934  ],\n",
              "          ...,\n",
              "          [ 92.40625  , 151.40625  , 185.40625  ],\n",
              "          [ 94.54349  , 154.36539  , 188.36539  ],\n",
              "          [ 99.57614  , 158.6355   , 198.45743  ]],\n",
              " \n",
              "         [[126.82188  , 146.70312  , 157.7625   ],\n",
              "          [131.43497  , 147.61308  , 160.0787   ],\n",
              "          [145.20312  , 154.90625  , 163.3125   ],\n",
              "          ...,\n",
              "          [ 90.92285  , 149.92285  , 183.92285  ],\n",
              "          [ 94.434944 , 153.43494  , 187.43494  ],\n",
              "          [ 95.91895  , 155.91895  , 192.91895  ]],\n",
              " \n",
              "         ...,\n",
              " \n",
              "         [[213.40605  , 212.40605  , 208.40605  ],\n",
              "          [195.33163  , 194.33163  , 190.33163  ],\n",
              "          [104.96777  , 103.96777  ,  99.96777  ],\n",
              "          ...,\n",
              "          [105.015625 , 157.39062  , 188.39062  ],\n",
              "          [116.853645 , 167.85364  , 198.85364  ],\n",
              "          [110.05936  , 161.05936  , 192.05936  ]],\n",
              " \n",
              "         [[210.36618  , 209.36618  , 205.36618  ],\n",
              "          [172.44064  , 171.44064  , 167.44064  ],\n",
              "          [ 86.6882   ,  85.6882   ,  81.6882   ],\n",
              "          ...,\n",
              "          [104.988106 , 154.84941  , 184.41876  ],\n",
              "          [116.76164  , 167.76164  , 196.76164  ],\n",
              "          [110.56558  , 160.60194  , 193.52922  ]],\n",
              " \n",
              "         [[202.20003  , 201.20003  , 197.20003  ],\n",
              "          [129.20518  , 128.20518  , 124.205185 ],\n",
              "          [ 72.23109  ,  71.23109  ,  67.23109  ],\n",
              "          ...,\n",
              "          [107.681244 , 156.79062  , 184.0875   ],\n",
              "          [110.73217  , 164.19788  , 190.37598  ],\n",
              "          [110.668015 , 163.66801  , 197.5493   ]]]], dtype=float32)>,\n",
              " <tf.Tensor: shape=(32,), dtype=int32, numpy=\n",
              " array([0, 1, 0, 0, 0, 1, 0, 1, 1, 0, 0, 0, 1, 0, 1, 1, 1, 0, 1, 0, 1, 0,\n",
              "        0, 0, 1, 1, 1, 1, 1, 0, 1, 1], dtype=int32)>)"
            ]
          },
          "metadata": {},
          "execution_count": 30
        }
      ]
    },
    {
      "cell_type": "code",
      "source": [
        "#3.2.3  tx is a tuple\n",
        "tx[0]\n",
        "print(\"\\n\")\n",
        "tx[1]"
      ],
      "metadata": {
        "colab": {
          "base_uri": "https://localhost:8080/"
        },
        "id": "e0oeQxh2C0CQ",
        "outputId": "df077212-00fc-473d-e8ce-4e248eab086e"
      },
      "execution_count": null,
      "outputs": [
        {
          "output_type": "execute_result",
          "data": {
            "text/plain": [
              "<tf.Tensor: shape=(32, 160, 160, 3), dtype=float32, numpy=\n",
              "array([[[[ 31.629591 ,  31.629591 ,  19.629591 ],\n",
              "         [ 77.4022   ,  78.4022   ,  64.4022   ],\n",
              "         [ 81.84009  ,  82.84009  ,  66.84009  ],\n",
              "         ...,\n",
              "         [ 70.56885  ,  79.56885  ,  61.162598 ],\n",
              "         [ 84.369514 ,  86.90382  ,  66.08192  ],\n",
              "         [ 79.77496  ,  86.59689  ,  68.65625  ]],\n",
              "\n",
              "        [[ 33.930664 ,  33.930664 ,  21.930664 ],\n",
              "         [ 79.81631  ,  80.81631  ,  66.81631  ],\n",
              "         [ 81.982666 ,  82.982666 ,  66.982666 ],\n",
              "         ...,\n",
              "         [ 74.920166 ,  83.920166 ,  65.513916 ],\n",
              "         [ 82.7488   ,  85.283104 ,  64.461205 ],\n",
              "         [ 76.14996  ,  82.97189  ,  65.03125  ]],\n",
              "\n",
              "        [[ 32.91045  ,  32.91045  ,  20.91045  ],\n",
              "         [ 80.12036  ,  81.12036  ,  67.12036  ],\n",
              "         [ 82.033936 ,  83.033936 ,  67.033936 ],\n",
              "         ...,\n",
              "         [ 85.27368  ,  94.27368  ,  75.86743  ],\n",
              "         [ 85.673256 ,  88.20756  ,  67.38566  ],\n",
              "         [ 79.11871  ,  85.94064  ,  68.       ]],\n",
              "\n",
              "        ...,\n",
              "\n",
              "        [[ 52.544827 ,  37.388577 ,  55.107327 ],\n",
              "         [119.20341  , 101.49867  , 118.47367  ],\n",
              "         [ 80.036865 ,  52.104736 ,  73.555176 ],\n",
              "         ...,\n",
              "         [ 62.260254 ,  94.046875 ,  70.046875 ],\n",
              "         [ 61.818726 ,  95.099976 ,  70.45935  ],\n",
              "         [ 62.721313 ,  95.69998  ,  74.69998  ]],\n",
              "\n",
              "        [[ 63.90869  ,  69.66495  ,  81.6962   ],\n",
              "         [ 71.38339  ,  74.237206 ,  83.286865 ],\n",
              "         [ 79.15845  ,  74.53345  ,  84.20532  ],\n",
              "         ...,\n",
              "         [ 62.421875 ,  94.421875 ,  70.421875 ],\n",
              "         [ 62.193726 ,  96.193726 ,  71.193726 ],\n",
              "         [ 64.00093  ,  97.00093  ,  76.00093  ]],\n",
              "\n",
              "        [[ 66.37358  ,  85.02983  ,  96.582954 ],\n",
              "         [ 78.727974 ,  98.2061   , 101.52172  ],\n",
              "         [ 53.72583  ,  67.19458  ,  66.312256 ],\n",
              "         ...,\n",
              "         [ 60.734375 ,  92.734375 ,  68.734375 ],\n",
              "         [ 60.506226 ,  94.506226 ,  69.506226 ],\n",
              "         [ 62.328125 ,  95.328125 ,  74.328125 ]]],\n",
              "\n",
              "\n",
              "       [[[ 62.165234 ,  59.165234 ,  54.165234 ],\n",
              "         [ 46.072266 ,  43.072266 ,  38.072266 ],\n",
              "         [ 33.14492  ,  30.144922 ,  25.144922 ],\n",
              "         ...,\n",
              "         [186.07364  , 173.69864  , 141.69864  ],\n",
              "         [168.17676  , 156.80176  , 124.80176  ],\n",
              "         [179.1459   , 176.1459   , 145.1459   ]],\n",
              "\n",
              "        [[ 44.88457  ,  41.88457  ,  36.88457  ],\n",
              "         [ 60.176365 ,  57.176365 ,  52.176365 ],\n",
              "         [ 45.65781  ,  42.65781  ,  37.65781  ],\n",
              "         ...,\n",
              "         [178.63028  , 166.25528  , 134.25528  ],\n",
              "         [179.74629  , 168.37129  , 136.37129  ],\n",
              "         [175.33183  , 171.51309  , 140.10371  ]],\n",
              "\n",
              "        [[ 48.36133  ,  45.36133  ,  40.36133  ],\n",
              "         [ 44.240234 ,  41.240234 ,  36.240234 ],\n",
              "         [ 43.192383 ,  40.192383 ,  35.192383 ],\n",
              "         ...,\n",
              "         [168.35449  , 155.97949  , 123.97949  ],\n",
              "         [154.09961  , 142.72461  , 110.72461  ],\n",
              "         [172.16309  , 168.16309  , 133.16309  ]],\n",
              "\n",
              "        ...,\n",
              "\n",
              "        [[108.73828  ,  85.70703  ,  69.51953  ],\n",
              "         [ 80.35449  ,  59.313477 ,  38.2666   ],\n",
              "         [ 73.75879  ,  55.737305 ,  32.341797 ],\n",
              "         ...,\n",
              "         [ 82.1084   ,  73.134766 ,  64.11426  ],\n",
              "         [ 76.54785  ,  67.55371  ,  58.91992  ],\n",
              "         [ 72.21973  ,  62.219727 ,  52.188477 ]],\n",
              "\n",
              "        [[ 53.559265 ,  41.36809  ,  33.97809  ],\n",
              "         [ 64.51868  ,  50.881226 ,  37.43165  ],\n",
              "         [ 75.01905  ,  60.646603 ,  43.01245  ],\n",
              "         ...,\n",
              "         [ 66.48792  ,  57.487923 ,  51.862923 ],\n",
              "         [ 84.15532  ,  75.04457  ,  70.3768   ],\n",
              "         [ 62.898716 ,  52.898716 ,  43.898716 ]],\n",
              "\n",
              "        [[ 76.30538  ,  66.51791  ,  60.63004  ],\n",
              "         [ 72.76316  ,  62.295597 ,  51.24386  ],\n",
              "         [ 79.93779  ,  66.34718  ,  50.096207 ],\n",
              "         ...,\n",
              "         [ 73.26103  ,  65.27977  ,  59.831924 ],\n",
              "         [ 58.467834 ,  49.710983 ,  44.965874 ],\n",
              "         [ 54.15477  ,  45.548508 ,  36.745377 ]]],\n",
              "\n",
              "\n",
              "       [[[172.       , 163.       , 148.       ],\n",
              "         [172.       , 163.       , 148.       ],\n",
              "         [172.       , 163.       , 148.       ],\n",
              "         ...,\n",
              "         [203.38388  , 205.38388  , 191.38388  ],\n",
              "         [200.77441  , 202.77441  , 188.77441  ],\n",
              "         [199.55624  , 201.55624  , 187.55624  ]],\n",
              "\n",
              "        [[172.       , 163.       , 148.       ],\n",
              "         [172.       , 163.       , 148.       ],\n",
              "         [172.       , 163.       , 148.       ],\n",
              "         ...,\n",
              "         [204.64688  , 206.64688  , 192.64688  ],\n",
              "         [201.96475  , 203.96475  , 189.96475  ],\n",
              "         [202.66875  , 204.66875  , 190.66875  ]],\n",
              "\n",
              "        [[172.       , 163.       , 148.       ],\n",
              "         [172.       , 163.       , 148.       ],\n",
              "         [172.       , 163.       , 148.       ],\n",
              "         ...,\n",
              "         [206.59375  , 208.59375  , 194.59375  ],\n",
              "         [204.32959  , 206.32959  , 192.32959  ],\n",
              "         [204.       , 206.       , 192.       ]],\n",
              "\n",
              "        ...,\n",
              "\n",
              "        [[ 82.876465 ,  86.876465 ,  85.876465 ],\n",
              "         [108.57666  , 112.57666  , 111.57666  ],\n",
              "         [ 59.92285  ,  63.92285  ,  62.92285  ],\n",
              "         ...,\n",
              "         [117.25     ,  99.25     ,  77.25     ],\n",
              "         [117.791504 ,  99.791504 ,  77.791504 ],\n",
              "         [150.96875  , 132.96875  , 110.96875  ]],\n",
              "\n",
              "        [[ 70.98433  ,  76.98433  ,  74.98433  ],\n",
              "         [ 73.481445 ,  79.481445 ,  77.481445 ],\n",
              "         [ 38.27699  ,  44.27699  ,  42.27699  ],\n",
              "         ...,\n",
              "         [121.74522  , 103.74522  ,  81.74522  ],\n",
              "         [121.590935 , 103.590935 ,  81.590935 ],\n",
              "         [137.44359  , 119.44358  ,  97.44358  ]],\n",
              "\n",
              "        [[ 46.987682 ,  52.987682 ,  50.987682 ],\n",
              "         [ 44.886322 ,  50.886322 ,  48.886322 ],\n",
              "         [ 37.99953  ,  43.99953  ,  41.99953  ],\n",
              "         ...,\n",
              "         [120.391106 , 102.391106 ,  80.391106 ],\n",
              "         [120.251465 , 102.251465 ,  80.251465 ],\n",
              "         [122.20909  , 104.20909  ,  82.20909  ]]],\n",
              "\n",
              "\n",
              "       ...,\n",
              "\n",
              "\n",
              "       [[[249.5793   , 254.9168   , 254.85391  ],\n",
              "         [250.8121   , 254.8121   , 254.7496   ],\n",
              "         [250.72852  , 254.79102  , 254.54102  ],\n",
              "         ...,\n",
              "         [252.78125  , 254.83398  , 254.54297  ],\n",
              "         [254.75     , 254.6875   , 252.5625   ],\n",
              "         [254.6043   , 254.5418   , 252.4168   ]],\n",
              "\n",
              "        [[ 62.62539  ,  63.77539  ,  59.519535 ],\n",
              "         [ 67.88984  ,  68.51484  ,  63.51484  ],\n",
              "         [ 73.84375  ,  73.53516  ,  67.62695  ],\n",
              "         ...,\n",
              "         [ 90.99414  ,  83.42969  ,  74.55469  ],\n",
              "         [ 97.110214 ,  86.360214 ,  75.797714 ],\n",
              "         [100.01877  ,  89.26877  ,  78.70627  ]],\n",
              "\n",
              "        [[ 18.604298 ,  15.291797 ,   7.6667967],\n",
              "         [ 21.716408 ,  18.393751 ,   9.391797 ],\n",
              "         [ 30.410156 ,  24.763672 ,  14.3125   ],\n",
              "         ...,\n",
              "         [ 51.35742  ,  35.410156 ,  21.580078 ],\n",
              "         [ 59.97899  ,  40.35399  ,  24.728989 ],\n",
              "         [ 65.47852  ,  45.853523 ,  30.228521 ]],\n",
              "\n",
              "        ...,\n",
              "\n",
              "        [[ 32.147266 ,  69.52226  ,  92.83476  ],\n",
              "         [ 36.704296 ,  74.0793   ,  97.3918   ],\n",
              "         [ 42.375    ,  79.75     , 103.0625   ],\n",
              "         ...,\n",
              "         [220.5586   , 180.5586   , 189.5586   ],\n",
              "         [229.03993  , 192.03993  , 200.03993  ],\n",
              "         [227.42221  , 190.42221  , 198.42221  ]],\n",
              "\n",
              "        [[ 39.29375  ,  77.29375  , 100.29375  ],\n",
              "         [ 43.62617  ,  81.62109  , 104.63632  ],\n",
              "         [ 43.65625  ,  80.84375  , 106.28125  ],\n",
              "         ...,\n",
              "         [226.74023  , 186.74023  , 195.74023  ],\n",
              "         [229.35632  , 192.35632  , 200.35632  ],\n",
              "         [227.41911  , 190.41911  , 198.41911  ]],\n",
              "\n",
              "        [[ 38.125    ,  79.125    ,  99.125    ],\n",
              "         [ 39.01211  ,  79.01211  , 104.018364 ],\n",
              "         [ 42.603516 ,  81.603516 , 111.978516 ],\n",
              "         ...,\n",
              "         [230.88477  , 190.88477  , 199.88477  ],\n",
              "         [233.9375   , 196.9375   , 204.9375   ],\n",
              "         [226.55824  , 189.55824  , 197.55824  ]]],\n",
              "\n",
              "\n",
              "       [[[242.25313  , 242.25313  , 242.25313  ],\n",
              "         [245.93877  , 245.93877  , 245.93877  ],\n",
              "         [245.23857  , 245.23857  , 245.23857  ],\n",
              "         ...,\n",
              "         [249.       , 249.       , 249.       ],\n",
              "         [249.       , 249.       , 249.       ],\n",
              "         [250.       , 250.       , 250.       ]],\n",
              "\n",
              "        [[245.90811  , 245.90811  , 245.90811  ],\n",
              "         [246.21494  , 246.21494  , 246.21494  ],\n",
              "         [247.71573  , 247.71573  , 247.71573  ],\n",
              "         ...,\n",
              "         [249.       , 249.       , 249.       ],\n",
              "         [249.       , 249.       , 249.       ],\n",
              "         [250.       , 250.       , 250.       ]],\n",
              "\n",
              "        [[249.31348  , 249.31348  , 249.31348  ],\n",
              "         [243.90625  , 243.90625  , 243.90625  ],\n",
              "         [242.46338  , 242.46338  , 242.46338  ],\n",
              "         ...,\n",
              "         [249.29688  , 249.29688  , 249.29688  ],\n",
              "         [249.29688  , 249.29688  , 249.29688  ],\n",
              "         [249.40625  , 249.40625  , 249.40625  ]],\n",
              "\n",
              "        ...,\n",
              "\n",
              "        [[ 99.42578  ,  99.62793  , 104.56543  ],\n",
              "         [ 99.109375 , 104.44385  , 103.42822  ],\n",
              "         [ 68.81299  ,  80.96875  ,  74.520996 ],\n",
              "         ...,\n",
              "         [103.8291   , 110.80762  , 111.8291   ],\n",
              "         [ 85.614746 ,  92.43359  ,  91.555664 ],\n",
              "         [ 88.375    ,  92.47705  ,  92.09375  ]],\n",
              "\n",
              "        [[ 81.17052  ,  91.0656   ,  87.709885 ],\n",
              "         [106.243286 , 118.824585 , 110.096436 ],\n",
              "         [ 72.0439   ,  89.4283   ,  73.11885  ],\n",
              "         ...,\n",
              "         [109.42249  , 109.956795 , 117.42249  ],\n",
              "         [109.73569  , 108.143265 , 118.583275 ],\n",
              "         [ 87.18317  ,  90.24439  ,  95.12195  ]],\n",
              "\n",
              "        [[ 74.349594 ,  84.02625  ,  86.95734  ],\n",
              "         [ 70.916756 ,  85.62111  ,  82.71615  ],\n",
              "         [ 68.085144 ,  85.10184  ,  76.94974  ],\n",
              "         ...,\n",
              "         [ 94.00167  ,  95.52151  , 101.212    ],\n",
              "         [121.34702  , 122.34702  , 126.40638  ],\n",
              "         [107.44539  , 107.504745 , 109.58265  ]]],\n",
              "\n",
              "\n",
              "       [[[124.88125  , 144.7625   , 155.82187  ],\n",
              "         [132.17813  , 148.35625  , 160.82187  ],\n",
              "         [146.91895  , 156.62207  , 165.02832  ],\n",
              "         ...,\n",
              "         [ 89.34961  , 147.9377   , 182.075    ],\n",
              "         [ 87.9719   , 147.7938   , 181.7938   ],\n",
              "         [ 95.04755  , 154.1069   , 193.92883  ]],\n",
              "\n",
              "        [[125.85824  , 145.73949  , 156.79886  ],\n",
              "         [132.17813  , 148.35625  , 160.82187  ],\n",
              "         [146.45996  , 156.16309  , 164.56934  ],\n",
              "         ...,\n",
              "         [ 92.40625  , 151.40625  , 185.40625  ],\n",
              "         [ 94.54349  , 154.36539  , 188.36539  ],\n",
              "         [ 99.57614  , 158.6355   , 198.45743  ]],\n",
              "\n",
              "        [[126.82188  , 146.70312  , 157.7625   ],\n",
              "         [131.43497  , 147.61308  , 160.0787   ],\n",
              "         [145.20312  , 154.90625  , 163.3125   ],\n",
              "         ...,\n",
              "         [ 90.92285  , 149.92285  , 183.92285  ],\n",
              "         [ 94.434944 , 153.43494  , 187.43494  ],\n",
              "         [ 95.91895  , 155.91895  , 192.91895  ]],\n",
              "\n",
              "        ...,\n",
              "\n",
              "        [[213.40605  , 212.40605  , 208.40605  ],\n",
              "         [195.33163  , 194.33163  , 190.33163  ],\n",
              "         [104.96777  , 103.96777  ,  99.96777  ],\n",
              "         ...,\n",
              "         [105.015625 , 157.39062  , 188.39062  ],\n",
              "         [116.853645 , 167.85364  , 198.85364  ],\n",
              "         [110.05936  , 161.05936  , 192.05936  ]],\n",
              "\n",
              "        [[210.36618  , 209.36618  , 205.36618  ],\n",
              "         [172.44064  , 171.44064  , 167.44064  ],\n",
              "         [ 86.6882   ,  85.6882   ,  81.6882   ],\n",
              "         ...,\n",
              "         [104.988106 , 154.84941  , 184.41876  ],\n",
              "         [116.76164  , 167.76164  , 196.76164  ],\n",
              "         [110.56558  , 160.60194  , 193.52922  ]],\n",
              "\n",
              "        [[202.20003  , 201.20003  , 197.20003  ],\n",
              "         [129.20518  , 128.20518  , 124.205185 ],\n",
              "         [ 72.23109  ,  71.23109  ,  67.23109  ],\n",
              "         ...,\n",
              "         [107.681244 , 156.79062  , 184.0875   ],\n",
              "         [110.73217  , 164.19788  , 190.37598  ],\n",
              "         [110.668015 , 163.66801  , 197.5493   ]]]], dtype=float32)>"
            ]
          },
          "metadata": {},
          "execution_count": 31
        },
        {
          "output_type": "stream",
          "name": "stdout",
          "text": [
            "\n",
            "\n"
          ]
        },
        {
          "output_type": "execute_result",
          "data": {
            "text/plain": [
              "<tf.Tensor: shape=(32,), dtype=int32, numpy=\n",
              "array([0, 1, 0, 0, 0, 1, 0, 1, 1, 0, 0, 0, 1, 0, 1, 1, 1, 0, 1, 0, 1, 0,\n",
              "       0, 0, 1, 1, 1, 1, 1, 0, 1, 1], dtype=int32)>"
            ]
          },
          "metadata": {},
          "execution_count": 31
        }
      ]
    },
    {
      "cell_type": "code",
      "source": [
        "# 3.2.3 What are the class names:\n",
        "\n",
        "train_ds.class_names"
      ],
      "metadata": {
        "colab": {
          "base_uri": "https://localhost:8080/"
        },
        "id": "FBYXwucACX0M",
        "outputId": "a172e1a6-04ec-4344-b63b-325df21da6f4"
      },
      "execution_count": null,
      "outputs": [
        {
          "output_type": "execute_result",
          "data": {
            "text/plain": [
              "['cats', 'dogs']"
            ]
          },
          "metadata": {},
          "execution_count": 32
        }
      ]
    },
    {
      "cell_type": "code",
      "source": [
        "# 3.3 Validation generator:\n",
        "\n",
        "valid_ds = tf.keras.utils.image_dataset_from_directory(data_dir / \"validation\",\n",
        "                                                       shuffle = True,\n",
        "                                                       batch_size = batch_size,\n",
        "                                                       image_size=image_size\n",
        "                                                       )"
      ],
      "metadata": {
        "colab": {
          "base_uri": "https://localhost:8080/"
        },
        "id": "9MizjjOPCpRn",
        "outputId": "2352257f-26d0-4703-952a-a1e8ebd286cb"
      },
      "execution_count": null,
      "outputs": [
        {
          "output_type": "stream",
          "name": "stdout",
          "text": [
            "Found 1000 files belonging to 2 classes.\n"
          ]
        }
      ]
    },
    {
      "cell_type": "code",
      "source": [
        "# 3.3.1\n",
        "type(valid_ds)"
      ],
      "metadata": {
        "colab": {
          "base_uri": "https://localhost:8080/"
        },
        "id": "lm_vA-o6jkor",
        "outputId": "0e730ac5-142d-4aec-e202-de802ece489f"
      },
      "execution_count": null,
      "outputs": [
        {
          "output_type": "execute_result",
          "data": {
            "text/plain": [
              "tensorflow.python.data.ops.dataset_ops.BatchDataset"
            ]
          },
          "metadata": {},
          "execution_count": 34
        }
      ]
    },
    {
      "cell_type": "code",
      "source": [
        "# 3.4 How many batches of validation data are possible:\n",
        "\n",
        "val_batches = tf.data.experimental.cardinality(valid_ds)    # <tf.Tensor: shape=(), dtype=int64, numpy=32> \n",
        "                                                            # there are 32 batches; 32 * 32 = 1024\n",
        "val_batches                                                            "
      ],
      "metadata": {
        "id": "hXtrFREeC72s",
        "outputId": "82007373-634b-4b19-b2c1-ea8c4470c777",
        "colab": {
          "base_uri": "https://localhost:8080/"
        }
      },
      "execution_count": null,
      "outputs": [
        {
          "output_type": "execute_result",
          "data": {
            "text/plain": [
              "<tf.Tensor: shape=(), dtype=int64, numpy=32>"
            ]
          },
          "metadata": {},
          "execution_count": 35
        }
      ]
    },
    {
      "cell_type": "code",
      "source": [
        "# 3.5 These are how many batches:\n",
        "\n",
        "val_batches // 5   # 6"
      ],
      "metadata": {
        "colab": {
          "base_uri": "https://localhost:8080/"
        },
        "id": "dqeWM03oNQyG",
        "outputId": "8e208f17-c030-4355-ac18-3b6ea0d70df6"
      },
      "execution_count": null,
      "outputs": [
        {
          "output_type": "execute_result",
          "data": {
            "text/plain": [
              "<tf.Tensor: shape=(), dtype=int64, numpy=6>"
            ]
          },
          "metadata": {},
          "execution_count": 36
        }
      ]
    },
    {
      "cell_type": "code",
      "source": [
        "# 3.6 Just get one batch:\n",
        "\n",
        "for i,j in valid_ds.take(1):\n",
        "  print(i.shape)\n",
        "  print(type(i))\n",
        "  print(j.shape)"
      ],
      "metadata": {
        "colab": {
          "base_uri": "https://localhost:8080/"
        },
        "id": "c5cauqCoELML",
        "outputId": "b04c09cd-858e-4549-e8c1-2499c528d13d"
      },
      "execution_count": null,
      "outputs": [
        {
          "output_type": "stream",
          "name": "stdout",
          "text": [
            "(32, 160, 160, 3)\n",
            "<class 'tensorflow.python.framework.ops.EagerTensor'>\n",
            "(32,)\n"
          ]
        }
      ]
    },
    {
      "cell_type": "code",
      "source": [
        "# 3.7 Take initial val_batches // 5 for test data:\n",
        "\n",
        "test_dataset = valid_ds.take(val_batches // 5)"
      ],
      "metadata": {
        "id": "ZTqxGisEFo4n"
      },
      "execution_count": null,
      "outputs": []
    },
    {
      "cell_type": "code",
      "source": [
        "#  3.8 tf.data.Dataset.skip() method is used to create a dataset \n",
        "#        that skips count initial elements from this dataset.\n",
        "\n",
        "validation_dataset = valid_ds.skip(val_batches // 5)"
      ],
      "metadata": {
        "id": "D6PC7pIVNaJZ"
      },
      "execution_count": null,
      "outputs": []
    },
    {
      "cell_type": "code",
      "source": [
        "# 3.9 Skip example:\n",
        "#       https://www.tensorflow.org/api_docs/python/tf/data/Dataset#skip\n",
        "\n",
        "dataset = tf.data.Dataset.range(10)\n",
        "dataset = dataset.skip(7)\n"
      ],
      "metadata": {
        "id": "3c3ceIcLTfjU"
      },
      "execution_count": null,
      "outputs": []
    },
    {
      "cell_type": "code",
      "source": [
        "# 3.9.1 Dataset to numpy iterator:\n",
        "\n",
        "list(dataset.as_numpy_iterator())"
      ],
      "metadata": {
        "colab": {
          "base_uri": "https://localhost:8080/"
        },
        "id": "gjrgO-Syldcf",
        "outputId": "50ab2c55-b2b6-4d43-b275-891a818ae256"
      },
      "execution_count": null,
      "outputs": [
        {
          "output_type": "execute_result",
          "data": {
            "text/plain": [
              "[7, 8, 9]"
            ]
          },
          "metadata": {},
          "execution_count": 42
        }
      ]
    },
    {
      "cell_type": "code",
      "source": [
        "# 3.9.2 Import for further eperiments:\n",
        "import tensorflow_datasets as tfds"
      ],
      "metadata": {
        "id": "ymqlgW8Kne2C"
      },
      "execution_count": null,
      "outputs": []
    },
    {
      "cell_type": "code",
      "source": [
        "# 3.9.3 Print Ist image in take(1)\n",
        "for i , j in valid_ds.take(1):\n",
        "  for k in tfds.as_numpy(i):\n",
        "    print(k.shape)\n",
        "    plt.imshow(k/255.0)\n",
        "    break\n",
        "  break"
      ],
      "metadata": {
        "colab": {
          "base_uri": "https://localhost:8080/",
          "height": 304
        },
        "id": "8jJhYNNWmKT8",
        "outputId": "89c29e38-5c7f-4544-ed5d-549fd0f81a04"
      },
      "execution_count": null,
      "outputs": [
        {
          "output_type": "stream",
          "name": "stdout",
          "text": [
            "(160, 160, 3)\n"
          ]
        },
        {
          "output_type": "execute_result",
          "data": {
            "text/plain": [
              "<matplotlib.image.AxesImage at 0x7fd674271ac0>"
            ]
          },
          "metadata": {},
          "execution_count": 44
        },
        {
          "output_type": "display_data",
          "data": {
            "text/plain": [
              "<Figure size 432x288 with 1 Axes>"
            ],
            "image/png": "[encoded data removed]"
          },
          "metadata": {
            "needs_background": "light"
          }
        }
      ]
    },
    {
      "cell_type": "markdown",
      "source": [
        "## Prefetching\n",
        "Configure pre-fetching. For `prefetch()` API, see [here](https://www.tensorflow.org/api_docs/python/tf/data/Dataset#prefetch)<br>\n",
        "prefetch() creates a Dataset that prefetches elements from this dataset."
      ],
      "metadata": {
        "id": "UBD2FWbWeMnR"
      }
    },
    {
      "cell_type": "markdown",
      "source": [
        "### Configure the dataset for performance"
      ],
      "metadata": {
        "id": "PfrJQXlYYppz"
      }
    },
    {
      "cell_type": "code",
      "source": [
        "# 4.0 prefetch expt\n",
        "dataset = tf.data.Dataset.range(3)\n",
        "dataset = dataset.prefetch(2)\n",
        "list(dataset.as_numpy_iterator())"
      ],
      "metadata": {
        "colab": {
          "base_uri": "https://localhost:8080/",
          "height": 217
        },
        "id": "Dla-bdFA4a7J",
        "outputId": "f33166c6-2765-49e4-967e-5cb29a50f421"
      },
      "execution_count": null,
      "outputs": [
        {
          "output_type": "error",
          "ename": "NameError",
          "evalue": "ignored",
          "traceback": [
            "\u001b[0;31m---------------------------------------------------------------------------\u001b[0m",
            "\u001b[0;31mNameError\u001b[0m                                 Traceback (most recent call last)",
            "\u001b[0;32m<ipython-input-1-b808afdb5395>\u001b[0m in \u001b[0;36m<module>\u001b[0;34m\u001b[0m\n\u001b[1;32m      1\u001b[0m \u001b[0;31m# 4.0 prefetch expt\u001b[0m\u001b[0;34m\u001b[0m\u001b[0;34m\u001b[0m\u001b[0;34m\u001b[0m\u001b[0m\n\u001b[0;32m----> 2\u001b[0;31m \u001b[0mdataset\u001b[0m \u001b[0;34m=\u001b[0m \u001b[0mtf\u001b[0m\u001b[0;34m.\u001b[0m\u001b[0mdata\u001b[0m\u001b[0;34m.\u001b[0m\u001b[0mDataset\u001b[0m\u001b[0;34m.\u001b[0m\u001b[0mrange\u001b[0m\u001b[0;34m(\u001b[0m\u001b[0;36m3\u001b[0m\u001b[0;34m)\u001b[0m\u001b[0;34m\u001b[0m\u001b[0;34m\u001b[0m\u001b[0m\n\u001b[0m\u001b[1;32m      3\u001b[0m \u001b[0mdataset\u001b[0m \u001b[0;34m=\u001b[0m \u001b[0mdataset\u001b[0m\u001b[0;34m.\u001b[0m\u001b[0mprefetch\u001b[0m\u001b[0;34m(\u001b[0m\u001b[0;36m2\u001b[0m\u001b[0;34m)\u001b[0m\u001b[0;34m\u001b[0m\u001b[0;34m\u001b[0m\u001b[0m\n\u001b[1;32m      4\u001b[0m \u001b[0mlist\u001b[0m\u001b[0;34m(\u001b[0m\u001b[0mdataset\u001b[0m\u001b[0;34m.\u001b[0m\u001b[0mas_numpy_iterator\u001b[0m\u001b[0;34m(\u001b[0m\u001b[0;34m)\u001b[0m\u001b[0;34m)\u001b[0m\u001b[0;34m\u001b[0m\u001b[0;34m\u001b[0m\u001b[0m\n",
            "\u001b[0;31mNameError\u001b[0m: name 'tf' is not defined"
          ]
        }
      ]
    },
    {
      "cell_type": "code",
      "source": [
        "# 4.0.1 Get appropriate buffer size:\n",
        "#       in train_ds to prefetch. If a buffer\n",
        "#       is available, prefetching would be possible:\n",
        "\n",
        "buf_size = tf.data.AUTOTUNE   # number of elements to be prefetched\n",
        "train_ds = train_ds.prefetch(buffer_size = buf_size)\n",
        "validation_dataset  = validation_dataset.prefetch(buffer_size = buf_size)\n",
        "test_dataset = test_dataset.prefetch(buffer_size = buf_size)"
      ],
      "metadata": {
        "id": "yyVzTv9_N2Ku"
      },
      "execution_count": null,
      "outputs": []
    },
    {
      "cell_type": "markdown",
      "source": [
        "## MobileNetV2 model weights\n",
        "List of models available in tensorflow is [here](https://www.tensorflow.org/api_docs/python/tf/keras/applications)."
      ],
      "metadata": {
        "id": "Fvwl6SEyeP5p"
      }
    },
    {
      "cell_type": "code",
      "source": [
        "# 4.1 Create the base model from the pre-trained model MobileNet V2\n",
        "\n",
        "IMG_SHAPE = image_size + (3,)   # (160,160,3)\n",
        "# What about: f.keras.applications.mobilenet_v2.MobileNetV2\n",
        "base_model = tf.keras.applications.MobileNetV2(input_shape=IMG_SHAPE,\n",
        "                                               include_top=False,\n",
        "                                               weights='imagenet')\n",
        "\n",
        "type(base_model)  # keras.engine.functional.Functional"
      ],
      "metadata": {
        "id": "sgX_tko_ZNwe"
      },
      "execution_count": null,
      "outputs": []
    },
    {
      "cell_type": "code",
      "source": [
        "#4.1.2\n",
        "base_model.summary()"
      ],
      "metadata": {
        "id": "ALTXvX5cP2Hu"
      },
      "execution_count": null,
      "outputs": []
    },
    {
      "cell_type": "markdown",
      "source": [
        "## Data augmentation function"
      ],
      "metadata": {
        "id": "BbD4nlYkeqgR"
      }
    },
    {
      "cell_type": "code",
      "source": [
        "# 5.0 Data augmentation function:\n",
        "\n",
        "data_augmentation = tf.keras.Sequential([\n",
        "                                          tf.keras.layers.RandomFlip('horizontal'),\n",
        "                                          tf.keras.layers.RandomRotation(0.2),\n",
        "                                         ]\n",
        "                                        )"
      ],
      "metadata": {
        "id": "qhXwUd8qq8Cl"
      },
      "execution_count": null,
      "outputs": []
    },
    {
      "cell_type": "code",
      "source": [
        "# 5.1\n",
        "type(data_augmentation)"
      ],
      "metadata": {
        "colab": {
          "base_uri": "https://localhost:8080/",
          "height": 182
        },
        "id": "yAO9eJrFslOz",
        "outputId": "eef25fd9-8369-4c54-b18e-89e5ce194146"
      },
      "execution_count": null,
      "outputs": [
        {
          "output_type": "error",
          "ename": "NameError",
          "evalue": "ignored",
          "traceback": [
            "\u001b[0;31m---------------------------------------------------------------------------\u001b[0m",
            "\u001b[0;31mNameError\u001b[0m                                 Traceback (most recent call last)",
            "\u001b[0;32m<ipython-input-2-b0e0f70d8e80>\u001b[0m in \u001b[0;36m<module>\u001b[0;34m\u001b[0m\n\u001b[1;32m      1\u001b[0m \u001b[0;31m# 5.1\u001b[0m\u001b[0;34m\u001b[0m\u001b[0;34m\u001b[0m\u001b[0;34m\u001b[0m\u001b[0m\n\u001b[0;32m----> 2\u001b[0;31m \u001b[0mtype\u001b[0m\u001b[0;34m(\u001b[0m\u001b[0mdata_augmentation\u001b[0m\u001b[0;34m)\u001b[0m\u001b[0;34m\u001b[0m\u001b[0;34m\u001b[0m\u001b[0m\n\u001b[0m",
            "\u001b[0;31mNameError\u001b[0m: name 'data_augmentation' is not defined"
          ]
        }
      ]
    },
    {
      "cell_type": "markdown",
      "source": [
        "Sequential() can also be called as below:"
      ],
      "metadata": {
        "id": "O-UTR8kB4xF6"
      }
    },
    {
      "cell_type": "code",
      "source": [
        "# 5.2\n",
        "data_augmentation = tf.keras.Sequential()"
      ],
      "metadata": {
        "id": "Z6pcXogdstP-",
        "colab": {
          "base_uri": "https://localhost:8080/",
          "height": 182
        },
        "outputId": "3370fb2a-40b2-4801-a1f5-6dcfe304f298"
      },
      "execution_count": null,
      "outputs": [
        {
          "output_type": "error",
          "ename": "NameError",
          "evalue": "ignored",
          "traceback": [
            "\u001b[0;31m---------------------------------------------------------------------------\u001b[0m",
            "\u001b[0;31mNameError\u001b[0m                                 Traceback (most recent call last)",
            "\u001b[0;32m<ipython-input-3-70eb45789cd8>\u001b[0m in \u001b[0;36m<module>\u001b[0;34m\u001b[0m\n\u001b[1;32m      1\u001b[0m \u001b[0;31m# 5.2\u001b[0m\u001b[0;34m\u001b[0m\u001b[0;34m\u001b[0m\u001b[0;34m\u001b[0m\u001b[0m\n\u001b[0;32m----> 2\u001b[0;31m \u001b[0mdata_augmentation\u001b[0m \u001b[0;34m=\u001b[0m \u001b[0mtf\u001b[0m\u001b[0;34m.\u001b[0m\u001b[0mkeras\u001b[0m\u001b[0;34m.\u001b[0m\u001b[0mSequential\u001b[0m\u001b[0;34m(\u001b[0m\u001b[0;34m)\u001b[0m\u001b[0;34m\u001b[0m\u001b[0;34m\u001b[0m\u001b[0m\n\u001b[0m",
            "\u001b[0;31mNameError\u001b[0m: name 'tf' is not defined"
          ]
        }
      ]
    },
    {
      "cell_type": "code",
      "source": [
        "# 5.3\n",
        "data_augmentation.add(tf.keras.layers.RandomFlip('horizontal'))"
      ],
      "metadata": {
        "id": "LiMaB8e5szBC",
        "colab": {
          "base_uri": "https://localhost:8080/",
          "height": 182
        },
        "outputId": "490e16a6-b34d-4f2c-cae2-293d9d704bc8"
      },
      "execution_count": null,
      "outputs": [
        {
          "output_type": "error",
          "ename": "NameError",
          "evalue": "ignored",
          "traceback": [
            "\u001b[0;31m---------------------------------------------------------------------------\u001b[0m",
            "\u001b[0;31mNameError\u001b[0m                                 Traceback (most recent call last)",
            "\u001b[0;32m<ipython-input-4-38b82060d242>\u001b[0m in \u001b[0;36m<module>\u001b[0;34m\u001b[0m\n\u001b[1;32m      1\u001b[0m \u001b[0;31m# 5.3\u001b[0m\u001b[0;34m\u001b[0m\u001b[0;34m\u001b[0m\u001b[0;34m\u001b[0m\u001b[0m\n\u001b[0;32m----> 2\u001b[0;31m \u001b[0mdata_augmentation\u001b[0m\u001b[0;34m.\u001b[0m\u001b[0madd\u001b[0m\u001b[0;34m(\u001b[0m\u001b[0mtf\u001b[0m\u001b[0;34m.\u001b[0m\u001b[0mkeras\u001b[0m\u001b[0;34m.\u001b[0m\u001b[0mlayers\u001b[0m\u001b[0;34m.\u001b[0m\u001b[0mRandomFlip\u001b[0m\u001b[0;34m(\u001b[0m\u001b[0;34m'horizontal'\u001b[0m\u001b[0;34m)\u001b[0m\u001b[0;34m)\u001b[0m\u001b[0;34m\u001b[0m\u001b[0;34m\u001b[0m\u001b[0m\n\u001b[0m",
            "\u001b[0;31mNameError\u001b[0m: name 'data_augmentation' is not defined"
          ]
        }
      ]
    },
    {
      "cell_type": "code",
      "source": [
        "# 5.4\n",
        "data_augmentation.add(tf.keras.layers.RandomRotation(0.2))"
      ],
      "metadata": {
        "id": "RTHDtdcDs45I",
        "colab": {
          "base_uri": "https://localhost:8080/",
          "height": 182
        },
        "outputId": "956b1d68-0f1d-47fe-ceff-7e092cdee7e0"
      },
      "execution_count": null,
      "outputs": [
        {
          "output_type": "error",
          "ename": "NameError",
          "evalue": "ignored",
          "traceback": [
            "\u001b[0;31m---------------------------------------------------------------------------\u001b[0m",
            "\u001b[0;31mNameError\u001b[0m                                 Traceback (most recent call last)",
            "\u001b[0;32m<ipython-input-5-f71493574e71>\u001b[0m in \u001b[0;36m<module>\u001b[0;34m\u001b[0m\n\u001b[1;32m      1\u001b[0m \u001b[0;31m# 5.4\u001b[0m\u001b[0;34m\u001b[0m\u001b[0;34m\u001b[0m\u001b[0;34m\u001b[0m\u001b[0m\n\u001b[0;32m----> 2\u001b[0;31m \u001b[0mdata_augmentation\u001b[0m\u001b[0;34m.\u001b[0m\u001b[0madd\u001b[0m\u001b[0;34m(\u001b[0m\u001b[0mtf\u001b[0m\u001b[0;34m.\u001b[0m\u001b[0mkeras\u001b[0m\u001b[0;34m.\u001b[0m\u001b[0mlayers\u001b[0m\u001b[0;34m.\u001b[0m\u001b[0mRandomRotation\u001b[0m\u001b[0;34m(\u001b[0m\u001b[0;36m0.2\u001b[0m\u001b[0;34m)\u001b[0m\u001b[0;34m)\u001b[0m\u001b[0;34m\u001b[0m\u001b[0;34m\u001b[0m\u001b[0m\n\u001b[0m",
            "\u001b[0;31mNameError\u001b[0m: name 'data_augmentation' is not defined"
          ]
        }
      ]
    },
    {
      "cell_type": "markdown",
      "source": [
        "## Our model"
      ],
      "metadata": {
        "id": "GJ6AKNKIfGVD"
      }
    },
    {
      "cell_type": "code",
      "source": [
        "# 6.0 Classification model:\n",
        "#      Each time you rerun the model, change seed\n",
        "#       to some other number\n",
        "\n",
        "# 6.1 Clear existing keras weights from model:\n",
        "tf.keras.backend.clear_session()\n",
        "seed = np.round(np.random.random() * 10000 ).astype('int')\n",
        "tf.random.set_seed(seed)\n",
        "#del md\n",
        "\n",
        "\n",
        "# 6.2 The model\n",
        "inputs = tf.keras.Input(shape = IMG_SHAPE )\n",
        "x = data_augmentation(inputs)   # Note that it is a dequential model\n",
        "# Rescaling is done by scale*inputs+offset.\n",
        "# Rescaling(scale=4.0, offset=1.0) implies:\n",
        "#   [0,255] range it would give 4*[0, 255]+1 = [1, 1021]\n",
        "# [0,255]                       1/127*[0,255] -1 = [-1,1]\n",
        "x = tf.keras.layers.Rescaling(1./127.5, offset=-1)(x)  # Rescale (-1,1)\n",
        "# Call the model on new inputs: (x):\n",
        "# https://www.tensorflow.org/api_docs/python/tf/keras/Model#call\n",
        "base = base_model(x, training = False)   # No training \n",
        "base = tf.keras.layers.Flatten()(base)\n",
        "# Classifier\n",
        "base = tf.keras.layers.Dense(256, activation = 'relu')(base)\n",
        "type(base)\n",
        "#base = tf.keras.layers.GlobalAveragePooling2D()(base)\n",
        "#base = tf.keras.layers.Dropout(0.2)(base)\n",
        "outputs = tf.keras.layers.Dense(1)(base)\n",
        "md = tf.keras.Model(inputs = [inputs], outputs = [outputs])"
      ],
      "metadata": {
        "id": "W-0exxUVgbqQ",
        "colab": {
          "base_uri": "https://localhost:8080/",
          "height": 235
        },
        "outputId": "6d71e9e1-50b2-4251-f0ce-7d28c921a516"
      },
      "execution_count": null,
      "outputs": [
        {
          "output_type": "error",
          "ename": "NameError",
          "evalue": "ignored",
          "traceback": [
            "\u001b[0;31m---------------------------------------------------------------------------\u001b[0m",
            "\u001b[0;31mNameError\u001b[0m                                 Traceback (most recent call last)",
            "\u001b[0;32m<ipython-input-6-4a56c4795456>\u001b[0m in \u001b[0;36m<module>\u001b[0;34m\u001b[0m\n\u001b[1;32m      4\u001b[0m \u001b[0;34m\u001b[0m\u001b[0m\n\u001b[1;32m      5\u001b[0m \u001b[0;31m# 6.1 Clear existing keras weights from model:\u001b[0m\u001b[0;34m\u001b[0m\u001b[0;34m\u001b[0m\u001b[0;34m\u001b[0m\u001b[0m\n\u001b[0;32m----> 6\u001b[0;31m \u001b[0mtf\u001b[0m\u001b[0;34m.\u001b[0m\u001b[0mkeras\u001b[0m\u001b[0;34m.\u001b[0m\u001b[0mbackend\u001b[0m\u001b[0;34m.\u001b[0m\u001b[0mclear_session\u001b[0m\u001b[0;34m(\u001b[0m\u001b[0;34m)\u001b[0m\u001b[0;34m\u001b[0m\u001b[0;34m\u001b[0m\u001b[0m\n\u001b[0m\u001b[1;32m      7\u001b[0m \u001b[0mseed\u001b[0m \u001b[0;34m=\u001b[0m \u001b[0mnp\u001b[0m\u001b[0;34m.\u001b[0m\u001b[0mround\u001b[0m\u001b[0;34m(\u001b[0m\u001b[0mnp\u001b[0m\u001b[0;34m.\u001b[0m\u001b[0mrandom\u001b[0m\u001b[0;34m.\u001b[0m\u001b[0mrandom\u001b[0m\u001b[0;34m(\u001b[0m\u001b[0;34m)\u001b[0m \u001b[0;34m*\u001b[0m \u001b[0;36m10000\u001b[0m \u001b[0;34m)\u001b[0m\u001b[0;34m.\u001b[0m\u001b[0mastype\u001b[0m\u001b[0;34m(\u001b[0m\u001b[0;34m'int'\u001b[0m\u001b[0;34m)\u001b[0m\u001b[0;34m\u001b[0m\u001b[0;34m\u001b[0m\u001b[0m\n\u001b[1;32m      8\u001b[0m \u001b[0mtf\u001b[0m\u001b[0;34m.\u001b[0m\u001b[0mrandom\u001b[0m\u001b[0;34m.\u001b[0m\u001b[0mset_seed\u001b[0m\u001b[0;34m(\u001b[0m\u001b[0mseed\u001b[0m\u001b[0;34m)\u001b[0m\u001b[0;34m\u001b[0m\u001b[0;34m\u001b[0m\u001b[0m\n",
            "\u001b[0;31mNameError\u001b[0m: name 'tf' is not defined"
          ]
        }
      ]
    },
    {
      "cell_type": "code",
      "source": [
        "md.summary()"
      ],
      "metadata": {
        "id": "pVqt7OWlPn0A",
        "colab": {
          "base_uri": "https://localhost:8080/"
        },
        "outputId": "561d7b4e-8808-4452-8f1d-d315d894a1f5"
      },
      "execution_count": null,
      "outputs": [
        {
          "output_type": "stream",
          "name": "stdout",
          "text": [
            "Model: \"model\"\n",
            "_________________________________________________________________\n",
            " Layer (type)                Output Shape              Param #   \n",
            "=================================================================\n",
            " input_1 (InputLayer)        [(None, 160, 160, 3)]     0         \n",
            "                                                                 \n",
            " sequential_1 (Sequential)   (None, 160, 160, 3)       0         \n",
            "                                                                 \n",
            " rescaling (Rescaling)       (None, 160, 160, 3)       0         \n",
            "                                                                 \n",
            " mobilenetv2_1.00_160 (Funct  (None, 5, 5, 1280)       2257984   \n",
            " ional)                                                          \n",
            "                                                                 \n",
            " flatten (Flatten)           (None, 32000)             0         \n",
            "                                                                 \n",
            " dense (Dense)               (None, 256)               8192256   \n",
            "                                                                 \n",
            " dense_1 (Dense)             (None, 1)                 257       \n",
            "                                                                 \n",
            "=================================================================\n",
            "Total params: 10,450,497\n",
            "Trainable params: 10,416,385\n",
            "Non-trainable params: 34,112\n",
            "_________________________________________________________________\n"
          ]
        }
      ]
    },
    {
      "cell_type": "markdown",
      "source": [
        "See [tf.keras.losses.BinaryCrossentropy](https://www.tensorflow.org/api_docs/python/tf/keras/losses/BinaryCrossentropy)<br>\n",
        "Als [see](https://stackoverflow.com/questions/41455101/what-is-the-meaning-of-the-word-logits-in-tensorflow)\n",
        "\n",
        "> <i>from_logits = True:</i><br>\n",
        ">> Whether to interpret `y_pred` as a tensor of logit values. By default, we assume that `y_pred` contains probabilities (i.e., values in [0, 1])."
      ],
      "metadata": {
        "id": "BEFiArndimnp"
      }
    },
    {
      "cell_type": "code",
      "source": [
        "# 6.3 Compile the mode:\n",
        "#     This compilation gives very good results.\n",
        "#     But see Note at the beginning.\n",
        "# Adam: https://www.tensorflow.org/api_docs/python/tf/keras/optimizers/Adam\n",
        "\n",
        "base_learning_rate = 0.0001\n",
        "md.compile(   optimizer=tf.keras.optimizers.experimental.Adam(\n",
        "                                                learning_rate=base_learning_rate   # Default: 0.01\n",
        "                                                ),\n",
        "              loss=tf.keras.losses.BinaryCrossentropy(\n",
        "                                                      from_logits=True  # Default: False\n",
        "                                                     ),\n",
        "              metrics=['accuracy']\n",
        "           )"
      ],
      "metadata": {
        "id": "g3cJfe0hBDDG"
      },
      "execution_count": null,
      "outputs": []
    },
    {
      "cell_type": "code",
      "source": [
        "# 6.4 Default learning rate does not give good results:\n",
        "#     This compilation does with default learning rate does not give good results: \n",
        "\n",
        "md.compile( \n",
        "            loss=tf.keras.losses.BinaryCrossentropy(\n",
        "                                                      from_logits=True  # Default: False\n",
        "                                                     ),\n",
        "            optimizer = tf.keras.optimizers.experimental.Adam(),\n",
        "            metrics = [\"accuracy\"]\n",
        "           )"
      ],
      "metadata": {
        "id": "tNIs13mjjNZw"
      },
      "execution_count": null,
      "outputs": []
    },
    {
      "cell_type": "markdown",
      "source": [
        "## Train model"
      ],
      "metadata": {
        "id": "-r91PjXD2HLS"
      }
    },
    {
      "cell_type": "code",
      "source": [
        "# 6.5 Train the model:\n",
        "\n",
        "md.fit(train_ds,\n",
        "       batch_size = batch_size,\n",
        "       epochs = 10,\n",
        "       validation_data = validation_dataset\n",
        "       )"
      ],
      "metadata": {
        "id": "Kh3ctMBPj_bt",
        "colab": {
          "base_uri": "https://localhost:8080/"
        },
        "outputId": "dd7fcce4-51b1-4de6-9d82-0d905017aa44"
      },
      "execution_count": null,
      "outputs": [
        {
          "output_type": "stream",
          "name": "stdout",
          "text": [
            "Epoch 1/10\n"
          ]
        },
        {
          "output_type": "stream",
          "name": "stderr",
          "text": [
            "WARNING:tensorflow:Using a while_loop for converting RngReadAndSkip cause there is no registered converter for this op.\n",
            "WARNING:tensorflow:Using a while_loop for converting Bitcast cause there is no registered converter for this op.\n",
            "WARNING:tensorflow:Using a while_loop for converting Bitcast cause there is no registered converter for this op.\n",
            "WARNING:tensorflow:Using a while_loop for converting StatelessRandomUniformV2 cause there is no registered converter for this op.\n",
            "WARNING:tensorflow:Using a while_loop for converting ImageProjectiveTransformV3 cause there is no registered converter for this op.\n",
            "WARNING:tensorflow:Using a while_loop for converting RngReadAndSkip cause there is no registered converter for this op.\n",
            "WARNING:tensorflow:Using a while_loop for converting Bitcast cause there is no registered converter for this op.\n",
            "WARNING:tensorflow:Using a while_loop for converting Bitcast cause there is no registered converter for this op.\n",
            "WARNING:tensorflow:Using a while_loop for converting StatelessRandomUniformV2 cause there is no registered converter for this op.\n",
            "WARNING:tensorflow:Using a while_loop for converting ImageProjectiveTransformV3 cause there is no registered converter for this op.\n"
          ]
        },
        {
          "output_type": "stream",
          "name": "stdout",
          "text": [
            "63/63 [==============================] - 41s 234ms/step - loss: 0.8591 - accuracy: 0.4960 - val_loss: 0.6931 - val_accuracy: 0.4975\n",
            "Epoch 2/10\n",
            "63/63 [==============================] - 13s 208ms/step - loss: 0.6932 - accuracy: 0.5000 - val_loss: 0.6931 - val_accuracy: 0.4926\n",
            "Epoch 3/10\n",
            "63/63 [==============================] - 13s 208ms/step - loss: 0.6932 - accuracy: 0.5000 - val_loss: 0.6931 - val_accuracy: 0.4963\n",
            "Epoch 4/10\n",
            "63/63 [==============================] - 13s 207ms/step - loss: 0.6932 - accuracy: 0.5000 - val_loss: 0.6931 - val_accuracy: 0.5000\n",
            "Epoch 5/10\n",
            "63/63 [==============================] - 13s 208ms/step - loss: 0.6932 - accuracy: 0.5000 - val_loss: 0.6932 - val_accuracy: 0.5037\n",
            "Epoch 6/10\n",
            "63/63 [==============================] - 13s 208ms/step - loss: 0.6932 - accuracy: 0.5000 - val_loss: 0.6932 - val_accuracy: 0.5037\n",
            "Epoch 7/10\n",
            "63/63 [==============================] - 13s 196ms/step - loss: 0.6932 - accuracy: 0.5000 - val_loss: 0.6931 - val_accuracy: 0.4889\n",
            "Epoch 8/10\n",
            "63/63 [==============================] - 14s 211ms/step - loss: 0.6932 - accuracy: 0.5000 - val_loss: 0.6931 - val_accuracy: 0.5000\n",
            "Epoch 9/10\n",
            "63/63 [==============================] - 13s 207ms/step - loss: 0.6932 - accuracy: 0.5000 - val_loss: 0.6931 - val_accuracy: 0.4839\n",
            "Epoch 10/10\n",
            "63/63 [==============================] - 13s 206ms/step - loss: 0.6932 - accuracy: 0.5000 - val_loss: 0.6931 - val_accuracy: 0.4963\n"
          ]
        },
        {
          "output_type": "execute_result",
          "data": {
            "text/plain": [
              "<keras.callbacks.History at 0x7fd5e0223c70>"
            ]
          },
          "metadata": {},
          "execution_count": 76
        }
      ]
    },
    {
      "cell_type": "markdown",
      "source": [
        "## Initialise model\n",
        "Does not appear to help"
      ],
      "metadata": {
        "id": "GSmhNwAj2KEZ"
      }
    },
    {
      "cell_type": "code",
      "source": [
        "# 7.0 Delete all model related variables:\n",
        "\n",
        "del x , md, base, inputs, outputs"
      ],
      "metadata": {
        "id": "c6AlbePsu40z"
      },
      "execution_count": null,
      "outputs": []
    },
    {
      "cell_type": "code",
      "source": [
        "# 7.1 Function to reinitailize model:\n",
        "\n",
        "def reinitialize(model):\n",
        "    for l in model.layers:\n",
        "        if hasattr(l,\"kernel_initializer\"):\n",
        "            l.kernel.assign(l.kernel_initializer(tf.shape(l.kernel)))\n",
        "        if hasattr(l,\"bias_initializer\"):\n",
        "            l.bias.assign(l.bias_initializer(tf.shape(l.bias)))\n",
        "        if hasattr(l,\"recurrent_initializer\"):\n",
        "            l.recurrent_kernel.assign(l.recurrent_initializer(tf.shape(l.recurrent_kernel)))"
      ],
      "metadata": {
        "id": "Jv3Mu-wjmWd_"
      },
      "execution_count": null,
      "outputs": []
    },
    {
      "cell_type": "code",
      "source": [
        "# 7.2\n",
        "reinitialize(md)"
      ],
      "metadata": {
        "id": "5eiOVaYhqnNW",
        "colab": {
          "base_uri": "https://localhost:8080/",
          "height": 182
        },
        "outputId": "1f51494f-6913-4058-f28e-145f2edae072"
      },
      "execution_count": null,
      "outputs": [
        {
          "output_type": "error",
          "ename": "NameError",
          "evalue": "ignored",
          "traceback": [
            "\u001b[0;31m---------------------------------------------------------------------------\u001b[0m",
            "\u001b[0;31mNameError\u001b[0m                                 Traceback (most recent call last)",
            "\u001b[0;32m<ipython-input-330-6e05121458b6>\u001b[0m in \u001b[0;36m<module>\u001b[0;34m\u001b[0m\n\u001b[1;32m      1\u001b[0m \u001b[0;31m# 7.2\u001b[0m\u001b[0;34m\u001b[0m\u001b[0;34m\u001b[0m\u001b[0;34m\u001b[0m\u001b[0m\n\u001b[0;32m----> 2\u001b[0;31m \u001b[0mreinitialize\u001b[0m\u001b[0;34m(\u001b[0m\u001b[0mmd\u001b[0m\u001b[0;34m)\u001b[0m\u001b[0;34m\u001b[0m\u001b[0;34m\u001b[0m\u001b[0m\n\u001b[0m",
            "\u001b[0;31mNameError\u001b[0m: name 'md' is not defined"
          ]
        }
      ]
    },
    {
      "cell_type": "code",
      "source": [
        "########################## I am done ###################"
      ],
      "metadata": {
        "id": "xvbpiPf1qsdb"
      },
      "execution_count": null,
      "outputs": []
    }
  ]
}